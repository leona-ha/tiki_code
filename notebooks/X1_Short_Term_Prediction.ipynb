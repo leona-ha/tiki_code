{
 "cells": [
  {
   "cell_type": "markdown",
   "id": "d20ac61a",
   "metadata": {},
   "source": [
    "# Paper: Towards JITAI -\n",
    "\n"
   ]
  },
  {
   "cell_type": "code",
   "execution_count": 1,
   "id": "e1cd56bc",
   "metadata": {},
   "outputs": [],
   "source": [
    "import os\n",
    "import sys\n",
    "import regex as re\n",
    "# If your current working directory is the notebooks directory, use this:\n",
    "notebook_dir = os.getcwd()  # current working directory\n",
    "src_path = os.path.abspath(os.path.join(notebook_dir, '..', 'src'))\n",
    "parent_dir = os.path.abspath(os.path.join(notebook_dir, '..'))\n",
    "model_path = os.path.abspath(os.path.join(notebook_dir, '..', 'model_pipeline'))\n",
    "\n",
    "sys.path.append(parent_dir)\n",
    "sys.path.append(src_path)\n",
    "sys.path.append(model_path)\n",
    "\n",
    "import glob\n",
    "import pickle\n",
    "from IPython.display import Markdown\n",
    "from server_config import datapath, preprocessed_path, preprocessed_path_freezed, redcap_path\n",
    "\n",
    "import pandas as pd\n",
    "import numpy as np\n",
    "import datetime as dt\n",
    "from scipy.stats import entropy\n",
    "\n",
    "from sklearn.compose import ColumnTransformer\n",
    "from sklearn.preprocessing import StandardScaler, OneHotEncoder, FunctionTransformer\n",
    "\n",
    "import ML_config\n",
    "import ML_pipeline\n",
    "import run_ML_pipeline\n",
    "\n",
    "import matplotlib.pyplot as plt\n",
    "from matplotlib import rcParams\n",
    "import seaborn as sns \n",
    "import matplotlib.patches as mpatches\n",
    "\n",
    "sns.set_context(\"notebook\", rc={\"axes.labelsize\": 14, \"xtick.labelsize\": 14, \"ytick.labelsize\": 14})\n",
    "sns.set_style(\"whitegrid\", {'axes.grid': True})\n",
    "%matplotlib inline\n",
    "import plotly.express as px\n",
    "import plotly.graph_objs as go\n",
    "from plotly.subplots import make_subplots\n"
   ]
  },
  {
   "cell_type": "code",
   "execution_count": 2,
   "id": "696265f6",
   "metadata": {},
   "outputs": [],
   "source": [
    "#backup_path = preprocessed_path + \"backup_data_passive.feather\"\n",
    "#df_backup = pd.read_feather(backup_path)\n",
    "\n",
    "with open(preprocessed_path_freezed + '/ema_data.pkl', 'rb') as file:\n",
    "    df_ema_framework = pickle.load(file)\n",
    "\n",
    "with open(preprocessed_path_freezed + '/ema_content.pkl', 'rb') as file:\n",
    "    df_ema_content = pickle.load(file)  \n",
    "\n",
    "with open(preprocessed_path_freezed + '/monitoring_data.pkl', 'rb') as file:\n",
    "    df_monitoring = pickle.load(file)\n",
    "\n",
    "with open(preprocessed_path_freezed + '/redcap_data.pkl', 'rb') as file:\n",
    "    df_redcap = pickle.load(file)\n",
    "\n",
    "with open(preprocessed_path_freezed + '/map_ema_passive.pkl', 'rb') as file:\n",
    "    df_ema_passive = pickle.load(file)"
   ]
  },
  {
   "cell_type": "markdown",
   "id": "20265259",
   "metadata": {},
   "source": [
    "### Configurations"
   ]
  },
  {
   "cell_type": "code",
   "execution_count": 3,
   "id": "c7c4bb58",
   "metadata": {},
   "outputs": [],
   "source": [
    "# EMA\n",
    "assessment_phase = [0] #1,2\n",
    "min_num_daily = 4\n",
    "min_days_data = 7"
   ]
  },
  {
   "cell_type": "markdown",
   "id": "21e2ab72-1836-4f36-9a4c-1597a1ac791c",
   "metadata": {},
   "source": [
    "### 3. Compare Included vs. not Included Participantants"
   ]
  },
  {
   "cell_type": "code",
   "execution_count": 4,
   "id": "14c79e12-d8c9-486e-ae01-6050fe0bcbc9",
   "metadata": {},
   "outputs": [],
   "source": [
    "df_ema_content_cust = df_ema_content.customer.unique().tolist()"
   ]
  },
  {
   "cell_type": "code",
   "execution_count": 5,
   "id": "7f0e91bd-3963-4903-8e29-d85017ce6b00",
   "metadata": {},
   "outputs": [],
   "source": [
    "df_redcap_original = df_redcap.dropna(subset = [\"age\", \"customer\"] )\n",
    "df_redcap_original = df_redcap_original[df_redcap_original.customer.isin(df_ema_content_cust)]\n",
    "df_redcap_original = df_redcap_original.drop_duplicates(subset=\"customer\")\n"
   ]
  },
  {
   "cell_type": "code",
   "execution_count": 6,
   "id": "72958cfb-6939-442b-a79d-4b88ffbff98c",
   "metadata": {},
   "outputs": [
    {
     "name": "stdout",
     "output_type": "stream",
     "text": [
      "Subjects included in the analysis (n=159)\n",
      "Subjects not included in the analysis (n=142)\n"
     ]
    }
   ],
   "source": [
    "# Create a set of included customer IDs\n",
    "included_customers = set(df_ema_passive['customer'])\n",
    "\n",
    "# Add a new column to df_redcap_original indicating inclusion\n",
    "df_redcap_original['Included'] = df_redcap_original['customer'].isin(included_customers)\n",
    "\n",
    "# Define the two groups\n",
    "df_redcap_original['Group'] = df_redcap_original['Included'].map({True: 'Included', False: 'Not Included'})\n",
    "\n",
    "# Verify the counts\n",
    "print(f\"Subjects included in the analysis (n={df_redcap_original['Group'].value_counts().get('Included', 0)})\")\n",
    "print(f\"Subjects not included in the analysis (n={df_redcap_original['Group'].value_counts().get('Not Included', 0)})\")\n"
   ]
  },
  {
   "cell_type": "code",
   "execution_count": 7,
   "id": "9dbec043-e744-47f8-940d-2c6c2f550474",
   "metadata": {},
   "outputs": [],
   "source": [
    "from tableone import TableOne\n",
    "# Define your variables\n",
    "# Replace the variable names with those present in your DataFrame\n",
    "\n",
    "# Demographic variables\n",
    "age = 'age'  # Continuous\n",
    "employable = 'employability_description_simple'  # Categorical\n",
    "smartphone_type = 'ema_smartphone_description'  # Categorical\n",
    "psychotropic_med = 'psychotropic_description'\n",
    "diagnosis = 'scid_cv_description'\n",
    "previous_treatment = 'prior_treatment_description_simple'\n",
    "somatic = 'somatic_description'\n",
    "\n",
    "\n",
    "\n",
    "# List of all variables to include in the table\n",
    "columns = [age, employable, smartphone_type, previous_treatment, psychotropic_med, diagnosis, somatic]\n",
    "\n",
    "# Define categorical variables\n",
    "categorical = [employable, smartphone_type, previous_treatment, psychotropic_med, diagnosis, somatic]\n",
    "\n",
    "# Define grouping variable\n",
    "group_var = 'Included'\n"
   ]
  },
  {
   "cell_type": "code",
   "execution_count": 8,
   "id": "061bfd5b-330d-4f03-bff3-2f281c517c7a",
   "metadata": {},
   "outputs": [
    {
     "name": "stdout",
     "output_type": "stream",
     "text": [
      "╒═══════════════════════════════════════════╤═══════════════════════════════════╤═════════════╤═════════════╤═════════════╤═══════════╕\n",
      "│                                           │                                   │ Overall     │ False       │ True        │ P-Value   │\n",
      "╞═══════════════════════════════════════════╪═══════════════════════════════════╪═════════════╪═════════════╪═════════════╪═══════════╡\n",
      "│ n                                         │                                   │ 301         │ 142         │ 159         │           │\n",
      "├───────────────────────────────────────────┼───────────────────────────────────┼─────────────┼─────────────┼─────────────┼───────────┤\n",
      "│ age, mean (SD)                            │                                   │ 33.1 (10.9) │ 33.8 (11.6) │ 32.5 (10.2) │ 0.294     │\n",
      "├───────────────────────────────────────────┼───────────────────────────────────┼─────────────┼─────────────┼─────────────┼───────────┤\n",
      "│ employability_description_simple, n (%)   │ no                                │ 59 (19.6)   │ 34 (23.9)   │ 25 (15.7)   │ 0.099     │\n",
      "├───────────────────────────────────────────┼───────────────────────────────────┼─────────────┼─────────────┼─────────────┼───────────┤\n",
      "│                                           │ yes                               │ 242 (80.4)  │ 108 (76.1)  │ 134 (84.3)  │           │\n",
      "├───────────────────────────────────────────┼───────────────────────────────────┼─────────────┼─────────────┼─────────────┼───────────┤\n",
      "│ ema_smartphone_description, n (%)         │ Android                           │ 130 (43.2)  │ 58 (40.8)   │ 72 (45.3)   │ 0.510     │\n",
      "├───────────────────────────────────────────┼───────────────────────────────────┼─────────────┼─────────────┼─────────────┼───────────┤\n",
      "│                                           │ iPhone                            │ 171 (56.8)  │ 84 (59.2)   │ 87 (54.7)   │           │\n",
      "├───────────────────────────────────────────┼───────────────────────────────────┼─────────────┼─────────────┼─────────────┼───────────┤\n",
      "│ prior_treatment_description_simple, n (%) │ no prior treatment                │ 109 (36.2)  │ 52 (36.6)   │ 57 (35.8)   │ 0.906     │\n",
      "├───────────────────────────────────────────┼───────────────────────────────────┼─────────────┼─────────────┼─────────────┼───────────┤\n",
      "│                                           │ prior inpatient                   │ 78 (25.9)   │ 38 (26.8)   │ 40 (25.2)   │           │\n",
      "├───────────────────────────────────────────┼───────────────────────────────────┼─────────────┼─────────────┼─────────────┼───────────┤\n",
      "│                                           │ prior psychotherapy               │ 114 (37.9)  │ 52 (36.6)   │ 62 (39.0)   │           │\n",
      "├───────────────────────────────────────────┼───────────────────────────────────┼─────────────┼─────────────┼─────────────┼───────────┤\n",
      "│ psychotropic_description, n (%)           │ no                                │ 195 (64.8)  │ 93 (65.5)   │ 102 (64.2)  │ 0.903     │\n",
      "├───────────────────────────────────────────┼───────────────────────────────────┼─────────────┼─────────────┼─────────────┼───────────┤\n",
      "│                                           │ yes                               │ 106 (35.2)  │ 49 (34.5)   │ 57 (35.8)   │           │\n",
      "├───────────────────────────────────────────┼───────────────────────────────────┼─────────────┼─────────────┼─────────────┼───────────┤\n",
      "│ scid_cv_description, n (%)                │ Agoraphobia and/or Panic Disorder │ 20 (6.6)    │ 10 (7.0)    │ 10 (6.3)    │ 0.452     │\n",
      "├───────────────────────────────────────────┼───────────────────────────────────┼─────────────┼─────────────┼─────────────┼───────────┤\n",
      "│                                           │ Depressive Disorder               │ 134 (44.5)  │ 56 (39.4)   │ 78 (49.1)   │           │\n",
      "├───────────────────────────────────────────┼───────────────────────────────────┼─────────────┼─────────────┼─────────────┼───────────┤\n",
      "│                                           │ Generalized Anxiety Disorder      │ 27 (9.0)    │ 14 (9.9)    │ 13 (8.2)    │           │\n",
      "├───────────────────────────────────────────┼───────────────────────────────────┼─────────────┼─────────────┼─────────────┼───────────┤\n",
      "│                                           │ None                              │ 11 (3.7)    │ 8 (5.6)     │ 3 (1.9)     │           │\n",
      "├───────────────────────────────────────────┼───────────────────────────────────┼─────────────┼─────────────┼─────────────┼───────────┤\n",
      "│                                           │ Obsessive-Compulsive Disorder     │ 37 (12.3)   │ 20 (14.1)   │ 17 (10.7)   │           │\n",
      "├───────────────────────────────────────────┼───────────────────────────────────┼─────────────┼─────────────┼─────────────┼───────────┤\n",
      "│                                           │ Post-Traumatic Stress Disorder    │ 12 (4.0)    │ 4 (2.8)     │ 8 (5.0)     │           │\n",
      "├───────────────────────────────────────────┼───────────────────────────────────┼─────────────┼─────────────┼─────────────┼───────────┤\n",
      "│                                           │ Social Anxiety Disorder           │ 55 (18.3)   │ 27 (19.0)   │ 28 (17.6)   │           │\n",
      "├───────────────────────────────────────────┼───────────────────────────────────┼─────────────┼─────────────┼─────────────┼───────────┤\n",
      "│                                           │ Specific Phobia                   │ 5 (1.7)     │ 3 (2.1)     │ 2 (1.3)     │           │\n",
      "├───────────────────────────────────────────┼───────────────────────────────────┼─────────────┼─────────────┼─────────────┼───────────┤\n",
      "│ somatic_description, n (%)                │ no                                │ 175 (58.1)  │ 81 (57.0)   │ 94 (59.1)   │ 0.804     │\n",
      "├───────────────────────────────────────────┼───────────────────────────────────┼─────────────┼─────────────┼─────────────┼───────────┤\n",
      "│                                           │ yes                               │ 126 (41.9)  │ 61 (43.0)   │ 65 (40.9)   │           │\n",
      "╘═══════════════════════════════════════════╧═══════════════════════════════════╧═════════════╧═════════════╧═════════════╧═══════════╛\n"
     ]
    }
   ],
   "source": [
    "# Create the TableOne object\n",
    "table1 = TableOne(\n",
    "    df_redcap_original,\n",
    "    columns=columns,\n",
    "    categorical=categorical,\n",
    "    groupby=group_var,\n",
    "    pval=True,\n",
    "    nonnormal=[],  # Add variables that are non-normally distributed if any\n",
    "    missing=False  # Whether to include missing data\n",
    ")\n",
    "\n",
    "# Print the table\n",
    "print(table1.tabulate(tablefmt=\"fancy_grid\"))\n",
    "table1.to_csv('sample_overview.csv')\n"
   ]
  },
  {
   "cell_type": "markdown",
   "id": "8dbb4927-cb7c-4226-a0c0-9652a615ebaa",
   "metadata": {},
   "source": [
    "## Manual Missing data handling"
   ]
  },
  {
   "cell_type": "code",
   "execution_count": 9,
   "id": "4d03a77b-ff3a-419a-ac90-0829f79b5597",
   "metadata": {},
   "outputs": [],
   "source": [
    "# also impute activity features "
   ]
  },
  {
   "cell_type": "markdown",
   "id": "277f0b59-51dc-440e-97d0-232deb24e482",
   "metadata": {},
   "source": [
    "#### GPS"
   ]
  },
  {
   "cell_type": "code",
   "execution_count": 10,
   "id": "7de9b1b1-0583-45bb-baa2-c2d23247fa4d",
   "metadata": {},
   "outputs": [],
   "source": [
    "# Create a mask for rows where missing_GPS equals 'Steps<=625'\n",
    "mask = df_ema_passive['missing_GPS'] == 'Steps<=625'\n",
    "\n",
    "# For these rows, set the selected columns to 0\n",
    "cols_set_zero = ['n_GPS', 'total_distance_km', 'time_in_transition_minutes']\n",
    "for col in cols_set_zero:\n",
    "    df_ema_passive.loc[mask, col] = 0\n",
    "\n",
    "# For these rows, set the selected columns to 120\n",
    "cols_set_120 = ['time_stationary_minutes']\n",
    "for col in cols_set_120:\n",
    "    df_ema_passive.loc[mask, col] = 120\n",
    "\n",
    "mask = df_ema_passive['missing_GPS_home'] == 'Steps<=625'\n",
    "\n",
    "# For these rows, set the selected columns to 120\n",
    "cols_set_120 = ['at_home_minute']\n",
    "for col in cols_set_120:\n",
    "    df_ema_passive.loc[mask, col] = 120\n"
   ]
  },
  {
   "cell_type": "markdown",
   "id": "17fa95db-4e1a-439b-a047-a4be3dfa5ca1",
   "metadata": {},
   "source": [
    "#### Steps"
   ]
  },
  {
   "cell_type": "code",
   "execution_count": 11,
   "id": "2d5b5799-48bc-4157-89d9-65c9a3032ac9",
   "metadata": {},
   "outputs": [],
   "source": [
    "# Create a mask for rows where missing_GPS equals 'Steps>625'\n",
    "mask = df_ema_passive['missing_steps'] == 'step_zero'\n",
    "\n",
    "# For these rows, set the selected columns to 0\n",
    "cols_set_zero = ['n_steps']\n",
    "for col in cols_set_zero:\n",
    "    df_ema_passive.loc[mask, col] = 0"
   ]
  },
  {
   "cell_type": "markdown",
   "id": "9a7f1199-6b99-421e-bb37-c80a2db3bd91",
   "metadata": {},
   "source": [
    "#### Physical Activity"
   ]
  },
  {
   "cell_type": "code",
   "execution_count": 12,
   "id": "db57a0f2-b326-4e02-a9cd-5eed2d8be3a7",
   "metadata": {},
   "outputs": [],
   "source": [
    "# Create a mask for rows where missing_GPS equals 'Steps>625'\n",
    "mask = df_ema_passive['missing_pa'] == 'pa_zero'\n",
    "\n",
    "# For these rows, set the selected columns to 0\n",
    "cols_set_zero = ['activity_102_minutes', 'activity_103_minutes', 'activity_104_minutes', 'activity_105_minutes', 'activity_106_minutes', \n",
    "                 'activity_107_minutes']\n",
    "for col in cols_set_zero:\n",
    "    df_ema_passive.loc[mask, col] = 0"
   ]
  },
  {
   "cell_type": "markdown",
   "id": "c404eb5a-7127-4662-8e68-f7a5cc6ac987",
   "metadata": {},
   "source": [
    "### Feature Encoding"
   ]
  },
  {
   "cell_type": "markdown",
   "id": "992f7e30-e5fd-4101-858c-4a969b999ad9",
   "metadata": {},
   "source": [
    "- prior treatment: ordinal encoding\n",
    "- age: min-max scaling\n",
    "- somatic, employability, psychotropic: "
   ]
  },
  {
   "cell_type": "code",
   "execution_count": 13,
   "id": "3ef055ac-b39b-45d2-9b97-cc09c98fbe70",
   "metadata": {},
   "outputs": [],
   "source": [
    "# Define which columns are which\n",
    "binary_features = ['somatic_description', 'psychotropic_description', 'employability_description_simple', 'smartphone_type', 'weekend']\n",
    "categorical_features = ['weekday', 'prior_treatment_description_simple', 'quest_create_hour', 'season', 'time_of_day']\n",
    "numeric_features = ['age','hr_mean', 'hr_min', 'hr_max', 'hr_std', 'hr_zone_resting', 'hr_zone_moderate','hr_zone_vigorous', 'n_steps', \n",
    "       'n_GPS', 'total_distance_km', 'at_home_minute',\n",
    "       'time_in_transition_minutes', 'time_stationary_minutes', 'activity_102_minutes',\n",
    "       'activity_103_minutes', 'activity_104_minutes', 'activity_105_minutes',\n",
    "       'activity_106_minutes', 'activity_107_minutes',\n",
    "       'apparent_temperature_mean', 'sunshine_duration', 'precipitation_hours'] \n",
    "\n",
    "person_static_features = ['customer', 'age', 'somatic_description', 'psychotropic_description', 'employability_description_simple', 'smartphone_type', 'weekend']\n"
   ]
  },
  {
   "cell_type": "code",
   "execution_count": 14,
   "id": "e6d9dd96-a71f-4771-a06f-957bc1046a3b",
   "metadata": {},
   "outputs": [],
   "source": [
    "df_ema_passive[numeric_features] = df_ema_passive[numeric_features].replace(-1, np.nan)"
   ]
  },
  {
   "cell_type": "code",
   "execution_count": 15,
   "id": "14d7ffc1-a4e8-4e16-adc7-a993ccf09eb0",
   "metadata": {},
   "outputs": [],
   "source": [
    "from scipy.stats import skewtest,normaltest\n",
    "\n",
    "skewed_features = []\n",
    "for col in numeric_features:\n",
    "    valid_data = df_ema_passive[col].dropna()\n",
    "\n",
    "    # skewtest requires sample size > 7 for reliable results\n",
    "    stat, p_val = skewtest(valid_data)\n",
    "    if p_val < 0.05:\n",
    "        skewed_features.append(col)  # append this feature as skewed\n"
   ]
  },
  {
   "cell_type": "markdown",
   "id": "8415b57e-f966-47a4-a2dc-63a60f4d6317",
   "metadata": {},
   "source": [
    "### Model Pipeline"
   ]
  },
  {
   "cell_type": "code",
   "execution_count": 16,
   "id": "c0559dc6-3dda-4a1c-86bd-003e48b57db1",
   "metadata": {},
   "outputs": [],
   "source": [
    "df_ema_passive[\"intercept\"] = 1"
   ]
  },
  {
   "cell_type": "code",
   "execution_count": 17,
   "id": "c484e1ec-bb6e-48c0-bf9b-88bbad964977",
   "metadata": {},
   "outputs": [],
   "source": [
    "df_ema_pipeline = df_ema_passive[['customer', 'unique_day_id', \n",
    "       'quest_create_hour', 'weekday', 'weekend', 'season', 'time_of_day',\n",
    "       'n_quest', 'mean_na', 'sensor_block_end', 'age', \n",
    "       'ema_smartphone', 'psychotropic', 'somatic_problems','employability_description_simple',\n",
    "       'prior_treatment_description_simple',\n",
    "       'hr_mean', 'hr_min', 'hr_max', 'hr_std', \n",
    "       'hr_zone_resting', 'hr_zone_moderate',\n",
    "       'hr_zone_vigorous', 'n_steps',  'n_GPS', 'total_distance_km', 'at_home_minute',\n",
    "       'time_in_transition_minutes', 'time_stationary_minutes',\n",
    "       'activity_102_minutes',\n",
    "       'activity_103_minutes', 'activity_104_minutes', 'activity_105_minutes',\n",
    "       'activity_106_minutes', 'activity_107_minutes',\n",
    "       'apparent_temperature_mean', 'sunshine_duration', 'precipitation_hours', 'intercept'\n",
    "      ]]"
   ]
  },
  {
   "cell_type": "code",
   "execution_count": 18,
   "id": "982f4680-1946-4965-acb4-69258df0d0dc",
   "metadata": {},
   "outputs": [
    {
     "name": "stdout",
     "output_type": "stream",
     "text": [
      "age: NaNs=0, min=18.0, max=66.0, mean=32.19508064516129, std=9.968403587324959\n",
      "hr_mean: NaNs=362, min=40.583333333333336, max=176.0, mean=76.239656761943, std=14.409070791182929\n",
      "hr_min: NaNs=362, min=35.0, max=176.0, mean=61.32472171457053, std=11.615648572159467\n",
      "hr_max: NaNs=362, min=42.0, max=211.0, mean=96.86168798803789, std=27.51912747308003\n",
      "hr_std: NaNs=362, min=0.0, max=56.0, mean=10.79009904911434, std=7.947545603716206\n",
      "hr_zone_resting: NaNs=362, min=0.0, max=32.400000000000006, mean=1.355257697845711, std=2.2051439499461534\n",
      "hr_zone_moderate: NaNs=362, min=0.0, max=114.00951666666391, mean=5.5548609846596895, std=3.4002753571366977\n",
      "hr_zone_vigorous: NaNs=362, min=0.0, max=78.6040666666656, mean=1.030957596776873, std=3.6330888532741623\n",
      "n_steps: NaNs=198, min=0.0, max=10078.0, mean=842.7129159154237, std=1104.26053441668\n",
      "n_GPS: NaNs=892, min=0.0, max=1897.0, mean=45.141640597844976, std=113.94481470554737\n",
      "total_distance_km: NaNs=892, min=0.0, max=180.0840241629681, mean=2.444647781850749, std=8.81165634318349\n",
      "at_home_minute: NaNs=892, min=0.0, max=120.0, mean=73.57461560653458, std=49.42075124333459\n",
      "time_in_transition_minutes: NaNs=892, min=0.0, max=119.96583333333334, mean=19.93699612009037, std=31.88578611050018\n",
      "time_stationary_minutes: NaNs=892, min=0.0, max=120.0, mean=77.82272727522883, std=43.291069133301434\n",
      "activity_102_minutes: NaNs=198, min=0.0, max=240.0, mean=23.39384587499317, std=43.55484877540827\n",
      "activity_103_minutes: NaNs=198, min=0.0, max=53.0, mean=0.8014612631808994, std=3.775690423834103\n",
      "activity_104_minutes: NaNs=198, min=0.0, max=120.0, mean=0.3509380688958094, std=3.928977836488266\n",
      "activity_105_minutes: NaNs=198, min=0.0, max=120.0, mean=3.9905680407583457, std=10.117576718268218\n",
      "activity_106_minutes: NaNs=198, min=0.0, max=56.483333333333334, mean=0.07035479293012074, std=1.4563477648665453\n",
      "activity_107_minutes: NaNs=198, min=0.0, max=120.0, mean=1.037139576845326, std=6.13587095371761\n",
      "apparent_temperature_mean: NaNs=0, min=-9.589198112487793, max=28.35951805114746, mean=9.6046142578125, std=8.867501258850098\n",
      "sunshine_duration: NaNs=0, min=0.0, max=15.22237777709961, mean=7.331501483917236, std=4.857871055603027\n",
      "precipitation_hours: NaNs=0, min=0.0, max=22.0, mean=4.468790531158447, std=5.333418369293213\n"
     ]
    }
   ],
   "source": [
    "for col in numeric_features:\n",
    "    series = df_ema_pipeline[col]\n",
    "    n_nan = series.isna().sum()\n",
    "    col_min = series.min()\n",
    "    col_max = series.max()\n",
    "    col_mean = series.mean()\n",
    "    col_std = series.std()\n",
    "    print(f\"{col}: NaNs={n_nan}, min={col_min}, max={col_max}, mean={col_mean}, std={col_std}\")\n"
   ]
  },
  {
   "cell_type": "code",
   "execution_count": 19,
   "id": "f5f599b7-50f3-4da8-8776-ded831dc3f00",
   "metadata": {},
   "outputs": [
    {
     "name": "stderr",
     "output_type": "stream",
     "text": [
      "INFO     [ML_pipeline.py:219] [ML_Pipeline] Configuration Loaded:\n",
      "INFO     [ML_pipeline.py:220]   Impute Strategy: knn\n",
      "INFO     [ML_pipeline.py:221]   Scaler Strategy: minmax\n",
      "INFO     [ML_pipeline.py:222]   Holdout Ratio: 0.1\n",
      "INFO     [ML_pipeline.py:223]   Time Ratio: 0.8\n",
      "INFO     [ML_pipeline.py:224]   Number of Jobs: 2\n",
      "INFO     [ML_pipeline.py:225]   Number of Folds (Inner CV): 5\n",
      "INFO     [ML_pipeline.py:226]   CV Method: forwardchaining (expected 'forwardchaining' here)\n",
      "INFO     [ML_pipeline.py:234] [set_data] DataFrame with 12400 rows loaded in pipeline.\n",
      "INFO     [ML_pipeline.py:253] [outer_user_split] Held out 15/159 users; holdout size: 1178 rows.\n",
      "INFO     [ML_pipeline.py:276] [inner_time_split] Inner train size: 8923, test size: 2299.\n",
      "INFO     [ML_pipeline.py:425] [run] Starting the ML pipeline run method.\n",
      "INFO     [ML_pipeline.py:449] \n",
      "[run] Starting pipeline: LR_without_PS\n",
      "INFO     [ML_pipeline.py:473] [LR_without_PS] Fitting GridSearchCV.\n"
     ]
    },
    {
     "name": "stdout",
     "output_type": "stream",
     "text": [
      "(8923, 27)\n"
     ]
    },
    {
     "name": "stderr",
     "output_type": "stream",
     "text": [
      "INFO     [ML_pipeline.py:97] [PerUserForwardChainingCV] Unique users found: 144\n",
      "ERROR    [ML_pipeline.py:482] [ERROR] Unexpected error during GridSearchCV for pipeline LR_without_PS: Estimator log_transform does not provide get_feature_names_out. Did you mean to call pipeline[:-1].get_feature_names_out()?\n",
      "INFO     [ML_pipeline.py:449] \n",
      "[run] Starting pipeline: LR_with_PS\n",
      "INFO     [ML_pipeline.py:473] [LR_with_PS] Fitting GridSearchCV.\n",
      "INFO     [ML_pipeline.py:97] [PerUserForwardChainingCV] Unique users found: 144\n"
     ]
    },
    {
     "name": "stdout",
     "output_type": "stream",
     "text": [
      "(8923, 33)\n"
     ]
    },
    {
     "name": "stderr",
     "output_type": "stream",
     "text": [
      "ERROR    [ML_pipeline.py:482] [ERROR] Unexpected error during GridSearchCV for pipeline LR_with_PS: Estimator log_transform does not provide get_feature_names_out. Did you mean to call pipeline[:-1].get_feature_names_out()?\n",
      "INFO     [ML_pipeline.py:449] \n",
      "[run] Starting pipeline: MERF_without_PS\n",
      "INFO     [ML_pipeline.py:473] [MERF_without_PS] Fitting GridSearchCV.\n",
      "INFO     [ML_pipeline.py:97] [PerUserForwardChainingCV] Unique users found: 144\n"
     ]
    },
    {
     "name": "stdout",
     "output_type": "stream",
     "text": [
      "(8923, 29)\n"
     ]
    },
    {
     "name": "stderr",
     "output_type": "stream",
     "text": [
      "Traceback (most recent call last):\n",
      "  File \"/home/leha18/.conda/envs/py39-env/lib/python3.9/runpy.py\", line 188, in _run_module_as_main\n",
      "Traceback (most recent call last):\n",
      "  File \"/home/leha18/.conda/envs/py39-env/lib/python3.9/runpy.py\", line 188, in _run_module_as_main\n",
      "    mod_name, mod_spec, code = _get_module_details(mod_name, _Error)\n",
      "  File \"/home/leha18/.conda/envs/py39-env/lib/python3.9/runpy.py\", line 111, in _get_module_details\n",
      "    mod_name, mod_spec, code = _get_module_details(mod_name, _Error)\n",
      "  File \"/home/leha18/.conda/envs/py39-env/lib/python3.9/runpy.py\", line 111, in _get_module_details\n",
      "    __import__(pkg_name)\n",
      "  File \"/home/leha18/.conda/envs/py39-env/lib/python3.9/site-packages/joblib/__init__.py\", line 114, in <module>\n",
      "    __import__(pkg_name)\n",
      "  File \"/home/leha18/.conda/envs/py39-env/lib/python3.9/site-packages/joblib/__init__.py\", line 114, in <module>\n",
      "    from .memory import Memory\n",
      "  File \"/home/leha18/.conda/envs/py39-env/lib/python3.9/site-packages/joblib/memory.py\", line 29, in <module>\n",
      "    from .memory import Memory\n",
      "  File \"/home/leha18/.conda/envs/py39-env/lib/python3.9/site-packages/joblib/memory.py\", line 29, in <module>\n",
      "    from ._store_backends import CacheWarning  # noqa\n",
      "  File \"/home/leha18/.conda/envs/py39-env/lib/python3.9/site-packages/joblib/_store_backends.py\", line 9, in <module>\n",
      "    from ._store_backends import CacheWarning  # noqa\n",
      "  File \"/home/leha18/.conda/envs/py39-env/lib/python3.9/site-packages/joblib/_store_backends.py\", line 8, in <module>\n",
      "    import shutil\n",
      "  File \"/home/leha18/.conda/envs/py39-env/lib/python3.9/shutil.py\", line 22, in <module>\n",
      "    import bz2\n",
      "  File \"<frozen importlib._bootstrap>\", line 1007, in _find_and_load\n",
      "  File \"<frozen importlib._bootstrap>\", line 982, in _find_and_load_unlocked\n",
      "  File \"<frozen importlib._bootstrap>\", line 925, in _find_spec\n",
      "  File \"<frozen importlib._bootstrap_external>\", line 1423, in find_spec\n",
      "  File \"<frozen importlib._bootstrap_external>\", line 1395, in _get_spec\n",
      "  File \"<frozen importlib._bootstrap_external>\", line 1556, in find_spec\n",
      "  File \"<frozen importlib._bootstrap_external>\", line 1511, in _get_spec\n",
      "  File \"<frozen importlib._bootstrap_external>\", line 728, in spec_from_file_location\n",
      "  File \"<frozen importlib._bootstrap>\", line 357, in __init__\n",
      "KeyboardInterrupt\n"
     ]
    },
    {
     "ename": "KeyboardInterrupt",
     "evalue": "",
     "output_type": "error",
     "traceback": [
      "\u001b[0;31m---------------------------------------------------------------------------\u001b[0m",
      "\u001b[0;31mKeyboardInterrupt\u001b[0m                         Traceback (most recent call last)",
      "Cell \u001b[0;32mIn[19], line 12\u001b[0m\n\u001b[1;32m      9\u001b[0m pipeline\u001b[38;5;241m.\u001b[39minner_time_split()\n\u001b[1;32m     11\u001b[0m \u001b[38;5;66;03m# (1) Time-based runs\u001b[39;00m\n\u001b[0;32m---> 12\u001b[0m results_timebased \u001b[38;5;241m=\u001b[39m \u001b[43mpipeline\u001b[49m\u001b[38;5;241;43m.\u001b[39;49m\u001b[43mrun\u001b[49m\u001b[43m(\u001b[49m\u001b[43mmy_config\u001b[49m\u001b[38;5;241;43m.\u001b[39;49m\u001b[43mANALYSIS\u001b[49m\u001b[43m[\u001b[49m\u001b[38;5;124;43m\"\u001b[39;49m\u001b[38;5;124;43mneg_affect_regression\u001b[39;49m\u001b[38;5;124;43m\"\u001b[39;49m\u001b[43m]\u001b[49m\u001b[43m[\u001b[49m\u001b[38;5;124;43m\"\u001b[39;49m\u001b[38;5;124;43mMODEL_PIPEGRIDS\u001b[39;49m\u001b[38;5;124;43m\"\u001b[39;49m\u001b[43m]\u001b[49m\u001b[43m)\u001b[49m\n\u001b[1;32m     14\u001b[0m \u001b[38;5;66;03m# Inspect or store results_timebased\u001b[39;00m\n\u001b[1;32m     15\u001b[0m \u001b[38;5;28mprint\u001b[39m(\u001b[38;5;124m\"\u001b[39m\u001b[38;5;124mTime-based results:\u001b[39m\u001b[38;5;124m\"\u001b[39m)\n",
      "File \u001b[0;32m~/tiki_code/model_pipeline/ML_pipeline.py:474\u001b[0m, in \u001b[0;36mMLpipeline.run\u001b[0;34m(self, pipeline_grid_dict, task_type, scoring, refit, do_final_refit)\u001b[0m\n\u001b[1;32m    472\u001b[0m \u001b[38;5;28;01mtry\u001b[39;00m:\n\u001b[1;32m    473\u001b[0m     \u001b[38;5;28mself\u001b[39m\u001b[38;5;241m.\u001b[39mlogger\u001b[38;5;241m.\u001b[39minfo(\u001b[38;5;124mf\u001b[39m\u001b[38;5;124m\"\u001b[39m\u001b[38;5;124m[\u001b[39m\u001b[38;5;132;01m{\u001b[39;00mpipeline_name\u001b[38;5;132;01m}\u001b[39;00m\u001b[38;5;124m] Fitting GridSearchCV.\u001b[39m\u001b[38;5;124m\"\u001b[39m)\n\u001b[0;32m--> 474\u001b[0m     \u001b[43mgs\u001b[49m\u001b[38;5;241;43m.\u001b[39;49m\u001b[43mfit\u001b[49m\u001b[43m(\u001b[49m\u001b[43mX_train\u001b[49m\u001b[43m,\u001b[49m\u001b[43m \u001b[49m\u001b[43my_train\u001b[49m\u001b[43m,\u001b[49m\u001b[43m \u001b[49m\u001b[43mgroups\u001b[49m\u001b[38;5;241;43m=\u001b[39;49m\u001b[43mgroups\u001b[49m\u001b[43m)\u001b[49m\n\u001b[1;32m    475\u001b[0m     \u001b[38;5;28mself\u001b[39m\u001b[38;5;241m.\u001b[39mlogger\u001b[38;5;241m.\u001b[39minfo(\u001b[38;5;124mf\u001b[39m\u001b[38;5;124m\"\u001b[39m\u001b[38;5;124m[\u001b[39m\u001b[38;5;132;01m{\u001b[39;00mpipeline_name\u001b[38;5;132;01m}\u001b[39;00m\u001b[38;5;124m] GridSearchCV completed.\u001b[39m\u001b[38;5;124m\"\u001b[39m)\n\u001b[1;32m    476\u001b[0m     \u001b[38;5;28mself\u001b[39m\u001b[38;5;241m.\u001b[39mlogger\u001b[38;5;241m.\u001b[39minfo(\u001b[38;5;124mf\u001b[39m\u001b[38;5;124m\"\u001b[39m\u001b[38;5;124m[\u001b[39m\u001b[38;5;132;01m{\u001b[39;00mpipeline_name\u001b[38;5;132;01m}\u001b[39;00m\u001b[38;5;124m] Best Parameters: \u001b[39m\u001b[38;5;132;01m{\u001b[39;00mgs\u001b[38;5;241m.\u001b[39mbest_params_\u001b[38;5;132;01m}\u001b[39;00m\u001b[38;5;124m\"\u001b[39m)\n",
      "File \u001b[0;32m~/.conda/envs/py39-env/lib/python3.9/site-packages/sklearn/base.py:1389\u001b[0m, in \u001b[0;36m_fit_context.<locals>.decorator.<locals>.wrapper\u001b[0;34m(estimator, *args, **kwargs)\u001b[0m\n\u001b[1;32m   1382\u001b[0m     estimator\u001b[38;5;241m.\u001b[39m_validate_params()\n\u001b[1;32m   1384\u001b[0m \u001b[38;5;28;01mwith\u001b[39;00m config_context(\n\u001b[1;32m   1385\u001b[0m     skip_parameter_validation\u001b[38;5;241m=\u001b[39m(\n\u001b[1;32m   1386\u001b[0m         prefer_skip_nested_validation \u001b[38;5;129;01mor\u001b[39;00m global_skip_validation\n\u001b[1;32m   1387\u001b[0m     )\n\u001b[1;32m   1388\u001b[0m ):\n\u001b[0;32m-> 1389\u001b[0m     \u001b[38;5;28;01mreturn\u001b[39;00m \u001b[43mfit_method\u001b[49m\u001b[43m(\u001b[49m\u001b[43mestimator\u001b[49m\u001b[43m,\u001b[49m\u001b[43m \u001b[49m\u001b[38;5;241;43m*\u001b[39;49m\u001b[43margs\u001b[49m\u001b[43m,\u001b[49m\u001b[43m \u001b[49m\u001b[38;5;241;43m*\u001b[39;49m\u001b[38;5;241;43m*\u001b[39;49m\u001b[43mkwargs\u001b[49m\u001b[43m)\u001b[49m\n",
      "File \u001b[0;32m~/.conda/envs/py39-env/lib/python3.9/site-packages/sklearn/model_selection/_search.py:1024\u001b[0m, in \u001b[0;36mBaseSearchCV.fit\u001b[0;34m(self, X, y, **params)\u001b[0m\n\u001b[1;32m   1018\u001b[0m     results \u001b[38;5;241m=\u001b[39m \u001b[38;5;28mself\u001b[39m\u001b[38;5;241m.\u001b[39m_format_results(\n\u001b[1;32m   1019\u001b[0m         all_candidate_params, n_splits, all_out, all_more_results\n\u001b[1;32m   1020\u001b[0m     )\n\u001b[1;32m   1022\u001b[0m     \u001b[38;5;28;01mreturn\u001b[39;00m results\n\u001b[0;32m-> 1024\u001b[0m \u001b[38;5;28;43mself\u001b[39;49m\u001b[38;5;241;43m.\u001b[39;49m\u001b[43m_run_search\u001b[49m\u001b[43m(\u001b[49m\u001b[43mevaluate_candidates\u001b[49m\u001b[43m)\u001b[49m\n\u001b[1;32m   1026\u001b[0m \u001b[38;5;66;03m# multimetric is determined here because in the case of a callable\u001b[39;00m\n\u001b[1;32m   1027\u001b[0m \u001b[38;5;66;03m# self.scoring the return type is only known after calling\u001b[39;00m\n\u001b[1;32m   1028\u001b[0m first_test_score \u001b[38;5;241m=\u001b[39m all_out[\u001b[38;5;241m0\u001b[39m][\u001b[38;5;124m\"\u001b[39m\u001b[38;5;124mtest_scores\u001b[39m\u001b[38;5;124m\"\u001b[39m]\n",
      "File \u001b[0;32m~/.conda/envs/py39-env/lib/python3.9/site-packages/sklearn/model_selection/_search.py:1571\u001b[0m, in \u001b[0;36mGridSearchCV._run_search\u001b[0;34m(self, evaluate_candidates)\u001b[0m\n\u001b[1;32m   1569\u001b[0m \u001b[38;5;28;01mdef\u001b[39;00m\u001b[38;5;250m \u001b[39m\u001b[38;5;21m_run_search\u001b[39m(\u001b[38;5;28mself\u001b[39m, evaluate_candidates):\n\u001b[1;32m   1570\u001b[0m \u001b[38;5;250m    \u001b[39m\u001b[38;5;124;03m\"\"\"Search all candidates in param_grid\"\"\"\u001b[39;00m\n\u001b[0;32m-> 1571\u001b[0m     \u001b[43mevaluate_candidates\u001b[49m\u001b[43m(\u001b[49m\u001b[43mParameterGrid\u001b[49m\u001b[43m(\u001b[49m\u001b[38;5;28;43mself\u001b[39;49m\u001b[38;5;241;43m.\u001b[39;49m\u001b[43mparam_grid\u001b[49m\u001b[43m)\u001b[49m\u001b[43m)\u001b[49m\n",
      "File \u001b[0;32m~/.conda/envs/py39-env/lib/python3.9/site-packages/sklearn/model_selection/_search.py:970\u001b[0m, in \u001b[0;36mBaseSearchCV.fit.<locals>.evaluate_candidates\u001b[0;34m(candidate_params, cv, more_results)\u001b[0m\n\u001b[1;32m    962\u001b[0m \u001b[38;5;28;01mif\u001b[39;00m \u001b[38;5;28mself\u001b[39m\u001b[38;5;241m.\u001b[39mverbose \u001b[38;5;241m>\u001b[39m \u001b[38;5;241m0\u001b[39m:\n\u001b[1;32m    963\u001b[0m     \u001b[38;5;28mprint\u001b[39m(\n\u001b[1;32m    964\u001b[0m         \u001b[38;5;124m\"\u001b[39m\u001b[38;5;124mFitting \u001b[39m\u001b[38;5;132;01m{0}\u001b[39;00m\u001b[38;5;124m folds for each of \u001b[39m\u001b[38;5;132;01m{1}\u001b[39;00m\u001b[38;5;124m candidates,\u001b[39m\u001b[38;5;124m\"\u001b[39m\n\u001b[1;32m    965\u001b[0m         \u001b[38;5;124m\"\u001b[39m\u001b[38;5;124m totalling \u001b[39m\u001b[38;5;132;01m{2}\u001b[39;00m\u001b[38;5;124m fits\u001b[39m\u001b[38;5;124m\"\u001b[39m\u001b[38;5;241m.\u001b[39mformat(\n\u001b[1;32m    966\u001b[0m             n_splits, n_candidates, n_candidates \u001b[38;5;241m*\u001b[39m n_splits\n\u001b[1;32m    967\u001b[0m         )\n\u001b[1;32m    968\u001b[0m     )\n\u001b[0;32m--> 970\u001b[0m out \u001b[38;5;241m=\u001b[39m \u001b[43mparallel\u001b[49m\u001b[43m(\u001b[49m\n\u001b[1;32m    971\u001b[0m \u001b[43m    \u001b[49m\u001b[43mdelayed\u001b[49m\u001b[43m(\u001b[49m\u001b[43m_fit_and_score\u001b[49m\u001b[43m)\u001b[49m\u001b[43m(\u001b[49m\n\u001b[1;32m    972\u001b[0m \u001b[43m        \u001b[49m\u001b[43mclone\u001b[49m\u001b[43m(\u001b[49m\u001b[43mbase_estimator\u001b[49m\u001b[43m)\u001b[49m\u001b[43m,\u001b[49m\n\u001b[1;32m    973\u001b[0m \u001b[43m        \u001b[49m\u001b[43mX\u001b[49m\u001b[43m,\u001b[49m\n\u001b[1;32m    974\u001b[0m \u001b[43m        \u001b[49m\u001b[43my\u001b[49m\u001b[43m,\u001b[49m\n\u001b[1;32m    975\u001b[0m \u001b[43m        \u001b[49m\u001b[43mtrain\u001b[49m\u001b[38;5;241;43m=\u001b[39;49m\u001b[43mtrain\u001b[49m\u001b[43m,\u001b[49m\n\u001b[1;32m    976\u001b[0m \u001b[43m        \u001b[49m\u001b[43mtest\u001b[49m\u001b[38;5;241;43m=\u001b[39;49m\u001b[43mtest\u001b[49m\u001b[43m,\u001b[49m\n\u001b[1;32m    977\u001b[0m \u001b[43m        \u001b[49m\u001b[43mparameters\u001b[49m\u001b[38;5;241;43m=\u001b[39;49m\u001b[43mparameters\u001b[49m\u001b[43m,\u001b[49m\n\u001b[1;32m    978\u001b[0m \u001b[43m        \u001b[49m\u001b[43msplit_progress\u001b[49m\u001b[38;5;241;43m=\u001b[39;49m\u001b[43m(\u001b[49m\u001b[43msplit_idx\u001b[49m\u001b[43m,\u001b[49m\u001b[43m \u001b[49m\u001b[43mn_splits\u001b[49m\u001b[43m)\u001b[49m\u001b[43m,\u001b[49m\n\u001b[1;32m    979\u001b[0m \u001b[43m        \u001b[49m\u001b[43mcandidate_progress\u001b[49m\u001b[38;5;241;43m=\u001b[39;49m\u001b[43m(\u001b[49m\u001b[43mcand_idx\u001b[49m\u001b[43m,\u001b[49m\u001b[43m \u001b[49m\u001b[43mn_candidates\u001b[49m\u001b[43m)\u001b[49m\u001b[43m,\u001b[49m\n\u001b[1;32m    980\u001b[0m \u001b[43m        \u001b[49m\u001b[38;5;241;43m*\u001b[39;49m\u001b[38;5;241;43m*\u001b[39;49m\u001b[43mfit_and_score_kwargs\u001b[49m\u001b[43m,\u001b[49m\n\u001b[1;32m    981\u001b[0m \u001b[43m    \u001b[49m\u001b[43m)\u001b[49m\n\u001b[1;32m    982\u001b[0m \u001b[43m    \u001b[49m\u001b[38;5;28;43;01mfor\u001b[39;49;00m\u001b[43m \u001b[49m\u001b[43m(\u001b[49m\u001b[43mcand_idx\u001b[49m\u001b[43m,\u001b[49m\u001b[43m \u001b[49m\u001b[43mparameters\u001b[49m\u001b[43m)\u001b[49m\u001b[43m,\u001b[49m\u001b[43m \u001b[49m\u001b[43m(\u001b[49m\u001b[43msplit_idx\u001b[49m\u001b[43m,\u001b[49m\u001b[43m \u001b[49m\u001b[43m(\u001b[49m\u001b[43mtrain\u001b[49m\u001b[43m,\u001b[49m\u001b[43m \u001b[49m\u001b[43mtest\u001b[49m\u001b[43m)\u001b[49m\u001b[43m)\u001b[49m\u001b[43m \u001b[49m\u001b[38;5;129;43;01min\u001b[39;49;00m\u001b[43m \u001b[49m\u001b[43mproduct\u001b[49m\u001b[43m(\u001b[49m\n\u001b[1;32m    983\u001b[0m \u001b[43m        \u001b[49m\u001b[38;5;28;43menumerate\u001b[39;49m\u001b[43m(\u001b[49m\u001b[43mcandidate_params\u001b[49m\u001b[43m)\u001b[49m\u001b[43m,\u001b[49m\n\u001b[1;32m    984\u001b[0m \u001b[43m        \u001b[49m\u001b[38;5;28;43menumerate\u001b[39;49m\u001b[43m(\u001b[49m\u001b[43mcv\u001b[49m\u001b[38;5;241;43m.\u001b[39;49m\u001b[43msplit\u001b[49m\u001b[43m(\u001b[49m\u001b[43mX\u001b[49m\u001b[43m,\u001b[49m\u001b[43m \u001b[49m\u001b[43my\u001b[49m\u001b[43m,\u001b[49m\u001b[43m \u001b[49m\u001b[38;5;241;43m*\u001b[39;49m\u001b[38;5;241;43m*\u001b[39;49m\u001b[43mrouted_params\u001b[49m\u001b[38;5;241;43m.\u001b[39;49m\u001b[43msplitter\u001b[49m\u001b[38;5;241;43m.\u001b[39;49m\u001b[43msplit\u001b[49m\u001b[43m)\u001b[49m\u001b[43m)\u001b[49m\u001b[43m,\u001b[49m\n\u001b[1;32m    985\u001b[0m \u001b[43m    \u001b[49m\u001b[43m)\u001b[49m\n\u001b[1;32m    986\u001b[0m \u001b[43m\u001b[49m\u001b[43m)\u001b[49m\n\u001b[1;32m    988\u001b[0m \u001b[38;5;28;01mif\u001b[39;00m \u001b[38;5;28mlen\u001b[39m(out) \u001b[38;5;241m<\u001b[39m \u001b[38;5;241m1\u001b[39m:\n\u001b[1;32m    989\u001b[0m     \u001b[38;5;28;01mraise\u001b[39;00m \u001b[38;5;167;01mValueError\u001b[39;00m(\n\u001b[1;32m    990\u001b[0m         \u001b[38;5;124m\"\u001b[39m\u001b[38;5;124mNo fits were performed. \u001b[39m\u001b[38;5;124m\"\u001b[39m\n\u001b[1;32m    991\u001b[0m         \u001b[38;5;124m\"\u001b[39m\u001b[38;5;124mWas the CV iterator empty? \u001b[39m\u001b[38;5;124m\"\u001b[39m\n\u001b[1;32m    992\u001b[0m         \u001b[38;5;124m\"\u001b[39m\u001b[38;5;124mWere there no candidates?\u001b[39m\u001b[38;5;124m\"\u001b[39m\n\u001b[1;32m    993\u001b[0m     )\n",
      "File \u001b[0;32m~/.conda/envs/py39-env/lib/python3.9/site-packages/sklearn/utils/parallel.py:77\u001b[0m, in \u001b[0;36mParallel.__call__\u001b[0;34m(self, iterable)\u001b[0m\n\u001b[1;32m     72\u001b[0m config \u001b[38;5;241m=\u001b[39m get_config()\n\u001b[1;32m     73\u001b[0m iterable_with_config \u001b[38;5;241m=\u001b[39m (\n\u001b[1;32m     74\u001b[0m     (_with_config(delayed_func, config), args, kwargs)\n\u001b[1;32m     75\u001b[0m     \u001b[38;5;28;01mfor\u001b[39;00m delayed_func, args, kwargs \u001b[38;5;129;01min\u001b[39;00m iterable\n\u001b[1;32m     76\u001b[0m )\n\u001b[0;32m---> 77\u001b[0m \u001b[38;5;28;01mreturn\u001b[39;00m \u001b[38;5;28;43msuper\u001b[39;49m\u001b[43m(\u001b[49m\u001b[43m)\u001b[49m\u001b[38;5;241;43m.\u001b[39;49m\u001b[38;5;21;43m__call__\u001b[39;49m\u001b[43m(\u001b[49m\u001b[43miterable_with_config\u001b[49m\u001b[43m)\u001b[49m\n",
      "File \u001b[0;32m~/.conda/envs/py39-env/lib/python3.9/site-packages/joblib/parallel.py:2007\u001b[0m, in \u001b[0;36mParallel.__call__\u001b[0;34m(self, iterable)\u001b[0m\n\u001b[1;32m   2001\u001b[0m \u001b[38;5;66;03m# The first item from the output is blank, but it makes the interpreter\u001b[39;00m\n\u001b[1;32m   2002\u001b[0m \u001b[38;5;66;03m# progress until it enters the Try/Except block of the generator and\u001b[39;00m\n\u001b[1;32m   2003\u001b[0m \u001b[38;5;66;03m# reaches the first `yield` statement. This starts the asynchronous\u001b[39;00m\n\u001b[1;32m   2004\u001b[0m \u001b[38;5;66;03m# dispatch of the tasks to the workers.\u001b[39;00m\n\u001b[1;32m   2005\u001b[0m \u001b[38;5;28mnext\u001b[39m(output)\n\u001b[0;32m-> 2007\u001b[0m \u001b[38;5;28;01mreturn\u001b[39;00m output \u001b[38;5;28;01mif\u001b[39;00m \u001b[38;5;28mself\u001b[39m\u001b[38;5;241m.\u001b[39mreturn_generator \u001b[38;5;28;01melse\u001b[39;00m \u001b[38;5;28;43mlist\u001b[39;49m\u001b[43m(\u001b[49m\u001b[43moutput\u001b[49m\u001b[43m)\u001b[49m\n",
      "File \u001b[0;32m~/.conda/envs/py39-env/lib/python3.9/site-packages/joblib/parallel.py:1650\u001b[0m, in \u001b[0;36mParallel._get_outputs\u001b[0;34m(self, iterator, pre_dispatch)\u001b[0m\n\u001b[1;32m   1647\u001b[0m     \u001b[38;5;28;01myield\u001b[39;00m\n\u001b[1;32m   1649\u001b[0m     \u001b[38;5;28;01mwith\u001b[39;00m \u001b[38;5;28mself\u001b[39m\u001b[38;5;241m.\u001b[39m_backend\u001b[38;5;241m.\u001b[39mretrieval_context():\n\u001b[0;32m-> 1650\u001b[0m         \u001b[38;5;28;01myield from\u001b[39;00m \u001b[38;5;28mself\u001b[39m\u001b[38;5;241m.\u001b[39m_retrieve()\n\u001b[1;32m   1652\u001b[0m \u001b[38;5;28;01mexcept\u001b[39;00m \u001b[38;5;167;01mGeneratorExit\u001b[39;00m:\n\u001b[1;32m   1653\u001b[0m     \u001b[38;5;66;03m# The generator has been garbage collected before being fully\u001b[39;00m\n\u001b[1;32m   1654\u001b[0m     \u001b[38;5;66;03m# consumed. This aborts the remaining tasks if possible and warn\u001b[39;00m\n\u001b[1;32m   1655\u001b[0m     \u001b[38;5;66;03m# the user if necessary.\u001b[39;00m\n\u001b[1;32m   1656\u001b[0m     \u001b[38;5;28mself\u001b[39m\u001b[38;5;241m.\u001b[39m_exception \u001b[38;5;241m=\u001b[39m \u001b[38;5;28;01mTrue\u001b[39;00m\n",
      "File \u001b[0;32m~/.conda/envs/py39-env/lib/python3.9/site-packages/joblib/parallel.py:1762\u001b[0m, in \u001b[0;36mParallel._retrieve\u001b[0;34m(self)\u001b[0m\n\u001b[1;32m   1757\u001b[0m \u001b[38;5;66;03m# If the next job is not ready for retrieval yet, we just wait for\u001b[39;00m\n\u001b[1;32m   1758\u001b[0m \u001b[38;5;66;03m# async callbacks to progress.\u001b[39;00m\n\u001b[1;32m   1759\u001b[0m \u001b[38;5;28;01mif\u001b[39;00m ((\u001b[38;5;28mlen\u001b[39m(\u001b[38;5;28mself\u001b[39m\u001b[38;5;241m.\u001b[39m_jobs) \u001b[38;5;241m==\u001b[39m \u001b[38;5;241m0\u001b[39m) \u001b[38;5;129;01mor\u001b[39;00m\n\u001b[1;32m   1760\u001b[0m     (\u001b[38;5;28mself\u001b[39m\u001b[38;5;241m.\u001b[39m_jobs[\u001b[38;5;241m0\u001b[39m]\u001b[38;5;241m.\u001b[39mget_status(\n\u001b[1;32m   1761\u001b[0m         timeout\u001b[38;5;241m=\u001b[39m\u001b[38;5;28mself\u001b[39m\u001b[38;5;241m.\u001b[39mtimeout) \u001b[38;5;241m==\u001b[39m TASK_PENDING)):\n\u001b[0;32m-> 1762\u001b[0m     \u001b[43mtime\u001b[49m\u001b[38;5;241;43m.\u001b[39;49m\u001b[43msleep\u001b[49m\u001b[43m(\u001b[49m\u001b[38;5;241;43m0.01\u001b[39;49m\u001b[43m)\u001b[49m\n\u001b[1;32m   1763\u001b[0m     \u001b[38;5;28;01mcontinue\u001b[39;00m\n\u001b[1;32m   1765\u001b[0m \u001b[38;5;66;03m# We need to be careful: the job list can be filling up as\u001b[39;00m\n\u001b[1;32m   1766\u001b[0m \u001b[38;5;66;03m# we empty it and Python list are not thread-safe by\u001b[39;00m\n\u001b[1;32m   1767\u001b[0m \u001b[38;5;66;03m# default hence the use of the lock\u001b[39;00m\n",
      "\u001b[0;31mKeyboardInterrupt\u001b[0m: "
     ]
    }
   ],
   "source": [
    "from ML_pipeline import MLpipeline\n",
    "from ML_config import Config\n",
    "\n",
    "my_config = Config()\n",
    "pipeline = MLpipeline(my_config)\n",
    "\n",
    "pipeline.set_data(df_ema_pipeline)\n",
    "pipeline.outer_user_split()\n",
    "pipeline.inner_time_split()\n",
    "\n",
    "# (1) Time-based runs\n",
    "results_timebased = pipeline.run(my_config.ANALYSIS[\"neg_affect_regression\"][\"MODEL_PIPEGRIDS\"])\n",
    "\n",
    "# Inspect or store results_timebased\n",
    "print(\"Time-based results:\")\n",
    "for r in results_timebased:\n",
    "    print(r)\n",
    "\n",
    "# (2) User-based holdout evaluation\n",
    "#results_holdout = pipeline.evaluate_holdout_all(results_timebased)\n",
    "\n",
    "#print(\"Holdout results:\")\n",
    "#for r in results_holdout:\n",
    "#    print(r)\n"
   ]
  },
  {
   "cell_type": "code",
   "execution_count": null,
   "id": "f277e11c-38d9-4d78-a28b-df2a3794af4a",
   "metadata": {},
   "outputs": [],
   "source": []
  }
 ],
 "metadata": {
  "kernelspec": {
   "display_name": "Python (py39-env)",
   "language": "python",
   "name": "py39-env"
  },
  "language_info": {
   "codemirror_mode": {
    "name": "ipython",
    "version": 3
   },
   "file_extension": ".py",
   "mimetype": "text/x-python",
   "name": "python",
   "nbconvert_exporter": "python",
   "pygments_lexer": "ipython3",
   "version": "3.9.21"
  }
 },
 "nbformat": 4,
 "nbformat_minor": 5
}
