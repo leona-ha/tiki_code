{
 "cells": [
  {
   "cell_type": "markdown",
   "id": "d20ac61a",
   "metadata": {},
   "source": [
    "# 4 Detailed Preprocessing of Passive Data\n",
    "\n",
    "This notebook shows the analysis of situational context using EMA and passive sensing data\n",
    "\n",
    "1. **Load Data**: Load necessary data from pickle files.\n",
    "2. **Preprocess EMA**:"
   ]
  },
  {
   "cell_type": "code",
   "execution_count": 1,
   "id": "e1cd56bc",
   "metadata": {
    "tags": []
   },
   "outputs": [],
   "source": [
    "import os\n",
    "import sys\n",
    "import regex as re\n",
    "from tqdm import tqdm\n",
    "from intervaltree import IntervalTree\n",
    "\n",
    "%load_ext autoreload\n",
    "%autoreload 2\n",
    "import logging\n",
    "# Configure logging\n",
    "logging.basicConfig(level=logging.INFO)\n",
    "\n",
    "# If your current working directory is the notebooks directory, use this:\n",
    "notebook_dir = os.getcwd()  # current working directory\n",
    "src_path = os.path.abspath(os.path.join(notebook_dir, '..', 'src'))\n",
    "sys.path.append(src_path)\n",
    "\n",
    "# Add the parent directory to sys.path\n",
    "parent_dir = os.path.abspath(os.path.join(notebook_dir, '..'))\n",
    "sys.path.append(parent_dir)\n",
    "import glob\n",
    "import pickle\n",
    "from IPython.display import Markdown\n",
    "from server_config import datapath, preprocessed_path\n",
    "\n",
    "import pandas as pd\n",
    "import numpy as np\n",
    "import datetime as dt\n",
    "import EMA_Mapper\n",
    "import gps_features\n",
    "\n",
    "from sklearn.cluster import DBSCAN\n",
    "from sklearn.cluster import KMeans\n",
    "from sklearn.metrics import pairwise_distances_argmin_min\n",
    "from math import radians, cos, sin, asin, sqrt\n",
    "import statistics  # Make sure this is imported\n",
    "import hdbscan\n",
    "\n",
    "import matplotlib.pyplot as plt\n",
    "from matplotlib import rcParams\n",
    "import seaborn as sns \n",
    "import matplotlib.patches as mpatches\n",
    "# Ensure matplotlib displays plots inline (if using Jupyter Notebook)\n",
    "%matplotlib inline\n",
    "\n",
    "sns.set_context(\"notebook\", rc={\"axes.labelsize\": 14, \"xtick.labelsize\": 14, \"ytick.labelsize\": 14})\n",
    "sns.set(style='whitegrid', context='talk', palette='deep')\n",
    "%matplotlib inline\n",
    "import plotly.express as px\n"
   ]
  },
  {
   "cell_type": "code",
   "execution_count": 2,
   "id": "696265f6",
   "metadata": {
    "tags": []
   },
   "outputs": [],
   "source": [
    "backup_path = preprocessed_path + \"/backup_data_passive_actual.feather\"\n",
    "df_backup = pd.read_feather(backup_path)\n",
    "\n",
    "with open(preprocessed_path + '/ema_data.pkl', 'rb') as file:\n",
    "    df_ema_framework = pickle.load(file)\n",
    "\n",
    "with open(preprocessed_path + '/ema_content.pkl', 'rb') as file:\n",
    "    df_ema_content = pickle.load(file)  \n",
    "\n",
    "with open(preprocessed_path + '/monitoring_data.pkl', 'rb') as file:\n",
    "    df_monitoring = pickle.load(file)\n",
    "    \n",
    "with open(preprocessed_path + '/redcap_data.pkl', 'rb') as file:\n",
    "    df_redcap = pickle.load(file)\n"
   ]
  },
  {
   "cell_type": "code",
   "execution_count": 3,
   "id": "ba14b26f",
   "metadata": {
    "tags": []
   },
   "outputs": [],
   "source": [
    "# Configurations\n",
    "# Check min. amount of EMA data available to map to passive data\n",
    "\n",
    "#GPS data\n",
    "speed_limit = 1.4\n",
    "max_distance = 150 \n",
    "kms_per_radian = 6371000\n",
    "epsilon = 100/kms_per_radian\n",
    "min_samples = 10\n",
    "min_cluster_size = 20\n",
    "min_nights_obs = 4\n",
    "min_f_home = 0.5\n",
    "\n",
    "# EMA\n",
    "assessment_phase = [0] #1,2\n",
    "min_num_daily = 4\n",
    "min_days_data = 7\n",
    "\n",
    "\n",
    "#Passive to EMA matching\n",
    "timedelta_hours = 2\n",
    "assess = 0"
   ]
  },
  {
   "cell_type": "markdown",
   "id": "8db13a54-104c-4280-8521-c7eea39252db",
   "metadata": {},
   "source": [
    "### Data overview"
   ]
  },
  {
   "cell_type": "markdown",
   "id": "1adb0b98-e053-4c56-8035-063d805fa1ee",
   "metadata": {},
   "source": [
    "## Filter for participants with sufficient data"
   ]
  },
  {
   "cell_type": "code",
   "execution_count": 4,
   "id": "a97d2b82-f676-4b9a-b596-1abba78f5504",
   "metadata": {},
   "outputs": [],
   "source": [
    "df_ema1 = df_ema_content.loc[df_ema_content.study.isin([24,25])] # first assessment phase\n",
    "df_ema1 = df_ema1.loc[df_ema1[\"n_quest\"] >= min_num_daily]\n",
    "df_ema1[\"n_days_min\"] = df_ema1.groupby(\"customer\")['quest_complete_day'].transform(\"nunique\")\n",
    "df_ema1 = df_ema1.loc[df_ema1.n_days_min >= min_days_data]\n",
    "df_ema1_customers = df_ema1.customer.unique().tolist()\n"
   ]
  },
  {
   "cell_type": "code",
   "execution_count": 5,
   "id": "feef1e3e-d37c-4ce9-9017-78fb5772211c",
   "metadata": {},
   "outputs": [
    {
     "data": {
      "text/plain": [
       "208"
      ]
     },
     "execution_count": 5,
     "metadata": {},
     "output_type": "execute_result"
    }
   ],
   "source": [
    "df_ema1.customer.nunique()"
   ]
  },
  {
   "cell_type": "markdown",
   "id": "470e35ff-b697-4a1e-a95a-b6e6e8f1f575",
   "metadata": {},
   "source": [
    "### Analyze missingness"
   ]
  },
  {
   "cell_type": "code",
   "execution_count": 6,
   "id": "322dcbca-0483-4637-839c-b49b57fc4b2c",
   "metadata": {},
   "outputs": [],
   "source": [
    "# List of customers\n",
    "customers = df_ema1['customer'].unique()\n",
    "\n",
    "# List of days (assuming absolute_day_index starts from 1)\n",
    "days = range(1, df_ema1['absolute_day_index'].max() + 1)\n",
    "\n",
    "# List of expected quest numbers per day (e.g., quest_nr from 1 to 8)\n",
    "expected_quests = [1, 2, 3, 4, 5, 6, 7, 8]  # Adjust based on your actual quest numbers\n",
    "\n",
    "# Create a MultiIndex of all combinations\n",
    "index = pd.MultiIndex.from_product([customers, days, expected_quests], names=['customer', 'absolute_day_index', 'quest_nr'])\n",
    "\n",
    "# Create a DataFrame representing the complete schedule\n",
    "df_expected = pd.DataFrame(index=index).reset_index()"
   ]
  },
  {
   "cell_type": "code",
   "execution_count": 7,
   "id": "f087ed0a-efe7-491f-8137-56d237eb6be0",
   "metadata": {},
   "outputs": [],
   "source": [
    "# Select relevant columns from completed quests\n",
    "df_completed = df_ema1[['customer', 'absolute_day_index', 'quest_nr']].drop_duplicates()\n",
    "\n",
    "# Merge expected and completed quests\n",
    "df_quests = pd.merge(df_expected, df_completed, on=['customer', 'absolute_day_index', 'quest_nr'], how='left', indicator=True)\n",
    "\n",
    "# '_merge' column will indicate if the quest was completed ('both') or missing ('left_only')\n",
    "df_quests['quest_status'] = np.where(df_quests['_merge'] == 'both', 'Completed', 'Missing')\n",
    "df_quests.drop(columns=['_merge'], inplace=True)\n"
   ]
  },
  {
   "cell_type": "code",
   "execution_count": 8,
   "id": "d0f8bcad-9bf5-427f-bad9-67ec3171cd55",
   "metadata": {},
   "outputs": [],
   "source": [
    "# Extract the hour from 'quest_create'\n",
    "df_ema_content['quest_create_hour'] = df_ema_content['quest_create'].dt.hour"
   ]
  },
  {
   "cell_type": "code",
   "execution_count": 9,
   "id": "1390a607-8266-4e88-af7e-ab99543acedd",
   "metadata": {},
   "outputs": [
    {
     "data": {
      "image/png": "[encoded data removed]",
      "text/plain": [
       "<Figure size 1200x600 with 1 Axes>"
      ]
     },
     "metadata": {},
     "output_type": "display_data"
    }
   ],
   "source": [
    "# Calculate the proportion of missing quests per day\n",
    "missingness_by_day = df_quests.groupby('absolute_day_index')['quest_status'].apply(lambda x: (x == 'Missing').mean()).reset_index()\n",
    "\n",
    "# Plotting missingness over days\n",
    "plt.figure(figsize=(12, 6))\n",
    "sns.lineplot(x='absolute_day_index', y='quest_status', data=missingness_by_day, marker='o')\n",
    "plt.title('Proportion of Missing Quests Over Days')\n",
    "plt.xlabel('Day')\n",
    "plt.ylabel('Proportion Missing')\n",
    "plt.xticks(range(1, df_quests['absolute_day_index'].max() + 1))\n",
    "plt.grid(True)\n",
    "plt.show()\n"
   ]
  },
  {
   "cell_type": "markdown",
   "id": "20265259",
   "metadata": {},
   "source": [
    "## 1. Prepare passive features"
   ]
  },
  {
   "cell_type": "code",
   "execution_count": 10,
   "id": "973f3003",
   "metadata": {
    "tags": []
   },
   "outputs": [],
   "source": [
    "df_pass_act = df_backup.copy()"
   ]
  },
  {
   "cell_type": "code",
   "execution_count": 11,
   "id": "86831ba8-eb56-441e-abfb-309935f0773e",
   "metadata": {},
   "outputs": [
    {
     "data": {
      "text/plain": [
       "Timestamp('2024-12-23 01:07:44.060000')"
      ]
     },
     "execution_count": 11,
     "metadata": {},
     "output_type": "execute_result"
    }
   ],
   "source": [
    "df_pass_act.startTimestamp.max()"
   ]
  },
  {
   "cell_type": "code",
   "execution_count": 12,
   "id": "dc02478e",
   "metadata": {
    "tags": []
   },
   "outputs": [],
   "source": [
    "# Only keep data that were collected during the first assessment phase\n",
    "df_pass_act_base = df_pass_act[df_pass_act.startTimestamp <= (df_pass_act.ema_base_end + pd.Timedelta(days=1))]"
   ]
  },
  {
   "cell_type": "code",
   "execution_count": 13,
   "id": "ef0cab1c-c515-4365-a3c1-6efbfd465284",
   "metadata": {},
   "outputs": [],
   "source": [
    "df_pass_act_base = df_pass_act_base.loc[df_pass_act_base.customer.isin(df_ema1_customers)]"
   ]
  },
  {
   "cell_type": "code",
   "execution_count": 14,
   "id": "06e8a105-1433-4a86-b475-b3e666184ecb",
   "metadata": {},
   "outputs": [
    {
     "data": {
      "text/plain": [
       "207"
      ]
     },
     "execution_count": 14,
     "metadata": {},
     "output_type": "execute_result"
    }
   ],
   "source": [
    "df_pass_act_base.customer.nunique()"
   ]
  },
  {
   "cell_type": "code",
   "execution_count": 15,
   "id": "bc988999-98cc-4b5f-a39c-04c15ea1732b",
   "metadata": {},
   "outputs": [
    {
     "name": "stderr",
     "output_type": "stream",
     "text": [
      "/tmp/ipykernel_642979/2028720565.py:1: FutureWarning: A value is trying to be set on a copy of a DataFrame or Series through chained assignment using an inplace method.\n",
      "The behavior will change in pandas 3.0. This inplace method will never work because the intermediate object on which we are setting values always behaves as a copy.\n",
      "\n",
      "For example, when doing 'df[col].method(value, inplace=True)', try using 'df.method({col: value}, inplace=True)' or df[col] = df[col].method(value) instead, to perform the operation inplace on the original object.\n",
      "\n",
      "\n",
      "  df_pass_act_base['Heart_Rate_data_coverage_per'].replace([np.inf, -np.inf], np.nan, inplace=True)\n"
     ]
    }
   ],
   "source": [
    "df_pass_act_base['Heart_Rate_data_coverage_per'].replace([np.inf, -np.inf], np.nan, inplace=True)\n"
   ]
  },
  {
   "cell_type": "markdown",
   "id": "40577ed8-9cdf-4909-a565-847daca726dd",
   "metadata": {},
   "source": [
    "### 1.1 Calculate GPS features"
   ]
  },
  {
   "cell_type": "code",
   "execution_count": 16,
   "id": "7ead0d9e-b89c-44d1-ba1d-6e1f3b2e17ff",
   "metadata": {
    "tags": []
   },
   "outputs": [],
   "source": [
    "df_pass_act_loc =df_pass_act_base[df_pass_act_base.type.isin([\"Latitude\", \"Longitude\"])][[\"customer\", \"startTimestamp\", \"type\", \"doubleValue\"]]"
   ]
  },
  {
   "cell_type": "code",
   "execution_count": 17,
   "id": "a4e8c7eb-9534-456c-900b-2b6aced14f4e",
   "metadata": {
    "tags": []
   },
   "outputs": [],
   "source": [
    "df_loc = df_pass_act_loc.pivot_table(\n",
    "    index=[\"customer\", \"startTimestamp\"],\n",
    "    columns=\"type\",\n",
    "    values=[\"doubleValue\"],\n",
    "    aggfunc='first'  # Using 'first' since each type should theoretically have only one entry per customer and timestamp\n",
    ")\n",
    "\n",
    "# Flatten the MultiIndex in columns\n",
    "df_loc.columns = ['_'.join(col).strip() for col in df_loc.columns.values]\n",
    "\n",
    "df_loc = df_loc.rename_axis(None, axis=1).reset_index()\n",
    "\n",
    "# Rename the columns for clarity\n",
    "df_loc = df_loc.rename(columns={\n",
    "    'doubleValue_Latitude': 'Latitude',\n",
    "    'doubleValue_Longitude': 'Longitude',\n",
    "})"
   ]
  },
  {
   "cell_type": "code",
   "execution_count": 18,
   "id": "a8d3d176-fd67-49df-8ce9-9d9b32784d5e",
   "metadata": {},
   "outputs": [
    {
     "data": {
      "text/plain": [
       "196"
      ]
     },
     "execution_count": 18,
     "metadata": {},
     "output_type": "execute_result"
    }
   ],
   "source": [
    "df_loc.customer.nunique()"
   ]
  },
  {
   "cell_type": "code",
   "execution_count": 19,
   "id": "73f71a0a-7ede-4ad2-8009-07b37be30343",
   "metadata": {},
   "outputs": [
    {
     "name": "stdout",
     "output_type": "stream",
     "text": [
      "Description of the distribution of number of rows per customer:\n",
      "count      196.000000\n",
      "mean      4716.459184\n",
      "std       6301.537251\n",
      "min          2.000000\n",
      "25%        744.500000\n",
      "50%       1561.000000\n",
      "75%       6962.000000\n",
      "max      39632.000000\n",
      "Name: count, dtype: float64\n",
      "\n",
      "Percentiles:\n",
      "0.05       89.25\n",
      "0.10      222.00\n",
      "0.15      437.00\n",
      "0.20      616.00\n",
      "0.25      744.50\n",
      "0.30      895.50\n",
      "0.35     1072.00\n",
      "0.40     1253.00\n",
      "0.45     1400.50\n",
      "0.50     1561.00\n",
      "0.55     1905.00\n",
      "0.60     2503.00\n",
      "0.65     3240.75\n",
      "0.70     4419.50\n",
      "0.75     6962.00\n",
      "0.80     9304.00\n",
      "0.85    12026.75\n",
      "0.90    14083.00\n",
      "0.95    16882.00\n",
      "1.00    39632.00\n",
      "Name: count, dtype: float64\n",
      "\n",
      "Minimum threshold for inclusion: 0\n"
     ]
    }
   ],
   "source": [
    "# Count the number of rows per customer\n",
    "customer_counts = df_loc['customer'].value_counts()\n",
    "\n",
    "# Get a description of the distribution\n",
    "distribution_description = customer_counts.describe()\n",
    "print(\"Description of the distribution of number of rows per customer:\")\n",
    "print(distribution_description)\n",
    "\n",
    "# Display percentiles\n",
    "percentiles = customer_counts.quantile([i / 20 for i in range(1, 21)])\n",
    "print(\"\\nPercentiles:\")\n",
    "print(percentiles)\n",
    "\n",
    "# Find minimum threshold for data inclusion with a floor of 0\n",
    "threshold = max(0, customer_counts.mean() - customer_counts.std())\n",
    "print(f\"\\nMinimum threshold for inclusion: {threshold}\")"
   ]
  },
  {
   "cell_type": "code",
   "execution_count": 20,
   "id": "3d652d9d-063d-4a6e-a7d4-11843777c840",
   "metadata": {
    "tags": []
   },
   "outputs": [
    {
     "name": "stderr",
     "output_type": "stream",
     "text": [
      "INFO:root:Data quality check: 186 customers with sufficient data retained.\n",
      "INFO:root:Customers with no home after time-based method: 22\n",
      "INFO:root:Fallback home clusters assigned: 22\n",
      "WARNING:root:0 customers still do not have a home cluster.\n"
     ]
    }
   ],
   "source": [
    "# Example usage with HDBSCAN and normalized min_samples:\n",
    "extractor = gps_features.HomeClusterExtractor(df_loc, speed_limit=speed_limit, max_distance=max_distance, epsilon=epsilon, min_samples=min_samples, \n",
    "                                 min_nights_obs = min_nights_obs, min_f_home=min_f_home, clustering_method='dbscan', \n",
    "                                 normalize_min_samples=False, min_data_points=87)\n",
    "result = extractor.run()\n"
   ]
  },
  {
   "cell_type": "code",
   "execution_count": 21,
   "id": "8834db62-be07-4fc3-882e-dfb100d78605",
   "metadata": {},
   "outputs": [],
   "source": [
    "# 20 customers not enough GPS data (i.e. less than 50 data points, so that no home cluster could be computed \n"
   ]
  },
  {
   "cell_type": "code",
   "execution_count": 22,
   "id": "f9895a55-a53d-4ab1-9b07-1159723e50e7",
   "metadata": {
    "tags": []
   },
   "outputs": [],
   "source": [
    "home_clusters_red = result[[\"customer\", \"startTimestamp\", \"at_home\",\"transition\", \"distance\", \"stationary\",\"time_diff\", \"speed\", \"clusterID\", \"homeID\" ]]"
   ]
  },
  {
   "cell_type": "code",
   "execution_count": 23,
   "id": "3d21bb74-7c7b-4972-93e4-2b19de543a54",
   "metadata": {},
   "outputs": [],
   "source": [
    "gps_customer_list = home_clusters_red.customer.unique().tolist()"
   ]
  },
  {
   "cell_type": "code",
   "execution_count": 24,
   "id": "b68e58ca-efa5-4172-97a8-addd20f5aa72",
   "metadata": {},
   "outputs": [
    {
     "data": {
      "text/plain": [
       "type\n",
       "Longitude                      928786\n",
       "Latitude                       928785\n",
       "CoveredDistance                586909\n",
       "Steps                          586909\n",
       "ActiveBurnedCalories           576657\n",
       "HeartRate                      575391\n",
       "RawECGVoltage                  137554\n",
       "ActivityType                    68259\n",
       "SleepInBedBinary                37452\n",
       "SleepStateBinary                34067\n",
       "SleepBinary                     34067\n",
       "SleepLightBinary                31044\n",
       "SleepDeepBinary                 25061\n",
       "ElevationGain                   10643\n",
       "SleepAwakeBinary                 8910\n",
       "ActivityTypeDetail1              8018\n",
       "ActivityTypeDetail2              8012\n",
       "FloorsClimbed                    6720\n",
       "WalkBinary                       6551\n",
       "SPO2                             5601\n",
       "AtrialFibrillationDetection      1497\n",
       "BikeBinary                       1181\n",
       "ActiveBinary                      352\n",
       "RunBinary                         109\n",
       "Weight                             64\n",
       "FatMass                            22\n",
       "FatFreeMass                        22\n",
       "FatRatio                           22\n",
       "BoneMass                           21\n",
       "MuscleMass                         21\n",
       "BloodPressureDiastolic             12\n",
       "BloodPressureSystolic              12\n",
       "VO2max                             12\n",
       "Height                              6\n",
       "Name: count, dtype: Int64"
      ]
     },
     "execution_count": 24,
     "metadata": {},
     "output_type": "execute_result"
    }
   ],
   "source": [
    "df_pass_act_base['type'].value_counts()\n"
   ]
  },
  {
   "cell_type": "markdown",
   "id": "e596a358",
   "metadata": {},
   "source": [
    "## 2. Prepare EMA data"
   ]
  },
  {
   "cell_type": "code",
   "execution_count": 25,
   "id": "75454ad6-61e3-483b-a824-032cfc2d8570",
   "metadata": {},
   "outputs": [],
   "source": [
    "df_ema_udi = df_ema_content[[\"customer\", \"createdAt_day\", \"quest_create\", \"unique_day_id\", \"assess\"]]"
   ]
  },
  {
   "cell_type": "code",
   "execution_count": 26,
   "id": "133d9e2a",
   "metadata": {
    "tags": []
   },
   "outputs": [],
   "source": [
    "df_ema_udi = df_ema_udi.loc[df_ema_udi.customer.isin(gps_customer_list)]"
   ]
  },
  {
   "cell_type": "code",
   "execution_count": 27,
   "id": "63ef5319-0b1d-45f8-ac0c-1dadb978ea37",
   "metadata": {},
   "outputs": [
    {
     "data": {
      "text/plain": [
       "186"
      ]
     },
     "execution_count": 27,
     "metadata": {},
     "output_type": "execute_result"
    }
   ],
   "source": [
    "df_ema_udi.customer.nunique()"
   ]
  },
  {
   "cell_type": "code",
   "execution_count": 28,
   "id": "43dbd254",
   "metadata": {
    "tags": []
   },
   "outputs": [],
   "source": [
    "# Group by customer and unique_day_id and calculate the minimum quest_create\n",
    "df_min_quest = df_ema_udi.groupby(['customer', 'unique_day_id'])['quest_create'].min().reset_index()\n",
    "\n",
    "# Rename the column to sensor_block_end\n",
    "df_min_quest.rename(columns={'quest_create': 'sensor_block_end'}, inplace=True)\n",
    "\n",
    "# Merge the minimum quest_create back to the original DataFrame\n",
    "df_ema_udi = pd.merge(df_ema_udi, df_min_quest, on=['customer', 'unique_day_id'], how='left')\n",
    "\n",
    "# Create the sensor_block_start column, which is 2 hours before quest_create\n",
    "df_ema_udi.drop(columns=['quest_create'], inplace=True)\n",
    "df_ema_udi = df_ema_udi.drop_duplicates()"
   ]
  },
  {
   "cell_type": "code",
   "execution_count": 29,
   "id": "79939ef0",
   "metadata": {
    "tags": []
   },
   "outputs": [],
   "source": [
    "# prepare mapping of passing data by creating blocks\n",
    "\n",
    "df_ema_udi['sensor_block_start'] = df_ema_udi['sensor_block_end'] - pd.Timedelta(hours=2)\n"
   ]
  },
  {
   "cell_type": "code",
   "execution_count": 30,
   "id": "041705f9-ae62-4345-a71d-afc2f06224d0",
   "metadata": {
    "tags": []
   },
   "outputs": [],
   "source": [
    "# Only include first assessment phase\n",
    "\n",
    "df_ema_udi_base = df_ema_udi.loc[df_ema_udi.assess == 0]"
   ]
  },
  {
   "cell_type": "code",
   "execution_count": 31,
   "id": "ba09797e-588f-411c-949b-f70acb554ef4",
   "metadata": {},
   "outputs": [],
   "source": [
    "df_ema_udi_base = df_ema_udi_base.copy()\n",
    "df_ema_udi_base[\"unique_blocks\"] = df_ema_udi_base.customer + df_ema_udi_base.unique_day_id"
   ]
  },
  {
   "cell_type": "code",
   "execution_count": 32,
   "id": "26d54df1-cca4-4821-bcbe-12a935de8a3d",
   "metadata": {},
   "outputs": [],
   "source": [
    "df_ema_udi_merged = pd.merge(df_ema_udi_base, df_redcap, on=\"customer\")"
   ]
  },
  {
   "cell_type": "markdown",
   "id": "47e5c641-d497-4956-96a2-35a09594aa57",
   "metadata": {},
   "source": [
    "## 3. Merge EMA to passive data"
   ]
  },
  {
   "cell_type": "code",
   "execution_count": 33,
   "id": "8f2b8668-24ae-49e8-add1-e714e167dfc7",
   "metadata": {},
   "outputs": [
    {
     "name": "stderr",
     "output_type": "stream",
     "text": [
      "/tmp/ipykernel_642979/431454365.py:4: SettingWithCopyWarning: \n",
      "A value is trying to be set on a copy of a slice from a DataFrame.\n",
      "Try using .loc[row_indexer,col_indexer] = value instead\n",
      "\n",
      "See the caveats in the documentation: https://pandas.pydata.org/pandas-docs/stable/user_guide/indexing.html#returning-a-view-versus-a-copy\n",
      "  home_clusters_red['customer'] = home_clusters_red['customer'].astype(str).str.strip()\n"
     ]
    }
   ],
   "source": [
    "# Ensure 'customer' columns are strings and stripped of whitespace\n",
    "df_ema_udi_merged['customer'] = df_ema_udi_merged['customer'].astype(str).str.strip()\n",
    "df_pass_act_base['customer'] = df_pass_act_base['customer'].astype(str).str.strip()\n",
    "home_clusters_red['customer'] = home_clusters_red['customer'].astype(str).str.strip()"
   ]
  },
  {
   "cell_type": "code",
   "execution_count": null,
   "id": "cbecc8ab-0a6a-471a-abaf-111b726456be",
   "metadata": {
    "tags": []
   },
   "outputs": [
    {
     "name": "stdout",
     "output_type": "stream",
     "text": [
      "Heart Rate Data Cleaning Summary:\n",
      "Initial entries: 575391\n",
      "Removed due to non-numeric values: 0\n",
      "Removed due to thresholds: 0\n",
      "Removed due to exceeding change rate threshold: 5796\n",
      "Total entries removed: 5796\n",
      "Remaining entries: 569595\n",
      "Step Data Cleaning Summary:\n",
      "Initial entries: 586909\n",
      "Removed due to non-numeric values: 0\n",
      "Removed due to negative steps: 0\n",
      "Removed due to zero or negative duration: 0\n",
      "Removed due to exceeding steps per minute threshold: 412\n",
      "Total entries removed: 412\n",
      "Remaining entries: 586497\n"
     ]
    },
    {
     "name": "stderr",
     "output_type": "stream",
     "text": [
      "/home/leha18/tiki_code/src/EMA_Mapper.py:602: SettingWithCopyWarning: \n",
      "A value is trying to be set on a copy of a slice from a DataFrame.\n",
      "Try using .loc[row_indexer,col_indexer] = value instead\n",
      "\n",
      "See the caveats in the documentation: https://pandas.pydata.org/pandas-docs/stable/user_guide/indexing.html#returning-a-view-versus-a-copy\n",
      "  ema_batch['key'] = 0\n",
      "/home/leha18/tiki_code/src/EMA_Mapper.py:602: SettingWithCopyWarning: \n",
      "A value is trying to be set on a copy of a slice from a DataFrame.\n",
      "Try using .loc[row_indexer,col_indexer] = value instead\n",
      "\n",
      "See the caveats in the documentation: https://pandas.pydata.org/pandas-docs/stable/user_guide/indexing.html#returning-a-view-versus-a-copy\n",
      "  ema_batch['key'] = 0\n",
      "/home/leha18/tiki_code/src/EMA_Mapper.py:602: SettingWithCopyWarning: \n",
      "A value is trying to be set on a copy of a slice from a DataFrame.\n",
      "Try using .loc[row_indexer,col_indexer] = value instead\n",
      "\n",
      "See the caveats in the documentation: https://pandas.pydata.org/pandas-docs/stable/user_guide/indexing.html#returning-a-view-versus-a-copy\n",
      "  ema_batch['key'] = 0\n",
      "/home/leha18/tiki_code/src/EMA_Mapper.py:602: SettingWithCopyWarning: \n",
      "A value is trying to be set on a copy of a slice from a DataFrame.\n",
      "Try using .loc[row_indexer,col_indexer] = value instead\n",
      "\n",
      "See the caveats in the documentation: https://pandas.pydata.org/pandas-docs/stable/user_guide/indexing.html#returning-a-view-versus-a-copy\n",
      "  ema_batch['key'] = 0\n"
     ]
    },
    {
     "name": "stdout",
     "output_type": "stream",
     "text": [
      "ActiveBurnedCalories Data Cleaning Summary:\n",
      "Initial entries: 576657\n",
      "Remaining entries: 576657\n",
      "Entries removed: 0\n"
     ]
    },
    {
     "name": "stderr",
     "output_type": "stream",
     "text": [
      "/home/leha18/tiki_code/src/EMA_Mapper.py:602: SettingWithCopyWarning: \n",
      "A value is trying to be set on a copy of a slice from a DataFrame.\n",
      "Try using .loc[row_indexer,col_indexer] = value instead\n",
      "\n",
      "See the caveats in the documentation: https://pandas.pydata.org/pandas-docs/stable/user_guide/indexing.html#returning-a-view-versus-a-copy\n",
      "  ema_batch['key'] = 0\n"
     ]
    }
   ],
   "source": [
    "# Step 1: Initialize the EMAMapper\n",
    "ema_mapper = EMA_Mapper.EMAMapper(df_ema_udi_merged, df_pass_act_base, home_clusters_red)\n",
    "\n",
    "# Step 2: Run the mappings\n",
    "ema_mapper.run_mappings()\n",
    "\n",
    "# Step 3: Retrieve the enriched EMA DataFrame\n",
    "df_ema_enriched = ema_mapper.get_result()"
   ]
  },
  {
   "cell_type": "code",
   "execution_count": null,
   "id": "8c5d8a48-fd6c-4930-af20-6d879ff596d9",
   "metadata": {},
   "outputs": [],
   "source": [
    "df_ema_enriched.shape"
   ]
  },
  {
   "cell_type": "code",
   "execution_count": null,
   "id": "cc90716d-eedc-4552-99ce-8965c72d133f",
   "metadata": {},
   "outputs": [],
   "source": [
    "df_ema_enriched.customer.nunique()"
   ]
  },
  {
   "cell_type": "code",
   "execution_count": null,
   "id": "3ea46199-aad2-477b-b1d9-8b3a4db2cd7e",
   "metadata": {},
   "outputs": [],
   "source": [
    "import pandas as pd\n",
    "\n",
    "def summarize_missing_data(\n",
    "    df,\n",
    "    feature_group_pa,\n",
    "    feature_group_gps,\n",
    "    feature_group_hr,\n",
    "    columns_to_check,\n",
    "    top_n_pairs=5\n",
    "):\n",
    "    \"\"\"\n",
    "    Summarize -1 missing data for exactly five groups:\n",
    "      1) PA (Physical Activity)\n",
    "      2) GPS\n",
    "      3) HR (Heart Rate)\n",
    "      4) n_steps (single column)\n",
    "      5) calories_burned (single column)\n",
    "\n",
    "    Returns\n",
    "    -------\n",
    "    group_missing_df : pd.DataFrame\n",
    "        DataFrame with the same index as `df` and exactly these columns:\n",
    "        [\"PA\", \"GPS\", \"HR\", \"n_steps\", \"calories_burned\"] (some may be all 0 if not found).\n",
    "        Each cell is 1 if that group is missing for that row, else 0.\n",
    "    \n",
    "    Notes\n",
    "    -----\n",
    "    - Any columns not in `columns_to_check` or not in the DataFrame are ignored.\n",
    "    - The function also prints the usual missing-data summaries, but importantly it\n",
    "      returns `group_missing_df` for further analysis by other functions.\n",
    "    \"\"\"\n",
    "    # Only consider columns actually in df AND in columns_to_check\n",
    "    relevant_cols = set(df.columns).intersection(columns_to_check)\n",
    "\n",
    "    # Exactly 5 groups, filtering out columns not in relevant_cols\n",
    "    group_dict = {\n",
    "        \"PA\": [c for c in feature_group_pa if c in relevant_cols],\n",
    "        \"GPS\": [c for c in feature_group_gps if c in relevant_cols],\n",
    "        \"HR\": [c for c in feature_group_hr if c in relevant_cols],\n",
    "        \"n_steps\": [\"n_steps\"] if \"n_steps\" in relevant_cols else [],\n",
    "        \"calories_burned\": [\"calories_burned\"] if \"calories_burned\" in relevant_cols else []\n",
    "    }\n",
    "\n",
    "    print(\"=== Missing Data Analysis (Restricted to 'columns_to_check' and 5 Groups) ===\\n\")\n",
    "    total_rows = len(df)\n",
    "\n",
    "    # -------------------------------------------------------------------------\n",
    "    # A) Group-wise summary of missing data\n",
    "    # -------------------------------------------------------------------------\n",
    "    for group_name, cols in group_dict.items():\n",
    "        if not cols:\n",
    "            # If a group has zero columns (e.g. \"calories_burned\" not in relevant_cols), skip.\n",
    "            continue\n",
    "\n",
    "        print(f\"Group: {group_name} (contains {len(cols)} column(s))\")\n",
    "        print(\"-\" * 50)\n",
    "        for col in cols:\n",
    "            missing_count = (df[col] == -1).sum()\n",
    "            pct_missing = (missing_count / total_rows) * 100\n",
    "            print(f\"  {col}: {missing_count} missing (-1)  [{pct_missing:.2f}%]\")\n",
    "        print()\n",
    "\n",
    "    # -------------------------------------------------------------------------\n",
    "    # B) Within-group co-occurrence (column vs. column)\n",
    "    # -------------------------------------------------------------------------\n",
    "    for group_name, cols in group_dict.items():\n",
    "        if len(cols) <= 1:\n",
    "            continue  # No pairwise co-occurrence with 0 or 1 columns\n",
    "\n",
    "        print(f\"Co-occurrence within group '{group_name}'\")\n",
    "        print(\"-\" * 50)\n",
    "\n",
    "        # Build a binary matrix: 1 if row is -1 in that col, else 0\n",
    "        missing_matrix = (df[cols] == -1).astype(int)\n",
    "\n",
    "        # Dot product => co-occurrence counts\n",
    "        co_occ = missing_matrix.T.dot(missing_matrix)\n",
    "        co_occ_df = pd.DataFrame(co_occ, index=cols, columns=cols)\n",
    "\n",
    "        # Collect upper-triangle pairs\n",
    "        pairs = []\n",
    "        n_cols = len(cols)\n",
    "        for i in range(n_cols):\n",
    "            for j in range(i + 1, n_cols):\n",
    "                col_i = cols[i]\n",
    "                col_j = cols[j]\n",
    "                count_ij = co_occ_df.iloc[i, j]\n",
    "                if count_ij > 0:\n",
    "                    pairs.append(((col_i, col_j), count_ij))\n",
    "\n",
    "        # Sort pairs by descending co-occurrence\n",
    "        pairs.sort(key=lambda x: x[1], reverse=True)\n",
    "\n",
    "        top_n_to_show = min(top_n_pairs, len(pairs))\n",
    "        if top_n_to_show > 0:\n",
    "            print(f\"  Top {top_n_to_show} missing-together pairs:\")\n",
    "            for rank, ((c1, c2), count) in enumerate(pairs[:top_n_to_show], start=1):\n",
    "                print(f\"    {rank}. {c1} & {c2} -> {count} rows\")\n",
    "        else:\n",
    "            print(\"  No missing co-occurrences found.\")\n",
    "        print()\n",
    "\n",
    "    # -------------------------------------------------------------------------\n",
    "    # C) Across-group co-occurrence (group vs. group)\n",
    "    # -------------------------------------------------------------------------\n",
    "    group_names = list(group_dict.keys())\n",
    "\n",
    "    # Build a DataFrame with 1 if ANY column in that group is -1 in a row\n",
    "    group_missing_df = pd.DataFrame(index=df.index, columns=group_names, dtype=int)\n",
    "    for g in group_names:\n",
    "        cols_g = group_dict[g]\n",
    "        if not cols_g:\n",
    "            group_missing_df[g] = 0\n",
    "        else:\n",
    "            group_missing_df[g] = (df[cols_g] == -1).any(axis=1).astype(int)\n",
    "\n",
    "    # Dot product for group-level co-occurrences\n",
    "    co_occ_groups = group_missing_df.T.dot(group_missing_df)\n",
    "    co_occ_groups_df = pd.DataFrame(co_occ_groups, index=group_names, columns=group_names)\n",
    "\n",
    "    print(\"Co-occurrence Across Groups (Any Missing in a Group):\")\n",
    "    print(\"-\" * 50)\n",
    "\n",
    "    # Print how many rows have missing data for each group\n",
    "    for g in group_names:\n",
    "        grp_missing_count = group_missing_df[g].sum()\n",
    "        pct_grp_missing = (grp_missing_count / total_rows) * 100\n",
    "        print(f\"  {g} missing in {grp_missing_count} row(s) [{pct_grp_missing:.2f}%]\")\n",
    "\n",
    "    # Pairwise group co-occurrence\n",
    "    print(\"\\nPairwise Group Co-occurrence:\")\n",
    "    pairs_grp = []\n",
    "    for i in range(len(group_names)):\n",
    "        for j in range(i + 1, len(group_names)):\n",
    "            g_i = group_names[i]\n",
    "            g_j = group_names[j]\n",
    "            val = co_occ_groups_df.loc[g_i, g_j]\n",
    "            if val > 0:\n",
    "                pairs_grp.append(((g_i, g_j), val))\n",
    "\n",
    "    pairs_grp.sort(key=lambda x: x[1], reverse=True)\n",
    "\n",
    "    if pairs_grp:\n",
    "        print(\"  All group pairs missing together (sorted by frequency):\")\n",
    "        for rank, ((g1, g2), cnt) in enumerate(pairs_grp, start=1):\n",
    "            print(f\"    {rank}. {g1} & {g2} -> {cnt} rows\")\n",
    "    else:\n",
    "        print(\"  No group-level co-occurrences found.\")\n",
    "    print()\n",
    "\n",
    "    # -------------------------------------------------------------------------\n",
    "    # D) Exactly k groups missing + which combos are missing together\n",
    "    # -------------------------------------------------------------------------\n",
    "    row_sums = group_missing_df.sum(axis=1)\n",
    "    max_groups = len(group_names)\n",
    "\n",
    "    print(\"=== How Many Rows Have Missing Data in Exactly k Groups? ===\")\n",
    "    for k in range(1, max_groups + 1):\n",
    "        count_k = (row_sums == k).sum()\n",
    "        pct_k = (count_k / total_rows) * 100\n",
    "        print(f\"  Exactly {k} group(s) missing: {count_k} rows [{pct_k:.2f}%]\")\n",
    "    print()\n",
    "\n",
    "    # Identify the group combos for each row\n",
    "    def get_missing_groups(row):\n",
    "        return \"_\".join([g for g in group_names if row[g] == 1])\n",
    "\n",
    "    patterns = group_missing_df.apply(get_missing_groups, axis=1)\n",
    "    pattern_counts = patterns.value_counts()\n",
    "\n",
    "    # Exclude the empty pattern (no groups missing)\n",
    "    pattern_counts = pattern_counts.drop(\"\", errors=\"ignore\")\n",
    "\n",
    "    print(\"=== Missing-Group Patterns (Which groups are missing together) ===\")\n",
    "    for combo, cnt in pattern_counts.items():\n",
    "        pct_combo = (cnt / total_rows) * 100\n",
    "        print(f\"  Groups [{combo}] -> {cnt} rows [{pct_combo:.2f}%]\")\n",
    "\n",
    "    print(\"\\n=== End of Missing Data Analysis ===\")\n",
    "\n",
    "    # -------------------------------------------------------\n",
    "    # Return group_missing_df for further analysis\n",
    "    # -------------------------------------------------------\n",
    "    return group_missing_df\n"
   ]
  },
  {
   "cell_type": "code",
   "execution_count": null,
   "id": "31e2b624-d56a-487f-8d2f-fa819d87d5a7",
   "metadata": {},
   "outputs": [],
   "source": [
    "def create_special_dfs(df, group_missing_df):\n",
    "    \"\"\"\n",
    "    Create dataframes for two specific scenarios:\n",
    "      1) Rows where ALL ScanWatch features are missing\n",
    "         (i.e. PA, HR, n_steps, calories_burned).\n",
    "      2) Rows where GPS is missing, but n_steps is NOT missing.\n",
    "\n",
    "    Parameters\n",
    "    ----------\n",
    "    df : pd.DataFrame\n",
    "        The original dataframe (same index as `group_missing_df`).\n",
    "    group_missing_df : pd.DataFrame\n",
    "        A 0/1 indicator DataFrame of shape (num_rows, 5 groups).\n",
    "        The columns are expected to be [\"PA\", \"GPS\", \"HR\", \"n_steps\", \"calories_burned\"].\n",
    "\n",
    "    Returns\n",
    "    -------\n",
    "    df_all_scanwatch_missing : pd.DataFrame\n",
    "        Subset of rows where all scanwatch features are missing.\n",
    "    df_gps_missing_steps_not : pd.DataFrame\n",
    "        Subset of rows where GPS is missing, but n_steps is not missing.\n",
    "    \"\"\"\n",
    "\n",
    "    # 1) Rows where ALL ScanWatch features are missing (PA, HR, n_steps, calories_burned).\n",
    "    scanwatch_groups = [\"PA\", \"HR\", \"n_steps\", \"calories_burned\"]\n",
    "    # Keep only groups that exist in the DataFrame:\n",
    "    existing_scanwatch_groups = [g for g in scanwatch_groups if g in group_missing_df.columns]\n",
    "\n",
    "    if existing_scanwatch_groups:\n",
    "        all_scanwatch_missing_mask = (\n",
    "            group_missing_df[existing_scanwatch_groups].sum(axis=1) == len(existing_scanwatch_groups)\n",
    "        )\n",
    "        df_all_scanwatch_missing = df.loc[all_scanwatch_missing_mask]\n",
    "    else:\n",
    "        df_all_scanwatch_missing = pd.DataFrame()\n",
    "\n",
    "    # 2) Rows where GPS is missing, but n_steps is NOT missing\n",
    "    if \"GPS\" in group_missing_df.columns and \"n_steps\" in group_missing_df.columns:\n",
    "        gps_missing = group_missing_df[\"GPS\"] == 1\n",
    "        n_steps_missing = group_missing_df[\"n_steps\"] == 1\n",
    "        gps_missing_steps_not_mask = gps_missing & (~n_steps_missing)\n",
    "        df_gps_missing_steps_not = df.loc[gps_missing_steps_not_mask]\n",
    "    else:\n",
    "        df_gps_missing_steps_not = pd.DataFrame()\n",
    "\n",
    "    return df_all_scanwatch_missing, df_gps_missing_steps_not\n"
   ]
  },
  {
   "cell_type": "code",
   "execution_count": null,
   "id": "d053f060-b035-49ae-9ba8-cc952b04e8e5",
   "metadata": {},
   "outputs": [],
   "source": [
    "feature_group_pa = [\n",
    "    \"activity_102_minutes\",\n",
    "    \"activity_103_minutes\",\n",
    "    \"activity_104_minutes\",\n",
    "    \"activity_105_minutes\",\n",
    "    \"activity_106_minutes\",\n",
    "    \"activity_107_minutes\"\n",
    "]\n",
    "\n",
    "feature_group_gps = [\n",
    "    \"n_GPS\",\n",
    "    \"total_distance_km\",\n",
    "    \"at_home_minute\",\n",
    "    \"time_in_transition_minutes\",\n",
    "    \"time_stationary_minutes\"\n",
    "]\n",
    "\n",
    "feature_group_hr = [\n",
    "    \"hr_zone_resting\",\n",
    "    \"hr_zone_moderate\",\n",
    "    \"hr_zone_vigorous\",\n",
    "    \"hr_mean\",\n",
    "    \"hr_min\",\n",
    "    \"hr_max\",\n",
    "    \"hr_std\",\n",
    "    \"hr_median\",\n",
    "    \"range_heartrate\",\n",
    "    \"iqr_heartrate\", \"HRR\", \"hr_rest\"\n",
    "]\n",
    "\n",
    "columns_to_check = ['HR_max', 'HR_rest',\n",
    "       'HRR', 'hr_mean', 'hr_min', 'hr_max', 'hr_std', 'hr_median',\n",
    "       'range_heartrate', 'iqr_heartrate', 'hr_zone_resting',\n",
    "       'hr_zone_moderate', 'hr_zone_vigorous', 'n_steps',\n",
    "       'total_activeburnedcalories', 'n_GPS',\n",
    "       'total_distance_km', 'at_home_minute', 'time_in_transition_minutes',\n",
    "       'time_stationary_minutes',\n",
    "       'activity_102_minutes', 'activity_103_minutes', 'activity_104_minutes',\n",
    "       'activity_105_minutes', 'activity_106_minutes', 'activity_107_minutes']"
   ]
  },
  {
   "cell_type": "code",
   "execution_count": null,
   "id": "e5422524-3c6d-42b3-a4b4-04028cc0b4e9",
   "metadata": {},
   "outputs": [],
   "source": [
    "df_ema_enriched.customer.nunique()"
   ]
  },
  {
   "cell_type": "code",
   "execution_count": null,
   "id": "a9f36927-f5ae-407a-aa81-d9b736abb546",
   "metadata": {},
   "outputs": [],
   "source": [
    "group_missing_df = summarize_missing_data(\n",
    "    df=df_ema_enriched,\n",
    "    feature_group_pa=feature_group_pa,\n",
    "    feature_group_gps=feature_group_gps,\n",
    "    feature_group_hr=feature_group_hr,\n",
    "    columns_to_check=columns_to_check,\n",
    "    top_n_pairs=10\n",
    "\n",
    ")# 2) Create the special dataframes\n",
    "df_all_scanwatch, df_gps_missing_steps_not = create_special_dfs(df_ema_enriched, group_missing_df)\n",
    "\n",
    "# Now you can investigate or exclude these subsets:\n",
    "print(f\"Rows with ALL ScanWatch features missing: {len(df_all_scanwatch)}\")\n",
    "print(f\"Rows with GPS missing but steps not missing: {len(df_gps_missing_steps_not)}\")"
   ]
  },
  {
   "cell_type": "code",
   "execution_count": null,
   "id": "6baee9bd-79b5-40bd-afad-689a1540e220",
   "metadata": {},
   "outputs": [],
   "source": [
    "df_gps_200 = df_gps_missing_steps_not.loc[df_gps_missing_steps_not.n_steps > 200][[\"n_steps\", \"customer\"]]"
   ]
  },
  {
   "cell_type": "code",
   "execution_count": null,
   "id": "6c1bb9d8-dc32-47cd-9408-7051f759eb43",
   "metadata": {},
   "outputs": [],
   "source": [
    "# 1) Count how many entries each customer has in df_gps\n",
    "gps_count_df = (\n",
    "    df_gps_200\n",
    "    .groupby('customer')\n",
    "    .size()  # or count()\n",
    "    .reset_index(name='gps_count')\n",
    ")\n",
    "\n",
    "# 2) Count how many entries each customer has in the original df\n",
    "total_count_df = (\n",
    "    df_ema_enriched\n",
    "    .groupby('customer')\n",
    "    .size()\n",
    "    .reset_index(name='total_count')\n",
    ")\n",
    "\n",
    "# 3) Merge them together on 'customer'\n",
    "summary_df = pd.merge(total_count_df, gps_count_df, on='customer', how='left')\n",
    "\n",
    "# If a customer doesn’t appear in df_gps at all, 'gps_count' will be NaN\n",
    "summary_df['gps_count'] = summary_df['gps_count'].fillna(0).astype(int)\n",
    "\n",
    "# 4) Calculate the proportion\n",
    "summary_df['proportion'] = summary_df['gps_count'] / summary_df['total_count']\n",
    "# 5) Sort in descending order by 'proportion'\n",
    "summary_df.sort_values(by='proportion', ascending=False, inplace=True)"
   ]
  },
  {
   "cell_type": "code",
   "execution_count": null,
   "id": "6e1567a6-1020-48fc-a169-b8c1d3bb61a3",
   "metadata": {},
   "outputs": [],
   "source": [
    "summary_df.loc[summary_df.proportion > 0.5].count()"
   ]
  },
  {
   "cell_type": "code",
   "execution_count": null,
   "id": "79383133-e1de-4562-b68d-caf699dca881",
   "metadata": {},
   "outputs": [],
   "source": [
    "# covered distance just combi of steps, height, weight.."
   ]
  },
  {
   "cell_type": "code",
   "execution_count": null,
   "id": "dad818d2-b04d-4cf6-b10e-f7ff7a33e800",
   "metadata": {
    "tags": []
   },
   "outputs": [],
   "source": [
    "with open(preprocessed_path + '/map_ema_passive.pkl', 'wb') as file:\n",
    "    pickle.dump(df_ema_with_at_home, file)"
   ]
  },
  {
   "cell_type": "code",
   "execution_count": null,
   "id": "17a26233-94bb-4e2b-9dd4-f2a6beb422bc",
   "metadata": {},
   "outputs": [],
   "source": []
  },
  {
   "cell_type": "code",
   "execution_count": null,
   "id": "8ec020b1-45b2-4512-a108-5bd8ba9b2254",
   "metadata": {},
   "outputs": [],
   "source": []
  }
 ],
 "metadata": {
  "kernelspec": {
   "display_name": "Python [conda env:.conda-tiki]",
   "language": "python",
   "name": "conda-env-.conda-tiki-py"
  },
  "language_info": {
   "codemirror_mode": {
    "name": "ipython",
    "version": 3
   },
   "file_extension": ".py",
   "mimetype": "text/x-python",
   "name": "python",
   "nbconvert_exporter": "python",
   "pygments_lexer": "ipython3",
   "version": "3.13.0"
  }
 },
 "nbformat": 4,
 "nbformat_minor": 5
}
