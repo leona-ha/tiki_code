{
 "cells": [
  {
   "cell_type": "markdown",
   "id": "d20ac61a",
   "metadata": {},
   "source": [
    "# 4 Detailed Preprocessing of Passive Data\n",
    "\n",
    "This notebook shows the analysis of situational context using EMA and passive sensing data\n",
    "\n",
    "1. **Load Data**: Load necessary data from pickle files.\n",
    "2. **Preprocess EMA**:"
   ]
  },
  {
   "cell_type": "code",
   "execution_count": 1,
   "id": "e1cd56bc",
   "metadata": {
    "tags": []
   },
   "outputs": [],
   "source": [
    "import os\n",
    "import sys\n",
    "import regex as re\n",
    "from tqdm import tqdm\n",
    "from intervaltree import IntervalTree\n",
    "\n",
    "%load_ext autoreload\n",
    "%autoreload 2\n",
    "import logging\n",
    "# Configure logging\n",
    "logging.basicConfig(level=logging.INFO)\n",
    "\n",
    "# If your current working directory is the notebooks directory, use this:\n",
    "notebook_dir = os.getcwd()  # current working directory\n",
    "src_path = os.path.abspath(os.path.join(notebook_dir, '..', 'src'))\n",
    "sys.path.append(src_path)\n",
    "\n",
    "# Add the parent directory to sys.path\n",
    "parent_dir = os.path.abspath(os.path.join(notebook_dir, '..'))\n",
    "sys.path.append(parent_dir)\n",
    "import glob\n",
    "import pickle\n",
    "from IPython.display import Markdown\n",
    "from server_config import datapath, preprocessed_path\n",
    "\n",
    "import pandas as pd\n",
    "import numpy as np\n",
    "import datetime as dt\n",
    "import EMA_Mapper\n",
    "import gps_features\n",
    "\n",
    "from sklearn.cluster import DBSCAN\n",
    "from sklearn.cluster import KMeans\n",
    "from sklearn.metrics import pairwise_distances_argmin_min\n",
    "from math import radians, cos, sin, asin, sqrt\n",
    "import statistics  # Make sure this is imported\n",
    "import hdbscan\n",
    "\n",
    "import matplotlib.pyplot as plt\n",
    "from matplotlib import rcParams\n",
    "import seaborn as sns \n",
    "import matplotlib.patches as mpatches\n",
    "# Ensure matplotlib displays plots inline (if using Jupyter Notebook)\n",
    "%matplotlib inline\n",
    "\n",
    "sns.set_context(\"notebook\", rc={\"axes.labelsize\": 14, \"xtick.labelsize\": 14, \"ytick.labelsize\": 14})\n",
    "sns.set(style='whitegrid', context='talk', palette='deep')\n",
    "%matplotlib inline\n",
    "import plotly.express as px\n"
   ]
  },
  {
   "cell_type": "code",
   "execution_count": 2,
   "id": "696265f6",
   "metadata": {
    "tags": []
   },
   "outputs": [],
   "source": [
    "backup_path = preprocessed_path + \"/backup_data_passive_actual.feather\"\n",
    "df_backup = pd.read_feather(backup_path)\n",
    "\n",
    "with open(preprocessed_path + '/ema_data.pkl', 'rb') as file:\n",
    "    df_ema_framework = pickle.load(file)\n",
    "\n",
    "with open(preprocessed_path + '/ema_content.pkl', 'rb') as file:\n",
    "    df_ema_content = pickle.load(file)  \n",
    "\n",
    "with open(preprocessed_path + '/monitoring_data.pkl', 'rb') as file:\n",
    "    df_monitoring = pickle.load(file)"
   ]
  },
  {
   "cell_type": "code",
   "execution_count": 3,
   "id": "ba14b26f",
   "metadata": {
    "tags": []
   },
   "outputs": [],
   "source": [
    "# Configurations\n",
    "# Check min. amount of EMA data available to map to passive data\n",
    "\n",
    "#GPS data\n",
    "speed_limit = 1.4\n",
    "max_distance = 150 \n",
    "kms_per_radian = 6371000\n",
    "epsilon = 100/kms_per_radian\n",
    "min_samples = 10\n",
    "min_cluster_size = 20\n",
    "min_nights_obs = 4\n",
    "min_f_home = 0.5\n",
    "\n",
    "# EMA\n",
    "assessment_phase = [0] #1,2\n",
    "min_num_daily = 4\n",
    "min_days_data = 7\n",
    "\n",
    "\n",
    "#Passive to EMA matching\n",
    "timedelta_hours = 2\n",
    "assess = 0"
   ]
  },
  {
   "cell_type": "markdown",
   "id": "8db13a54-104c-4280-8521-c7eea39252db",
   "metadata": {},
   "source": [
    "### Data overview"
   ]
  },
  {
   "cell_type": "markdown",
   "id": "1adb0b98-e053-4c56-8035-063d805fa1ee",
   "metadata": {},
   "source": [
    "## Filter for participants with sufficient data"
   ]
  },
  {
   "cell_type": "code",
   "execution_count": 4,
   "id": "a97d2b82-f676-4b9a-b596-1abba78f5504",
   "metadata": {},
   "outputs": [],
   "source": [
    "df_ema1 = df_ema_content.loc[df_ema_content.study.isin([24,25])] # first assessment phase\n",
    "df_ema1 = df_ema1.loc[df_ema1[\"n_quest\"] >= min_num_daily]\n",
    "df_ema1[\"n_days_min\"] = df_ema1.groupby(\"customer\")['quest_complete_day'].transform(\"nunique\")\n",
    "df_ema1 = df_ema1.loc[df_ema1.n_days_min >= min_days_data]\n",
    "df_ema1_customers = df_ema1.customer.unique().tolist()\n"
   ]
  },
  {
   "cell_type": "code",
   "execution_count": 5,
   "id": "feef1e3e-d37c-4ce9-9017-78fb5772211c",
   "metadata": {},
   "outputs": [
    {
     "data": {
      "text/plain": [
       "203"
      ]
     },
     "execution_count": 5,
     "metadata": {},
     "output_type": "execute_result"
    }
   ],
   "source": [
    "df_ema1.customer.nunique()"
   ]
  },
  {
   "cell_type": "markdown",
   "id": "470e35ff-b697-4a1e-a95a-b6e6e8f1f575",
   "metadata": {},
   "source": [
    "### Analyze missingness"
   ]
  },
  {
   "cell_type": "code",
   "execution_count": 6,
   "id": "322dcbca-0483-4637-839c-b49b57fc4b2c",
   "metadata": {},
   "outputs": [],
   "source": [
    "# List of customers\n",
    "customers = df_ema1['customer'].unique()\n",
    "\n",
    "# List of days (assuming absolute_day_index starts from 1)\n",
    "days = range(1, df_ema1['absolute_day_index'].max() + 1)\n",
    "\n",
    "# List of expected quest numbers per day (e.g., quest_nr from 1 to 8)\n",
    "expected_quests = [1, 2, 3, 4, 5, 6, 7, 8]  # Adjust based on your actual quest numbers\n",
    "\n",
    "# Create a MultiIndex of all combinations\n",
    "index = pd.MultiIndex.from_product([customers, days, expected_quests], names=['customer', 'absolute_day_index', 'quest_nr'])\n",
    "\n",
    "# Create a DataFrame representing the complete schedule\n",
    "df_expected = pd.DataFrame(index=index).reset_index()"
   ]
  },
  {
   "cell_type": "code",
   "execution_count": 7,
   "id": "f087ed0a-efe7-491f-8137-56d237eb6be0",
   "metadata": {},
   "outputs": [],
   "source": [
    "# Select relevant columns from completed quests\n",
    "df_completed = df_ema1[['customer', 'absolute_day_index', 'quest_nr']].drop_duplicates()\n",
    "\n",
    "# Merge expected and completed quests\n",
    "df_quests = pd.merge(df_expected, df_completed, on=['customer', 'absolute_day_index', 'quest_nr'], how='left', indicator=True)\n",
    "\n",
    "# '_merge' column will indicate if the quest was completed ('both') or missing ('left_only')\n",
    "df_quests['quest_status'] = np.where(df_quests['_merge'] == 'both', 'Completed', 'Missing')\n",
    "df_quests.drop(columns=['_merge'], inplace=True)\n"
   ]
  },
  {
   "cell_type": "code",
   "execution_count": 8,
   "id": "d0f8bcad-9bf5-427f-bad9-67ec3171cd55",
   "metadata": {},
   "outputs": [],
   "source": [
    "# Extract the hour from 'quest_create'\n",
    "df_ema_content['quest_create_hour'] = df_ema_content['quest_create'].dt.hour"
   ]
  },
  {
   "cell_type": "code",
   "execution_count": 9,
   "id": "1390a607-8266-4e88-af7e-ab99543acedd",
   "metadata": {},
   "outputs": [
    {
     "data": {
      "image/png": "[encoded data removed]",
      "text/plain": [
       "<Figure size 1200x600 with 1 Axes>"
      ]
     },
     "metadata": {},
     "output_type": "display_data"
    }
   ],
   "source": [
    "# Calculate the proportion of missing quests per day\n",
    "missingness_by_day = df_quests.groupby('absolute_day_index')['quest_status'].apply(lambda x: (x == 'Missing').mean()).reset_index()\n",
    "\n",
    "# Plotting missingness over days\n",
    "plt.figure(figsize=(12, 6))\n",
    "sns.lineplot(x='absolute_day_index', y='quest_status', data=missingness_by_day, marker='o')\n",
    "plt.title('Proportion of Missing Quests Over Days')\n",
    "plt.xlabel('Day')\n",
    "plt.ylabel('Proportion Missing')\n",
    "plt.xticks(range(1, df_quests['absolute_day_index'].max() + 1))\n",
    "plt.grid(True)\n",
    "plt.show()\n"
   ]
  },
  {
   "cell_type": "markdown",
   "id": "20265259",
   "metadata": {},
   "source": [
    "## 1. Prepare passive features"
   ]
  },
  {
   "cell_type": "code",
   "execution_count": 10,
   "id": "973f3003",
   "metadata": {
    "tags": []
   },
   "outputs": [],
   "source": [
    "df_pass_act = df_backup.copy()"
   ]
  },
  {
   "cell_type": "code",
   "execution_count": 11,
   "id": "86831ba8-eb56-441e-abfb-309935f0773e",
   "metadata": {},
   "outputs": [
    {
     "data": {
      "text/plain": [
       "Timestamp('2024-12-09 01:19:30.060000')"
      ]
     },
     "execution_count": 11,
     "metadata": {},
     "output_type": "execute_result"
    }
   ],
   "source": [
    "df_pass_act.startTimestamp.max()"
   ]
  },
  {
   "cell_type": "code",
   "execution_count": 12,
   "id": "dc02478e",
   "metadata": {
    "tags": []
   },
   "outputs": [],
   "source": [
    "# Only keep data that were collected during the first assessment phase\n",
    "df_pass_act_base = df_pass_act[df_pass_act.startTimestamp <= (df_pass_act.ema_base_end + pd.Timedelta(days=1))]"
   ]
  },
  {
   "cell_type": "code",
   "execution_count": 13,
   "id": "ef0cab1c-c515-4365-a3c1-6efbfd465284",
   "metadata": {},
   "outputs": [],
   "source": [
    "df_pass_act_base = df_pass_act_base.loc[df_pass_act_base.customer.isin(df_ema1_customers)]"
   ]
  },
  {
   "cell_type": "code",
   "execution_count": 37,
   "id": "06e8a105-1433-4a86-b475-b3e666184ecb",
   "metadata": {},
   "outputs": [
    {
     "data": {
      "text/plain": [
       "202"
      ]
     },
     "execution_count": 37,
     "metadata": {},
     "output_type": "execute_result"
    }
   ],
   "source": [
    "df_pass_act_base.customer.nunique()"
   ]
  },
  {
   "cell_type": "code",
   "execution_count": 15,
   "id": "bc988999-98cc-4b5f-a39c-04c15ea1732b",
   "metadata": {},
   "outputs": [
    {
     "name": "stderr",
     "output_type": "stream",
     "text": [
      "/tmp/ipykernel_3520499/2028720565.py:1: FutureWarning: A value is trying to be set on a copy of a DataFrame or Series through chained assignment using an inplace method.\n",
      "The behavior will change in pandas 3.0. This inplace method will never work because the intermediate object on which we are setting values always behaves as a copy.\n",
      "\n",
      "For example, when doing 'df[col].method(value, inplace=True)', try using 'df.method({col: value}, inplace=True)' or df[col] = df[col].method(value) instead, to perform the operation inplace on the original object.\n",
      "\n",
      "\n",
      "  df_pass_act_base['Heart_Rate_data_coverage_per'].replace([np.inf, -np.inf], np.nan, inplace=True)\n"
     ]
    }
   ],
   "source": [
    "df_pass_act_base['Heart_Rate_data_coverage_per'].replace([np.inf, -np.inf], np.nan, inplace=True)\n"
   ]
  },
  {
   "cell_type": "markdown",
   "id": "40577ed8-9cdf-4909-a565-847daca726dd",
   "metadata": {},
   "source": [
    "### 1.1 Calculate GPS features"
   ]
  },
  {
   "cell_type": "code",
   "execution_count": 16,
   "id": "7ead0d9e-b89c-44d1-ba1d-6e1f3b2e17ff",
   "metadata": {
    "tags": []
   },
   "outputs": [],
   "source": [
    "df_pass_act_loc =df_pass_act_base[df_pass_act_base.type.isin([\"Latitude\", \"Longitude\"])][[\"customer\", \"startTimestamp\", \"type\", \"doubleValue\"]]"
   ]
  },
  {
   "cell_type": "code",
   "execution_count": 17,
   "id": "a4e8c7eb-9534-456c-900b-2b6aced14f4e",
   "metadata": {
    "tags": []
   },
   "outputs": [],
   "source": [
    "df_loc = df_pass_act_loc.pivot_table(\n",
    "    index=[\"customer\", \"startTimestamp\"],\n",
    "    columns=\"type\",\n",
    "    values=[\"doubleValue\"],\n",
    "    aggfunc='first'  # Using 'first' since each type should theoretically have only one entry per customer and timestamp\n",
    ")\n",
    "\n",
    "# Flatten the MultiIndex in columns\n",
    "df_loc.columns = ['_'.join(col).strip() for col in df_loc.columns.values]\n",
    "\n",
    "df_loc = df_loc.rename_axis(None, axis=1).reset_index()\n",
    "\n",
    "# Rename the columns for clarity\n",
    "df_loc = df_loc.rename(columns={\n",
    "    'doubleValue_Latitude': 'Latitude',\n",
    "    'doubleValue_Longitude': 'Longitude',\n",
    "})"
   ]
  },
  {
   "cell_type": "code",
   "execution_count": 39,
   "id": "3d652d9d-063d-4a6e-a7d4-11843777c840",
   "metadata": {
    "tags": []
   },
   "outputs": [
    {
     "name": "stderr",
     "output_type": "stream",
     "text": [
      "INFO:root:Data quality check: 183 customers with sufficient data retained.\n",
      "INFO:root:Customers with no home after time-based method: 22\n",
      "INFO:root:Fallback home clusters assigned: 22\n",
      "WARNING:root:0 customers still do not have a home cluster.\n"
     ]
    }
   ],
   "source": [
    "# Example usage with HDBSCAN and normalized min_samples:\n",
    "extractor = gps_features.HomeClusterExtractor(df_loc, speed_limit=speed_limit, max_distance=max_distance, epsilon=epsilon, min_samples=min_samples, \n",
    "                                 min_nights_obs = min_nights_obs, min_f_home=min_f_home, clustering_method='dbscan', \n",
    "                                 normalize_min_samples=False, min_data_points=56)\n",
    "result = extractor.run()\n"
   ]
  },
  {
   "cell_type": "code",
   "execution_count": 19,
   "id": "8834db62-be07-4fc3-882e-dfb100d78605",
   "metadata": {},
   "outputs": [],
   "source": [
    "# 18 customers not enough GPS data (i.e. less than 50 data points, so that no home cluster could be computed \n"
   ]
  },
  {
   "cell_type": "code",
   "execution_count": 20,
   "id": "f9895a55-a53d-4ab1-9b07-1159723e50e7",
   "metadata": {
    "tags": []
   },
   "outputs": [],
   "source": [
    "home_clusters_red = result[[\"customer\", \"startTimestamp\", \"at_home\",\"transition\", \"distance\", \"stationary\",\"time_diff\", \"speed\", \"clusterID\", \"homeID\" ]]"
   ]
  },
  {
   "cell_type": "code",
   "execution_count": 21,
   "id": "c88757e2-eb10-419c-b46a-e0c7a7038021",
   "metadata": {},
   "outputs": [
    {
     "data": {
      "text/plain": [
       "array([0, 1])"
      ]
     },
     "execution_count": 21,
     "metadata": {},
     "output_type": "execute_result"
    }
   ],
   "source": [
    "result.transition.unique()"
   ]
  },
  {
   "cell_type": "code",
   "execution_count": 22,
   "id": "3d21bb74-7c7b-4972-93e4-2b19de543a54",
   "metadata": {},
   "outputs": [],
   "source": [
    "gps_customer_list = home_clusters_red.customer.unique().tolist()"
   ]
  },
  {
   "cell_type": "code",
   "execution_count": 23,
   "id": "23584658-49c4-4316-a1c4-c25e7459f0ae",
   "metadata": {},
   "outputs": [
    {
     "data": {
      "text/html": [
       "<div>\n",
       "<style scoped>\n",
       "    .dataframe tbody tr th:only-of-type {\n",
       "        vertical-align: middle;\n",
       "    }\n",
       "\n",
       "    .dataframe tbody tr th {\n",
       "        vertical-align: top;\n",
       "    }\n",
       "\n",
       "    .dataframe thead th {\n",
       "        text-align: right;\n",
       "    }\n",
       "</style>\n",
       "<table border=\"1\" class=\"dataframe\">\n",
       "  <thead>\n",
       "    <tr style=\"text-align: right;\">\n",
       "      <th></th>\n",
       "      <th>customer</th>\n",
       "      <th>type</th>\n",
       "      <th>startTimestamp</th>\n",
       "      <th>endTimestamp</th>\n",
       "      <th>doubleValue</th>\n",
       "      <th>longValue</th>\n",
       "      <th>booleanValue</th>\n",
       "      <th>dateValue</th>\n",
       "      <th>stringValue</th>\n",
       "      <th>userReliability</th>\n",
       "      <th>...</th>\n",
       "      <th>Heart_Rate_actual_days_with_data</th>\n",
       "      <th>Heart_Rate_data_coverage_per</th>\n",
       "      <th>ema_relative_start_phase0</th>\n",
       "      <th>ema_relative_end_phase0</th>\n",
       "      <th>ema_relative_start_phase1</th>\n",
       "      <th>ema_relative_end_phase1</th>\n",
       "      <th>ema_relative_start_phase2</th>\n",
       "      <th>ema_relative_end_phase2</th>\n",
       "      <th>for_id</th>\n",
       "      <th>ema_id</th>\n",
       "    </tr>\n",
       "  </thead>\n",
       "  <tbody>\n",
       "    <tr>\n",
       "      <th>72</th>\n",
       "      <td>4MLe</td>\n",
       "      <td>ActivityType</td>\n",
       "      <td>2023-05-17 20:39:00.000</td>\n",
       "      <td>2023-05-17 20:47:00.000</td>\n",
       "      <td>NaN</td>\n",
       "      <td>105.0</td>\n",
       "      <td>False</td>\n",
       "      <td>NaN</td>\n",
       "      <td>-99</td>\n",
       "      <td>NaN</td>\n",
       "      <td>...</td>\n",
       "      <td>343.0</td>\n",
       "      <td>72.362869</td>\n",
       "      <td>NaT</td>\n",
       "      <td>NaT</td>\n",
       "      <td>NaT</td>\n",
       "      <td>NaT</td>\n",
       "      <td>NaT</td>\n",
       "      <td>NaT</td>\n",
       "      <td>None</td>\n",
       "      <td>None</td>\n",
       "    </tr>\n",
       "    <tr>\n",
       "      <th>138</th>\n",
       "      <td>4MLe</td>\n",
       "      <td>ActivityType</td>\n",
       "      <td>2023-05-17 21:00:00.000</td>\n",
       "      <td>2023-05-17 21:07:00.000</td>\n",
       "      <td>NaN</td>\n",
       "      <td>105.0</td>\n",
       "      <td>False</td>\n",
       "      <td>NaN</td>\n",
       "      <td>-99</td>\n",
       "      <td>NaN</td>\n",
       "      <td>...</td>\n",
       "      <td>343.0</td>\n",
       "      <td>72.362869</td>\n",
       "      <td>NaT</td>\n",
       "      <td>NaT</td>\n",
       "      <td>NaT</td>\n",
       "      <td>NaT</td>\n",
       "      <td>NaT</td>\n",
       "      <td>NaT</td>\n",
       "      <td>None</td>\n",
       "      <td>None</td>\n",
       "    </tr>\n",
       "    <tr>\n",
       "      <th>163</th>\n",
       "      <td>4MLe</td>\n",
       "      <td>ActivityType</td>\n",
       "      <td>2023-05-17 21:19:00.000</td>\n",
       "      <td>2023-05-17 21:27:00.000</td>\n",
       "      <td>NaN</td>\n",
       "      <td>105.0</td>\n",
       "      <td>False</td>\n",
       "      <td>NaN</td>\n",
       "      <td>-99</td>\n",
       "      <td>NaN</td>\n",
       "      <td>...</td>\n",
       "      <td>343.0</td>\n",
       "      <td>72.362869</td>\n",
       "      <td>NaT</td>\n",
       "      <td>NaT</td>\n",
       "      <td>NaT</td>\n",
       "      <td>NaT</td>\n",
       "      <td>NaT</td>\n",
       "      <td>NaT</td>\n",
       "      <td>None</td>\n",
       "      <td>None</td>\n",
       "    </tr>\n",
       "    <tr>\n",
       "      <th>198</th>\n",
       "      <td>4MLe</td>\n",
       "      <td>ActivityType</td>\n",
       "      <td>2023-05-17 21:33:00.000</td>\n",
       "      <td>2023-05-17 21:59:00.000</td>\n",
       "      <td>NaN</td>\n",
       "      <td>105.0</td>\n",
       "      <td>False</td>\n",
       "      <td>NaN</td>\n",
       "      <td>-99</td>\n",
       "      <td>NaN</td>\n",
       "      <td>...</td>\n",
       "      <td>343.0</td>\n",
       "      <td>72.362869</td>\n",
       "      <td>NaT</td>\n",
       "      <td>NaT</td>\n",
       "      <td>NaT</td>\n",
       "      <td>NaT</td>\n",
       "      <td>NaT</td>\n",
       "      <td>NaT</td>\n",
       "      <td>None</td>\n",
       "      <td>None</td>\n",
       "    </tr>\n",
       "    <tr>\n",
       "      <th>414</th>\n",
       "      <td>4MLe</td>\n",
       "      <td>ActivityType</td>\n",
       "      <td>2023-05-18 00:38:00.000</td>\n",
       "      <td>2023-05-18 00:40:00.000</td>\n",
       "      <td>NaN</td>\n",
       "      <td>103.0</td>\n",
       "      <td>False</td>\n",
       "      <td>NaN</td>\n",
       "      <td>-99</td>\n",
       "      <td>NaN</td>\n",
       "      <td>...</td>\n",
       "      <td>343.0</td>\n",
       "      <td>72.362869</td>\n",
       "      <td>NaT</td>\n",
       "      <td>NaT</td>\n",
       "      <td>NaT</td>\n",
       "      <td>NaT</td>\n",
       "      <td>NaT</td>\n",
       "      <td>NaT</td>\n",
       "      <td>None</td>\n",
       "      <td>None</td>\n",
       "    </tr>\n",
       "    <tr>\n",
       "      <th>...</th>\n",
       "      <td>...</td>\n",
       "      <td>...</td>\n",
       "      <td>...</td>\n",
       "      <td>...</td>\n",
       "      <td>...</td>\n",
       "      <td>...</td>\n",
       "      <td>...</td>\n",
       "      <td>...</td>\n",
       "      <td>...</td>\n",
       "      <td>...</td>\n",
       "      <td>...</td>\n",
       "      <td>...</td>\n",
       "      <td>...</td>\n",
       "      <td>...</td>\n",
       "      <td>...</td>\n",
       "      <td>...</td>\n",
       "      <td>...</td>\n",
       "      <td>...</td>\n",
       "      <td>...</td>\n",
       "      <td>...</td>\n",
       "      <td>...</td>\n",
       "    </tr>\n",
       "    <tr>\n",
       "      <th>65230631</th>\n",
       "      <td>nbKT</td>\n",
       "      <td>ActivityType</td>\n",
       "      <td>2024-12-07 07:08:00.060</td>\n",
       "      <td>2024-12-07 07:14:00.060</td>\n",
       "      <td>NaN</td>\n",
       "      <td>102.0</td>\n",
       "      <td>False</td>\n",
       "      <td>NaN</td>\n",
       "      <td>-99</td>\n",
       "      <td>NaN</td>\n",
       "      <td>...</td>\n",
       "      <td>6.0</td>\n",
       "      <td>75.000000</td>\n",
       "      <td>2024-11-27</td>\n",
       "      <td>2024-12-08</td>\n",
       "      <td>NaT</td>\n",
       "      <td>NaT</td>\n",
       "      <td>NaT</td>\n",
       "      <td>NaT</td>\n",
       "      <td>FOR13088</td>\n",
       "      <td>EMA3144</td>\n",
       "    </tr>\n",
       "    <tr>\n",
       "      <th>65230637</th>\n",
       "      <td>nbKT</td>\n",
       "      <td>ActivityType</td>\n",
       "      <td>2024-12-07 07:14:00.060</td>\n",
       "      <td>2024-12-07 07:19:00.060</td>\n",
       "      <td>NaN</td>\n",
       "      <td>102.0</td>\n",
       "      <td>False</td>\n",
       "      <td>NaN</td>\n",
       "      <td>-99</td>\n",
       "      <td>NaN</td>\n",
       "      <td>...</td>\n",
       "      <td>6.0</td>\n",
       "      <td>75.000000</td>\n",
       "      <td>2024-11-27</td>\n",
       "      <td>2024-12-08</td>\n",
       "      <td>NaT</td>\n",
       "      <td>NaT</td>\n",
       "      <td>NaT</td>\n",
       "      <td>NaT</td>\n",
       "      <td>FOR13088</td>\n",
       "      <td>EMA3144</td>\n",
       "    </tr>\n",
       "    <tr>\n",
       "      <th>65230778</th>\n",
       "      <td>nbKT</td>\n",
       "      <td>ActivityType</td>\n",
       "      <td>2024-12-07 11:20:00.060</td>\n",
       "      <td>2024-12-07 12:00:00.060</td>\n",
       "      <td>NaN</td>\n",
       "      <td>105.0</td>\n",
       "      <td>False</td>\n",
       "      <td>NaN</td>\n",
       "      <td>-99</td>\n",
       "      <td>NaN</td>\n",
       "      <td>...</td>\n",
       "      <td>6.0</td>\n",
       "      <td>75.000000</td>\n",
       "      <td>2024-11-27</td>\n",
       "      <td>2024-12-08</td>\n",
       "      <td>NaT</td>\n",
       "      <td>NaT</td>\n",
       "      <td>NaT</td>\n",
       "      <td>NaT</td>\n",
       "      <td>FOR13088</td>\n",
       "      <td>EMA3144</td>\n",
       "    </tr>\n",
       "    <tr>\n",
       "      <th>65230963</th>\n",
       "      <td>nbKT</td>\n",
       "      <td>ActivityType</td>\n",
       "      <td>2024-12-07 12:46:00.060</td>\n",
       "      <td>2024-12-07 12:52:00.060</td>\n",
       "      <td>NaN</td>\n",
       "      <td>105.0</td>\n",
       "      <td>False</td>\n",
       "      <td>NaN</td>\n",
       "      <td>-99</td>\n",
       "      <td>NaN</td>\n",
       "      <td>...</td>\n",
       "      <td>6.0</td>\n",
       "      <td>75.000000</td>\n",
       "      <td>2024-11-27</td>\n",
       "      <td>2024-12-08</td>\n",
       "      <td>NaT</td>\n",
       "      <td>NaT</td>\n",
       "      <td>NaT</td>\n",
       "      <td>NaT</td>\n",
       "      <td>FOR13088</td>\n",
       "      <td>EMA3144</td>\n",
       "    </tr>\n",
       "    <tr>\n",
       "      <th>65230996</th>\n",
       "      <td>nbKT</td>\n",
       "      <td>ActivityType</td>\n",
       "      <td>2024-12-07 13:06:00.060</td>\n",
       "      <td>2024-12-07 13:11:00.060</td>\n",
       "      <td>NaN</td>\n",
       "      <td>105.0</td>\n",
       "      <td>False</td>\n",
       "      <td>NaN</td>\n",
       "      <td>-99</td>\n",
       "      <td>NaN</td>\n",
       "      <td>...</td>\n",
       "      <td>6.0</td>\n",
       "      <td>75.000000</td>\n",
       "      <td>2024-11-27</td>\n",
       "      <td>2024-12-08</td>\n",
       "      <td>NaT</td>\n",
       "      <td>NaT</td>\n",
       "      <td>NaT</td>\n",
       "      <td>NaT</td>\n",
       "      <td>FOR13088</td>\n",
       "      <td>EMA3144</td>\n",
       "    </tr>\n",
       "  </tbody>\n",
       "</table>\n",
       "<p>66797 rows × 38 columns</p>\n",
       "</div>"
      ],
      "text/plain": [
       "         customer          type          startTimestamp  \\\n",
       "72           4MLe  ActivityType 2023-05-17 20:39:00.000   \n",
       "138          4MLe  ActivityType 2023-05-17 21:00:00.000   \n",
       "163          4MLe  ActivityType 2023-05-17 21:19:00.000   \n",
       "198          4MLe  ActivityType 2023-05-17 21:33:00.000   \n",
       "414          4MLe  ActivityType 2023-05-18 00:38:00.000   \n",
       "...           ...           ...                     ...   \n",
       "65230631     nbKT  ActivityType 2024-12-07 07:08:00.060   \n",
       "65230637     nbKT  ActivityType 2024-12-07 07:14:00.060   \n",
       "65230778     nbKT  ActivityType 2024-12-07 11:20:00.060   \n",
       "65230963     nbKT  ActivityType 2024-12-07 12:46:00.060   \n",
       "65230996     nbKT  ActivityType 2024-12-07 13:06:00.060   \n",
       "\n",
       "                    endTimestamp  doubleValue  longValue  booleanValue  \\\n",
       "72       2023-05-17 20:47:00.000          NaN      105.0         False   \n",
       "138      2023-05-17 21:07:00.000          NaN      105.0         False   \n",
       "163      2023-05-17 21:27:00.000          NaN      105.0         False   \n",
       "198      2023-05-17 21:59:00.000          NaN      105.0         False   \n",
       "414      2023-05-18 00:40:00.000          NaN      103.0         False   \n",
       "...                          ...          ...        ...           ...   \n",
       "65230631 2024-12-07 07:14:00.060          NaN      102.0         False   \n",
       "65230637 2024-12-07 07:19:00.060          NaN      102.0         False   \n",
       "65230778 2024-12-07 12:00:00.060          NaN      105.0         False   \n",
       "65230963 2024-12-07 12:52:00.060          NaN      105.0         False   \n",
       "65230996 2024-12-07 13:11:00.060          NaN      105.0         False   \n",
       "\n",
       "          dateValue stringValue  userReliability  ...  \\\n",
       "72              NaN         -99              NaN  ...   \n",
       "138             NaN         -99              NaN  ...   \n",
       "163             NaN         -99              NaN  ...   \n",
       "198             NaN         -99              NaN  ...   \n",
       "414             NaN         -99              NaN  ...   \n",
       "...             ...         ...              ...  ...   \n",
       "65230631        NaN         -99              NaN  ...   \n",
       "65230637        NaN         -99              NaN  ...   \n",
       "65230778        NaN         -99              NaN  ...   \n",
       "65230963        NaN         -99              NaN  ...   \n",
       "65230996        NaN         -99              NaN  ...   \n",
       "\n",
       "          Heart_Rate_actual_days_with_data  Heart_Rate_data_coverage_per  \\\n",
       "72                                   343.0                     72.362869   \n",
       "138                                  343.0                     72.362869   \n",
       "163                                  343.0                     72.362869   \n",
       "198                                  343.0                     72.362869   \n",
       "414                                  343.0                     72.362869   \n",
       "...                                    ...                           ...   \n",
       "65230631                               6.0                     75.000000   \n",
       "65230637                               6.0                     75.000000   \n",
       "65230778                               6.0                     75.000000   \n",
       "65230963                               6.0                     75.000000   \n",
       "65230996                               6.0                     75.000000   \n",
       "\n",
       "         ema_relative_start_phase0 ema_relative_end_phase0  \\\n",
       "72                             NaT                     NaT   \n",
       "138                            NaT                     NaT   \n",
       "163                            NaT                     NaT   \n",
       "198                            NaT                     NaT   \n",
       "414                            NaT                     NaT   \n",
       "...                            ...                     ...   \n",
       "65230631                2024-11-27              2024-12-08   \n",
       "65230637                2024-11-27              2024-12-08   \n",
       "65230778                2024-11-27              2024-12-08   \n",
       "65230963                2024-11-27              2024-12-08   \n",
       "65230996                2024-11-27              2024-12-08   \n",
       "\n",
       "         ema_relative_start_phase1  ema_relative_end_phase1  \\\n",
       "72                             NaT                      NaT   \n",
       "138                            NaT                      NaT   \n",
       "163                            NaT                      NaT   \n",
       "198                            NaT                      NaT   \n",
       "414                            NaT                      NaT   \n",
       "...                            ...                      ...   \n",
       "65230631                       NaT                      NaT   \n",
       "65230637                       NaT                      NaT   \n",
       "65230778                       NaT                      NaT   \n",
       "65230963                       NaT                      NaT   \n",
       "65230996                       NaT                      NaT   \n",
       "\n",
       "          ema_relative_start_phase2 ema_relative_end_phase2    for_id   ema_id  \n",
       "72                              NaT                     NaT      None     None  \n",
       "138                             NaT                     NaT      None     None  \n",
       "163                             NaT                     NaT      None     None  \n",
       "198                             NaT                     NaT      None     None  \n",
       "414                             NaT                     NaT      None     None  \n",
       "...                             ...                     ...       ...      ...  \n",
       "65230631                        NaT                     NaT  FOR13088  EMA3144  \n",
       "65230637                        NaT                     NaT  FOR13088  EMA3144  \n",
       "65230778                        NaT                     NaT  FOR13088  EMA3144  \n",
       "65230963                        NaT                     NaT  FOR13088  EMA3144  \n",
       "65230996                        NaT                     NaT  FOR13088  EMA3144  \n",
       "\n",
       "[66797 rows x 38 columns]"
      ]
     },
     "execution_count": 23,
     "metadata": {},
     "output_type": "execute_result"
    }
   ],
   "source": [
    "df_pass_act_base.loc[df_pass_act_base.type ==\"ActivityType\"]"
   ]
  },
  {
   "cell_type": "code",
   "execution_count": 24,
   "id": "b68e58ca-efa5-4172-97a8-addd20f5aa72",
   "metadata": {},
   "outputs": [
    {
     "data": {
      "text/plain": [
       "type\n",
       "Longitude                      897261\n",
       "Latitude                       897260\n",
       "CoveredDistance                571958\n",
       "Steps                          571958\n",
       "HeartRate                      564971\n",
       "ActiveBurnedCalories           562057\n",
       "RawECGVoltage                  133444\n",
       "ActivityType                    66797\n",
       "SleepInBedBinary                36067\n",
       "SleepStateBinary                32887\n",
       "SleepBinary                     32887\n",
       "SleepLightBinary                30380\n",
       "SleepDeepBinary                 24546\n",
       "ElevationGain                    9732\n",
       "SleepAwakeBinary                 8705\n",
       "ActivityTypeDetail1              7739\n",
       "ActivityTypeDetail2              7733\n",
       "WalkBinary                       6313\n",
       "FloorsClimbed                    6179\n",
       "SPO2                             5580\n",
       "AtrialFibrillationDetection      1360\n",
       "BikeBinary                       1149\n",
       "ActiveBinary                      344\n",
       "RunBinary                         104\n",
       "Weight                             64\n",
       "FatMass                            22\n",
       "FatFreeMass                        22\n",
       "FatRatio                           22\n",
       "BoneMass                           21\n",
       "MuscleMass                         21\n",
       "BloodPressureDiastolic             12\n",
       "BloodPressureSystolic              12\n",
       "VO2max                             12\n",
       "Height                              6\n",
       "Name: count, dtype: Int64"
      ]
     },
     "execution_count": 24,
     "metadata": {},
     "output_type": "execute_result"
    }
   ],
   "source": [
    "df_pass_act_base['type'].value_counts()\n"
   ]
  },
  {
   "cell_type": "markdown",
   "id": "e596a358",
   "metadata": {},
   "source": [
    "## 2. Prepare EMA data"
   ]
  },
  {
   "cell_type": "code",
   "execution_count": 25,
   "id": "133d9e2a",
   "metadata": {
    "tags": []
   },
   "outputs": [],
   "source": [
    "df_ema_udi = df_ema_content[[\"customer\", \"createdAt_day\", \"quest_create\", \"unique_day_id\", \"assess\"]]"
   ]
  },
  {
   "cell_type": "code",
   "execution_count": 26,
   "id": "43dbd254",
   "metadata": {
    "tags": []
   },
   "outputs": [],
   "source": [
    "# Group by customer and unique_day_id and calculate the minimum quest_create\n",
    "df_min_quest = df_ema_udi.groupby(['customer', 'unique_day_id'])['quest_create'].min().reset_index()\n",
    "\n",
    "# Rename the column to sensor_block_end\n",
    "df_min_quest.rename(columns={'quest_create': 'sensor_block_end'}, inplace=True)\n",
    "\n",
    "# Merge the minimum quest_create back to the original DataFrame\n",
    "df_ema_udi = pd.merge(df_ema_udi, df_min_quest, on=['customer', 'unique_day_id'], how='left')\n",
    "\n",
    "# Create the sensor_block_start column, which is 2 hours before quest_create\n",
    "df_ema_udi.drop(columns=['quest_create'], inplace=True)\n",
    "df_ema_udi = df_ema_udi.drop_duplicates()"
   ]
  },
  {
   "cell_type": "code",
   "execution_count": 27,
   "id": "79939ef0",
   "metadata": {
    "tags": []
   },
   "outputs": [],
   "source": [
    "# prepare mapping of passing data by creating blocks\n",
    "\n",
    "df_ema_udi['sensor_block_start'] = df_ema_udi['sensor_block_end'] - pd.Timedelta(hours=2)\n"
   ]
  },
  {
   "cell_type": "code",
   "execution_count": 28,
   "id": "041705f9-ae62-4345-a71d-afc2f06224d0",
   "metadata": {
    "tags": []
   },
   "outputs": [],
   "source": [
    "# Only include first assessment phase\n",
    "\n",
    "df_ema_udi_base = df_ema_udi.loc[df_ema_udi.assess == 0]"
   ]
  },
  {
   "cell_type": "code",
   "execution_count": 29,
   "id": "f904928c-116c-420d-8264-6a89a8bf83a2",
   "metadata": {},
   "outputs": [
    {
     "data": {
      "text/plain": [
       "(19377, 6)"
      ]
     },
     "execution_count": 29,
     "metadata": {},
     "output_type": "execute_result"
    }
   ],
   "source": [
    "df_ema_udi_base.shape"
   ]
  },
  {
   "cell_type": "code",
   "execution_count": 30,
   "id": "ba09797e-588f-411c-949b-f70acb554ef4",
   "metadata": {},
   "outputs": [],
   "source": [
    "df_ema_udi_base = df_ema_udi_base.copy()\n",
    "df_ema_udi_base[\"unique_blocks\"] = df_ema_udi_base.customer + df_ema_udi_base.unique_day_id"
   ]
  },
  {
   "cell_type": "markdown",
   "id": "47e5c641-d497-4956-96a2-35a09594aa57",
   "metadata": {},
   "source": [
    "## 3. Merge EMA to passive data"
   ]
  },
  {
   "cell_type": "code",
   "execution_count": 31,
   "id": "cbecc8ab-0a6a-471a-abaf-111b726456be",
   "metadata": {
    "tags": []
   },
   "outputs": [
    {
     "name": "stdout",
     "output_type": "stream",
     "text": [
      "Heart Rate Data Cleaning Summary:\n",
      "Initial entries: 564971\n",
      "Removed due to non-numeric values: 0\n",
      "Removed due to thresholds: 0\n",
      "Removed due to exceeding change rate threshold: 5745\n",
      "Total entries removed: 5745\n",
      "Remaining entries: 559226\n",
      "Step Data Cleaning Summary:\n",
      "Initial entries: 571958\n",
      "Removed due to non-numeric values: 0\n",
      "Removed due to negative steps: 0\n",
      "Removed due to zero or negative duration: 0\n",
      "Removed due to exceeding steps per minute threshold: 374\n",
      "Total entries removed: 374\n",
      "Remaining entries: 571584\n"
     ]
    },
    {
     "name": "stderr",
     "output_type": "stream",
     "text": [
      "/home/leha18/tiki_code/src/EMA_Mapper.py:602: SettingWithCopyWarning: \n",
      "A value is trying to be set on a copy of a slice from a DataFrame.\n",
      "Try using .loc[row_indexer,col_indexer] = value instead\n",
      "\n",
      "See the caveats in the documentation: https://pandas.pydata.org/pandas-docs/stable/user_guide/indexing.html#returning-a-view-versus-a-copy\n",
      "  ema_batch['key'] = 0\n",
      "/home/leha18/tiki_code/src/EMA_Mapper.py:602: SettingWithCopyWarning: \n",
      "A value is trying to be set on a copy of a slice from a DataFrame.\n",
      "Try using .loc[row_indexer,col_indexer] = value instead\n",
      "\n",
      "See the caveats in the documentation: https://pandas.pydata.org/pandas-docs/stable/user_guide/indexing.html#returning-a-view-versus-a-copy\n",
      "  ema_batch['key'] = 0\n",
      "/home/leha18/tiki_code/src/EMA_Mapper.py:602: SettingWithCopyWarning: \n",
      "A value is trying to be set on a copy of a slice from a DataFrame.\n",
      "Try using .loc[row_indexer,col_indexer] = value instead\n",
      "\n",
      "See the caveats in the documentation: https://pandas.pydata.org/pandas-docs/stable/user_guide/indexing.html#returning-a-view-versus-a-copy\n",
      "  ema_batch['key'] = 0\n",
      "/home/leha18/tiki_code/src/EMA_Mapper.py:602: SettingWithCopyWarning: \n",
      "A value is trying to be set on a copy of a slice from a DataFrame.\n",
      "Try using .loc[row_indexer,col_indexer] = value instead\n",
      "\n",
      "See the caveats in the documentation: https://pandas.pydata.org/pandas-docs/stable/user_guide/indexing.html#returning-a-view-versus-a-copy\n",
      "  ema_batch['key'] = 0\n"
     ]
    },
    {
     "name": "stdout",
     "output_type": "stream",
     "text": [
      "ActiveBurnedCalories Data Cleaning Summary:\n",
      "Initial entries: 562057\n",
      "Remaining entries: 562057\n",
      "Entries removed: 0\n"
     ]
    },
    {
     "name": "stderr",
     "output_type": "stream",
     "text": [
      "/home/leha18/tiki_code/src/EMA_Mapper.py:602: SettingWithCopyWarning: \n",
      "A value is trying to be set on a copy of a slice from a DataFrame.\n",
      "Try using .loc[row_indexer,col_indexer] = value instead\n",
      "\n",
      "See the caveats in the documentation: https://pandas.pydata.org/pandas-docs/stable/user_guide/indexing.html#returning-a-view-versus-a-copy\n",
      "  ema_batch['key'] = 0\n",
      "/home/leha18/tiki_code/src/EMA_Mapper.py:602: SettingWithCopyWarning: \n",
      "A value is trying to be set on a copy of a slice from a DataFrame.\n",
      "Try using .loc[row_indexer,col_indexer] = value instead\n",
      "\n",
      "See the caveats in the documentation: https://pandas.pydata.org/pandas-docs/stable/user_guide/indexing.html#returning-a-view-versus-a-copy\n",
      "  ema_batch['key'] = 0\n",
      "/home/leha18/tiki_code/src/EMA_Mapper.py:602: SettingWithCopyWarning: \n",
      "A value is trying to be set on a copy of a slice from a DataFrame.\n",
      "Try using .loc[row_indexer,col_indexer] = value instead\n",
      "\n",
      "See the caveats in the documentation: https://pandas.pydata.org/pandas-docs/stable/user_guide/indexing.html#returning-a-view-versus-a-copy\n",
      "  ema_batch['key'] = 0\n",
      "/home/leha18/tiki_code/src/EMA_Mapper.py:602: SettingWithCopyWarning: \n",
      "A value is trying to be set on a copy of a slice from a DataFrame.\n",
      "Try using .loc[row_indexer,col_indexer] = value instead\n",
      "\n",
      "See the caveats in the documentation: https://pandas.pydata.org/pandas-docs/stable/user_guide/indexing.html#returning-a-view-versus-a-copy\n",
      "  ema_batch['key'] = 0\n"
     ]
    },
    {
     "name": "stdout",
     "output_type": "stream",
     "text": [
      "CoveredDistance Data Cleaning Summary:\n",
      "Initial entries: 571958\n",
      "Remaining entries: 571958\n",
      "Entries removed: 0\n"
     ]
    },
    {
     "name": "stderr",
     "output_type": "stream",
     "text": [
      "/home/leha18/tiki_code/src/EMA_Mapper.py:602: SettingWithCopyWarning: \n",
      "A value is trying to be set on a copy of a slice from a DataFrame.\n",
      "Try using .loc[row_indexer,col_indexer] = value instead\n",
      "\n",
      "See the caveats in the documentation: https://pandas.pydata.org/pandas-docs/stable/user_guide/indexing.html#returning-a-view-versus-a-copy\n",
      "  ema_batch['key'] = 0\n",
      "/home/leha18/tiki_code/src/EMA_Mapper.py:602: SettingWithCopyWarning: \n",
      "A value is trying to be set on a copy of a slice from a DataFrame.\n",
      "Try using .loc[row_indexer,col_indexer] = value instead\n",
      "\n",
      "See the caveats in the documentation: https://pandas.pydata.org/pandas-docs/stable/user_guide/indexing.html#returning-a-view-versus-a-copy\n",
      "  ema_batch['key'] = 0\n",
      "/home/leha18/tiki_code/src/EMA_Mapper.py:602: SettingWithCopyWarning: \n",
      "A value is trying to be set on a copy of a slice from a DataFrame.\n",
      "Try using .loc[row_indexer,col_indexer] = value instead\n",
      "\n",
      "See the caveats in the documentation: https://pandas.pydata.org/pandas-docs/stable/user_guide/indexing.html#returning-a-view-versus-a-copy\n",
      "  ema_batch['key'] = 0\n",
      "/home/leha18/tiki_code/src/EMA_Mapper.py:602: SettingWithCopyWarning: \n",
      "A value is trying to be set on a copy of a slice from a DataFrame.\n",
      "Try using .loc[row_indexer,col_indexer] = value instead\n",
      "\n",
      "See the caveats in the documentation: https://pandas.pydata.org/pandas-docs/stable/user_guide/indexing.html#returning-a-view-versus-a-copy\n",
      "  ema_batch['key'] = 0\n",
      "/home/leha18/tiki_code/src/EMA_Mapper.py:469: SettingWithCopyWarning: \n",
      "A value is trying to be set on a copy of a slice from a DataFrame.\n",
      "Try using .loc[row_indexer,col_indexer] = value instead\n",
      "\n",
      "See the caveats in the documentation: https://pandas.pydata.org/pandas-docs/stable/user_guide/indexing.html#returning-a-view-versus-a-copy\n",
      "  self.df_home_clusters['customer'] = self.df_home_clusters['customer'].astype(str)\n",
      "/home/leha18/tiki_code/src/EMA_Mapper.py:471: SettingWithCopyWarning: \n",
      "A value is trying to be set on a copy of a slice from a DataFrame.\n",
      "Try using .loc[row_indexer,col_indexer] = value instead\n",
      "\n",
      "See the caveats in the documentation: https://pandas.pydata.org/pandas-docs/stable/user_guide/indexing.html#returning-a-view-versus-a-copy\n",
      "  self.df_home_clusters['startTimestamp'] = pd.to_datetime(self.df_home_clusters['startTimestamp'])\n"
     ]
    },
    {
     "name": "stdout",
     "output_type": "stream",
     "text": [
      "Available columns in df_data: ['customer', 'type', 'startTimestamp', 'endTimestamp', 'doubleValue', 'longValue', 'booleanValue', 'dateValue', 'stringValue', 'userReliability', 'chronologicalExactness', 'timezoneOffset', 'starttimestamp', 'endtimestamp', 'startTimestamp_day', 'startTimestamp_hour', 'start_end', 'status', 'study_version', 'ema_base_start', 'ema_base_end', 'potential_days_coverage', 'GPS_actual_days_with_data', 'GPS_data_coverage_per', 'Activity_actual_days_with_data', 'Activity_data_coverage_per', 'Sleep_actual_days_with_data', 'Sleep_data_coverage_per', 'Heart_Rate_actual_days_with_data', 'Heart_Rate_data_coverage_per', 'ema_relative_start_phase0', 'ema_relative_end_phase0', 'ema_relative_start_phase1', 'ema_relative_end_phase1', 'ema_relative_start_phase2', 'ema_relative_end_phase2', 'for_id', 'ema_id']\n",
      "Available types in 'type' column: <StringArray>\n",
      "[                      'Steps',        'ActiveBurnedCalories',\n",
      "             'CoveredDistance',                   'HeartRate',\n",
      "                  'WalkBinary',         'ActivityTypeDetail2',\n",
      "         'ActivityTypeDetail1',                'ActivityType',\n",
      "               'RawECGVoltage',                        'SPO2',\n",
      "            'SleepAwakeBinary',            'SleepLightBinary',\n",
      "                 'SleepBinary',            'SleepStateBinary',\n",
      "             'SleepDeepBinary',                  'BikeBinary',\n",
      "                'ActiveBinary',                    'Latitude',\n",
      "                   'Longitude',               'ElevationGain',\n",
      "               'FloorsClimbed',                   'RunBinary',\n",
      "                      'Height',                      'Weight',\n",
      "                     'FatMass',                    'FatRatio',\n",
      "                    'BoneMass',                  'MuscleMass',\n",
      "                 'FatFreeMass',            'SleepInBedBinary',\n",
      "       'BloodPressureSystolic',      'BloodPressureDiastolic',\n",
      " 'AtrialFibrillationDetection',                      'VO2max']\n",
      "Length: 34, dtype: string\n",
      "Filtered ActivityType data shape: (66797, 38)\n",
      "ActivityType data after filtering by time range: (66788, 38)\n",
      "Processing batch 1/4...\n"
     ]
    },
    {
     "name": "stderr",
     "output_type": "stream",
     "text": [
      "/home/leha18/tiki_code/src/EMA_Mapper.py:684: SettingWithCopyWarning: \n",
      "A value is trying to be set on a copy of a slice from a DataFrame.\n",
      "Try using .loc[row_indexer,col_indexer] = value instead\n",
      "\n",
      "See the caveats in the documentation: https://pandas.pydata.org/pandas-docs/stable/user_guide/indexing.html#returning-a-view-versus-a-copy\n",
      "  ema_batch['key'] = 0\n"
     ]
    },
    {
     "name": "stdout",
     "output_type": "stream",
     "text": [
      "Batch 1 joined shape: (1642314, 68)\n",
      "Batch 1 after overlap filtering: (10730, 68)\n",
      "Processing batch 2/4...\n"
     ]
    },
    {
     "name": "stderr",
     "output_type": "stream",
     "text": [
      "/home/leha18/tiki_code/src/EMA_Mapper.py:684: SettingWithCopyWarning: \n",
      "A value is trying to be set on a copy of a slice from a DataFrame.\n",
      "Try using .loc[row_indexer,col_indexer] = value instead\n",
      "\n",
      "See the caveats in the documentation: https://pandas.pydata.org/pandas-docs/stable/user_guide/indexing.html#returning-a-view-versus-a-copy\n",
      "  ema_batch['key'] = 0\n"
     ]
    },
    {
     "name": "stdout",
     "output_type": "stream",
     "text": [
      "Batch 2 joined shape: (1227435, 68)\n",
      "Batch 2 after overlap filtering: (4432, 68)\n",
      "Processing batch 3/4...\n"
     ]
    },
    {
     "name": "stderr",
     "output_type": "stream",
     "text": [
      "/home/leha18/tiki_code/src/EMA_Mapper.py:684: SettingWithCopyWarning: \n",
      "A value is trying to be set on a copy of a slice from a DataFrame.\n",
      "Try using .loc[row_indexer,col_indexer] = value instead\n",
      "\n",
      "See the caveats in the documentation: https://pandas.pydata.org/pandas-docs/stable/user_guide/indexing.html#returning-a-view-versus-a-copy\n",
      "  ema_batch['key'] = 0\n"
     ]
    },
    {
     "name": "stdout",
     "output_type": "stream",
     "text": [
      "Batch 3 joined shape: (1455911, 68)\n",
      "Batch 3 after overlap filtering: (6129, 68)\n",
      "Processing batch 4/4...\n"
     ]
    },
    {
     "name": "stderr",
     "output_type": "stream",
     "text": [
      "/home/leha18/tiki_code/src/EMA_Mapper.py:684: SettingWithCopyWarning: \n",
      "A value is trying to be set on a copy of a slice from a DataFrame.\n",
      "Try using .loc[row_indexer,col_indexer] = value instead\n",
      "\n",
      "See the caveats in the documentation: https://pandas.pydata.org/pandas-docs/stable/user_guide/indexing.html#returning-a-view-versus-a-copy\n",
      "  ema_batch['key'] = 0\n"
     ]
    },
    {
     "name": "stdout",
     "output_type": "stream",
     "text": [
      "Batch 4 joined shape: (1137126, 68)\n",
      "Batch 4 after overlap filtering: (4896, 68)\n",
      "Before merging results with EMA DataFrame:\n",
      "Index(['unique_blocks', 'activity_102_minutes', 'activity_103_minutes',\n",
      "       'activity_104_minutes', 'activity_105_minutes', 'activity_106_minutes',\n",
      "       'activity_107_minutes'],\n",
      "      dtype='object')\n",
      "Final EMA DataFrame shape after activity mapping: (19377, 37)\n"
     ]
    }
   ],
   "source": [
    "# Step 1: Initialize the EMAMapper\n",
    "ema_mapper = EMA_Mapper.EMAMapper(df_ema_udi_base, df_pass_act_base, home_clusters_red)\n",
    "\n",
    "# Step 2: Run the mappings\n",
    "ema_mapper.run_mappings()\n",
    "\n",
    "# Step 3: Retrieve the enriched EMA DataFrame\n",
    "df_ema_enriched = ema_mapper.get_result()"
   ]
  },
  {
   "cell_type": "code",
   "execution_count": 32,
   "id": "0ebe768c-5f50-4137-895f-70573ac68024",
   "metadata": {
    "tags": []
   },
   "outputs": [],
   "source": [
    "def summarize_missing_data(df, columns):\n",
    "    \"\"\"\n",
    "    Summarizes the number of -1 values in the specified columns and calculates\n",
    "    the number of blocks with complete data or missing data.\n",
    "\n",
    "    Parameters:\n",
    "        df (pd.DataFrame): The DataFrame to analyze.\n",
    "        columns (list): List of column names to check for -1 values.\n",
    "\n",
    "    Returns:\n",
    "        None: Prints the summary to the console.\n",
    "    \"\"\"\n",
    "    print(\"Summary of Missing Data (-1 values):\\n\")\n",
    "    \n",
    "    # Absolute and percentage of -1 values per column\n",
    "    total_rows = len(df)\n",
    "    missing_summary = {\n",
    "        \"Column\": [],\n",
    "        \"Missing (-1)\": [],\n",
    "        \"Percentage (%)\": []\n",
    "    }\n",
    "    \n",
    "    for col in columns:\n",
    "        if col in df.columns:\n",
    "            missing_count = (df[col] == -1).sum()\n",
    "            missing_summary[\"Column\"].append(col)\n",
    "            missing_summary[\"Missing (-1)\"].append(missing_count)\n",
    "            missing_summary[\"Percentage (%)\"].append(round((missing_count / total_rows) * 100, 2))\n",
    "    \n",
    "    # Print the summary for each column\n",
    "    for i in range(len(missing_summary[\"Column\"])):\n",
    "        print(f\"{missing_summary['Column'][i]}: {missing_summary['Missing (-1)'][i]} \"\n",
    "              f\"({missing_summary['Percentage (%)'][i]}%)\")\n",
    "    \n",
    "    print(\"\\nSummary of Blocks with Missing Data:\\n\")\n",
    "    \n",
    "    # Count the number of -1 values per block\n",
    "    df[\"missing_count\"] = (df[columns] == -1).sum(axis=1)\n",
    "    \n",
    "    # Count the number of blocks with complete data and varying levels of missing data\n",
    "    complete_blocks = (df[\"missing_count\"] == 0).sum()\n",
    "    missing_counts = df[\"missing_count\"].value_counts().sort_index()\n",
    "    \n",
    "    print(f\"Complete blocks (no -1 values): {complete_blocks} \"\n",
    "          f\"({round((complete_blocks / total_rows) * 100, 2)}%)\")\n",
    "    \n",
    "    for num_missing, count in missing_counts.items():\n",
    "        if num_missing > 0:\n",
    "            print(f\"Blocks with {num_missing} variable(s) missing: {count} \"\n",
    "                  f\"({round((count / total_rows) * 100, 2)}%)\")\n",
    "    \n",
    "    # Clean up temporary column\n",
    "    df.drop(columns=[\"missing_count\"], inplace=True)"
   ]
  },
  {
   "cell_type": "code",
   "execution_count": 33,
   "id": "cc90716d-eedc-4552-99ce-8965c72d133f",
   "metadata": {},
   "outputs": [
    {
     "data": {
      "text/plain": [
       "Index(['customer', 'createdAt_day', 'unique_day_id', 'assess',\n",
       "       'sensor_block_end', 'sensor_block_start', 'unique_blocks', 'hr_mean',\n",
       "       'hr_min', 'hr_max', 'hr_std', 'hr_median', 'range_heartrate',\n",
       "       'iqr_heartrate', 'skewness_heartrate', 'kurtosis_heartrate',\n",
       "       'hr_peak_counts', 'hr_slope', 'hr_zone_resting', 'hr_zone_moderate',\n",
       "       'hr_zone_vigorous', 'n_steps', 'total_activeburnedcalories',\n",
       "       'total_covereddistance', 'n_GPS', 'total_distance_km', 'at_home_minute',\n",
       "       'time_in_transition_minutes', 'time_stationary_minutes',\n",
       "       'prop_time_moving', 'prop_time_stationary', 'activity_102_minutes',\n",
       "       'activity_103_minutes', 'activity_104_minutes', 'activity_105_minutes',\n",
       "       'activity_106_minutes', 'activity_107_minutes'],\n",
       "      dtype='object')"
      ]
     },
     "execution_count": 33,
     "metadata": {},
     "output_type": "execute_result"
    }
   ],
   "source": [
    "df_ema_enriched.columns"
   ]
  },
  {
   "cell_type": "code",
   "execution_count": 34,
   "id": "a7941b01-f78c-499c-b37a-8c47da6a4834",
   "metadata": {},
   "outputs": [
    {
     "name": "stdout",
     "output_type": "stream",
     "text": [
      "Summary of Missing Data (-1 values):\n",
      "\n",
      "n_steps: 7189 (37.1%)\n",
      "hr_mean: 0 (0.0%)\n",
      "hr_min: 0 (0.0%)\n",
      "hr_max: 0 (0.0%)\n",
      "hr_std: 0 (0.0%)\n",
      "hr_median: 0 (0.0%)\n",
      "range_heartrate: 0 (0.0%)\n",
      "iqr_heartrate: 0 (0.0%)\n",
      "skewness_heartrate: 0 (0.0%)\n",
      "kurtosis_heartrate: 0 (0.0%)\n",
      "hr_peak_counts: 0 (0.0%)\n",
      "hr_slope: 0 (0.0%)\n",
      "hr_zone_resting: 123 (0.63%)\n",
      "hr_zone_moderate: 123 (0.63%)\n",
      "hr_zone_vigorous: 123 (0.63%)\n",
      "n_GPS: 10606 (54.73%)\n",
      "total_distance_km: 10606 (54.73%)\n",
      "at_home_minute: 10967 (56.6%)\n",
      "time_in_transition_minutes: 10606 (54.73%)\n",
      "time_stationary_minutes: 10606 (54.73%)\n",
      "prop_time_moving: 10606 (54.73%)\n",
      "prop_time_stationary: 10606 (54.73%)\n",
      "total_activeburnedcalories: 7424 (38.31%)\n",
      "total_covereddistance: 7187 (37.09%)\n",
      "activity_102_minutes: 11914 (61.49%)\n",
      "activity_103_minutes: 11914 (61.49%)\n",
      "activity_104_minutes: 11914 (61.49%)\n",
      "activity_105_minutes: 11914 (61.49%)\n",
      "activity_106_minutes: 11914 (61.49%)\n",
      "activity_107_minutes: 11914 (61.49%)\n",
      "\n",
      "Summary of Blocks with Missing Data:\n",
      "\n",
      "Complete blocks (no -1 values): 3072 (15.85%)\n",
      "Blocks with 1 variable(s) missing: 273 (1.41%)\n",
      "Blocks with 2 variable(s) missing: 3 (0.02%)\n",
      "Blocks with 3 variable(s) missing: 644 (3.32%)\n",
      "Blocks with 4 variable(s) missing: 7 (0.04%)\n",
      "Blocks with 6 variable(s) missing: 4234 (21.85%)\n",
      "Blocks with 7 variable(s) missing: 1804 (9.31%)\n",
      "Blocks with 8 variable(s) missing: 121 (0.62%)\n",
      "Blocks with 9 variable(s) missing: 342 (1.76%)\n",
      "Blocks with 10 variable(s) missing: 1732 (8.94%)\n",
      "Blocks with 12 variable(s) missing: 1 (0.01%)\n",
      "Blocks with 13 variable(s) missing: 2569 (13.26%)\n",
      "Blocks with 14 variable(s) missing: 1 (0.01%)\n",
      "Blocks with 16 variable(s) missing: 4570 (23.58%)\n",
      "Blocks with 19 variable(s) missing: 4 (0.02%)\n"
     ]
    }
   ],
   "source": [
    "columns_to_check = ['n_steps', 'hr_mean', 'hr_min', 'hr_max', 'hr_std', 'hr_median',\n",
    "                    'range_heartrate', 'iqr_heartrate', 'skewness_heartrate',\n",
    "                    'kurtosis_heartrate', 'hr_peak_counts', 'hr_slope', 'hr_zone_resting',\n",
    "                    'hr_zone_moderate', 'hr_zone_vigorous', 'n_GPS', 'total_distance_km',\n",
    "                    'at_home_minute', 'time_in_transition_minutes',\n",
    "                    'time_stationary_minutes', 'prop_time_moving', 'prop_time_stationary', 'total_activeburnedcalories', 'total_covereddistance',\n",
    "                   'activity_102_minutes','activity_103_minutes', 'activity_104_minutes', 'activity_105_minutes','activity_106_minutes', 'activity_107_minutes']\n",
    "\n",
    "summarize_missing_data(df_ema_enriched, columns_to_check)\n"
   ]
  },
  {
   "cell_type": "code",
   "execution_count": 35,
   "id": "6dd1ad99-55b4-4c95-8e4c-1d854db99577",
   "metadata": {},
   "outputs": [
    {
     "ename": "KeyError",
     "evalue": "\"['n_GPStotal_distance_km'] not in index\"",
     "output_type": "error",
     "traceback": [
      "\u001b[0;31m---------------------------------------------------------------------------\u001b[0m",
      "\u001b[0;31mKeyError\u001b[0m                                  Traceback (most recent call last)",
      "Cell \u001b[0;32mIn[35], line 11\u001b[0m\n\u001b[1;32m      2\u001b[0m columns_of_interest \u001b[38;5;241m=\u001b[39m [\n\u001b[1;32m      3\u001b[0m     \u001b[38;5;124m'\u001b[39m\u001b[38;5;124mn_steps\u001b[39m\u001b[38;5;124m'\u001b[39m, \u001b[38;5;124m'\u001b[39m\u001b[38;5;124mhr_mean\u001b[39m\u001b[38;5;124m'\u001b[39m, \u001b[38;5;124m'\u001b[39m\u001b[38;5;124mhr_min\u001b[39m\u001b[38;5;124m'\u001b[39m, \u001b[38;5;124m'\u001b[39m\u001b[38;5;124mhr_max\u001b[39m\u001b[38;5;124m'\u001b[39m, \u001b[38;5;124m'\u001b[39m\u001b[38;5;124mhr_std\u001b[39m\u001b[38;5;124m'\u001b[39m, \u001b[38;5;124m'\u001b[39m\u001b[38;5;124mhr_median\u001b[39m\u001b[38;5;124m'\u001b[39m, \u001b[38;5;124m'\u001b[39m\u001b[38;5;124mn_GPS\u001b[39m\u001b[38;5;124m'\u001b[39m\n\u001b[1;32m      4\u001b[0m      \u001b[38;5;124m'\u001b[39m\u001b[38;5;124mtotal_distance_km\u001b[39m\u001b[38;5;124m'\u001b[39m, \u001b[38;5;124m'\u001b[39m\u001b[38;5;124mat_home_minute\u001b[39m\u001b[38;5;124m'\u001b[39m, \n\u001b[0;32m   (...)\u001b[0m\n\u001b[1;32m      7\u001b[0m     \n\u001b[1;32m      8\u001b[0m ]\n\u001b[1;32m     10\u001b[0m \u001b[38;5;66;03m# Filter the DataFrame to these columns\u001b[39;00m\n\u001b[0;32m---> 11\u001b[0m correlation_data \u001b[38;5;241m=\u001b[39m \u001b[43mdf_ema_enriched\u001b[49m\u001b[43m[\u001b[49m\u001b[43mcolumns_of_interest\u001b[49m\u001b[43m]\u001b[49m\n\u001b[1;32m     13\u001b[0m \u001b[38;5;66;03m# Compute the correlation matrix\u001b[39;00m\n\u001b[1;32m     14\u001b[0m correlation_matrix \u001b[38;5;241m=\u001b[39m correlation_data\u001b[38;5;241m.\u001b[39mcorr()\n",
      "File \u001b[0;32m~/.conda/envs/tiki/lib/python3.13/site-packages/pandas/core/frame.py:4108\u001b[0m, in \u001b[0;36mDataFrame.__getitem__\u001b[0;34m(self, key)\u001b[0m\n\u001b[1;32m   4106\u001b[0m     \u001b[38;5;28;01mif\u001b[39;00m is_iterator(key):\n\u001b[1;32m   4107\u001b[0m         key \u001b[38;5;241m=\u001b[39m \u001b[38;5;28mlist\u001b[39m(key)\n\u001b[0;32m-> 4108\u001b[0m     indexer \u001b[38;5;241m=\u001b[39m \u001b[38;5;28;43mself\u001b[39;49m\u001b[38;5;241;43m.\u001b[39;49m\u001b[43mcolumns\u001b[49m\u001b[38;5;241;43m.\u001b[39;49m\u001b[43m_get_indexer_strict\u001b[49m\u001b[43m(\u001b[49m\u001b[43mkey\u001b[49m\u001b[43m,\u001b[49m\u001b[43m \u001b[49m\u001b[38;5;124;43m\"\u001b[39;49m\u001b[38;5;124;43mcolumns\u001b[39;49m\u001b[38;5;124;43m\"\u001b[39;49m\u001b[43m)\u001b[49m[\u001b[38;5;241m1\u001b[39m]\n\u001b[1;32m   4110\u001b[0m \u001b[38;5;66;03m# take() does not accept boolean indexers\u001b[39;00m\n\u001b[1;32m   4111\u001b[0m \u001b[38;5;28;01mif\u001b[39;00m \u001b[38;5;28mgetattr\u001b[39m(indexer, \u001b[38;5;124m\"\u001b[39m\u001b[38;5;124mdtype\u001b[39m\u001b[38;5;124m\"\u001b[39m, \u001b[38;5;28;01mNone\u001b[39;00m) \u001b[38;5;241m==\u001b[39m \u001b[38;5;28mbool\u001b[39m:\n",
      "File \u001b[0;32m~/.conda/envs/tiki/lib/python3.13/site-packages/pandas/core/indexes/base.py:6200\u001b[0m, in \u001b[0;36mIndex._get_indexer_strict\u001b[0;34m(self, key, axis_name)\u001b[0m\n\u001b[1;32m   6197\u001b[0m \u001b[38;5;28;01melse\u001b[39;00m:\n\u001b[1;32m   6198\u001b[0m     keyarr, indexer, new_indexer \u001b[38;5;241m=\u001b[39m \u001b[38;5;28mself\u001b[39m\u001b[38;5;241m.\u001b[39m_reindex_non_unique(keyarr)\n\u001b[0;32m-> 6200\u001b[0m \u001b[38;5;28;43mself\u001b[39;49m\u001b[38;5;241;43m.\u001b[39;49m\u001b[43m_raise_if_missing\u001b[49m\u001b[43m(\u001b[49m\u001b[43mkeyarr\u001b[49m\u001b[43m,\u001b[49m\u001b[43m \u001b[49m\u001b[43mindexer\u001b[49m\u001b[43m,\u001b[49m\u001b[43m \u001b[49m\u001b[43maxis_name\u001b[49m\u001b[43m)\u001b[49m\n\u001b[1;32m   6202\u001b[0m keyarr \u001b[38;5;241m=\u001b[39m \u001b[38;5;28mself\u001b[39m\u001b[38;5;241m.\u001b[39mtake(indexer)\n\u001b[1;32m   6203\u001b[0m \u001b[38;5;28;01mif\u001b[39;00m \u001b[38;5;28misinstance\u001b[39m(key, Index):\n\u001b[1;32m   6204\u001b[0m     \u001b[38;5;66;03m# GH 42790 - Preserve name from an Index\u001b[39;00m\n",
      "File \u001b[0;32m~/.conda/envs/tiki/lib/python3.13/site-packages/pandas/core/indexes/base.py:6252\u001b[0m, in \u001b[0;36mIndex._raise_if_missing\u001b[0;34m(self, key, indexer, axis_name)\u001b[0m\n\u001b[1;32m   6249\u001b[0m     \u001b[38;5;28;01mraise\u001b[39;00m \u001b[38;5;167;01mKeyError\u001b[39;00m(\u001b[38;5;124mf\u001b[39m\u001b[38;5;124m\"\u001b[39m\u001b[38;5;124mNone of [\u001b[39m\u001b[38;5;132;01m{\u001b[39;00mkey\u001b[38;5;132;01m}\u001b[39;00m\u001b[38;5;124m] are in the [\u001b[39m\u001b[38;5;132;01m{\u001b[39;00maxis_name\u001b[38;5;132;01m}\u001b[39;00m\u001b[38;5;124m]\u001b[39m\u001b[38;5;124m\"\u001b[39m)\n\u001b[1;32m   6251\u001b[0m not_found \u001b[38;5;241m=\u001b[39m \u001b[38;5;28mlist\u001b[39m(ensure_index(key)[missing_mask\u001b[38;5;241m.\u001b[39mnonzero()[\u001b[38;5;241m0\u001b[39m]]\u001b[38;5;241m.\u001b[39munique())\n\u001b[0;32m-> 6252\u001b[0m \u001b[38;5;28;01mraise\u001b[39;00m \u001b[38;5;167;01mKeyError\u001b[39;00m(\u001b[38;5;124mf\u001b[39m\u001b[38;5;124m\"\u001b[39m\u001b[38;5;132;01m{\u001b[39;00mnot_found\u001b[38;5;132;01m}\u001b[39;00m\u001b[38;5;124m not in index\u001b[39m\u001b[38;5;124m\"\u001b[39m)\n",
      "\u001b[0;31mKeyError\u001b[0m: \"['n_GPStotal_distance_km'] not in index\""
     ]
    }
   ],
   "source": [
    "# Select the relevant columns\n",
    "columns_of_interest = [\n",
    "    'n_steps', 'hr_mean', 'hr_min', 'hr_max', 'hr_std', 'hr_median', 'n_GPS'\n",
    "     'total_distance_km', 'at_home_minute', \n",
    "    'time_in_transition_minutes', 'time_stationary_minutes', 'total_activeburnedcalories', 'total_covereddistance',\n",
    "\n",
    "    \n",
    "]\n",
    "\n",
    "# Filter the DataFrame to these columns\n",
    "correlation_data = df_ema_enriched[columns_of_interest]\n",
    "\n",
    "# Compute the correlation matrix\n",
    "correlation_matrix = correlation_data.corr()\n",
    "\n",
    "# Display the correlation matrix\n",
    "print(correlation_matrix)"
   ]
  },
  {
   "cell_type": "code",
   "execution_count": null,
   "id": "79383133-e1de-4562-b68d-caf699dca881",
   "metadata": {},
   "outputs": [],
   "source": [
    "# covered distance just combi of steps, height, weight.."
   ]
  },
  {
   "cell_type": "code",
   "execution_count": null,
   "id": "dad818d2-b04d-4cf6-b10e-f7ff7a33e800",
   "metadata": {
    "tags": []
   },
   "outputs": [],
   "source": [
    "with open(preprocessed_path + '/map_ema_passive.pkl', 'wb') as file:\n",
    "    pickle.dump(df_ema_with_at_home, file)"
   ]
  },
  {
   "cell_type": "code",
   "execution_count": null,
   "id": "17a26233-94bb-4e2b-9dd4-f2a6beb422bc",
   "metadata": {},
   "outputs": [],
   "source": []
  },
  {
   "cell_type": "code",
   "execution_count": null,
   "id": "8ec020b1-45b2-4512-a108-5bd8ba9b2254",
   "metadata": {},
   "outputs": [],
   "source": []
  }
 ],
 "metadata": {
  "kernelspec": {
   "display_name": "Python [conda env:.conda-tiki]",
   "language": "python",
   "name": "conda-env-.conda-tiki-py"
  },
  "language_info": {
   "codemirror_mode": {
    "name": "ipython",
    "version": 3
   },
   "file_extension": ".py",
   "mimetype": "text/x-python",
   "name": "python",
   "nbconvert_exporter": "python",
   "pygments_lexer": "ipython3",
   "version": "3.13.0"
  }
 },
 "nbformat": 4,
 "nbformat_minor": 5
}
