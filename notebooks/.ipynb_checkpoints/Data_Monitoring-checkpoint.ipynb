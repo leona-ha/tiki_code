{
 "cells": [
  {
   "cell_type": "code",
   "execution_count": 1,
   "id": "755b4ae3",
   "metadata": {},
   "outputs": [],
   "source": [
    "import pandas as pd\n",
    "import datetime as dt\n",
    "from datetime import date\n",
    "import re\n",
    "\n",
    "import matplotlib.pyplot as plt\n",
    "import seaborn as sns\n",
    "\n",
    "from config import proj_sheet, datapath, credential_path\n",
    "\n",
    "today = date.today() \n",
    "week_ago = today - dt.timedelta(days=7)\n",
    "today = today.strftime(\"%d%m%Y\")\n",
    "week_ago = week_ago.strftime(\"%Y-%m-%d\")\n",
    "today = \"12022024\"\n",
    "\n",
    "# passive + ema_data\n",
    "filepath = datapath + f\"export_{today}.csv\"\n",
    "datapath1 = datapath + f\"export_tiki_{today}/\"\n",
    "\n"
   ]
  },
  {
   "cell_type": "markdown",
   "id": "c75d386d",
   "metadata": {},
   "source": [
    "## 1. Import data"
   ]
  },
  {
   "cell_type": "markdown",
   "id": "7310925d",
   "metadata": {},
   "source": [
    "### 1.1 Import epoch level passive + GPS data"
   ]
  },
  {
   "cell_type": "code",
   "execution_count": 2,
   "id": "e997b040",
   "metadata": {},
   "outputs": [],
   "source": [
    "datapath1 = datapath + f\"export_tiki_{today}/\"\n",
    "filepath_1 = datapath1 + \"epoch_part0001.csv\"\n",
    "filepath_2 = datapath1 + \"epoch_part0002.csv\"\n",
    "filepath_3 = datapath1 + \"epoch_part0003.csv\"\n",
    "filepath_4 = datapath1 + \"epoch_part0004.csv\"\n",
    "filepath_5 = datapath1 + \"epoch_part0005.csv\"\n",
    "filepath_6 = datapath1 + \"epoch_part0006.csv\"\n",
    "filepath_7= datapath1 + \"epoch_part0007.csv\"\n",
    "filepath_8= datapath1 + \"epoch_part0008.csv\"\n",
    "filepath_9= datapath1 + \"epoch_part0009.csv\"\n",
    "filepath_10= datapath1 + \"epoch_part0010.csv\"\n",
    "filepath_11= datapath1 + \"epoch_part0011.csv\""
   ]
  },
  {
   "cell_type": "code",
   "execution_count": 3,
   "id": "83bdf154",
   "metadata": {},
   "outputs": [],
   "source": [
    "df_1 = pd.read_csv(filepath_1, encoding= \"latin-1\", low_memory=False)\n",
    "df_2 = pd.read_csv(filepath_2, encoding= \"latin-1\", low_memory=False)\n",
    "df_3 = pd.read_csv(filepath_3, encoding= \"latin-1\", low_memory=False)\n",
    "df_4 = pd.read_csv(filepath_4, encoding= \"latin-1\", low_memory=False)\n",
    "df_5 = pd.read_csv(filepath_5, encoding= \"latin-1\", low_memory=False)\n",
    "df_6 = pd.read_csv(filepath_6, encoding= \"latin-1\", low_memory=False)\n",
    "df_7 = pd.read_csv(filepath_7, encoding= \"latin-1\", low_memory=False)\n",
    "df_8 = pd.read_csv(filepath_8, encoding= \"latin-1\", low_memory=False)\n",
    "df_9 = pd.read_csv(filepath_9, encoding= \"latin-1\", low_memory=False)\n",
    "df_10 = pd.read_csv(filepath_10, encoding= \"latin-1\", low_memory=False)\n",
    "df_11 = pd.read_csv(filepath_11, encoding= \"latin-1\", low_memory=False)"
   ]
  },
  {
   "cell_type": "code",
   "execution_count": 4,
   "id": "2c21b00e",
   "metadata": {},
   "outputs": [],
   "source": [
    "df_complete = pd.concat([df_1, df_2, df_3, df_4, df_5, df_6, df_7, df_8, df_9, df_10, df_11])\n",
    "df_complete[\"customer\"] = df_complete.customer.str.split(\"@\").str.get(0)\n",
    "df_complete[\"customer\"] = df_complete.customer.str[:4]"
   ]
  },
  {
   "cell_type": "code",
   "execution_count": 5,
   "id": "028ae944",
   "metadata": {},
   "outputs": [],
   "source": [
    "df_complete[\"startTimestamp\"] = pd.to_datetime(df_complete[\"startTimestamp\"],unit='ms')\n",
    "df_complete[\"createdAt\"] = pd.to_datetime(df_complete[\"createdAt\"],unit='ms')\n",
    "\n",
    "df_complete[\"startTimestamp_day\"] = df_complete.startTimestamp.dt.strftime('%Y/%m/%d')\n",
    "df_complete[\"createdAt_day\"] = df_complete.startTimestamp.dt.strftime('%Y/%m/%d')\n",
    "\n",
    "df_complete[\"startTimestamp_hour\"] = df_complete.startTimestamp.dt.hour\n",
    "df_complete[\"createdAt_hour\"] = df_complete.startTimestamp.dt.hour"
   ]
  },
  {
   "cell_type": "markdown",
   "id": "87f53acf",
   "metadata": {},
   "source": [
    "### Check location data"
   ]
  },
  {
   "cell_type": "code",
   "execution_count": 6,
   "id": "2665c473",
   "metadata": {},
   "outputs": [],
   "source": [
    "df_loc_complete = df_complete[df_complete.type.isin([\"Latitude\", \"Longitude\"])]\n",
    "df_loc_complete = df_loc_complete[[\"customer\", \"startTimestamp\", \"type\", \"doubleValue\", \n",
    "                           \"timezoneOffset\"]]\n",
    "df_loc_complete[\"startTimestamp\"] = (pd.to_datetime(df_loc_complete[\"startTimestamp\"],unit='ms'))\n",
    "\n",
    "df_loc_complete = df_loc_complete.groupby(\"customer\")[[\"startTimestamp\"]].max().rename_axis(None, axis=1).reset_index()\n",
    "df_loc_complete.rename(columns={\"startTimestamp\":\"last_day_GPS\"}, inplace=True)\n"
   ]
  },
  {
   "cell_type": "markdown",
   "id": "f054db53",
   "metadata": {},
   "source": [
    "### 1.2 Import daily aggregated passive data"
   ]
  },
  {
   "cell_type": "code",
   "execution_count": 7,
   "id": "53e91cd2",
   "metadata": {},
   "outputs": [],
   "source": [
    "df = pd.read_csv(filepath, encoding= \"latin-1\")\n",
    "df.drop([\"Quelle\", \"Created At\"], axis=1, inplace=True)\n",
    "\n",
    "df[\"Endkunde\"] = df.Endkunde.str.split(\"@\").str.get(0)\n",
    "df[\"Endkunde\"] = df[\"Endkunde\"].str[:4]\n",
    "df.rename(columns={\"Endkunde\":\"customer\",\"Tag\":\"day\", \"Typ\":\"type\",\"Wert(Fließkommazahl)\": \"float\", \"Wert(Ganzzahl)\": \"int\"}, inplace=True)\n",
    "\n",
    "df[\"day\"] = pd.to_datetime(df[\"day\"], format=\"%d.%m.%Y\")\n",
    "df[\"int\"].fillna(df[\"float\"], inplace=True)"
   ]
  },
  {
   "cell_type": "code",
   "execution_count": 8,
   "id": "120eb125",
   "metadata": {},
   "outputs": [],
   "source": [
    "df_int= df[[\"customer\", \"day\", \"type\", \"int\"]]\n",
    "df_int = df_int.pivot(\n",
    "    index=[\"customer\", \"day\"],\n",
    "    columns=\"type\",\n",
    "    values=\"int\")\n",
    "df_int.reset_index(level=\"day\", inplace=True)"
   ]
  },
  {
   "cell_type": "markdown",
   "id": "b17e96be",
   "metadata": {},
   "source": [
    "### 1.3 Import montoring data"
   ]
  },
  {
   "cell_type": "code",
   "execution_count": 9,
   "id": "186f5e3f",
   "metadata": {},
   "outputs": [],
   "source": [
    "# project management data\n",
    "df_monitoring = pd.read_csv(f\"https://docs.google.com/spreadsheets/d/{proj_sheet}/export?format=csv\")\n"
   ]
  },
  {
   "cell_type": "code",
   "execution_count": 10,
   "id": "5f941d40",
   "metadata": {},
   "outputs": [],
   "source": [
    "df_monitoring = df_monitoring[['FOR_ID', 'EMA_ID', 'Pseudonym', 'Studienversion', 'Status',\n",
    "       'Besonderes', 'Start EMA Baseline', 'Ende EMA Baseline',\n",
    "       'Terminpräferenz ', 'Termin 1. Gespräch', \n",
    "       'Begrüßungsmail verschickt?', 'Telefonat stattgefunden?',\n",
    "       'Reminder-Mail Wechsel verschickt?', 'Baseline T20 Update verschickt?', 'Freischaltung/ Start EMA T20',\n",
    "       'Ende EMA T20', 'Post T20 Update verschickt?',\n",
    "       'Studienende/ Dropout Mail verschickt?']]"
   ]
  },
  {
   "cell_type": "code",
   "execution_count": 11,
   "id": "c2eb4935",
   "metadata": {},
   "outputs": [],
   "source": [
    "df_monitoring.rename(columns = {\"Pseudonym\": \"customer\", \"EMA_ID\": \"ema_id\", \"Status\": \"status\",\n",
    "                                \"Studienversion\":\"study_version\", \"FOR_ID\":\"for_id\", \n",
    "                           \"Start EMA Baseline\": \"ema_base_start\", \"Ende EMA Baseline\": \"ema_base_end\", \n",
    "                           \"Freischaltung/ Start EMA T20\": \"ema_t20_start\",\"Ende EMA T20\":\"ema_t20_end\", \n",
    "                               \"Termin 1. Gespräch\": \"first_call_date\"}, inplace=True)"
   ]
  },
  {
   "cell_type": "code",
   "execution_count": 12,
   "id": "5d704c72",
   "metadata": {},
   "outputs": [],
   "source": [
    "df_monitoring[\"customer\"] = df_monitoring[\"customer\"].str[:4]\n",
    "df_active = df_monitoring.copy()\n",
    "df_active = df_active[[\"customer\", \"ema_id\", \"ema_base_end\", \"ema_base_start\", \"study_version\", \"for_id\", \"status\"]]\n",
    "df_active[\"for_id\"] = df_active.for_id.str.strip()"
   ]
  },
  {
   "cell_type": "markdown",
   "id": "1d0b8da5",
   "metadata": {},
   "source": [
    "### 1.4 Import connection data"
   ]
  },
  {
   "cell_type": "code",
   "execution_count": 13,
   "id": "4a046414",
   "metadata": {},
   "outputs": [],
   "source": [
    "df_con = pd.read_csv(datapath + f\"export_connection_{today}.csv\", encoding= \"latin-1\")"
   ]
  },
  {
   "cell_type": "code",
   "execution_count": 14,
   "id": "f5e279fb",
   "metadata": {},
   "outputs": [],
   "source": [
    "df_con[\"Customer\"] = df_con.Customer.str.split(\"@\").str.get(0)\n",
    "df_con[\"Customer\"] = df_con[\"Customer\"].str[:4]\n",
    "df_con.drop([\"Data Source\", \"Timestamp\"], axis=1, inplace=True)\n",
    "df_con.rename(columns = {\"Customer\": \"customer\"}, inplace=True)"
   ]
  },
  {
   "cell_type": "markdown",
   "id": "159c156e",
   "metadata": {},
   "source": [
    "### 1.5 Import EMA data"
   ]
  },
  {
   "cell_type": "code",
   "execution_count": 15,
   "id": "c30bfc97",
   "metadata": {},
   "outputs": [],
   "source": [
    "# load data\n",
    "session = pd.read_csv(datapath1 + \"questionnaireSession.csv\")"
   ]
  },
  {
   "cell_type": "code",
   "execution_count": 16,
   "id": "9f426b15",
   "metadata": {},
   "outputs": [],
   "source": [
    "# session data\n",
    "session[\"user\"] = session[\"user\"].str[:4]\n",
    "session.rename(columns = {\"user\":\"customer\",\"completedAt\": \"quest_complete\", \"createdAt\": \"quest_create\", \"expirationTimestamp\": \"quest_expir\"}, inplace=True)\n",
    "session[\"quest_create\"] = (pd.to_datetime(session[\"quest_create\"],unit='ms'))\n",
    "session[\"quest_complete\"] = (pd.to_datetime(session[\"quest_complete\"],unit='ms'))\n",
    "df_sess = session[[\"customer\", \"sessionRun\", \"quest_create\", \"quest_complete\", \"study\"]]"
   ]
  },
  {
   "cell_type": "code",
   "execution_count": 17,
   "id": "f670143d",
   "metadata": {},
   "outputs": [],
   "source": [
    "# count number of completed EMA beeps in first phase\n",
    "df_sess1 = df_sess.loc[df_sess.study.isin([24,25])]\n",
    "sess_count1 = df_sess1.dropna(subset=[\"quest_complete\"]).groupby(\"customer\")[\"quest_complete\"].size()\\\n",
    ".reset_index()\n",
    "sess_count1 = sess_count1.rename(columns = {\"quest_complete\":\"nquest_EMA1\"})"
   ]
  },
  {
   "cell_type": "code",
   "execution_count": 18,
   "id": "92fb3433",
   "metadata": {},
   "outputs": [],
   "source": [
    "# count number of completed EMA beeps in second phase\n",
    "df_sess2 = df_sess.loc[df_sess.study.isin([33,34])]\n",
    "sess_count2 = df_sess2.dropna(subset=[\"quest_complete\"]).groupby(\"customer\")[\"quest_complete\"].size()\\\n",
    ".reset_index()\n",
    "sess_count2 = sess_count2.rename(columns = {\"quest_complete\":\"nquest_EMA2\"})"
   ]
  },
  {
   "cell_type": "markdown",
   "id": "0622eb18",
   "metadata": {},
   "source": [
    "## 2. Merge dataframes"
   ]
  },
  {
   "cell_type": "code",
   "execution_count": 19,
   "id": "5d7ba3f9",
   "metadata": {},
   "outputs": [],
   "source": [
    "# Merge monitoring and passive\n",
    "df_merged = pd.merge(df_int, df_active, on=\"customer\")"
   ]
  },
  {
   "cell_type": "code",
   "execution_count": 20,
   "id": "5a2053e2",
   "metadata": {},
   "outputs": [],
   "source": [
    "# Merge monitoring and connection\n",
    "df_merged = pd.merge(df_merged, df_con, on=\"customer\")"
   ]
  },
  {
   "cell_type": "code",
   "execution_count": 21,
   "id": "2516c8f4",
   "metadata": {},
   "outputs": [],
   "source": [
    "# Merge monitoring and EMA\n",
    "df_merged = pd.merge(df_merged, sess_count1, on=\"customer\")\n",
    "df_merged = pd.merge(df_merged, sess_count2, on=\"customer\", how=\"outer\")"
   ]
  },
  {
   "cell_type": "code",
   "execution_count": 22,
   "id": "bebf3e64",
   "metadata": {},
   "outputs": [],
   "source": [
    "# Calculate last day with passive data\n",
    "grouped = df_merged.groupby([\"customer\"])[[\"ema_id\",\"for_id\",\"ema_base_start\",\"ema_base_end\",\"study_version\",\n",
    "                                            \"status\",\"Is Connected\",\"nquest_EMA1\", \"nquest_EMA2\",\"day\"]].max() # last day with passive data\n",
    "\n",
    "grouped_active = grouped[~(grouped['status'].isin([\"Dropout\", \"Pin_missing\", \"Abgeschlossen\"]))]\n",
    "\n",
    "grouped_active = grouped_active.rename_axis(None, axis=1).reset_index()\n",
    "grouped_active.rename(columns = {\"day\": \"last_day_passive\"}, inplace=True)"
   ]
  },
  {
   "cell_type": "code",
   "execution_count": 23,
   "id": "34a4cbab",
   "metadata": {},
   "outputs": [],
   "source": [
    "df_merged = pd.merge(grouped_active, df_loc_complete, on=\"customer\", how=\"outer\")"
   ]
  },
  {
   "cell_type": "markdown",
   "id": "9429c7e9",
   "metadata": {},
   "source": [
    "## 3. Check missing data"
   ]
  },
  {
   "cell_type": "code",
   "execution_count": 32,
   "id": "fa935458",
   "metadata": {},
   "outputs": [],
   "source": [
    "# get structure of the google spreadsheet\n",
    "df = pd.read_csv(\"https://docs.google.com/spreadsheets/d/1z8LZJBBMzzAmiXIS47X8SLk-zSMwDIXSKPit4IlmfuE/export?format=csv&gid=1512138040\")\n",
    "df = df.head(0)"
   ]
  },
  {
   "cell_type": "code",
   "execution_count": 24,
   "id": "1c9d4ff8",
   "metadata": {},
   "outputs": [],
   "source": [
    "users_to_remove = [\"FOR11001\", \"FOR14014\", \"FOR11034\", \"FOR13023\", \"FOR14013\", \"FOR13019\", \"FOR14064\"]\n",
    "remove_scanwatch = [\"FOR14029\"]"
   ]
  },
  {
   "cell_type": "code",
   "execution_count": 25,
   "id": "1a907530",
   "metadata": {},
   "outputs": [],
   "source": [
    "df_merged = df_merged[~df_merged['for_id'].isin(users_to_remove)]\n"
   ]
  },
  {
   "cell_type": "code",
   "execution_count": null,
   "id": "4ce4841e",
   "metadata": {},
   "outputs": [],
   "source": []
  },
  {
   "cell_type": "code",
   "execution_count": null,
   "id": "319aaa93",
   "metadata": {},
   "outputs": [],
   "source": [
    "# no pd since 7 days \n",
    "\n",
    "no_pd_list = df_merged.loc[(df_merged.last_day_GPS > week_ago) & (df_merged.last_day_passive < week_ago)][\"for_id\"].tolist()\n",
    "no_pd_list= [string for string in no_pd_list if string not in remove_scanwatch]\n",
    "print(no_pd_list)"
   ]
  },
  {
   "cell_type": "code",
   "execution_count": 26,
   "id": "c66972ee",
   "metadata": {},
   "outputs": [
    {
     "data": {
      "text/plain": [
       "[nan, 'FOR13013']"
      ]
     },
     "execution_count": 26,
     "metadata": {},
     "output_type": "execute_result"
    }
   ],
   "source": [
    "# no gps at all \n",
    "\n",
    "df_merged.loc[df_merged.last_day_GPS.isna()].for_id.tolist()"
   ]
  },
  {
   "cell_type": "code",
   "execution_count": 27,
   "id": "5adefa27",
   "metadata": {},
   "outputs": [
    {
     "data": {
      "text/plain": [
       "['FOR11024',\n",
       " 'FOR11022',\n",
       " 'FOR14053',\n",
       " 'FOR12024',\n",
       " 'FOR12022',\n",
       " 'FOR12007',\n",
       " 'FOR14005',\n",
       " 'FOR14072',\n",
       " 'FOR14067',\n",
       " 'FOR13005',\n",
       " 'FOR14051',\n",
       " 'FOR13025']"
      ]
     },
     "execution_count": 27,
     "metadata": {},
     "output_type": "execute_result"
    }
   ],
   "source": [
    "# no gps for > 7 days \n",
    "\n",
    "df_merged.loc[(df_merged.last_day_GPS < week_ago)& (df_merged.last_day_passive > week_ago)][\"for_id\"].tolist()"
   ]
  },
  {
   "cell_type": "code",
   "execution_count": 28,
   "id": "963b30f0",
   "metadata": {},
   "outputs": [
    {
     "name": "stdout",
     "output_type": "stream",
     "text": [
      "['FOR11047', 'FOR13002', 'FOR14055', 'FOR13016', 'FOR13010', 'FOR14062', 'FOR11012', 'FOR13018']\n"
     ]
    }
   ],
   "source": [
    "# no gps and no pd for > 7 days\n",
    "\n",
    "no_gpspd_list = df_merged.loc[(df_merged.last_day_GPS < week_ago) & (df_merged.last_day_passive < week_ago)][\"for_id\"].tolist()\n",
    "no_gpspd_list= [string for string in no_gpspd_list if string not in remove_scanwatch]\n",
    "print(no_gpspd_list)"
   ]
  },
  {
   "cell_type": "markdown",
   "id": "c6f6304b",
   "metadata": {},
   "source": [
    "## 4. Create Monitoring Alerts"
   ]
  },
  {
   "cell_type": "code",
   "execution_count": 30,
   "id": "10b9494c",
   "metadata": {},
   "outputs": [],
   "source": [
    "date_columns = [\"ema_base_end\", \"ema_base_start\", \"ema_t20_start\", \"ema_t20_end\"]\n",
    "\n",
    "# Convert multiple columns to datetime\n",
    "for col in date_columns:\n",
    "    df_monitoring[col] = pd.to_datetime(df_monitoring[col], errors='coerce', dayfirst=True).dt.date"
   ]
  },
  {
   "cell_type": "code",
   "execution_count": 31,
   "id": "14abb09b",
   "metadata": {},
   "outputs": [
    {
     "name": "stdout",
     "output_type": "stream",
     "text": [
      "Monday 12.02: No actions needed\n",
      "Tuesday 13.02: No actions needed\n",
      "Wednesday 14.02:  Baseline Ende Lang (Status ändern): ['FOR13031', 'FOR12024']\n",
      "Thursday 15.02:  Kurzversion Wechsel Reminder: ['FOR13032']; T20 Start (Status ändern): ['FOR13902']; T20 Ende (Status ändern): ['FOR11022']\n",
      "Friday 16.02:  Kurzversion Ende: ['FOR13032']\n",
      "Saturday 17.02:  T20 Ende (Status ändern): ['FOR11016']\n",
      "Sunday 18.02: No actions needed\n"
     ]
    }
   ],
   "source": [
    "# Use today's date, but focus only on the date part\n",
    "today = pd.Timestamp('today').date()\n",
    "\n",
    "# Calculate the most recent Monday as the start of the week\n",
    "week_start_date = today - pd.Timedelta(days=today.weekday())\n",
    "\n",
    "# Loop through each day of the week from Monday to Friday\n",
    "for day in range(7):  # Monday to Friday\n",
    "    target_date = week_start_date + pd.Timedelta(days=day)\n",
    "\n",
    "    # Format the date to include the weekday name and day.month\n",
    "    formatted_date = target_date.strftime(\"%A %d.%m\")  # e.g., \"Monday 12.02\"\n",
    "\n",
    "    # Initialize message list\n",
    "    messages = []\n",
    "\n",
    "    # Assuming the filtering logic is already correctly implemented\n",
    "\n",
    "    # Debug prints to check if conditions are met (example messages for illustration)\n",
    "    \n",
    "    #onboarding_ids = df_monitoring[df_monitoring['first_call_date'] == target_date]['for_id'].tolist()      \n",
    "    \n",
    "    reminder_ids = df_monitoring[(df_monitoring['ema_base_end'] == (target_date + pd.Timedelta(days=1))) &\n",
    "                                 (df_monitoring['study_version'].isin(['Kurz', 'Kurz(Wechsel)']))]['for_id'].tolist()\n",
    "\n",
    "    baseline_ended_ids = df_monitoring[(df_monitoring['ema_base_end'] == target_date - pd.Timedelta(days=1)) &\n",
    "                                       (df_monitoring['study_version'].isin(['Lang', 'Lang(Wechsel)']))]['for_id'].tolist()\n",
    "    \n",
    "    study_finished_ids = df_monitoring[(df_monitoring['ema_base_end'] == target_date) &\n",
    "                                       (df_monitoring['study_version'].isin(['Kurz', 'Kurz(Wechsel)']))]['for_id'].tolist()\n",
    "\n",
    "    t20_ended_ids = df_monitoring[df_monitoring['ema_t20_end'] == (target_date - pd.Timedelta(days=1))]['for_id'].tolist()\n",
    "    \n",
    "    t20_start_ids = df_monitoring[df_monitoring['ema_t20_start'] == target_date]['for_id'].tolist()\n",
    "\n",
    "\n",
    "    #if onboarding_ids:\n",
    "        #messages.append(f\"Onboarding Call: {onboarding_ids}\")\n",
    "    if reminder_ids:\n",
    "        messages.append(f\"Kurzversion Wechsel Reminder: {reminder_ids}\")\n",
    "    if baseline_ended_ids:\n",
    "        messages.append(f\"Baseline Ende Lang (Status ändern): {baseline_ended_ids}\")\n",
    "    if t20_start_ids:\n",
    "        messages.append(f\"T20 Start (Status ändern): {t20_start_ids}\")\n",
    "    if t20_ended_ids:\n",
    "        messages.append(f\"T20 Ende (Status ändern): {t20_ended_ids}\")\n",
    "    if study_finished_ids:\n",
    "        messages.append(f\"Kurzversion Ende: {study_finished_ids}\")\n",
    "\n",
    "    # Print the formatted date along with the actions\n",
    "    if messages:\n",
    "        print(f\"{formatted_date}: \", \"; \".join(messages))\n",
    "    else:\n",
    "        print(f\"{formatted_date}: No actions needed\")\n",
    "\n"
   ]
  }
 ],
 "metadata": {
  "kernelspec": {
   "display_name": "Python 3 (ipykernel)",
   "language": "python",
   "name": "python3"
  },
  "language_info": {
   "codemirror_mode": {
    "name": "ipython",
    "version": 3
   },
   "file_extension": ".py",
   "mimetype": "text/x-python",
   "name": "python",
   "nbconvert_exporter": "python",
   "pygments_lexer": "ipython3",
   "version": "3.11.5"
  }
 },
 "nbformat": 4,
 "nbformat_minor": 5
}
