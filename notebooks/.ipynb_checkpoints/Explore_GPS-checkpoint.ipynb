{
 "cells": [
  {
   "cell_type": "markdown",
   "id": "ad30de6e",
   "metadata": {},
   "source": [
    "# Explore PS Data"
   ]
  },
  {
   "cell_type": "code",
   "execution_count": 1,
   "id": "c024f163",
   "metadata": {},
   "outputs": [],
   "source": [
    "import pandas as pd\n",
    "import datetime as dt\n",
    "from datetime import date\n",
    "\n",
    "today = date.today()\n",
    "week_ago = today - dt.timedelta(days=7)\n",
    "today = today.strftime(\"%d%m%Y\")\n",
    "week_ago = week_ago.strftime(\"%Y-%m-%d\")\n",
    "today = \"26092023\"\n",
    "\n",
    "datapath = \"/Users/leonahammelrath/FU_Psychoinformatik/Github/tiki_code/data/\"\n",
    "filepath = datapath + f\"export_{today}.csv\"\n",
    "\n",
    "datapath1 = datapath + f\"export_tiki_{today}/\"\n",
    "filepath_1 = datapath1 + \"epoch_part0001.csv\"\n",
    "filepath_2 = datapath1 + \"epoch_part0002.csv\"\n",
    "filepath_3 = datapath1 + \"epoch_part0003.csv\""
   ]
  },
  {
   "cell_type": "code",
   "execution_count": null,
   "id": "76ef3bb5",
   "metadata": {},
   "outputs": [
    {
     "name": "stderr",
     "output_type": "stream",
     "text": [
      "/Users/leonahammelrath/opt/anaconda3/lib/python3.7/site-packages/IPython/core/interactiveshell.py:3326: DtypeWarning: Columns (10) have mixed types.Specify dtype option on import or set low_memory=False.\n",
      "  exec(code_obj, self.user_global_ns, self.user_ns)\n"
     ]
    }
   ],
   "source": [
    "df_1 = pd.read_csv(filepath_1, encoding= \"latin-1\")\n",
    "df_2 = pd.read_csv(filepath_2, encoding= \"latin-1\")\n",
    "df_3 = pd.read_csv(filepath_3, encoding= \"latin-1\")\n"
   ]
  },
  {
   "cell_type": "code",
   "execution_count": null,
   "id": "e15d71f3",
   "metadata": {},
   "outputs": [],
   "source": [
    "df_1.type.unique()"
   ]
  },
  {
   "cell_type": "code",
   "execution_count": null,
   "id": "830516f2",
   "metadata": {},
   "outputs": [],
   "source": [
    "df_location_1 = df_1[df_1.type.isin([\"Latitude\", \"Longitude\"])]\n",
    "df_location_2 = df_2[df_2.type.isin([\"Latitude\", \"Longitude\"])]\n",
    "df_location_3 = df_3[df_3.type.isin([\"Latitude\", \"Longitude\"])]"
   ]
  },
  {
   "cell_type": "code",
   "execution_count": null,
   "id": "6bf48410",
   "metadata": {},
   "outputs": [],
   "source": [
    "df_complete = pd.concat([df_location_1, df_location_2, df_location_3])"
   ]
  },
  {
   "cell_type": "code",
   "execution_count": null,
   "id": "f09e0721",
   "metadata": {},
   "outputs": [],
   "source": [
    "df_complete = df_complete[[\"customer\", \"startTimestamp\", \"endTimestamp\",\"type\", \"doubleValue\", \n",
    "                           \"timezoneOffset\"]]"
   ]
  },
  {
   "cell_type": "code",
   "execution_count": null,
   "id": "eb9550af",
   "metadata": {},
   "outputs": [],
   "source": [
    "df_complete[\"startTimestamp\"] = (pd.to_datetime(df_complete[\"startTimestamp\"],unit='ms'))\n",
    "df_complete[\"endTimestamp\"] = (pd.to_datetime(df_complete[\"endTimestamp\"],unit='ms'))"
   ]
  },
  {
   "cell_type": "markdown",
   "id": "4f1c861c",
   "metadata": {},
   "source": [
    "## Analyze GPS Data"
   ]
  },
  {
   "cell_type": "code",
   "execution_count": null,
   "id": "9ebe9089",
   "metadata": {},
   "outputs": [],
   "source": [
    "#df_merged_grouped = df_merged.groupby([\"customer\", \"startTimestamp\"])[\"doubleValue\"].apply(set)\n",
    "df_grouped = df_complete.groupby([\"customer\", \"startTimestamp\"])[\"doubleValue\"]"
   ]
  },
  {
   "cell_type": "code",
   "execution_count": null,
   "id": "e0a4c588",
   "metadata": {},
   "outputs": [],
   "source": [
    "# drop dateValue, stringValue, userReliability, chronologicalExactness"
   ]
  },
  {
   "cell_type": "code",
   "execution_count": null,
   "id": "0fd7edda",
   "metadata": {},
   "outputs": [],
   "source": [
    "df_grouped"
   ]
  },
  {
   "cell_type": "code",
   "execution_count": null,
   "id": "e69fe4a9",
   "metadata": {},
   "outputs": [],
   "source": [
    "df_int = df_int.pivot(\n",
    "    index=[\"customer\", \"day\"],\n",
    "    columns=\"type\",\n",
    "    values=\"int\")"
   ]
  },
  {
   "cell_type": "code",
   "execution_count": null,
   "id": "d405e1b4",
   "metadata": {},
   "outputs": [],
   "source": [
    "#df_int.reset_index(level=\"day\", inplace=True)"
   ]
  },
  {
   "cell_type": "code",
   "execution_count": null,
   "id": "9b6924f4",
   "metadata": {},
   "outputs": [],
   "source": []
  },
  {
   "cell_type": "markdown",
   "id": "cd92a5a8",
   "metadata": {},
   "source": []
  }
 ],
 "metadata": {
  "kernelspec": {
   "display_name": "Python 3",
   "language": "python",
   "name": "python3"
  },
  "language_info": {
   "codemirror_mode": {
    "name": "ipython",
    "version": 3
   },
   "file_extension": ".py",
   "mimetype": "text/x-python",
   "name": "python",
   "nbconvert_exporter": "python",
   "pygments_lexer": "ipython3",
   "version": "3.7.4"
  }
 },
 "nbformat": 4,
 "nbformat_minor": 5
}
