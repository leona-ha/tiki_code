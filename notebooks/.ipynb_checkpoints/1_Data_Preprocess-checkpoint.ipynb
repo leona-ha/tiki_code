{
 "cells": [
  {
   "cell_type": "markdown",
   "metadata": {},
   "source": []
  },
  {
   "cell_type": "raw",
   "metadata": {
    "vscode": {
     "languageId": "raw"
    }
   },
   "source": [
    "---\n",
    "title: \"TIKI: Data Compliance and Quality\"\n",
    "author: \"Leona Hammelrath\"\n",
    "date: \"10 April 2024\"\n",
    "toc: true\n",
    "number-sections: true\n",
    "\n",
    "format: html\n",
    "execute:\n",
    "    eval: true\n",
    "jupyter: python3\n",
    "---"
   ]
  },
  {
   "cell_type": "markdown",
   "metadata": {},
   "source": [
    "## Abstract\n",
    "\n",
    "First Data for Passive Data Collection using Smartwatches and GPS from the PREACT Study. \n",
    "\n",
    "## Introduction\n",
    "\n",
    "Treatment personalization is highly discussed to counteract insufficient response rates in psychotherapy. In the quest for criteria allowing informed selection or adaptation, ambulatory assessment data (i.e. EMA, passive sensing)are a key component, as processes happening outside of therapy sessions can be depicted in high temporal and/or spatial resolution.\n",
    "\n",
    "PREACT is a multicenter prospective-longitudinal study investigating different predictors of non-response (i.e. EEG, fMRI) in around 500 patients undergoing cognitive behavioral therapy for internalizing disorders (https://forschungsgruppe5187.de/de). \n",
    "\n",
    "## Methods\n",
    "Patients can enroll for therapy-accompanying ambulatory assessment. They are provided with a customized study app and a state-of-the-art smartwatch collecting passive data like GPS and heart rate for up to 365 days. In parallel, three 14-day EMA phases (pre-, mid- and post-therapy) cover transdiagnostic (i.e. emotion regulation), contextual and therapy-related aspects.  \n",
    "\n",
    "Here, we present first results on data compliance and quality for the passive sensing data as well as EMA assessments.\n"
   ]
  },
  {
   "cell_type": "code",
   "execution_count": 8,
   "metadata": {},
   "outputs": [
    {
     "ename": "ModuleNotFoundError",
     "evalue": "No module named 'src'",
     "output_type": "error",
     "traceback": [
      "\u001b[0;31m---------------------------------------------------------------------------\u001b[0m",
      "\u001b[0;31mModuleNotFoundError\u001b[0m                       Traceback (most recent call last)",
      "Cell \u001b[0;32mIn[8], line 17\u001b[0m\n\u001b[1;32m     15\u001b[0m \u001b[38;5;28;01mimport\u001b[39;00m \u001b[38;5;21;01mseaborn\u001b[39;00m \u001b[38;5;28;01mas\u001b[39;00m \u001b[38;5;21;01msns\u001b[39;00m\n\u001b[1;32m     16\u001b[0m \u001b[38;5;28;01mimport\u001b[39;00m \u001b[38;5;21;01mplotly\u001b[39;00m\u001b[38;5;21;01m.\u001b[39;00m\u001b[38;5;21;01mexpress\u001b[39;00m \u001b[38;5;28;01mas\u001b[39;00m \u001b[38;5;21;01mpx\u001b[39;00m\n\u001b[0;32m---> 17\u001b[0m \u001b[38;5;28;01mfrom\u001b[39;00m \u001b[38;5;21;01msrc\u001b[39;00m\u001b[38;5;21;01m.\u001b[39;00m\u001b[38;5;21;01mredcap_features\u001b[39;00m \u001b[38;5;28;01mimport\u001b[39;00m age_mapping, calculate_outcome_measures\n\u001b[1;32m     19\u001b[0m \u001b[38;5;28;01mfrom\u001b[39;00m \u001b[38;5;21;01mconfig\u001b[39;00m \u001b[38;5;28;01mimport\u001b[39;00m datapath, proj_sheet\n\u001b[1;32m     20\u001b[0m today \u001b[38;5;241m=\u001b[39m date\u001b[38;5;241m.\u001b[39mtoday()\u001b[38;5;241m.\u001b[39mstrftime(\u001b[38;5;124m\"\u001b[39m\u001b[38;5;132;01m%d\u001b[39;00m\u001b[38;5;124m%\u001b[39m\u001b[38;5;124mm\u001b[39m\u001b[38;5;124m%\u001b[39m\u001b[38;5;124mY\u001b[39m\u001b[38;5;124m\"\u001b[39m)\n",
      "\u001b[0;31mModuleNotFoundError\u001b[0m: No module named 'src'"
     ]
    }
   ],
   "source": [
    "import os\n",
    "import glob\n",
    "import pickle\n",
    "import sys\n",
    "# If your current working directory is the notebooks directory, use this:\n",
    "sys.path.append(os.path.abspath(os.path.join(os.path.dirname(__file__), '..', 'src')))\n",
    "sys.path.append(\"src\")\n",
    "\n",
    "import pandas as pd\n",
    "import datetime as dt\n",
    "from datetime import date, datetime\n",
    "import numpy as np\n",
    "\n",
    "import matplotlib.pyplot as plt\n",
    "import seaborn as sns\n",
    "import plotly.express as px\n",
    "from redcap_features import age_mapping, calculate_outcome_measures\n",
    "\n",
    "from config import datapath, proj_sheet\n",
    "today = date.today().strftime(\"%d%m%Y\")\n",
    "today_day = pd.to_datetime('today').normalize()\n",
    "today = \"08072024\"\n",
    "# passive + ema_data\n",
    "datapath1 = datapath + f\"export_tiki_{today}/\"\n",
    "file_pattern = os.path.join(datapath1, \"epoch_part*.csv\")\n",
    "file_list = glob.glob(file_pattern)\n",
    "file_list.sort()\n",
    "\n",
    "df_complete = pd.concat((pd.read_csv(f, encoding=\"latin-1\", low_memory=False) for f in file_list), ignore_index=True)\n",
    "df_redcap_zert = pd.read_csv(datapath + \"ZERTIFIZIERUNGFOR518_DATA_2024-05-21_0911.csv\", low_memory=False)\n",
    "df_redcap = pd.read_csv(datapath + f\"FOR5187_DATA_2024-05-21_0910.csv\", low_memory=False)\n",
    "df_monitoring = pd.read_csv(f\"https://docs.google.com/spreadsheets/d/{proj_sheet}/export?format=csv\")\n",
    "\n"
   ]
  },
  {
   "cell_type": "code",
   "execution_count": null,
   "metadata": {},
   "outputs": [],
   "source": [
    "bsi_scales = {\n",
    "    'bsi_somatization': ['bsi_2', 'bsi_7', 'bsi_23', 'bsi_29', 'bsi_30', 'bsi_33', 'bsi_37'],\n",
    "    'bsi_compulsivity': ['bsi_5', 'bsi_15', 'bsi_26', 'bsi_27', 'bsi_32', 'bsi_36'],\n",
    "    'bsi_insecurity': ['bsi_20', 'bsi_21', 'bsi_22', 'bsi_42'],\n",
    "    'bsi_depression': ['bsi_9', 'bsi_16', 'bsi_17', 'bsi_18', 'bsi_35', 'bsi_50'],\n",
    "    'bsi_anxiety': ['bsi_1', 'bsi_12', 'bsi_19', 'bsi_38', 'bsi_45', 'bsi_49'],\n",
    "    'bsi_aggression': ['bsi_6', 'bsi_13', 'bsi_40', 'bsi_41', 'bsi_46'],\n",
    "    'bsi_phobia': ['bsi_8', 'bsi_28', 'bsi_31', 'bsi_43', 'bsi_47'],\n",
    "    'bsi_paranoia': ['bsi_4', 'bsi_10', 'bsi_24', 'bsi_48', 'bsi_51'],\n",
    "    'bsi_psychotizism': ['bsi_3', 'bsi_14', 'bsi_34', 'bsi_44', 'bsi_53'],\n",
    "    'bsi_additional': ['bsi_11', 'bsi_25', 'bsi_39', 'bsi_52']\n",
    "}\n",
    "\n",
    "# Check for missing columns and calculate each scale\n",
    "for scale, columns in bsi_scales.items():\n",
    "    missing_cols = [col for col in columns if col not in df_redcap_zert.columns]\n",
    "    if missing_cols:\n",
    "        print(f\"Missing columns in DataFrame for {scale}:\", missing_cols)\n",
    "    else:\n",
    "        # Sum the specified columns and create a new column for each scale\n",
    "        df_redcap_zert[scale] = df_redcap_zert[columns].sum(axis=1)"
   ]
  },
  {
   "cell_type": "code",
   "execution_count": null,
   "metadata": {},
   "outputs": [],
   "source": [
    "# Calculate BSI-GS in Certification dataset\n",
    "bsi_columns = [f'bsi_{i}' for i in range(1, 54)]\n",
    "df_redcap_zert['bsi_gs'] = df_redcap_zert[bsi_columns].sum(axis=1)\n",
    "df_redcap_zert['bsi_gsi'] = df_redcap_zert[\"bsi_gs\"]/53\n"
   ]
  },
  {
   "cell_type": "code",
   "execution_count": null,
   "metadata": {},
   "outputs": [],
   "source": [
    "# Check for different assessment times \n",
    "df_redcap_t5 = df_redcap.loc[df_redcap.redcap_event_name == 'v2_verlaufsmessung_arm_1']\n",
    "df_redcap_t20 = df_redcap.loc[df_redcap.redcap_event_name == 'v3_t20_arm_1']\n",
    "\n",
    "df_redcap_zert_t5 = df_redcap_zert.loc[df_redcap.redcap_event_name == 'v2_verlaufsmessung_arm_1']\n",
    "df_redcap_zert_t20 = df_redcap_zert.loc[df_redcap.redcap_event_name == 'v3_t20_arm_1']"
   ]
  },
  {
   "cell_type": "code",
   "execution_count": null,
   "metadata": {},
   "outputs": [],
   "source": [
    "# BSI at T20 \n",
    "bsi_list = ['for_id', 'bsi_gsi']\n",
    "df_redcap_t20 = df_redcap_t20[bsi_list]\n",
    "df_redcap_zert_t20 = df_redcap_zert_t20[bsi_list]\n",
    "df_t20 = pd.concat([df_redcap_t20, df_redcap_zert_t20],ignore_index=True)"
   ]
  },
  {
   "cell_type": "code",
   "execution_count": null,
   "metadata": {},
   "outputs": [],
   "source": [
    "df_redcap_zert = df_redcap_zert[['for_id', 'ema_start_date','ema_smartphone', 'ema_special_event', 'age', 'gender', 'marital_status', 'partnership', 'graduation','profession','years_of_education',\n",
    " 'employability', 'scid_cv_date','ses', 'somatic_problems','scid_cv_prim_cat', 'bsi_date','bsi_somatization',\n",
    " 'bsi_compulsivity','bsi_insecurity','bsi_depression','bsi_anxiety','bsi_aggression','bsi_phobia','bsi_paranoia',\n",
    " 'bsi_psychotizism','bsi_additional','bsi_gs','bsi_gsi', 'prior_treatment', 'redcap_event_name']] #ema_wear_exp"
   ]
  },
  {
   "cell_type": "markdown",
   "metadata": {},
   "source": [
    "### Redcap data"
   ]
  },
  {
   "cell_type": "code",
   "execution_count": null,
   "metadata": {},
   "outputs": [],
   "source": [
    "df_redcap =df_redcap.copy()"
   ]
  },
  {
   "cell_type": "code",
   "execution_count": null,
   "metadata": {},
   "outputs": [],
   "source": [
    "df_redcap_base = df_redcap.loc[df_redcap.redcap_event_name == 'v1_baseline_arm_1']\n",
    "df_redcap_zert_base = df_redcap_zert.loc[df_redcap_zert.redcap_event_name == 'v1_baseline_arm_1']\n",
    "\n",
    "df_redcap = pd.concat([df_redcap_base, df_redcap_zert_base],ignore_index=True)\n",
    "df_redcap = pd.merge(df_redcap, df_t20,on='for_id', suffixes=('_base', '_t20'), how=\"left\")\n",
    "\n",
    "df_redcap = df_redcap[['for_id', 'ema_start_date','ema_smartphone',\n",
    " 'ema_wear_exp', 'ema_special_event', 'age', 'gender', 'marital_status', 'partnership', 'graduation','profession','years_of_education',\n",
    " 'employability','ses', 'somatic_problems','scid_cv_prim_cat','bsi_somatization', 'prior_treatment',\n",
    " 'bsi_compulsivity','bsi_insecurity','bsi_depression','bsi_anxiety','bsi_aggression','bsi_phobia','bsi_paranoia',\n",
    " 'bsi_psychotizism','bsi_additional','bsi_gs','bsi_gsi_base', 'bsi_gsi_t20']] "
   ]
  },
  {
   "cell_type": "code",
   "execution_count": null,
   "metadata": {},
   "outputs": [],
   "source": [
    "valid_df = df_redcap.dropna(subset=['bsi_gsi_base', 'bsi_gsi_t20'])\n",
    "valid_df= valid_df[valid_df.bsi_gsi_t20 !=0]"
   ]
  },
  {
   "cell_type": "code",
   "execution_count": null,
   "metadata": {},
   "outputs": [],
   "source": [
    "valid_df = calculate_outcome_measures(valid_df)\n"
   ]
  },
  {
   "cell_type": "code",
   "execution_count": null,
   "metadata": {},
   "outputs": [],
   "source": [
    "# Step 7: Apply the function to the valid dataframe\n",
    "valid_df = calculate_outcome_measures(valid_df)\n",
    "\n",
    "# Step 8: Merge the result with the original dataframe\n",
    "df_redcap = df_redcap.merge(valid_df[['for_id','bsi_gsi_change', 'rci', 'clinically_significant', 'reliable_change', 'clinically_reliable_change']], how='left',on=\"for_id\")\n",
    "#With this approach, we first calculate the outcome measures for the entire dataframe, including rows "
   ]
  },
  {
   "cell_type": "code",
   "execution_count": null,
   "metadata": {},
   "outputs": [],
   "source": [
    "df_redcap.groupby('clinically_significant')[\"for_id\"].count()"
   ]
  },
  {
   "cell_type": "code",
   "execution_count": null,
   "metadata": {},
   "outputs": [],
   "source": [
    "df_redcap[\"ema_start_date\"] = pd.to_datetime(df_redcap[\"ema_start_date\"])"
   ]
  },
  {
   "cell_type": "code",
   "execution_count": null,
   "metadata": {},
   "outputs": [],
   "source": [
    "gender_mapping = {\n",
    "    1: 'male',\n",
    "    2: 'female',\n",
    "    3: 'diverse',\n",
    "    4: 'no gender',\n",
    "    5: 'not specified'\n",
    "}\n",
    "\n",
    "scid_cv_cat_mapping = {\n",
    "    1: 'Depressive Disorder',\n",
    "    2: 'Specific Phobia',\n",
    "    3: 'Social Anxiety Disorder',\n",
    "    4: 'Agoraphobia and/or Panic Disorder',\n",
    "    5: 'Generalized Anxiety Disorder',\n",
    "    6: 'Obsessive-Compulsive Disorder',\n",
    "    7: 'Post-Traumatic Stress Disorder'\n",
    "}\n",
    "\n",
    "marital_status_mapping = {\n",
    "    1: 'single',\n",
    "    2: 'married/registered partnership',\n",
    "    3: 'divorced',\n",
    "    4: 'separated',\n",
    "    5: 'widowed',\n",
    "    6: 'other'\n",
    "}\n",
    "\n",
    "employability_mapping = {\n",
    "    0: 'employable',\n",
    "    1: 'unemployable (on sick leave)',\n",
    "    2: 'on disability pension',\n",
    "    3: 'on retirement pension',\n",
    "    4: 'other'\n",
    "}\n",
    "\n",
    "graduation_mapping = {\n",
    "    0: 'still in school',\n",
    "    1: 'no school degree',\n",
    "    2: 'elementary school degree or equivalent',\n",
    "    3: 'middle school degree or equivalent',\n",
    "    4: 'high school diploma/university entrance qualification',\n",
    "    5: 'other'\n",
    "}\n",
    "\n",
    "profession_mapping = {\n",
    "    0: 'still in training or studies',\n",
    "    1: 'no training degree',\n",
    "    2: 'vocational training, including technical school',\n",
    "    3: 'university or college degree',\n",
    "    4: 'other'\n",
    "}\n",
    "\n",
    "prior_treatment_mapping = {\n",
    "    0: 'no prior treatment',\n",
    "    1: 'outpatient psychotherapy',\n",
    "    2: 'inpatient or partial inpatient treatment/psychotherapy',\n",
    "    3: 'both',\n",
    "    4: 'yes'\n",
    "}\n",
    "\n",
    "ema_smartphone_mapping = {\n",
    "    1: 'iPhone',\n",
    "    0: 'Android'\n",
    "}\n",
    "\n",
    "ema_special_event_mapping = {\n",
    "    0: 'usual',\n",
    "    1: 'special event'\n",
    "}"
   ]
  },
  {
   "cell_type": "code",
   "execution_count": null,
   "metadata": {},
   "outputs": [],
   "source": [
    "# Apply mappings\n",
    "df_redcap['gender_description'] = df_redcap['gender'].map(gender_mapping)\n",
    "df_redcap['scid_cv_description'] = df_redcap['scid_cv_prim_cat'].map(scid_cv_cat_mapping)\n",
    "df_redcap['marital_status_description'] = df_redcap['marital_status'].map(marital_status_mapping)\n",
    "df_redcap['employability_description'] = df_redcap['employability'].map(employability_mapping)\n",
    "df_redcap['graduation_description'] = df_redcap['graduation'].map(graduation_mapping)\n",
    "df_redcap['profession_description'] = df_redcap['profession'].map(profession_mapping)\n",
    "df_redcap['prior_treatment_description'] = df_redcap['prior_treatment'].map(prior_treatment_mapping)\n",
    "df_redcap['ema_smartphone_description'] = df_redcap['ema_smartphone'].map(ema_smartphone_mapping)\n",
    "df_redcap['ema_special_event_description'] = df_redcap['ema_special_event'].map(ema_special_event_mapping)\n",
    "df_redcap['age_cat'] = df_redcap['age'].apply(age_mapping)\n"
   ]
  },
  {
   "cell_type": "markdown",
   "metadata": {},
   "source": [
    "### Monitoring data"
   ]
  },
  {
   "cell_type": "code",
   "execution_count": null,
   "metadata": {},
   "outputs": [],
   "source": [
    "df_monitoring = df_monitoring.copy()\n",
    "df_monitoring.rename(columns = {\"Pseudonym\": \"customer\", \"EMA_ID\": \"ema_id\", \"Status\": \"status\",\n",
    "                                \"Studienversion\":\"study_version\", \"FOR_ID\":\"for_id\", \n",
    "                           \"Start EMA Baseline\": \"ema_base_start\", \"Ende EMA Baseline\": \"ema_base_end\", \n",
    "                           \"Freischaltung/ Start EMA T20\": \"ema_t20_start\",\"Ende EMA T20\":\"ema_t20_end\", \n",
    "                               \"Termin 1. Gespräch\": \"first_call_date\"}, inplace=True)"
   ]
  },
  {
   "cell_type": "code",
   "execution_count": null,
   "metadata": {},
   "outputs": [],
   "source": [
    "df_monitoring[\"customer\"] = df_monitoring[\"customer\"].str[:4]\n",
    "df_monitoring = df_monitoring[[\"customer\", \"ema_id\", \"study_version\", \"for_id\", \"status\"]]\n",
    "df_monitoring[\"for_id\"] = df_monitoring.for_id.str.strip()\n",
    "\n"
   ]
  },
  {
   "cell_type": "code",
   "execution_count": null,
   "metadata": {},
   "outputs": [],
   "source": [
    "df_monitoring = pd.merge(df_monitoring, df_redcap, on=\"for_id\", how=\"left\")\n",
    "df_monitoring[\"ema_end_date\"] = df_monitoring.ema_start_date + dt.timedelta(days=15)"
   ]
  },
  {
   "cell_type": "code",
   "execution_count": null,
   "metadata": {},
   "outputs": [],
   "source": [
    "df_ema_start = df_monitoring[[\"customer\", \"ema_start_date\", \"status\", \"study_version\", \"ema_end_date\"]]"
   ]
  },
  {
   "cell_type": "markdown",
   "metadata": {},
   "source": [
    "### Passive data"
   ]
  },
  {
   "cell_type": "code",
   "execution_count": null,
   "metadata": {},
   "outputs": [],
   "source": [
    "### 1.1 Import epoch level passive + GPS data\n",
    "\n",
    "df_complete[\"customer\"] = df_complete.customer.str.split(\"@\").str.get(0)\n",
    "df_complete[\"customer\"] = df_complete[\"customer\"].str[:4]\n",
    "\n",
    "df_complete[\"start_end\"] = df_complete[\"endTimestamp\"] - df_complete[\"startTimestamp\"]\n",
    "df_complete[\"startTimestamp\"] = pd.to_datetime(df_complete[\"startTimestamp\"],unit='ms')\n",
    "df_complete[\"endTimestamp\"] = pd.to_datetime(df_complete[\"endTimestamp\"],unit='ms')\n",
    "df_complete[\"createdAt\"] = pd.to_datetime(df_complete[\"createdAt\"],unit='ms')\n",
    "\n",
    "\n",
    "## Timezone offset \n",
    "\n",
    "# Handle NaN in timezoneOffset by skipping or replacing with a default\n",
    "# Here, we skip adjustments for NaN offsets by using np.where to check for NaN\n",
    "df_complete['startTimestamp'] = np.where(df_complete['timezoneOffset'].isna(),\n",
    "                               df_complete['startTimestamp'],  # If NaN, keep original timestamp\n",
    "                               df_complete['startTimestamp'] + pd.to_timedelta(df_complete['timezoneOffset'], unit='m'))  # Else, apply offset\n",
    "\n",
    "df_complete['createdAt'] = np.where(df_complete['createdAt'].isna(),\n",
    "                               df_complete['createdAt'],  # If NaN, keep original timestamp\n",
    "                               df_complete['createdAt'] + pd.to_timedelta(df_complete['timezoneOffset'], unit='m'))  # Else, apply offset\n",
    "\n",
    "df_complete['endTimestamp'] = np.where(df_complete['endTimestamp'].isna(),\n",
    "                               df_complete['endTimestamp'],  # If NaN, keep original timestamp\n",
    "                               df_complete['endTimestamp'] + pd.to_timedelta(df_complete['timezoneOffset'], unit='m'))  # Else, apply offset\n",
    "\n",
    "\n",
    "df_complete[\"startTimestamp_day\"] = df_complete.startTimestamp.dt.normalize()\n",
    "df_complete[\"createdAt_day\"] = df_complete.createdAt.dt.normalize()\n",
    "\n",
    "df_complete[\"startTimestamp_hour\"] = df_complete.startTimestamp.dt.hour\n",
    "df_complete[\"createdAt_hour\"] = df_complete.createdAt.dt.hour\n"
   ]
  },
  {
   "cell_type": "code",
   "execution_count": null,
   "metadata": {},
   "outputs": [],
   "source": [
    "#Extract GPS data\n",
    "df_loc_complete = df_complete[df_complete.type.isin([\"Latitude\", \"Longitude\"])]\n",
    "df_loc_complete = df_loc_complete[[\"customer\", \"startTimestamp\",\"endTimestamp\",\"type\", \"doubleValue\", \n",
    "                           'createdAt', 'startTimestamp_day', 'createdAt_day',\n",
    "       'startTimestamp_hour', 'createdAt_hour']]\n",
    "df_loc_complete = df_loc_complete.merge(df_ema_start, on=\"customer\", how=\"left\")"
   ]
  },
  {
   "cell_type": "code",
   "execution_count": null,
   "metadata": {},
   "outputs": [],
   "source": [
    "# Find the earliest 'startTimestamp_day' for each customer\n",
    "earliest_timestamp_per_customer = df_loc_complete.groupby('customer')['startTimestamp_day'].min()\n",
    "\n",
    "# Map the earliest timestamp back to the original dataframe\n",
    "df_loc_complete['earliest_start_day'] = df_loc_complete['customer'].map(earliest_timestamp_per_customer)\n",
    "\n",
    "# Calculate 'relative_day' as the difference in days from the earliest day\n",
    "df_loc_complete['relative_day'] = (df_loc_complete['startTimestamp_day'] - df_loc_complete['earliest_start_day']).dt.days\n"
   ]
  },
  {
   "cell_type": "code",
   "execution_count": null,
   "metadata": {},
   "outputs": [],
   "source": [
    "df_loc_complete['potential_days_coverage'] = (today_day - df_loc_complete['earliest_start_day']).dt.days\n",
    "\n",
    "condition = (\n",
    "    (df_loc_complete['status'] == 'Abgeschlossen') & \n",
    "    (df_loc_complete['study_version'].isin(['Kurz', 'Kurz (Wechsel/Abbruch)']))\n",
    ")\n",
    "\n",
    "df_loc_complete['potential_days_coverage'] = np.where(\n",
    "    condition,\n",
    "    (df_loc_complete['ema_end_date'] - df_loc_complete['earliest_start_day']).dt.days,\n",
    "    df_loc_complete['potential_days_coverage']\n",
    ")\n",
    "\n",
    "# Count unique days with data for each customer\n",
    "actual_days = df_loc_complete.groupby('customer')['startTimestamp_day'].nunique()\n",
    "\n",
    "# Mapping the actual number of days back to the DataFrame\n",
    "df_loc_complete['actual_days_with_data'] = df_loc_complete['customer'].map(actual_days)\n",
    "\n",
    "df_loc_complete['data_coverage_per'] = (df_loc_complete['actual_days_with_data'] / df_loc_complete['potential_days_coverage']) * 100\n"
   ]
  },
  {
   "cell_type": "code",
   "execution_count": null,
   "metadata": {},
   "outputs": [],
   "source": [
    "df_pd_complete = df_complete[~df_complete.type.isin([\"Latitude\", \"Longitude\"])]\n",
    "df_pd_complete = df_pd_complete[[\"customer\", \"startTimestamp\", \"endTimestamp\",\"start_end\",\"type\", \"doubleValue\", 'longValue', 'booleanValue', 'dateValue',\n",
    "       'stringValue',\"timezoneOffset\", 'createdAt', 'startTimestamp_day', 'createdAt_day',\n",
    "       'startTimestamp_hour', 'createdAt_hour']]\n",
    "df_pd_complete = df_pd_complete.merge(df_ema_start, on=\"customer\", how=\"left\")"
   ]
  },
  {
   "cell_type": "code",
   "execution_count": null,
   "metadata": {},
   "outputs": [],
   "source": [
    "# Find the earliest 'startTimestamp_day' for each customer\n",
    "earliest_timestamp_per_customer = df_pd_complete.groupby('customer')['startTimestamp_day'].min()\n",
    "\n",
    "# Map the earliest timestamp back to the original dataframe\n",
    "df_pd_complete['earliest_start_day'] = df_pd_complete['customer'].map(earliest_timestamp_per_customer)\n",
    "\n",
    "# Calculate 'relative_day' as the difference in days from the earliest day\n",
    "df_pd_complete['relative_day'] = (df_pd_complete['startTimestamp_day'] - df_pd_complete['earliest_start_day']).dt.days\n"
   ]
  },
  {
   "cell_type": "code",
   "execution_count": null,
   "metadata": {},
   "outputs": [],
   "source": [
    "df_pd_complete['potential_days_coverage'] = (today_day - df_pd_complete['earliest_start_day']).dt.days\n",
    "\n",
    "condition = (\n",
    "    (df_pd_complete['status'] == 'Abgeschlossen') & \n",
    "    (df_pd_complete['study_version'].isin(['Kurz', 'Kurz (Wechsel/Abbruch)']))\n",
    ")\n",
    "\n",
    "df_pd_complete['potential_days_coverage'] = np.where(\n",
    "    condition,\n",
    "    (df_pd_complete['ema_end_date'] - df_pd_complete['earliest_start_day']).dt.days,\n",
    "    df_pd_complete['potential_days_coverage']\n",
    ")\n",
    "# Count unique days with data for each customer\n",
    "actual_days = df_pd_complete.groupby('customer')['startTimestamp_day'].nunique()\n",
    "\n",
    "# Mapping the actual number of days back to the DataFrame\n",
    "df_pd_complete['actual_days_with_data'] = df_pd_complete['customer'].map(actual_days)\n",
    "\n",
    "df_pd_complete['data_coverage_per'] = (df_pd_complete['actual_days_with_data'] / df_pd_complete['potential_days_coverage']) * 100\n"
   ]
  },
  {
   "cell_type": "code",
   "execution_count": null,
   "metadata": {},
   "outputs": [],
   "source": [
    "df_pd_complete.data_coverage_per"
   ]
  },
  {
   "cell_type": "code",
   "execution_count": null,
   "metadata": {},
   "outputs": [],
   "source": [
    "b"
   ]
  },
  {
   "cell_type": "code",
   "execution_count": null,
   "metadata": {},
   "outputs": [],
   "source": [
    "\n",
    "with open(datapath + f'/passive_data.pkl', 'wb') as file:\n",
    "    pickle.dump(df_pd_complete, file)\n",
    "    \n",
    "with open(datapath + f'/gps_data.pkl', 'wb') as file:\n",
    "    pickle.dump(df_loc_complete, file)"
   ]
  },
  {
   "cell_type": "markdown",
   "metadata": {},
   "source": [
    "### EMA data"
   ]
  },
  {
   "cell_type": "code",
   "execution_count": null,
   "metadata": {},
   "outputs": [],
   "source": [
    "# load data\n",
    "session = pd.read_csv(datapath1 + \"questionnaireSession.csv\",low_memory=False)\n",
    "answers = pd.read_csv(datapath1 + \"answers.csv\", low_memory=False)\n",
    "choice = pd.read_csv(datapath1 + \"choice.csv\",low_memory=False)\n",
    "questions = pd.read_csv(datapath1 + \"questions.csv\",low_memory=False)\n",
    "questionnaire = pd.read_csv(datapath1 + \"questionnaires.csv\", low_memory=False)\n"
   ]
  },
  {
   "cell_type": "code",
   "execution_count": null,
   "metadata": {},
   "outputs": [],
   "source": [
    "# session data\n",
    "session[\"user\"] = session[\"user\"].str[:4]\n",
    "session.rename(columns = {\"user\":\"customer\",\"completedAt\": \"quest_complete\", \"createdAt\": \"quest_create\", \"expirationTimestamp\": \"quest_expir\"}, inplace=True)\n",
    "session[\"quest_create\"] = (pd.to_datetime(session[\"quest_create\"],unit='ms'))\n",
    "session[\"quest_complete\"] = (pd.to_datetime(session[\"quest_complete\"],unit='ms'))\n",
    "\n",
    "df_sess = session[[\"customer\", \"sessionRun\", \"quest_create\", \"quest_complete\", \"study\"]]"
   ]
  },
  {
   "cell_type": "code",
   "execution_count": null,
   "metadata": {},
   "outputs": [],
   "source": [
    "# answer data \n",
    "answers[\"user\"] = answers[\"user\"].str[:4]\n",
    "answers = answers[[\"user\", \"questionnaireSession\", \"questionnaire\", \"study\", \n",
    "                   \"question\", \"order\",\"element\", \"createdAt\"]]\n",
    "answers[\"createdAt\"] = (pd.to_datetime(answers[\"createdAt\"],unit='ms'))\n",
    "answers.rename(columns={\"user\":\"customer\",\"questionnaireSession\":\"session_unique\"}, inplace=True)"
   ]
  },
  {
   "cell_type": "code",
   "execution_count": null,
   "metadata": {},
   "outputs": [],
   "source": [
    "# item description data\n",
    "choice = choice[[\"element\", \"choice_id\", \"text\", \"question\"]]\n",
    "choice.rename(columns={\"text\":\"choice_text\"}, inplace=True)"
   ]
  },
  {
   "cell_type": "code",
   "execution_count": null,
   "metadata": {},
   "outputs": [],
   "source": [
    "# question description data\n",
    "questions = questions[[\"id\", \"title\"]]\n",
    "questions.rename(columns={\"id\":\"question\",\"title\":\"quest_title\"}, inplace=True)"
   ]
  },
  {
   "cell_type": "code",
   "execution_count": null,
   "metadata": {},
   "outputs": [],
   "source": [
    "questionnaire = questionnaire[[\"id\", \"name\"]]\n",
    "questionnaire.rename(columns={\"id\":\"questionnaire\",\"name\":\"questionnaire_name\"}, inplace=True)"
   ]
  },
  {
   "cell_type": "code",
   "execution_count": null,
   "metadata": {},
   "outputs": [],
   "source": [
    "answer_merged = pd.merge(answers, choice, on= [\"question\",\"element\"])\n",
    "answer_merged = pd.merge(answer_merged, questions, on= \"question\")\n",
    "answer_merged = pd.merge(answer_merged, questionnaire, on= \"questionnaire\")\n",
    "answer_merged[\"quest_complete_day\"] = answer_merged.createdAt.dt.normalize()\n",
    "\n",
    "answer_merged = answer_merged.merge(df_ema_start, on=\"customer\", how=\"left\")"
   ]
  },
  {
   "cell_type": "code",
   "execution_count": null,
   "metadata": {},
   "outputs": [],
   "source": [
    "df_sess = pd.merge(df_sess, df_monitoring, on = \"customer\")"
   ]
  },
  {
   "cell_type": "code",
   "execution_count": null,
   "metadata": {},
   "outputs": [],
   "source": [
    "df_sess = df_sess.copy()\n",
    "df_sess[\"quest_create_day\"] = df_sess.quest_create.dt.normalize()\n",
    "df_sess[\"quest_complete_day\"] = df_sess.quest_complete.dt.normalize()\n",
    "\n",
    "df_sess[\"quest_create_hour\"] = df_sess.quest_create.dt.hour\n",
    "df_sess[\"quest_complete_hour\"] = df_sess.quest_complete.dt.hour"
   ]
  },
  {
   "cell_type": "code",
   "execution_count": null,
   "metadata": {},
   "outputs": [],
   "source": [
    "# count number of completed EMA beeps in first phase\n",
    "df_sess1 = df_sess.loc[df_sess.study.isin([24,25])]\n",
    "df_sess1 = df_sess1.copy()\n",
    "\n",
    "# Convert the 'ema_base_start' and 'quest_complete_day' columns to datetime\n",
    "try:\n",
    "    df_sess1['ema_start_date'] = pd.to_datetime(df_sess1['ema_start_date'])\n",
    "    df_sess1['quest_complete_day'] = pd.to_datetime(df_sess1['quest_complete_day'])\n",
    "except Exception as e:\n",
    "    print(f\"Error converting to datetime: {e}\")\n",
    "\n",
    "# Check if conversion was successful\n",
    "if df_sess1['ema_start_date'].dtype == 'datetime64[ns]' and df_sess1['quest_complete_day'].dtype == 'datetime64[ns]':\n",
    "    # Calculate 'day_relative'\n",
    "    df_sess1['quest_complete_relative1'] = (df_sess1['quest_complete_day'] - df_sess1['ema_start_date']).dt.days\n",
    "else:\n",
    "    print(\"Failed to convert one or more date columns to datetime format.\")\n",
    "\n",
    "sess_count1 = df_sess1.dropna(subset=[\"quest_complete\"]).groupby(\"customer\")[\"quest_complete\"].size()\\\n",
    ".reset_index()\n",
    "sess_count1 = sess_count1.rename(columns = {\"quest_complete\":\"nquest_EMA1\"})\n"
   ]
  },
  {
   "cell_type": "code",
   "execution_count": null,
   "metadata": {},
   "outputs": [],
   "source": [
    "daily_counts = df_sess1.groupby(['customer', 'quest_complete_day','quest_complete_relative1']).size().reset_index(name='daily_entries_sum')"
   ]
  },
  {
   "cell_type": "code",
   "execution_count": null,
   "metadata": {},
   "outputs": [],
   "source": [
    "# count number of completed EMA beeps in second phase\n",
    "df_sess2 = df_sess.loc[df_sess.study.isin([33,34])]\n",
    "sess_count2 = df_sess2.dropna(subset=[\"quest_complete\"]).groupby(\"customer\")[\"quest_complete\"].size()\\\n",
    ".reset_index()\n",
    "sess_count2 = sess_count2.rename(columns = {\"quest_complete\":\"nquest_EMA2\"})"
   ]
  },
  {
   "cell_type": "code",
   "execution_count": null,
   "metadata": {},
   "outputs": [],
   "source": [
    "df_sess = df_sess.merge(sess_count1, on=['customer'], how='left')\n",
    "df_sess = df_sess.merge(sess_count2, on=['customer'], how='left')"
   ]
  },
  {
   "cell_type": "code",
   "execution_count": null,
   "metadata": {},
   "outputs": [],
   "source": [
    "\n",
    "with open(datapath + f'/ema_data.pkl', 'wb') as file:\n",
    "    pickle.dump(df_sess, file)\n",
    "    \n",
    "with open(datapath + f'/monitoring_data.pkl', 'wb') as file:\n",
    "    pickle.dump(df_monitoring, file)\n",
    "    \n",
    "with open(datapath + f'/ema_content.pkl', 'wb') as file:\n",
    "    pickle.dump(answer_merged, file)"
   ]
  },
  {
   "cell_type": "code",
   "execution_count": null,
   "metadata": {},
   "outputs": [],
   "source": []
  }
 ],
 "metadata": {
  "kernelspec": {
   "display_name": "Python 3 (ipykernel)",
   "language": "python",
   "name": "python3"
  },
  "language_info": {
   "codemirror_mode": {
    "name": "ipython",
    "version": 3
   },
   "file_extension": ".py",
   "mimetype": "text/x-python",
   "name": "python",
   "nbconvert_exporter": "python",
   "pygments_lexer": "ipython3",
   "version": "3.11.5"
  }
 },
 "nbformat": 4,
 "nbformat_minor": 2
}
