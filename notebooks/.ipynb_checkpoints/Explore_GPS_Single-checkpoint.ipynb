{
 "cells": [
  {
   "cell_type": "markdown",
   "id": "3531b00c",
   "metadata": {},
   "source": [
    "# Explore GPS Short"
   ]
  },
  {
   "cell_type": "code",
   "execution_count": 1,
   "id": "ba6819c9",
   "metadata": {},
   "outputs": [
    {
     "name": "stderr",
     "output_type": "stream",
     "text": [
      "\n",
      "Bad key text.latex.preview in file /Users/leonahammelrath/opt/anaconda3/lib/python3.7/site-packages/matplotlib/mpl-data/stylelib/_classic_test.mplstyle, line 123 ('text.latex.preview : False')\n",
      "You probably need to get an updated matplotlibrc file from\n",
      "https://github.com/matplotlib/matplotlib/blob/v3.5.3/matplotlibrc.template\n",
      "or from the matplotlib source distribution\n",
      "\n",
      "Bad key mathtext.fallback_to_cm in file /Users/leonahammelrath/opt/anaconda3/lib/python3.7/site-packages/matplotlib/mpl-data/stylelib/_classic_test.mplstyle, line 155 ('mathtext.fallback_to_cm : True  # When True, use symbols from the Computer Modern')\n",
      "You probably need to get an updated matplotlibrc file from\n",
      "https://github.com/matplotlib/matplotlib/blob/v3.5.3/matplotlibrc.template\n",
      "or from the matplotlib source distribution\n",
      "\n",
      "Bad key savefig.jpeg_quality in file /Users/leonahammelrath/opt/anaconda3/lib/python3.7/site-packages/matplotlib/mpl-data/stylelib/_classic_test.mplstyle, line 418 ('savefig.jpeg_quality: 95       # when a jpeg is saved, the default quality parameter.')\n",
      "You probably need to get an updated matplotlibrc file from\n",
      "https://github.com/matplotlib/matplotlib/blob/v3.5.3/matplotlibrc.template\n",
      "or from the matplotlib source distribution\n",
      "\n",
      "Bad key keymap.all_axes in file /Users/leonahammelrath/opt/anaconda3/lib/python3.7/site-packages/matplotlib/mpl-data/stylelib/_classic_test.mplstyle, line 466 ('keymap.all_axes : a                 # enable all axes')\n",
      "You probably need to get an updated matplotlibrc file from\n",
      "https://github.com/matplotlib/matplotlib/blob/v3.5.3/matplotlibrc.template\n",
      "or from the matplotlib source distribution\n",
      "\n",
      "Bad key animation.avconv_path in file /Users/leonahammelrath/opt/anaconda3/lib/python3.7/site-packages/matplotlib/mpl-data/stylelib/_classic_test.mplstyle, line 477 ('animation.avconv_path: avconv     # Path to avconv binary. Without full path')\n",
      "You probably need to get an updated matplotlibrc file from\n",
      "https://github.com/matplotlib/matplotlib/blob/v3.5.3/matplotlibrc.template\n",
      "or from the matplotlib source distribution\n",
      "\n",
      "Bad key animation.avconv_args in file /Users/leonahammelrath/opt/anaconda3/lib/python3.7/site-packages/matplotlib/mpl-data/stylelib/_classic_test.mplstyle, line 479 ('animation.avconv_args:            # Additional arguments to pass to avconv')\n",
      "You probably need to get an updated matplotlibrc file from\n",
      "https://github.com/matplotlib/matplotlib/blob/v3.5.3/matplotlibrc.template\n",
      "or from the matplotlib source distribution\n"
     ]
    }
   ],
   "source": [
    "import pandas as pd\n",
    "import numpy as np\n",
    "import datetime as dt\n",
    "from datetime import date\n",
    "import geopandas as gpd\n",
    "from shapely.geometry import Point, MultiPoint\n",
    "from sklearn.cluster import DBSCAN\n",
    "from scipy.stats import mode\n",
    "\n",
    "import matplotlib.pyplot as plt\n",
    "import seaborn as sns\n",
    "from geopy.distance import great_circle\n",
    "import geopy.distance\n",
    "\n",
    "today = date.today()\n",
    "week_ago = today - dt.timedelta(days=7)\n",
    "today = today.strftime(\"%d%m%Y\")\n",
    "week_ago = week_ago.strftime(\"%Y-%m-%d\")\n",
    "today = \"09102023\"\n",
    "\n",
    "datapath = \"/Users/leonahammelrath/FU_Psychoinformatik/Github/tiki_code/data/\"\n",
    "filepath = datapath + f\"export_{today}.csv\"\n",
    "\n",
    "datapath1 = datapath + f\"export_tiki_{today}/\"\n",
    "filepath_1 = datapath1 + \"epoch_part0001.csv\"\n",
    "filepath_2 = datapath1 + \"epoch_part0002.csv\"\n",
    "filepath_3 = datapath1 + \"epoch_part0003.csv\"\n",
    "filepath_4 = datapath1 + \"epoch_part0004.csv\""
   ]
  },
  {
   "cell_type": "code",
   "execution_count": 2,
   "id": "4c124c67",
   "metadata": {},
   "outputs": [
    {
     "name": "stderr",
     "output_type": "stream",
     "text": [
      "/Users/leonahammelrath/opt/anaconda3/lib/python3.7/site-packages/IPython/core/interactiveshell.py:3326: DtypeWarning: Columns (10) have mixed types.Specify dtype option on import or set low_memory=False.\n",
      "  exec(code_obj, self.user_global_ns, self.user_ns)\n"
     ]
    }
   ],
   "source": [
    "df_1 = pd.read_csv(filepath_1, encoding= \"latin-1\")\n",
    "df_2 = pd.read_csv(filepath_2, encoding= \"latin-1\")\n",
    "df_3 = pd.read_csv(filepath_3, encoding= \"latin-1\")\n",
    "df_4 = pd.read_csv(filepath_4, encoding= \"latin-1\")"
   ]
  },
  {
   "cell_type": "code",
   "execution_count": 3,
   "id": "36553e64",
   "metadata": {},
   "outputs": [],
   "source": [
    "df_location_1 = df_1[df_1.type.isin([\"Latitude\", \"Longitude\"])]\n",
    "df_location_2 = df_2[df_2.type.isin([\"Latitude\", \"Longitude\"])]\n",
    "df_location_3 = df_3[df_3.type.isin([\"Latitude\", \"Longitude\"])]\n",
    "df_location_4 = df_4[df_4.type.isin([\"Latitude\", \"Longitude\"])]"
   ]
  },
  {
   "cell_type": "code",
   "execution_count": 4,
   "id": "3b4be31f",
   "metadata": {},
   "outputs": [],
   "source": [
    "df_active = pd.read_csv(\"/Users/leonahammelrath/FU_Psychoinformatik/Github/tiki_code/data/active_participants.csv\")\n",
    "df_active.rename(columns = {\"Pseudonym \": \"customer\", \"EMA ID\": \"ema_id\", \"Ende EMA Baseline\": \"end_ema\", \"Status\": \"status\",\n",
    "                            \"Start EMA Baseline\": \"start_ema\", \"Studienversion\":\"study_version\", \"FOR_ID\":\"for_id\"}, inplace=True)\n",
    "df_active[\"customer\"] = df_active[\"customer\"].str[:4]\n",
    "df_active = df_active[[\"customer\", \"end_ema\", \"start_ema\", \"status\"]]\n"
   ]
  },
  {
   "cell_type": "code",
   "execution_count": 5,
   "id": "db65759b",
   "metadata": {},
   "outputs": [],
   "source": [
    "df_complete = pd.concat([df_location_1, df_location_2, df_location_3,df_location_4])"
   ]
  },
  {
   "cell_type": "code",
   "execution_count": 6,
   "id": "ad33d493",
   "metadata": {},
   "outputs": [
    {
     "data": {
      "text/plain": [
       "91"
      ]
     },
     "execution_count": 6,
     "metadata": {},
     "output_type": "execute_result"
    }
   ],
   "source": [
    "df_complete.customer.nunique()"
   ]
  },
  {
   "cell_type": "code",
   "execution_count": 7,
   "id": "309d1ca0",
   "metadata": {},
   "outputs": [],
   "source": [
    "df_complete = df_complete[[\"customer\", \"startTimestamp\", \"type\", \"doubleValue\", \n",
    "                           \"timezoneOffset\"]]"
   ]
  },
  {
   "cell_type": "code",
   "execution_count": 8,
   "id": "6c7c5f55",
   "metadata": {},
   "outputs": [],
   "source": [
    "df_complete[\"customer\"] = df_complete.customer.str.split(\"@\").str.get(0)\n",
    "df_complete[\"customer\"] = df_complete[\"customer\"].str[:4]"
   ]
  },
  {
   "cell_type": "code",
   "execution_count": 9,
   "id": "ce7cdade",
   "metadata": {},
   "outputs": [],
   "source": [
    "df_complete[\"timezoneOffset\"] = df_complete[\"timezoneOffset\"] * 60000"
   ]
  },
  {
   "cell_type": "code",
   "execution_count": 10,
   "id": "ecbd03d9",
   "metadata": {},
   "outputs": [],
   "source": [
    "df_complete[\"date\"] = df_complete[\"startTimestamp\"] + df_complete[\"timezoneOffset\"]"
   ]
  },
  {
   "cell_type": "code",
   "execution_count": 11,
   "id": "0f891b09",
   "metadata": {},
   "outputs": [],
   "source": [
    "df_complete = pd.merge(df_complete, df_active, on=\"customer\")"
   ]
  },
  {
   "cell_type": "code",
   "execution_count": 12,
   "id": "9963c891",
   "metadata": {},
   "outputs": [
    {
     "data": {
      "text/html": [
       "<div>\n",
       "<style scoped>\n",
       "    .dataframe tbody tr th:only-of-type {\n",
       "        vertical-align: middle;\n",
       "    }\n",
       "\n",
       "    .dataframe tbody tr th {\n",
       "        vertical-align: top;\n",
       "    }\n",
       "\n",
       "    .dataframe thead th {\n",
       "        text-align: right;\n",
       "    }\n",
       "</style>\n",
       "<table border=\"1\" class=\"dataframe\">\n",
       "  <thead>\n",
       "    <tr style=\"text-align: right;\">\n",
       "      <th></th>\n",
       "      <th>customer</th>\n",
       "      <th>startTimestamp</th>\n",
       "      <th>type</th>\n",
       "      <th>doubleValue</th>\n",
       "      <th>timezoneOffset</th>\n",
       "      <th>date</th>\n",
       "      <th>end_ema</th>\n",
       "      <th>start_ema</th>\n",
       "      <th>status</th>\n",
       "    </tr>\n",
       "  </thead>\n",
       "  <tbody>\n",
       "    <tr>\n",
       "      <th>0</th>\n",
       "      <td>0ePW</td>\n",
       "      <td>1688384647000</td>\n",
       "      <td>Latitude</td>\n",
       "      <td>4.065911</td>\n",
       "      <td>7200000.0</td>\n",
       "      <td>2023-07-03 13:44:07</td>\n",
       "      <td>17.07.2023</td>\n",
       "      <td>03.07.2023</td>\n",
       "      <td>Post_Erhebung_1</td>\n",
       "    </tr>\n",
       "    <tr>\n",
       "      <th>1</th>\n",
       "      <td>0ePW</td>\n",
       "      <td>1688384647000</td>\n",
       "      <td>Longitude</td>\n",
       "      <td>7.979800</td>\n",
       "      <td>7200000.0</td>\n",
       "      <td>2023-07-03 13:44:07</td>\n",
       "      <td>17.07.2023</td>\n",
       "      <td>03.07.2023</td>\n",
       "      <td>Post_Erhebung_1</td>\n",
       "    </tr>\n",
       "    <tr>\n",
       "      <th>2</th>\n",
       "      <td>0ePW</td>\n",
       "      <td>1688384649000</td>\n",
       "      <td>Latitude</td>\n",
       "      <td>4.065911</td>\n",
       "      <td>7200000.0</td>\n",
       "      <td>2023-07-03 13:44:09</td>\n",
       "      <td>17.07.2023</td>\n",
       "      <td>03.07.2023</td>\n",
       "      <td>Post_Erhebung_1</td>\n",
       "    </tr>\n",
       "    <tr>\n",
       "      <th>3</th>\n",
       "      <td>0ePW</td>\n",
       "      <td>1688384649000</td>\n",
       "      <td>Longitude</td>\n",
       "      <td>7.979800</td>\n",
       "      <td>7200000.0</td>\n",
       "      <td>2023-07-03 13:44:09</td>\n",
       "      <td>17.07.2023</td>\n",
       "      <td>03.07.2023</td>\n",
       "      <td>Post_Erhebung_1</td>\n",
       "    </tr>\n",
       "    <tr>\n",
       "      <th>4</th>\n",
       "      <td>0ePW</td>\n",
       "      <td>1688387251000</td>\n",
       "      <td>Latitude</td>\n",
       "      <td>4.068711</td>\n",
       "      <td>7200000.0</td>\n",
       "      <td>2023-07-03 14:27:31</td>\n",
       "      <td>17.07.2023</td>\n",
       "      <td>03.07.2023</td>\n",
       "      <td>Post_Erhebung_1</td>\n",
       "    </tr>\n",
       "  </tbody>\n",
       "</table>\n",
       "</div>"
      ],
      "text/plain": [
       "  customer  startTimestamp       type  doubleValue  timezoneOffset  \\\n",
       "0     0ePW   1688384647000   Latitude     4.065911       7200000.0   \n",
       "1     0ePW   1688384647000  Longitude     7.979800       7200000.0   \n",
       "2     0ePW   1688384649000   Latitude     4.065911       7200000.0   \n",
       "3     0ePW   1688384649000  Longitude     7.979800       7200000.0   \n",
       "4     0ePW   1688387251000   Latitude     4.068711       7200000.0   \n",
       "\n",
       "                 date     end_ema   start_ema           status  \n",
       "0 2023-07-03 13:44:07  17.07.2023  03.07.2023  Post_Erhebung_1  \n",
       "1 2023-07-03 13:44:07  17.07.2023  03.07.2023  Post_Erhebung_1  \n",
       "2 2023-07-03 13:44:09  17.07.2023  03.07.2023  Post_Erhebung_1  \n",
       "3 2023-07-03 13:44:09  17.07.2023  03.07.2023  Post_Erhebung_1  \n",
       "4 2023-07-03 14:27:31  17.07.2023  03.07.2023  Post_Erhebung_1  "
      ]
     },
     "execution_count": 12,
     "metadata": {},
     "output_type": "execute_result"
    }
   ],
   "source": [
    "df_complete[\"date\"] = pd.to_datetime(df_complete[\"date\"],unit='ms')\n",
    "df_complete.head()"
   ]
  },
  {
   "cell_type": "code",
   "execution_count": 13,
   "id": "ca826323",
   "metadata": {},
   "outputs": [],
   "source": [
    "#df_complete[\"start_ema\"] = pd.to_datetime(df_complete[\"start_ema\"]).dt.strftime('%Y-%m-%d')\n",
    "#df_complete[\"end_ema\"] = pd.to_datetime(df_complete[\"end_ema\"]).dt.strftime('%Y-%m-%d')\n"
   ]
  },
  {
   "cell_type": "code",
   "execution_count": 14,
   "id": "11cc366f",
   "metadata": {},
   "outputs": [],
   "source": [
    "df_complete[\"date_check\"] = df_complete.date.dt.strftime('%Y-%m-%d')"
   ]
  },
  {
   "cell_type": "code",
   "execution_count": 15,
   "id": "d6f2916a",
   "metadata": {},
   "outputs": [],
   "source": [
    "df_complete = df_complete.loc[df_complete.status == \"Abgeschlossen\"]"
   ]
  },
  {
   "cell_type": "code",
   "execution_count": 16,
   "id": "96e09d15",
   "metadata": {},
   "outputs": [],
   "source": [
    "#df_complete = df_complete.loc[df_complete.date_check <= df_complete.end_ema]"
   ]
  },
  {
   "cell_type": "code",
   "execution_count": 17,
   "id": "225b1cad",
   "metadata": {},
   "outputs": [
    {
     "data": {
      "text/plain": [
       "16"
      ]
     },
     "execution_count": 17,
     "metadata": {},
     "output_type": "execute_result"
    }
   ],
   "source": [
    "df_complete.customer.nunique()"
   ]
  },
  {
   "cell_type": "markdown",
   "id": "b8691dc3",
   "metadata": {},
   "source": [
    "## Analyze GPS Data"
   ]
  },
  {
   "cell_type": "code",
   "execution_count": 18,
   "id": "99ca6bba",
   "metadata": {},
   "outputs": [],
   "source": [
    "df_int = df_complete.pivot(\n",
    "    index=[\"customer\", \"date\"],\n",
    "    columns=\"type\",\n",
    "    values=\"doubleValue\")"
   ]
  },
  {
   "cell_type": "code",
   "execution_count": 19,
   "id": "a2126658",
   "metadata": {},
   "outputs": [],
   "source": [
    "df_int = df_int.rename_axis(None, axis=1).reset_index()"
   ]
  },
  {
   "cell_type": "code",
   "execution_count": 20,
   "id": "6636f4f6",
   "metadata": {},
   "outputs": [],
   "source": [
    "#df_int= df_int.sort_values(by=[\"customer\", \"date\"]).drop_duplicates(subset=[\"date\"], keep=\"last\")"
   ]
  },
  {
   "cell_type": "code",
   "execution_count": 21,
   "id": "df2180f9",
   "metadata": {},
   "outputs": [
    {
     "data": {
      "text/plain": [
       "(213518, 4)"
      ]
     },
     "execution_count": 21,
     "metadata": {},
     "output_type": "execute_result"
    }
   ],
   "source": [
    "df_int.shape"
   ]
  },
  {
   "cell_type": "code",
   "execution_count": 22,
   "id": "577e33be",
   "metadata": {},
   "outputs": [],
   "source": [
    "df_int.dropna(subset = ['Latitude', 'Longitude', 'date'], inplace=True)"
   ]
  },
  {
   "cell_type": "code",
   "execution_count": 23,
   "id": "0b8d52ff",
   "metadata": {},
   "outputs": [],
   "source": [
    "df_int[\"day\"] = df_int.date.dt.strftime('%Y/%m/%d')\n",
    "df_int[\"hours\"] = df_int.date.dt.hour"
   ]
  },
  {
   "cell_type": "code",
   "execution_count": 25,
   "id": "2035e461",
   "metadata": {},
   "outputs": [],
   "source": [
    "df_int['weekday'] = df_int['date'].dt.day_name()\n"
   ]
  },
  {
   "cell_type": "markdown",
   "id": "4374bd15",
   "metadata": {},
   "source": [
    "## Apply DBScan to whole dataframe"
   ]
  },
  {
   "cell_type": "code",
   "execution_count": 26,
   "id": "4520a5a8",
   "metadata": {},
   "outputs": [],
   "source": [
    "df_int[\"n_hours\"] = df_int.groupby([\"customer\", \"day\"])[\"hours\"].transform(\"nunique\")"
   ]
  },
  {
   "cell_type": "code",
   "execution_count": 27,
   "id": "2d1cff6c",
   "metadata": {},
   "outputs": [],
   "source": [
    "df_int = df_int.loc[df_int[\"n_hours\"] >= 8]"
   ]
  },
  {
   "cell_type": "code",
   "execution_count": 28,
   "id": "bc18d897",
   "metadata": {},
   "outputs": [],
   "source": [
    "df_int[\"n_data_day\"] = df_int.groupby([\"customer\", \"day\"])[\"Longitude\"].transform(\"size\")"
   ]
  },
  {
   "cell_type": "code",
   "execution_count": 29,
   "id": "26a2ca7e",
   "metadata": {},
   "outputs": [
    {
     "data": {
      "text/plain": [
       "count    162615.000000\n",
       "mean       1579.408794\n",
       "std         901.919031\n",
       "min           8.000000\n",
       "25%         898.000000\n",
       "50%        1523.000000\n",
       "75%        2053.000000\n",
       "max        4234.000000\n",
       "Name: n_data_day, dtype: float64"
      ]
     },
     "execution_count": 29,
     "metadata": {},
     "output_type": "execute_result"
    }
   ],
   "source": [
    "df_int.n_data_day.describe()"
   ]
  },
  {
   "cell_type": "code",
   "execution_count": 30,
   "id": "3f8e6052",
   "metadata": {},
   "outputs": [
    {
     "data": {
      "image/png": "[encoded data removed]",
      "text/plain": [
       "<Figure size 720x432 with 1 Axes>"
      ]
     },
     "metadata": {
      "needs_background": "light"
     },
     "output_type": "display_data"
    }
   ],
   "source": [
    "plt.figure(figsize=(10, 6))\n",
    "sns.boxplot(x='customer', y='n_data_day', data=df_int)\n",
    "plt.title('Number of data per day per customer')\n",
    "plt.ylabel('Number of data per day')\n",
    "plt.xlabel('Customer ID')\n",
    "\n",
    "# Showing the plot\n",
    "plt.show()"
   ]
  },
  {
   "cell_type": "code",
   "execution_count": 31,
   "id": "3e5a7ba9",
   "metadata": {},
   "outputs": [],
   "source": [
    "df_int[\"n_data_hour\"] = df_int.groupby([\"customer\", \"day\", \"hours\"])[\"Longitude\"].transform(\"size\")"
   ]
  },
  {
   "cell_type": "code",
   "execution_count": 32,
   "id": "7afda971",
   "metadata": {},
   "outputs": [
    {
     "data": {
      "text/plain": [
       "count    162615.000000\n",
       "mean        327.432408\n",
       "std         288.993723\n",
       "min           1.000000\n",
       "25%         115.000000\n",
       "50%         257.000000\n",
       "75%         433.000000\n",
       "max        1199.000000\n",
       "Name: n_data_hour, dtype: float64"
      ]
     },
     "execution_count": 32,
     "metadata": {},
     "output_type": "execute_result"
    }
   ],
   "source": [
    "df_int.n_data_hour.describe()"
   ]
  },
  {
   "cell_type": "code",
   "execution_count": 33,
   "id": "d08b7e08",
   "metadata": {},
   "outputs": [
    {
     "data": {
      "image/png": "[encoded data removed]",
      "text/plain": [
       "<Figure size 720x432 with 1 Axes>"
      ]
     },
     "metadata": {
      "needs_background": "light"
     },
     "output_type": "display_data"
    }
   ],
   "source": [
    "plt.figure(figsize=(10, 6))\n",
    "sns.boxplot(x='customer', y='n_data_hour', data=df_int)\n",
    "plt.title('Number of data per hour per customer')\n",
    "plt.ylabel('Number of data per hour')\n",
    "plt.xlabel('Customer ID')\n",
    "\n",
    "# Showing the plot\n",
    "plt.show()"
   ]
  },
  {
   "cell_type": "code",
   "execution_count": 34,
   "id": "b45822fd",
   "metadata": {},
   "outputs": [],
   "source": [
    "df_int[\"n_days_8\"] = df_int.groupby(\"customer\")[\"day\"].transform(\"nunique\")"
   ]
  },
  {
   "cell_type": "code",
   "execution_count": 35,
   "id": "6aff04b9",
   "metadata": {},
   "outputs": [
    {
     "data": {
      "text/plain": [
       "count    162615.000000\n",
       "mean         15.824635\n",
       "std           4.843305\n",
       "min           1.000000\n",
       "25%          14.000000\n",
       "50%          15.000000\n",
       "75%          21.000000\n",
       "max          23.000000\n",
       "Name: n_days_8, dtype: float64"
      ]
     },
     "execution_count": 35,
     "metadata": {},
     "output_type": "execute_result"
    }
   ],
   "source": [
    "df_int.n_days_8.describe()"
   ]
  },
  {
   "cell_type": "code",
   "execution_count": 36,
   "id": "0c8604b8",
   "metadata": {},
   "outputs": [],
   "source": [
    "# Above 7 to cover weekdays and weekends\n",
    "df_int = df_int.loc[df_int[\"n_days_8\"] >= 7]"
   ]
  },
  {
   "cell_type": "code",
   "execution_count": 37,
   "id": "640aa95f",
   "metadata": {},
   "outputs": [
    {
     "data": {
      "text/plain": [
       "(155952, 11)"
      ]
     },
     "execution_count": 37,
     "metadata": {},
     "output_type": "execute_result"
    }
   ],
   "source": [
    "df_int.shape"
   ]
  },
  {
   "cell_type": "code",
   "execution_count": 38,
   "id": "7a8d89b6",
   "metadata": {},
   "outputs": [],
   "source": [
    "def assign_day_index(user_group):\n",
    "    user_group['day_index'] = (user_group[\"day\"] != user_group[\"day\"].shift()).cumsum()\n",
    "    return user_group"
   ]
  },
  {
   "cell_type": "code",
   "execution_count": 39,
   "id": "bbabc2e6",
   "metadata": {},
   "outputs": [],
   "source": [
    "df_int = df_int.groupby('customer').apply(assign_day_index)"
   ]
  },
  {
   "cell_type": "code",
   "execution_count": 40,
   "id": "bd5df117",
   "metadata": {},
   "outputs": [],
   "source": [
    "df_int['hourID'] = df_int['customer'].astype(str) + '0' + \\\n",
    "                    df_int['day_index'].astype(str) + '0' + \\\n",
    "                    df_int['hours'].astype(str)"
   ]
  },
  {
   "cell_type": "markdown",
   "id": "d0ca8692",
   "metadata": {},
   "source": [
    "## Data filtering by converting GPS data to stationary data"
   ]
  },
  {
   "cell_type": "code",
   "execution_count": 41,
   "id": "6628e36c",
   "metadata": {},
   "outputs": [],
   "source": [
    "# Shift the DataFrame to get previous row’s data\n",
    "df_speed = df_int.copy()\n",
    "#df_speed[['prev_customer', 'prev_date', 'prev_longitude', 'prev_latitude']] = df_speed[['customer', 'date', 'Longitude', 'Latitude']].shift(1)"
   ]
  },
  {
   "cell_type": "code",
   "execution_count": 42,
   "id": "422e7d78",
   "metadata": {},
   "outputs": [],
   "source": [
    "# Haversine formula to calculate distance between two lat/lon points in meters\n",
    "def haversine(lon1, lat1, lon2, lat2):\n",
    "    R = 6371000  # Radius of Earth in meters\n",
    "    phi_1 = np.radians(lat1)\n",
    "    phi_2 = np.radians(lat2)\n",
    "    delta_phi = np.radians(lat2 - lat1)\n",
    "    delta_lambda = np.radians(lon2 - lon1)\n",
    "    a = np.sin(delta_phi/2.0)**2 + np.cos(phi_1) * np.cos(phi_2) * np.sin(delta_lambda/2.0)**2\n",
    "    c = 2 * np.arctan2(np.sqrt(a), np.sqrt(1-a))\n",
    "    meters = R * c  # Output distance in meters\n",
    "    return meters\n",
    "\n",
    "\n",
    "max_distance = 150  # Example value, adjust as needed\n",
    "\n",
    "# Initializing columns to store calculated values\n",
    "df_speed['distance'] = np.nan\n",
    "df_speed['time_diff'] = np.nan\n",
    "df_speed['speed'] = np.nan\n",
    "\n",
    "# Calculating distance, time difference, and speed for each customer independently\n",
    "for customer in df_speed['customer'].unique():\n",
    "    mask = df_speed['customer'] == customer\n",
    "    \n",
    "    df_speed.loc[mask, 'distance'] = np.concatenate([\n",
    "        haversine(\n",
    "            df_speed.loc[mask, 'Longitude'].values[:-1], df_speed.loc[mask, 'Latitude'].values[:-1],\n",
    "            df_speed.loc[mask, 'Longitude'].values[1:], df_speed.loc[mask, 'Latitude'].values[1:]\n",
    "        ),\n",
    "        [0]\n",
    "    ])\n",
    "    \n",
    "    df_speed.loc[mask, 'time_diff'] = df_speed.loc[mask, 'date'].diff().dt.total_seconds().fillna(0)\n",
    "    \n",
    "    # Avoid division by zero and replace NaN if time_diff is 0\n",
    "    df_speed.loc[mask, 'speed'] = df_speed.loc[mask, 'distance'] / df_speed.loc[mask, 'time_diff'].replace(0, np.nan)\n",
    "\n",
    "# Filtering condition\n",
    "speed_limit = 1.4  # Max allowed speed in m/s\n",
    "\n",
    "# Creating the stationary DataFrame\n",
    "stationary_df = df_speed[(df_speed['speed'] < speed_limit) & (df_speed['distance'] < max_distance)]\n",
    "\n",
    "# Note: Ensure you inspect and handle NaN values in the 'speed' column appropriately for your use case."
   ]
  },
  {
   "cell_type": "code",
   "execution_count": 43,
   "id": "4dd3e69a",
   "metadata": {},
   "outputs": [],
   "source": [
    "stationary_df = stationary_df[[\"customer\", \"date\",\"day\", \"hours\", \"Latitude\", \"Longitude\",\"speed\"]]"
   ]
  },
  {
   "cell_type": "code",
   "execution_count": 44,
   "id": "22f61f49",
   "metadata": {},
   "outputs": [
    {
     "data": {
      "text/plain": [
       "(41462, 7)"
      ]
     },
     "execution_count": 44,
     "metadata": {},
     "output_type": "execute_result"
    }
   ],
   "source": [
    "stationary_df.shape"
   ]
  },
  {
   "cell_type": "code",
   "execution_count": 45,
   "id": "a699cce5",
   "metadata": {},
   "outputs": [
    {
     "data": {
      "text/plain": [
       "14"
      ]
     },
     "execution_count": 45,
     "metadata": {},
     "output_type": "execute_result"
    }
   ],
   "source": [
    "stationary_df.customer.nunique()"
   ]
  },
  {
   "cell_type": "code",
   "execution_count": 46,
   "id": "2483758a",
   "metadata": {},
   "outputs": [],
   "source": [
    "stationary_df[\"n_data_hour\"] = stationary_df.groupby([\"customer\", \"day\", \"hours\"])[\"Longitude\"].transform(\"size\")\n",
    "stationary_df[\"n_data_day\"] = stationary_df.groupby([\"customer\", \"day\"])[\"Longitude\"].transform(\"size\")"
   ]
  },
  {
   "cell_type": "code",
   "execution_count": 47,
   "id": "1b03fd6a",
   "metadata": {},
   "outputs": [
    {
     "data": {
      "image/png": "[encoded data removed]",
      "text/plain": [
       "<Figure size 720x432 with 1 Axes>"
      ]
     },
     "metadata": {
      "needs_background": "light"
     },
     "output_type": "display_data"
    }
   ],
   "source": [
    "plt.figure(figsize=(10, 6))\n",
    "sns.boxplot(x='customer', y='n_data_hour', data=stationary_df)\n",
    "plt.title('Number of data per hour per customer')\n",
    "plt.ylabel('Number of data per hour')\n",
    "plt.xlabel('Customer ID')\n",
    "\n",
    "# Showing the plot\n",
    "plt.show()"
   ]
  },
  {
   "cell_type": "code",
   "execution_count": 48,
   "id": "9fe82089",
   "metadata": {},
   "outputs": [
    {
     "data": {
      "image/png": "[encoded data removed]",
      "text/plain": [
       "<Figure size 720x432 with 1 Axes>"
      ]
     },
     "metadata": {
      "needs_background": "light"
     },
     "output_type": "display_data"
    }
   ],
   "source": [
    "plt.figure(figsize=(10, 6))\n",
    "sns.boxplot(x='customer', y='n_data_day', data=stationary_df)\n",
    "plt.title('Number of data per day per customer')\n",
    "plt.ylabel('Number of data per day')\n",
    "plt.xlabel('Customer ID')\n",
    "\n",
    "# Showing the plot\n",
    "plt.show()"
   ]
  },
  {
   "cell_type": "markdown",
   "id": "b91130f2",
   "metadata": {},
   "source": [
    "## Transform lon lat coordinates "
   ]
  },
  {
   "cell_type": "code",
   "execution_count": 49,
   "id": "1bd86093",
   "metadata": {},
   "outputs": [
    {
     "name": "stderr",
     "output_type": "stream",
     "text": [
      "/Users/leonahammelrath/opt/anaconda3/lib/python3.7/site-packages/pyproj/crs/crs.py:131: FutureWarning: '+init=<authority>:<code>' syntax is deprecated. '<authority>:<code>' is the preferred initialization method. When making the change, be mindful of axis order changes: https://pyproj4.github.io/pyproj/stable/gotchas.html#axis-order-changes-in-proj-6\n",
      "  in_crs_string = _prepare_from_proj_string(in_crs_string)\n"
     ]
    }
   ],
   "source": [
    "#For spatial analyses focused on Berlin, Germany, you might opt to use the ETRS89 / UTM zone 33N, which is commonly used for Northern Germany. Its EPSG code is 25833.\n",
    "# Here's a short description: ETRS89: European Terrestrial Reference System 1989. \n",
    "#ETRS89 is a geodetic reference system intended for use over the whole of Europe and is an update to \n",
    "#the older European Datum 1950. UTM zone 33N: Universal Transverse Mercator coordinate system, \n",
    "# zone 33N represents a longitudinal zone of 6 degrees that covers Berlin and is suitable for small to \n",
    "# medium-scale mapping efforts, especially when accuracy in metric measurements is required.\n",
    "\n",
    "# Assuming you have a DataFrame named `data` with 'longitude' and 'latitude'\n",
    "# Creating a GeoDataFrame, assuming 'lon' and 'lat' are your coordinate column names\n",
    "geometry = [Point(xy) for xy in zip(stationary_df['Longitude'], stationary_df['Latitude'])]\n",
    "geodata = gpd.GeoDataFrame(stationary_df, geometry=geometry)\n",
    "\n",
    "# Defining the CRS for WGS 84 and ETRS89 / UTM zone 33N\n",
    "wgs84 = {'init': 'epsg:4326'}\n",
    "utm_33n = {'init': 'epsg:25833'}\n",
    "\n",
    "# Assigning the initial CRS and reprojecting to UTM 33N\n",
    "geodata.crs = wgs84\n",
    "geodata = geodata.to_crs(utm_33n)"
   ]
  },
  {
   "cell_type": "code",
   "execution_count": 50,
   "id": "a97f213d",
   "metadata": {},
   "outputs": [],
   "source": [
    "# equitorial radius of the earth = 6,378.1 \n",
    "kms_per_radian = 6371.0088\n",
    "epsilon = 0.1 / kms_per_radian\n",
    "min_samples = 3\n",
    "\n",
    "geodata['x'] = geodata['geometry'].x\n",
    "geodata['y'] = geodata['geometry'].y"
   ]
  },
  {
   "cell_type": "code",
   "execution_count": 51,
   "id": "4be67e72",
   "metadata": {},
   "outputs": [],
   "source": [
    "# Function for clustering\n",
    "def db2(x):\n",
    "    clustering_model = DBSCAN(eps=epsilon, min_samples=min_samples)\n",
    "    cluster_labels = clustering_model.fit_predict(x[['x', 'y']])\n",
    "    return pd.DataFrame({'cluster_100m': cluster_labels})\n",
    "\n",
    "# Group by 'userID' and apply clustering function\n",
    "geodata_cluster_df = geodata.groupby('customer').apply(lambda x: db2(x)).reset_index()"
   ]
  },
  {
   "cell_type": "code",
   "execution_count": 52,
   "id": "9dc67f67",
   "metadata": {},
   "outputs": [],
   "source": [
    "# Merge this with the main data frame\n",
    "geodata_clusters = pd.concat([geodata.reset_index(drop=True), geodata_cluster_df['cluster_100m']], axis=1)"
   ]
  },
  {
   "cell_type": "code",
   "execution_count": 53,
   "id": "3dfede7b",
   "metadata": {},
   "outputs": [
    {
     "data": {
      "image/png": "[encoded data removed]",
      "text/plain": [
       "<Figure size 720x432 with 1 Axes>"
      ]
     },
     "metadata": {
      "needs_background": "light"
     },
     "output_type": "display_data"
    }
   ],
   "source": [
    "# Initializing a new DataFrame to store processed data\n",
    "plot_data = pd.DataFrame()\n",
    "\n",
    "# Calculating the count of \"-\" values per customer\n",
    "plot_data['negative_count'] = geodata_clusters[geodata_clusters['cluster_100m'] == -1].groupby('customer').size()\n",
    "\n",
    "# Calculating the count of non \"-\" values per customer\n",
    "plot_data['positive_count'] = geodata_clusters[geodata_clusters['cluster_100m'] != -1].groupby('customer').size()\n",
    "\n",
    "# Filling NaN with 0s (for customers with no \"-\" values)\n",
    "plot_data = plot_data.fillna(0)\n",
    "\n",
    "# Plotting\n",
    "ax = plot_data.plot(kind='bar', stacked=True, figsize=(10, 6), color=['red', 'green'])\n",
    "plt.title('Stacked Bar Plot of \"-\" Count vs Unique Values Count in cluster_100m per Customer')\n",
    "plt.ylabel('Count')\n",
    "plt.xlabel('Customer ID')\n",
    "\n",
    "# Adjusting the legend\n",
    "plt.legend([\"Count of '-'\", \"Count of Unique Values\"], bbox_to_anchor=(1.05, 1), loc='upper left')\n",
    "\n",
    "# Showing the plot\n",
    "plt.tight_layout()\n",
    "plt.show()"
   ]
  },
  {
   "cell_type": "code",
   "execution_count": 54,
   "id": "efc36fd1",
   "metadata": {},
   "outputs": [],
   "source": [
    "# Delete outliers (where cluster_20m == -1)\n",
    "geodata_clusters = geodata_clusters[geodata_clusters['cluster_100m'] != -1]"
   ]
  },
  {
   "cell_type": "code",
   "execution_count": 55,
   "id": "d43d3926",
   "metadata": {},
   "outputs": [
    {
     "data": {
      "text/plain": [
       "(14872, 13)"
      ]
     },
     "execution_count": 55,
     "metadata": {},
     "output_type": "execute_result"
    }
   ],
   "source": [
    "geodata_clusters.shape"
   ]
  },
  {
   "cell_type": "code",
   "execution_count": 56,
   "id": "d261e555",
   "metadata": {},
   "outputs": [
    {
     "ename": "NameError",
     "evalue": "name 'b' is not defined",
     "output_type": "error",
     "traceback": [
      "\u001b[0;31m---------------------------------------------------------------------------\u001b[0m",
      "\u001b[0;31mNameError\u001b[0m                                 Traceback (most recent call last)",
      "\u001b[0;32m<ipython-input-56-89e6c98d9288>\u001b[0m in \u001b[0;36m<module>\u001b[0;34m\u001b[0m\n\u001b[0;32m----> 1\u001b[0;31m \u001b[0mb\u001b[0m\u001b[0;34m\u001b[0m\u001b[0;34m\u001b[0m\u001b[0m\n\u001b[0m",
      "\u001b[0;31mNameError\u001b[0m: name 'b' is not defined"
     ]
    }
   ],
   "source": [
    "b"
   ]
  },
  {
   "cell_type": "code",
   "execution_count": null,
   "id": "fd4cdc18",
   "metadata": {},
   "outputs": [],
   "source": [
    "geodata_clusters.groupby(\"customer\").cluster_100m.nunique().describe()"
   ]
  },
  {
   "cell_type": "code",
   "execution_count": null,
   "id": "e787894e",
   "metadata": {},
   "outputs": [],
   "source": [
    "geodata_clusters.cluster_100m.nunique()"
   ]
  },
  {
   "cell_type": "code",
   "execution_count": null,
   "id": "19d902e4",
   "metadata": {},
   "outputs": [],
   "source": [
    "# Generate unique IDs for clusters\n",
    "geodata_clusters['clusterID'] = geodata_clusters['customer'].astype(str) + '00' + \\\n",
    "geodata_clusters['cluster_100m'].astype(str)"
   ]
  },
  {
   "cell_type": "markdown",
   "id": "251a0d5c",
   "metadata": {},
   "source": [
    "## Generate Home Location from data"
   ]
  },
  {
   "cell_type": "code",
   "execution_count": null,
   "id": "ecd8b41b",
   "metadata": {},
   "outputs": [],
   "source": [
    "# Filter data for night hours (midnight to 6:00 am)\n",
    "geodata_night = geodata_clusters.loc[(geodata_clusters['hours'] >= 0) & (geodata_clusters['hours'] < 6)]\n",
    "\n",
    "# Find the mode of clusterID per user during night hours\n",
    "geodata_night = geodata_night.copy()\n",
    "geodata_night['home'] = geodata_night.groupby('customer')['clusterID'].transform(lambda x: mode(x)[0][0])"
   ]
  },
  {
   "cell_type": "code",
   "execution_count": null,
   "id": "43ea1a39",
   "metadata": {},
   "outputs": [],
   "source": [
    "# Calculating various metrics to validate the home cluster\n",
    "geodata_night['nights_with_obs'] = geodata_night.groupby('customer')['day'].transform('nunique')\n",
    "geodata_night['night_obs'] = geodata_night.groupby('customer')['day'].transform('size')\n"
   ]
  },
  {
   "cell_type": "code",
   "execution_count": null,
   "id": "29ec853c",
   "metadata": {},
   "outputs": [],
   "source": [
    "# Finding the frequency of the mode\n",
    "geodata_night['n_home'] = geodata_night.groupby('customer')['home'].transform(lambda x: x.value_counts().iloc[0])\n",
    "geodata_night['f_home'] = geodata_night['n_home'] / geodata_night['night_obs']\n",
    "\n",
    "# Updating the 'home' label based on conditions\n",
    "geodata_night['home'] = geodata_night.apply(\n",
    "    lambda x: x['home'] if x['nights_with_obs'] >= 7 and x['f_home'] > 0.5 else None, axis=1\n",
    ")\n",
    "\n",
    "# Extracting a mapping of userID to home cluster\n",
    "user_home_mapping = geodata_night[['customer', 'home']].drop_duplicates()\n",
    "\n",
    "# Merging back to the full dataset\n",
    "geodata_clusters = pd.merge(geodata_clusters, user_home_mapping, on='customer', how='left')"
   ]
  },
  {
   "cell_type": "code",
   "execution_count": null,
   "id": "d1d64359",
   "metadata": {},
   "outputs": [],
   "source": [
    "# Grab relevant columns\n",
    "cbusdata = geodata[['customer', 'date']]\n",
    "clusterdata = geodata_clusters[['customer', 'date', 'clusterID']]\n",
    "\n",
    "# Merge dataframes\n",
    "df_int = pd.merge(df_int, clusterdata, how='left', on=['customer', 'date'])\n",
    "df_int = pd.merge(df_int, cbusdata, how='left', on=['customer', 'date'])\n",
    "\n",
    "# Order the data\n",
    "df_int = df_int.sort_values(by=['customer', 'date'])\n"
   ]
  },
  {
   "cell_type": "code",
   "execution_count": null,
   "id": "811f62f6",
   "metadata": {},
   "outputs": [],
   "source": [
    "df_int.head(50)"
   ]
  },
  {
   "cell_type": "code",
   "execution_count": null,
   "id": "7c9e7b2e",
   "metadata": {},
   "outputs": [],
   "source": [
    "# Function to shift vectors\n",
    "def shift_vector(vec, shift):\n",
    "    if shift > 0:\n",
    "        return np.concatenate((np.full(shift, np.nan), vec[:-shift]))\n",
    "    elif shift < 0:\n",
    "        return np.concatenate((vec[-shift:], np.full(-shift, np.nan)))\n",
    "    else:\n",
    "        return vec\n",
    "\n",
    "# Shift vectors for lat and long\n",
    "df_int['lat_p1'] = df_int.groupby('customer')['Longitude'].transform(lambda x: shift_vector(x, -1))\n",
    "df_int['lon_p1'] = df_int.groupby('customer')['Latitude'].transform(lambda x: shift_vector(x, -1))\n",
    "\n",
    "# haversine formula for distance calculation between two lat,lon points\n",
    "def haversine(lat1, lon1, lat2, lon2):\n",
    "    R = 6371000  # radius of Earth in meters\n",
    "    phi_1 = np.radians(lat1)\n",
    "    phi_2 = np.radians(lat2)\n",
    "    \n",
    "    delta_phi = np.radians(lat2 - lat1)\n",
    "    delta_lambda = np.radians(lon2 - lon1)\n",
    "    \n",
    "    a = np.sin(delta_phi/2.0)**2 + np.cos(phi_1) * np.cos(phi_2) * np.sin(delta_lambda/2.0)**2\n",
    "    \n",
    "    c = 2 * np.arctan2(np.sqrt(a), np.sqrt(1-a))\n",
    "    \n",
    "    meters = R * c  # output distance in meters\n",
    "    return meters\n",
    "\n",
    "# Calculate distance (in meters) using the haversine function\n",
    "df_int['dist_to_prev'] = haversine(df_int['Latitude'], df_int['Longitude'], df_int['lat_p1'], df_int['lon_p1'])\n",
    "\n",
    "# Shift vectors for clusterID\n",
    "df_int['clusterID_p1'] = df_int.groupby('customer')['clusterID'].transform(lambda x: shift_vector(x, -1))\n",
    "\n",
    "# Set distance traveled to 0 if the cluster was the same\n",
    "df_int.loc[df_int['clusterID'] == df_int['clusterID_p1'], 'dist_to_prev'] = 0\n",
    "\n",
    "# Aggregate distance for each user\n",
    "agg = df_int.groupby('customer')['dist_to_prev'].sum().reset_index(name='distanceM')\n",
    "agg['distanceKM'] = agg['distanceM'] / 1000\n",
    "\n",
    "# Add to main dataframe\n",
    "df_int = pd.merge(df_int, agg, on='customer')"
   ]
  },
  {
   "cell_type": "markdown",
   "id": "01eb50ec",
   "metadata": {},
   "source": []
  }
 ],
 "metadata": {
  "kernelspec": {
   "display_name": "Python 3",
   "language": "python",
   "name": "python3"
  },
  "language_info": {
   "codemirror_mode": {
    "name": "ipython",
    "version": 3
   },
   "file_extension": ".py",
   "mimetype": "text/x-python",
   "name": "python",
   "nbconvert_exporter": "python",
   "pygments_lexer": "ipython3",
   "version": "3.7.4"
  }
 },
 "nbformat": 4,
 "nbformat_minor": 5
}
