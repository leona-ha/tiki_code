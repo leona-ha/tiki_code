{
 "cells": [
  {
   "cell_type": "markdown",
   "id": "d20ac61a",
   "metadata": {},
   "source": [
    "# 4 Detailed Preprocessing of Passive Data\n",
    "\n",
    "This notebook shows the analysis of situational context using EMA and passive sensing data\n",
    "\n",
    "1. **Load Data**: Load necessary data from pickle files.\n",
    "2. **Preprocess EMA**:"
   ]
  },
  {
   "cell_type": "code",
   "execution_count": 1,
   "id": "e1cd56bc",
   "metadata": {
    "tags": []
   },
   "outputs": [],
   "source": [
    "import os\n",
    "import sys\n",
    "import regex as re\n",
    "from tqdm import tqdm\n",
    "from intervaltree import IntervalTree\n",
    "\n",
    "%load_ext autoreload\n",
    "%autoreload 2\n",
    "import logging\n",
    "# Configure logging\n",
    "logging.basicConfig(level=logging.INFO)\n",
    "\n",
    "# If your current working directory is the notebooks directory, use this:\n",
    "notebook_dir = os.getcwd()  # current working directory\n",
    "src_path = os.path.abspath(os.path.join(notebook_dir, '..', 'src'))\n",
    "sys.path.append(src_path)\n",
    "\n",
    "# Add the parent directory to sys.path\n",
    "parent_dir = os.path.abspath(os.path.join(notebook_dir, '..'))\n",
    "sys.path.append(parent_dir)\n",
    "import glob\n",
    "import pickle\n",
    "from IPython.display import Markdown\n",
    "from server_config import datapath, preprocessed_path\n",
    "\n",
    "import pandas as pd\n",
    "import numpy as np\n",
    "import datetime as dt\n",
    "import EMA_Mapper\n",
    "import gps_features\n",
    "\n",
    "from sklearn.cluster import DBSCAN\n",
    "from sklearn.cluster import KMeans\n",
    "from sklearn.metrics import pairwise_distances_argmin_min\n",
    "from math import radians, cos, sin, asin, sqrt\n",
    "import statistics  # Make sure this is imported\n",
    "import hdbscan\n",
    "\n",
    "import matplotlib.pyplot as plt\n",
    "from matplotlib import rcParams\n",
    "import seaborn as sns \n",
    "import matplotlib.patches as mpatches\n",
    "# Ensure matplotlib displays plots inline (if using Jupyter Notebook)\n",
    "%matplotlib inline\n",
    "\n",
    "sns.set_context(\"notebook\", rc={\"axes.labelsize\": 14, \"xtick.labelsize\": 14, \"ytick.labelsize\": 14})\n",
    "sns.set(style='whitegrid', context='talk', palette='deep')\n",
    "%matplotlib inline\n",
    "import plotly.express as px\n"
   ]
  },
  {
   "cell_type": "code",
   "execution_count": 2,
   "id": "696265f6",
   "metadata": {
    "tags": []
   },
   "outputs": [],
   "source": [
    "backup_path = preprocessed_path + \"/backup_data_passive_actual.feather\"\n",
    "df_backup = pd.read_feather(backup_path)\n",
    "\n",
    "with open(preprocessed_path + '/ema_data.pkl', 'rb') as file:\n",
    "    df_ema_framework = pickle.load(file)\n",
    "\n",
    "with open(preprocessed_path + '/ema_content.pkl', 'rb') as file:\n",
    "    df_ema_content = pickle.load(file)  \n",
    "\n",
    "with open(preprocessed_path + '/monitoring_data.pkl', 'rb') as file:\n",
    "    df_monitoring = pickle.load(file)"
   ]
  },
  {
   "cell_type": "code",
   "execution_count": 3,
   "id": "ba14b26f",
   "metadata": {
    "tags": []
   },
   "outputs": [],
   "source": [
    "# Configurations\n",
    "# Check min. amount of EMA data available to map to passive data\n",
    "\n",
    "#GPS data\n",
    "speed_limit = 1.4\n",
    "max_distance = 150 \n",
    "kms_per_radian = 6371000\n",
    "epsilon = 100/kms_per_radian\n",
    "min_samples = 10\n",
    "min_cluster_size = 20\n",
    "min_nights_obs = 4\n",
    "min_f_home = 0.5\n",
    "\n",
    "# EMA\n",
    "assessment_phase = [0] #1,2\n",
    "min_num_daily = 4\n",
    "min_days_data = 7\n",
    "\n",
    "\n",
    "#Passive to EMA matching\n",
    "timedelta_hours = 2\n",
    "assess = 0"
   ]
  },
  {
   "cell_type": "markdown",
   "id": "8db13a54-104c-4280-8521-c7eea39252db",
   "metadata": {},
   "source": [
    "### Data overview"
   ]
  },
  {
   "cell_type": "markdown",
   "id": "1adb0b98-e053-4c56-8035-063d805fa1ee",
   "metadata": {},
   "source": [
    "## Filter for participants with sufficient data"
   ]
  },
  {
   "cell_type": "code",
   "execution_count": 4,
   "id": "a97d2b82-f676-4b9a-b596-1abba78f5504",
   "metadata": {},
   "outputs": [],
   "source": [
    "df_ema1 = df_ema_content.loc[df_ema_content.study.isin([24,25])] # first assessment phase\n",
    "df_ema1 = df_ema1.loc[df_ema1[\"n_quest\"] >= min_num_daily]\n",
    "df_ema1[\"n_days_min\"] = df_ema1.groupby(\"customer\")['quest_complete_day'].transform(\"nunique\")\n",
    "df_ema1 = df_ema1.loc[df_ema1.n_days_min >= min_days_data]\n",
    "df_ema1_customers = df_ema1.customer.unique().tolist()\n"
   ]
  },
  {
   "cell_type": "code",
   "execution_count": 5,
   "id": "feef1e3e-d37c-4ce9-9017-78fb5772211c",
   "metadata": {},
   "outputs": [
    {
     "data": {
      "text/plain": [
       "201"
      ]
     },
     "execution_count": 5,
     "metadata": {},
     "output_type": "execute_result"
    }
   ],
   "source": [
    "df_ema1.customer.nunique()"
   ]
  },
  {
   "cell_type": "markdown",
   "id": "470e35ff-b697-4a1e-a95a-b6e6e8f1f575",
   "metadata": {},
   "source": [
    "### Analyze missingness"
   ]
  },
  {
   "cell_type": "code",
   "execution_count": 6,
   "id": "322dcbca-0483-4637-839c-b49b57fc4b2c",
   "metadata": {},
   "outputs": [],
   "source": [
    "# List of customers\n",
    "customers = df_ema1['customer'].unique()\n",
    "\n",
    "# List of days (assuming absolute_day_index starts from 1)\n",
    "days = range(1, df_ema1['absolute_day_index'].max() + 1)\n",
    "\n",
    "# List of expected quest numbers per day (e.g., quest_nr from 1 to 8)\n",
    "expected_quests = [1, 2, 3, 4, 5, 6, 7, 8]  # Adjust based on your actual quest numbers\n",
    "\n",
    "# Create a MultiIndex of all combinations\n",
    "index = pd.MultiIndex.from_product([customers, days, expected_quests], names=['customer', 'absolute_day_index', 'quest_nr'])\n",
    "\n",
    "# Create a DataFrame representing the complete schedule\n",
    "df_expected = pd.DataFrame(index=index).reset_index()"
   ]
  },
  {
   "cell_type": "code",
   "execution_count": 7,
   "id": "f087ed0a-efe7-491f-8137-56d237eb6be0",
   "metadata": {},
   "outputs": [],
   "source": [
    "# Select relevant columns from completed quests\n",
    "df_completed = df_ema1[['customer', 'absolute_day_index', 'quest_nr']].drop_duplicates()\n",
    "\n",
    "# Merge expected and completed quests\n",
    "df_quests = pd.merge(df_expected, df_completed, on=['customer', 'absolute_day_index', 'quest_nr'], how='left', indicator=True)\n",
    "\n",
    "# '_merge' column will indicate if the quest was completed ('both') or missing ('left_only')\n",
    "df_quests['quest_status'] = np.where(df_quests['_merge'] == 'both', 'Completed', 'Missing')\n",
    "df_quests.drop(columns=['_merge'], inplace=True)\n"
   ]
  },
  {
   "cell_type": "code",
   "execution_count": 8,
   "id": "d0f8bcad-9bf5-427f-bad9-67ec3171cd55",
   "metadata": {},
   "outputs": [],
   "source": [
    "# Extract the hour from 'quest_create'\n",
    "df_ema_content['quest_create_hour'] = df_ema_content['quest_create'].dt.hour"
   ]
  },
  {
   "cell_type": "code",
   "execution_count": 9,
   "id": "1390a607-8266-4e88-af7e-ab99543acedd",
   "metadata": {},
   "outputs": [
    {
     "data": {
      "image/png": "[encoded data removed]",
      "text/plain": [
       "<Figure size 1200x600 with 1 Axes>"
      ]
     },
     "metadata": {},
     "output_type": "display_data"
    }
   ],
   "source": [
    "# Calculate the proportion of missing quests per day\n",
    "missingness_by_day = df_quests.groupby('absolute_day_index')['quest_status'].apply(lambda x: (x == 'Missing').mean()).reset_index()\n",
    "\n",
    "# Plotting missingness over days\n",
    "plt.figure(figsize=(12, 6))\n",
    "sns.lineplot(x='absolute_day_index', y='quest_status', data=missingness_by_day, marker='o')\n",
    "plt.title('Proportion of Missing Quests Over Days')\n",
    "plt.xlabel('Day')\n",
    "plt.ylabel('Proportion Missing')\n",
    "plt.xticks(range(1, df_quests['absolute_day_index'].max() + 1))\n",
    "plt.grid(True)\n",
    "plt.show()\n"
   ]
  },
  {
   "cell_type": "markdown",
   "id": "20265259",
   "metadata": {},
   "source": [
    "## 1. Prepare passive features"
   ]
  },
  {
   "cell_type": "code",
   "execution_count": 10,
   "id": "973f3003",
   "metadata": {
    "tags": []
   },
   "outputs": [],
   "source": [
    "df_pass_act = df_backup.copy()"
   ]
  },
  {
   "cell_type": "code",
   "execution_count": 11,
   "id": "86831ba8-eb56-441e-abfb-309935f0773e",
   "metadata": {},
   "outputs": [
    {
     "data": {
      "text/plain": [
       "Timestamp('2024-12-02 01:13:47.060000')"
      ]
     },
     "execution_count": 11,
     "metadata": {},
     "output_type": "execute_result"
    }
   ],
   "source": [
    "df_pass_act.startTimestamp.max()"
   ]
  },
  {
   "cell_type": "code",
   "execution_count": 12,
   "id": "dc02478e",
   "metadata": {
    "tags": []
   },
   "outputs": [],
   "source": [
    "# Only keep data that were collected during the first assessment phase\n",
    "df_pass_act_base = df_pass_act[df_pass_act.startTimestamp <= (df_pass_act.ema_base_end + pd.Timedelta(days=1))]"
   ]
  },
  {
   "cell_type": "code",
   "execution_count": 13,
   "id": "ef0cab1c-c515-4365-a3c1-6efbfd465284",
   "metadata": {},
   "outputs": [],
   "source": [
    "df_pass_act_base = df_pass_act_base.loc[df_pass_act_base.customer.isin(df_ema1_customers)]"
   ]
  },
  {
   "cell_type": "code",
   "execution_count": 14,
   "id": "06e8a105-1433-4a86-b475-b3e666184ecb",
   "metadata": {},
   "outputs": [
    {
     "data": {
      "text/plain": [
       "200"
      ]
     },
     "execution_count": 14,
     "metadata": {},
     "output_type": "execute_result"
    }
   ],
   "source": [
    "df_pass_act_base.customer.nunique()"
   ]
  },
  {
   "cell_type": "code",
   "execution_count": 15,
   "id": "bc988999-98cc-4b5f-a39c-04c15ea1732b",
   "metadata": {},
   "outputs": [
    {
     "name": "stderr",
     "output_type": "stream",
     "text": [
      "/tmp/ipykernel_533245/2028720565.py:1: FutureWarning: A value is trying to be set on a copy of a DataFrame or Series through chained assignment using an inplace method.\n",
      "The behavior will change in pandas 3.0. This inplace method will never work because the intermediate object on which we are setting values always behaves as a copy.\n",
      "\n",
      "For example, when doing 'df[col].method(value, inplace=True)', try using 'df.method({col: value}, inplace=True)' or df[col] = df[col].method(value) instead, to perform the operation inplace on the original object.\n",
      "\n",
      "\n",
      "  df_pass_act_base['Heart_Rate_data_coverage_per'].replace([np.inf, -np.inf], np.nan, inplace=True)\n"
     ]
    }
   ],
   "source": [
    "df_pass_act_base['Heart_Rate_data_coverage_per'].replace([np.inf, -np.inf], np.nan, inplace=True)\n"
   ]
  },
  {
   "cell_type": "markdown",
   "id": "40577ed8-9cdf-4909-a565-847daca726dd",
   "metadata": {},
   "source": [
    "### 1.1 Calculate GPS features"
   ]
  },
  {
   "cell_type": "code",
   "execution_count": 16,
   "id": "7ead0d9e-b89c-44d1-ba1d-6e1f3b2e17ff",
   "metadata": {
    "tags": []
   },
   "outputs": [],
   "source": [
    "df_pass_act_loc =df_pass_act_base[df_pass_act_base.type.isin([\"Latitude\", \"Longitude\"])][[\"customer\", \"startTimestamp\", \"type\", \"doubleValue\"]]"
   ]
  },
  {
   "cell_type": "code",
   "execution_count": 17,
   "id": "a4e8c7eb-9534-456c-900b-2b6aced14f4e",
   "metadata": {
    "tags": []
   },
   "outputs": [],
   "source": [
    "df_loc = df_pass_act_loc.pivot_table(\n",
    "    index=[\"customer\", \"startTimestamp\"],\n",
    "    columns=\"type\",\n",
    "    values=[\"doubleValue\"],\n",
    "    aggfunc='first'  # Using 'first' since each type should theoretically have only one entry per customer and timestamp\n",
    ")\n",
    "\n",
    "# Flatten the MultiIndex in columns\n",
    "df_loc.columns = ['_'.join(col).strip() for col in df_loc.columns.values]\n",
    "\n",
    "df_loc = df_loc.rename_axis(None, axis=1).reset_index()\n",
    "\n",
    "# Rename the columns for clarity\n",
    "df_loc = df_loc.rename(columns={\n",
    "    'doubleValue_Latitude': 'Latitude',\n",
    "    'doubleValue_Longitude': 'Longitude',\n",
    "})"
   ]
  },
  {
   "cell_type": "code",
   "execution_count": 18,
   "id": "3d652d9d-063d-4a6e-a7d4-11843777c840",
   "metadata": {
    "tags": []
   },
   "outputs": [
    {
     "name": "stderr",
     "output_type": "stream",
     "text": [
      "INFO:root:Data quality check: 182 customers with sufficient data retained.\n",
      "INFO:root:Customers with no home after time-based method: 21\n",
      "INFO:root:Fallback home clusters assigned: 21\n",
      "WARNING:root:0 customers still do not have a home cluster.\n"
     ]
    }
   ],
   "source": [
    "# Example usage with HDBSCAN and normalized min_samples:\n",
    "extractor = gps_features.HomeClusterExtractor(df_loc, speed_limit=speed_limit, max_distance=max_distance, epsilon=epsilon, min_samples=min_samples, \n",
    "                                 min_nights_obs = min_nights_obs, min_f_home=min_f_home, clustering_method='dbscan', \n",
    "                                 normalize_min_samples=False, min_data_points=56)\n",
    "result = extractor.run()\n",
    "\n"
   ]
  },
  {
   "cell_type": "code",
   "execution_count": 19,
   "id": "8834db62-be07-4fc3-882e-dfb100d78605",
   "metadata": {},
   "outputs": [],
   "source": [
    "# 18 customers not enough GPS data (i.e. less than 50 data points, so that no home cluster could be computed \n"
   ]
  },
  {
   "cell_type": "code",
   "execution_count": 20,
   "id": "f9895a55-a53d-4ab1-9b07-1159723e50e7",
   "metadata": {
    "tags": []
   },
   "outputs": [],
   "source": [
    "home_clusters_red = result[[\"customer\", \"startTimestamp\", \"at_home\",\"transition\", \"distance\", \"stationary\",\"time_diff\", \"speed\", \"clusterID\", \"homeID\" ]]"
   ]
  },
  {
   "cell_type": "code",
   "execution_count": 21,
   "id": "c88757e2-eb10-419c-b46a-e0c7a7038021",
   "metadata": {},
   "outputs": [
    {
     "data": {
      "text/plain": [
       "array([0, 1])"
      ]
     },
     "execution_count": 21,
     "metadata": {},
     "output_type": "execute_result"
    }
   ],
   "source": [
    "result.transition.unique()"
   ]
  },
  {
   "cell_type": "code",
   "execution_count": 22,
   "id": "3d21bb74-7c7b-4972-93e4-2b19de543a54",
   "metadata": {},
   "outputs": [],
   "source": [
    "gps_customer_list = home_clusters_red.customer.unique().tolist()"
   ]
  },
  {
   "cell_type": "code",
   "execution_count": 23,
   "id": "23584658-49c4-4316-a1c4-c25e7459f0ae",
   "metadata": {},
   "outputs": [
    {
     "data": {
      "text/html": [
       "<div>\n",
       "<style scoped>\n",
       "    .dataframe tbody tr th:only-of-type {\n",
       "        vertical-align: middle;\n",
       "    }\n",
       "\n",
       "    .dataframe tbody tr th {\n",
       "        vertical-align: top;\n",
       "    }\n",
       "\n",
       "    .dataframe thead th {\n",
       "        text-align: right;\n",
       "    }\n",
       "</style>\n",
       "<table border=\"1\" class=\"dataframe\">\n",
       "  <thead>\n",
       "    <tr style=\"text-align: right;\">\n",
       "      <th></th>\n",
       "      <th>customer</th>\n",
       "      <th>type</th>\n",
       "      <th>startTimestamp</th>\n",
       "      <th>endTimestamp</th>\n",
       "      <th>doubleValue</th>\n",
       "      <th>longValue</th>\n",
       "      <th>booleanValue</th>\n",
       "      <th>dateValue</th>\n",
       "      <th>stringValue</th>\n",
       "      <th>userReliability</th>\n",
       "      <th>...</th>\n",
       "      <th>Heart_Rate_actual_days_with_data</th>\n",
       "      <th>Heart_Rate_data_coverage_per</th>\n",
       "      <th>ema_relative_start_phase0</th>\n",
       "      <th>ema_relative_end_phase0</th>\n",
       "      <th>ema_relative_start_phase1</th>\n",
       "      <th>ema_relative_end_phase1</th>\n",
       "      <th>ema_relative_start_phase2</th>\n",
       "      <th>ema_relative_end_phase2</th>\n",
       "      <th>for_id</th>\n",
       "      <th>ema_id</th>\n",
       "    </tr>\n",
       "  </thead>\n",
       "  <tbody>\n",
       "    <tr>\n",
       "      <th>72</th>\n",
       "      <td>4MLe</td>\n",
       "      <td>ActivityType</td>\n",
       "      <td>2023-05-17 20:39:00.000</td>\n",
       "      <td>2023-05-17 20:47:00.000</td>\n",
       "      <td>NaN</td>\n",
       "      <td>105.0</td>\n",
       "      <td>False</td>\n",
       "      <td>NaN</td>\n",
       "      <td>-99</td>\n",
       "      <td>NaN</td>\n",
       "      <td>...</td>\n",
       "      <td>343.0</td>\n",
       "      <td>72.362869</td>\n",
       "      <td>NaT</td>\n",
       "      <td>NaT</td>\n",
       "      <td>NaT</td>\n",
       "      <td>NaT</td>\n",
       "      <td>NaT</td>\n",
       "      <td>NaT</td>\n",
       "      <td>None</td>\n",
       "      <td>None</td>\n",
       "    </tr>\n",
       "    <tr>\n",
       "      <th>138</th>\n",
       "      <td>4MLe</td>\n",
       "      <td>ActivityType</td>\n",
       "      <td>2023-05-17 21:00:00.000</td>\n",
       "      <td>2023-05-17 21:07:00.000</td>\n",
       "      <td>NaN</td>\n",
       "      <td>105.0</td>\n",
       "      <td>False</td>\n",
       "      <td>NaN</td>\n",
       "      <td>-99</td>\n",
       "      <td>NaN</td>\n",
       "      <td>...</td>\n",
       "      <td>343.0</td>\n",
       "      <td>72.362869</td>\n",
       "      <td>NaT</td>\n",
       "      <td>NaT</td>\n",
       "      <td>NaT</td>\n",
       "      <td>NaT</td>\n",
       "      <td>NaT</td>\n",
       "      <td>NaT</td>\n",
       "      <td>None</td>\n",
       "      <td>None</td>\n",
       "    </tr>\n",
       "    <tr>\n",
       "      <th>163</th>\n",
       "      <td>4MLe</td>\n",
       "      <td>ActivityType</td>\n",
       "      <td>2023-05-17 21:19:00.000</td>\n",
       "      <td>2023-05-17 21:27:00.000</td>\n",
       "      <td>NaN</td>\n",
       "      <td>105.0</td>\n",
       "      <td>False</td>\n",
       "      <td>NaN</td>\n",
       "      <td>-99</td>\n",
       "      <td>NaN</td>\n",
       "      <td>...</td>\n",
       "      <td>343.0</td>\n",
       "      <td>72.362869</td>\n",
       "      <td>NaT</td>\n",
       "      <td>NaT</td>\n",
       "      <td>NaT</td>\n",
       "      <td>NaT</td>\n",
       "      <td>NaT</td>\n",
       "      <td>NaT</td>\n",
       "      <td>None</td>\n",
       "      <td>None</td>\n",
       "    </tr>\n",
       "    <tr>\n",
       "      <th>198</th>\n",
       "      <td>4MLe</td>\n",
       "      <td>ActivityType</td>\n",
       "      <td>2023-05-17 21:33:00.000</td>\n",
       "      <td>2023-05-17 21:59:00.000</td>\n",
       "      <td>NaN</td>\n",
       "      <td>105.0</td>\n",
       "      <td>False</td>\n",
       "      <td>NaN</td>\n",
       "      <td>-99</td>\n",
       "      <td>NaN</td>\n",
       "      <td>...</td>\n",
       "      <td>343.0</td>\n",
       "      <td>72.362869</td>\n",
       "      <td>NaT</td>\n",
       "      <td>NaT</td>\n",
       "      <td>NaT</td>\n",
       "      <td>NaT</td>\n",
       "      <td>NaT</td>\n",
       "      <td>NaT</td>\n",
       "      <td>None</td>\n",
       "      <td>None</td>\n",
       "    </tr>\n",
       "    <tr>\n",
       "      <th>414</th>\n",
       "      <td>4MLe</td>\n",
       "      <td>ActivityType</td>\n",
       "      <td>2023-05-18 00:38:00.000</td>\n",
       "      <td>2023-05-18 00:40:00.000</td>\n",
       "      <td>NaN</td>\n",
       "      <td>103.0</td>\n",
       "      <td>False</td>\n",
       "      <td>NaN</td>\n",
       "      <td>-99</td>\n",
       "      <td>NaN</td>\n",
       "      <td>...</td>\n",
       "      <td>343.0</td>\n",
       "      <td>72.362869</td>\n",
       "      <td>NaT</td>\n",
       "      <td>NaT</td>\n",
       "      <td>NaT</td>\n",
       "      <td>NaT</td>\n",
       "      <td>NaT</td>\n",
       "      <td>NaT</td>\n",
       "      <td>None</td>\n",
       "      <td>None</td>\n",
       "    </tr>\n",
       "    <tr>\n",
       "      <th>...</th>\n",
       "      <td>...</td>\n",
       "      <td>...</td>\n",
       "      <td>...</td>\n",
       "      <td>...</td>\n",
       "      <td>...</td>\n",
       "      <td>...</td>\n",
       "      <td>...</td>\n",
       "      <td>...</td>\n",
       "      <td>...</td>\n",
       "      <td>...</td>\n",
       "      <td>...</td>\n",
       "      <td>...</td>\n",
       "      <td>...</td>\n",
       "      <td>...</td>\n",
       "      <td>...</td>\n",
       "      <td>...</td>\n",
       "      <td>...</td>\n",
       "      <td>...</td>\n",
       "      <td>...</td>\n",
       "      <td>...</td>\n",
       "      <td>...</td>\n",
       "    </tr>\n",
       "    <tr>\n",
       "      <th>64288142</th>\n",
       "      <td>WnKX</td>\n",
       "      <td>ActivityType</td>\n",
       "      <td>2024-12-01 08:47:00.060</td>\n",
       "      <td>2024-12-01 08:58:00.060</td>\n",
       "      <td>NaN</td>\n",
       "      <td>102.0</td>\n",
       "      <td>False</td>\n",
       "      <td>NaN</td>\n",
       "      <td>-99</td>\n",
       "      <td>NaN</td>\n",
       "      <td>...</td>\n",
       "      <td>14.0</td>\n",
       "      <td>100.000000</td>\n",
       "      <td>2024-11-18</td>\n",
       "      <td>2024-12-01</td>\n",
       "      <td>NaT</td>\n",
       "      <td>NaT</td>\n",
       "      <td>NaT</td>\n",
       "      <td>NaT</td>\n",
       "      <td>FOR13085</td>\n",
       "      <td>EMA3138</td>\n",
       "    </tr>\n",
       "    <tr>\n",
       "      <th>64288148</th>\n",
       "      <td>WnKX</td>\n",
       "      <td>ActivityType</td>\n",
       "      <td>2024-12-01 08:58:00.060</td>\n",
       "      <td>2024-12-01 09:21:00.060</td>\n",
       "      <td>NaN</td>\n",
       "      <td>102.0</td>\n",
       "      <td>False</td>\n",
       "      <td>NaN</td>\n",
       "      <td>-99</td>\n",
       "      <td>NaN</td>\n",
       "      <td>...</td>\n",
       "      <td>14.0</td>\n",
       "      <td>100.000000</td>\n",
       "      <td>2024-11-18</td>\n",
       "      <td>2024-12-01</td>\n",
       "      <td>NaT</td>\n",
       "      <td>NaT</td>\n",
       "      <td>NaT</td>\n",
       "      <td>NaT</td>\n",
       "      <td>FOR13085</td>\n",
       "      <td>EMA3138</td>\n",
       "    </tr>\n",
       "    <tr>\n",
       "      <th>64288255</th>\n",
       "      <td>WnKX</td>\n",
       "      <td>ActivityType</td>\n",
       "      <td>2024-12-01 11:07:00.060</td>\n",
       "      <td>2024-12-01 11:12:00.060</td>\n",
       "      <td>NaN</td>\n",
       "      <td>105.0</td>\n",
       "      <td>False</td>\n",
       "      <td>NaN</td>\n",
       "      <td>-99</td>\n",
       "      <td>NaN</td>\n",
       "      <td>...</td>\n",
       "      <td>14.0</td>\n",
       "      <td>100.000000</td>\n",
       "      <td>2024-11-18</td>\n",
       "      <td>2024-12-01</td>\n",
       "      <td>NaT</td>\n",
       "      <td>NaT</td>\n",
       "      <td>NaT</td>\n",
       "      <td>NaT</td>\n",
       "      <td>FOR13085</td>\n",
       "      <td>EMA3138</td>\n",
       "    </tr>\n",
       "    <tr>\n",
       "      <th>64288280</th>\n",
       "      <td>WnKX</td>\n",
       "      <td>ActivityType</td>\n",
       "      <td>2024-12-01 11:29:00.060</td>\n",
       "      <td>2024-12-01 12:43:00.060</td>\n",
       "      <td>NaN</td>\n",
       "      <td>105.0</td>\n",
       "      <td>False</td>\n",
       "      <td>NaN</td>\n",
       "      <td>-99</td>\n",
       "      <td>NaN</td>\n",
       "      <td>...</td>\n",
       "      <td>14.0</td>\n",
       "      <td>100.000000</td>\n",
       "      <td>2024-11-18</td>\n",
       "      <td>2024-12-01</td>\n",
       "      <td>NaT</td>\n",
       "      <td>NaT</td>\n",
       "      <td>NaT</td>\n",
       "      <td>NaT</td>\n",
       "      <td>FOR13085</td>\n",
       "      <td>EMA3138</td>\n",
       "    </tr>\n",
       "    <tr>\n",
       "      <th>64288517</th>\n",
       "      <td>WnKX</td>\n",
       "      <td>ActivityType</td>\n",
       "      <td>2024-12-01 13:07:00.060</td>\n",
       "      <td>2024-12-01 13:43:00.060</td>\n",
       "      <td>NaN</td>\n",
       "      <td>105.0</td>\n",
       "      <td>False</td>\n",
       "      <td>NaN</td>\n",
       "      <td>-99</td>\n",
       "      <td>NaN</td>\n",
       "      <td>...</td>\n",
       "      <td>14.0</td>\n",
       "      <td>100.000000</td>\n",
       "      <td>2024-11-18</td>\n",
       "      <td>2024-12-01</td>\n",
       "      <td>NaT</td>\n",
       "      <td>NaT</td>\n",
       "      <td>NaT</td>\n",
       "      <td>NaT</td>\n",
       "      <td>FOR13085</td>\n",
       "      <td>EMA3138</td>\n",
       "    </tr>\n",
       "  </tbody>\n",
       "</table>\n",
       "<p>66180 rows × 38 columns</p>\n",
       "</div>"
      ],
      "text/plain": [
       "         customer          type          startTimestamp  \\\n",
       "72           4MLe  ActivityType 2023-05-17 20:39:00.000   \n",
       "138          4MLe  ActivityType 2023-05-17 21:00:00.000   \n",
       "163          4MLe  ActivityType 2023-05-17 21:19:00.000   \n",
       "198          4MLe  ActivityType 2023-05-17 21:33:00.000   \n",
       "414          4MLe  ActivityType 2023-05-18 00:38:00.000   \n",
       "...           ...           ...                     ...   \n",
       "64288142     WnKX  ActivityType 2024-12-01 08:47:00.060   \n",
       "64288148     WnKX  ActivityType 2024-12-01 08:58:00.060   \n",
       "64288255     WnKX  ActivityType 2024-12-01 11:07:00.060   \n",
       "64288280     WnKX  ActivityType 2024-12-01 11:29:00.060   \n",
       "64288517     WnKX  ActivityType 2024-12-01 13:07:00.060   \n",
       "\n",
       "                    endTimestamp  doubleValue  longValue  booleanValue  \\\n",
       "72       2023-05-17 20:47:00.000          NaN      105.0         False   \n",
       "138      2023-05-17 21:07:00.000          NaN      105.0         False   \n",
       "163      2023-05-17 21:27:00.000          NaN      105.0         False   \n",
       "198      2023-05-17 21:59:00.000          NaN      105.0         False   \n",
       "414      2023-05-18 00:40:00.000          NaN      103.0         False   \n",
       "...                          ...          ...        ...           ...   \n",
       "64288142 2024-12-01 08:58:00.060          NaN      102.0         False   \n",
       "64288148 2024-12-01 09:21:00.060          NaN      102.0         False   \n",
       "64288255 2024-12-01 11:12:00.060          NaN      105.0         False   \n",
       "64288280 2024-12-01 12:43:00.060          NaN      105.0         False   \n",
       "64288517 2024-12-01 13:43:00.060          NaN      105.0         False   \n",
       "\n",
       "          dateValue stringValue  userReliability  ...  \\\n",
       "72              NaN         -99              NaN  ...   \n",
       "138             NaN         -99              NaN  ...   \n",
       "163             NaN         -99              NaN  ...   \n",
       "198             NaN         -99              NaN  ...   \n",
       "414             NaN         -99              NaN  ...   \n",
       "...             ...         ...              ...  ...   \n",
       "64288142        NaN         -99              NaN  ...   \n",
       "64288148        NaN         -99              NaN  ...   \n",
       "64288255        NaN         -99              NaN  ...   \n",
       "64288280        NaN         -99              NaN  ...   \n",
       "64288517        NaN         -99              NaN  ...   \n",
       "\n",
       "          Heart_Rate_actual_days_with_data  Heart_Rate_data_coverage_per  \\\n",
       "72                                   343.0                     72.362869   \n",
       "138                                  343.0                     72.362869   \n",
       "163                                  343.0                     72.362869   \n",
       "198                                  343.0                     72.362869   \n",
       "414                                  343.0                     72.362869   \n",
       "...                                    ...                           ...   \n",
       "64288142                              14.0                    100.000000   \n",
       "64288148                              14.0                    100.000000   \n",
       "64288255                              14.0                    100.000000   \n",
       "64288280                              14.0                    100.000000   \n",
       "64288517                              14.0                    100.000000   \n",
       "\n",
       "         ema_relative_start_phase0 ema_relative_end_phase0  \\\n",
       "72                             NaT                     NaT   \n",
       "138                            NaT                     NaT   \n",
       "163                            NaT                     NaT   \n",
       "198                            NaT                     NaT   \n",
       "414                            NaT                     NaT   \n",
       "...                            ...                     ...   \n",
       "64288142                2024-11-18              2024-12-01   \n",
       "64288148                2024-11-18              2024-12-01   \n",
       "64288255                2024-11-18              2024-12-01   \n",
       "64288280                2024-11-18              2024-12-01   \n",
       "64288517                2024-11-18              2024-12-01   \n",
       "\n",
       "         ema_relative_start_phase1  ema_relative_end_phase1  \\\n",
       "72                             NaT                      NaT   \n",
       "138                            NaT                      NaT   \n",
       "163                            NaT                      NaT   \n",
       "198                            NaT                      NaT   \n",
       "414                            NaT                      NaT   \n",
       "...                            ...                      ...   \n",
       "64288142                       NaT                      NaT   \n",
       "64288148                       NaT                      NaT   \n",
       "64288255                       NaT                      NaT   \n",
       "64288280                       NaT                      NaT   \n",
       "64288517                       NaT                      NaT   \n",
       "\n",
       "          ema_relative_start_phase2 ema_relative_end_phase2    for_id   ema_id  \n",
       "72                              NaT                     NaT      None     None  \n",
       "138                             NaT                     NaT      None     None  \n",
       "163                             NaT                     NaT      None     None  \n",
       "198                             NaT                     NaT      None     None  \n",
       "414                             NaT                     NaT      None     None  \n",
       "...                             ...                     ...       ...      ...  \n",
       "64288142                        NaT                     NaT  FOR13085  EMA3138  \n",
       "64288148                        NaT                     NaT  FOR13085  EMA3138  \n",
       "64288255                        NaT                     NaT  FOR13085  EMA3138  \n",
       "64288280                        NaT                     NaT  FOR13085  EMA3138  \n",
       "64288517                        NaT                     NaT  FOR13085  EMA3138  \n",
       "\n",
       "[66180 rows x 38 columns]"
      ]
     },
     "execution_count": 23,
     "metadata": {},
     "output_type": "execute_result"
    }
   ],
   "source": [
    "df_pass_act_base.loc[df_pass_act_base.type ==\"ActivityType\"]"
   ]
  },
  {
   "cell_type": "code",
   "execution_count": 24,
   "id": "b68e58ca-efa5-4172-97a8-addd20f5aa72",
   "metadata": {},
   "outputs": [
    {
     "data": {
      "text/plain": [
       "type\n",
       "Longitude                      896980\n",
       "Latitude                       896979\n",
       "CoveredDistance                565579\n",
       "Steps                          565579\n",
       "HeartRate                      557165\n",
       "ActiveBurnedCalories           555826\n",
       "RawECGVoltage                  132544\n",
       "ActivityType                    66180\n",
       "SleepInBedBinary                35459\n",
       "SleepStateBinary                32369\n",
       "SleepBinary                     32369\n",
       "SleepLightBinary                30097\n",
       "SleepDeepBinary                 24311\n",
       "ElevationGain                    9645\n",
       "SleepAwakeBinary                 8615\n",
       "ActivityTypeDetail1              7641\n",
       "ActivityTypeDetail2              7635\n",
       "WalkBinary                       6221\n",
       "FloorsClimbed                    6119\n",
       "SPO2                             5579\n",
       "AtrialFibrillationDetection      1330\n",
       "BikeBinary                       1148\n",
       "ActiveBinary                      343\n",
       "RunBinary                          99\n",
       "Weight                             64\n",
       "FatMass                            22\n",
       "FatFreeMass                        22\n",
       "FatRatio                           22\n",
       "BoneMass                           21\n",
       "MuscleMass                         21\n",
       "BloodPressureDiastolic             12\n",
       "BloodPressureSystolic              12\n",
       "VO2max                             11\n",
       "Height                              6\n",
       "Name: count, dtype: Int64"
      ]
     },
     "execution_count": 24,
     "metadata": {},
     "output_type": "execute_result"
    }
   ],
   "source": [
    "df_pass_act_base['type'].value_counts()\n"
   ]
  },
  {
   "cell_type": "markdown",
   "id": "e596a358",
   "metadata": {},
   "source": [
    "## 2. Prepare EMA data"
   ]
  },
  {
   "cell_type": "code",
   "execution_count": 25,
   "id": "133d9e2a",
   "metadata": {
    "tags": []
   },
   "outputs": [],
   "source": [
    "df_ema_udi = df_ema_content[[\"customer\", \"createdAt_day\", \"quest_create\", \"unique_day_id\", \"assess\"]]"
   ]
  },
  {
   "cell_type": "code",
   "execution_count": 26,
   "id": "43dbd254",
   "metadata": {
    "tags": []
   },
   "outputs": [],
   "source": [
    "# Group by customer and unique_day_id and calculate the minimum quest_create\n",
    "df_min_quest = df_ema_udi.groupby(['customer', 'unique_day_id'])['quest_create'].min().reset_index()\n",
    "\n",
    "# Rename the column to sensor_block_end\n",
    "df_min_quest.rename(columns={'quest_create': 'sensor_block_end'}, inplace=True)\n",
    "\n",
    "# Merge the minimum quest_create back to the original DataFrame\n",
    "df_ema_udi = pd.merge(df_ema_udi, df_min_quest, on=['customer', 'unique_day_id'], how='left')\n",
    "\n",
    "# Create the sensor_block_start column, which is 2 hours before quest_create\n",
    "df_ema_udi.drop(columns=['quest_create'], inplace=True)\n",
    "df_ema_udi = df_ema_udi.drop_duplicates()"
   ]
  },
  {
   "cell_type": "code",
   "execution_count": 27,
   "id": "79939ef0",
   "metadata": {
    "tags": []
   },
   "outputs": [],
   "source": [
    "# prepare mapping of passing data by creating blocks\n",
    "\n",
    "df_ema_udi['sensor_block_start'] = df_ema_udi['sensor_block_end'] - pd.Timedelta(hours=2)\n"
   ]
  },
  {
   "cell_type": "code",
   "execution_count": 28,
   "id": "041705f9-ae62-4345-a71d-afc2f06224d0",
   "metadata": {
    "tags": []
   },
   "outputs": [],
   "source": [
    "# Only include first assessment phase\n",
    "\n",
    "df_ema_udi_base = df_ema_udi.loc[df_ema_udi.assess == 0]"
   ]
  },
  {
   "cell_type": "code",
   "execution_count": 29,
   "id": "f904928c-116c-420d-8264-6a89a8bf83a2",
   "metadata": {},
   "outputs": [
    {
     "data": {
      "text/plain": [
       "(19233, 6)"
      ]
     },
     "execution_count": 29,
     "metadata": {},
     "output_type": "execute_result"
    }
   ],
   "source": [
    "df_ema_udi_base.shape"
   ]
  },
  {
   "cell_type": "code",
   "execution_count": 30,
   "id": "ba09797e-588f-411c-949b-f70acb554ef4",
   "metadata": {},
   "outputs": [],
   "source": [
    "df_ema_udi_base = df_ema_udi_base.copy()\n",
    "df_ema_udi_base[\"unique_blocks\"] = df_ema_udi_base.customer + df_ema_udi_base.unique_day_id"
   ]
  },
  {
   "cell_type": "markdown",
   "id": "47e5c641-d497-4956-96a2-35a09594aa57",
   "metadata": {},
   "source": [
    "## 3. Merge EMA to passive data"
   ]
  },
  {
   "cell_type": "code",
   "execution_count": 32,
   "id": "cbecc8ab-0a6a-471a-abaf-111b726456be",
   "metadata": {
    "tags": []
   },
   "outputs": [
    {
     "name": "stderr",
     "output_type": "stream",
     "text": [
      "[autoreload of EMA_Mapper failed: Traceback (most recent call last):\n",
      "  File \"/home/leha18/.conda/envs/tiki/lib/python3.13/site-packages/IPython/extensions/autoreload.py\", line 276, in check\n",
      "    superreload(m, reload, self.old_objects)\n",
      "    ~~~~~~~~~~~^^^^^^^^^^^^^^^^^^^^^^^^^^^^^\n",
      "  File \"/home/leha18/.conda/envs/tiki/lib/python3.13/site-packages/IPython/extensions/autoreload.py\", line 475, in superreload\n",
      "    module = reload(module)\n",
      "  File \"/home/leha18/.conda/envs/tiki/lib/python3.13/importlib/__init__.py\", line 129, in reload\n",
      "    _bootstrap._exec(spec, module)\n",
      "    ~~~~~~~~~~~~~~~~^^^^^^^^^^^^^^\n",
      "  File \"<frozen importlib._bootstrap>\", line 866, in _exec\n",
      "  File \"<frozen importlib._bootstrap_external>\", line 1018, in exec_module\n",
      "  File \"<frozen importlib._bootstrap_external>\", line 1156, in get_code\n",
      "  File \"<frozen importlib._bootstrap_external>\", line 1086, in source_to_code\n",
      "  File \"<frozen importlib._bootstrap>\", line 488, in _call_with_frames_removed\n",
      "  File \"/home/leha18/tiki_code/src/EMA_Mapper.py\", line 626\n",
      "    def map_calories_and_distance_to_ema(self, batch_size=5000):\n",
      "                                                                ^\n",
      "IndentationError: unindent does not match any outer indentation level\n",
      "]\n",
      "INFO:EMA_Mapper:Mapping steps data to EMA blocks.\n"
     ]
    },
    {
     "name": "stdout",
     "output_type": "stream",
     "text": [
      "Step Data Cleaning Summary:\n",
      "Initial entries: 565579\n",
      "Removed due to non-numeric values: 0\n",
      "Removed due to negative steps: 0\n",
      "Removed due to zero or negative duration: 0\n",
      "Removed due to exceeding steps per minute threshold: 374\n",
      "Total entries removed: 374\n",
      "Remaining entries: 565205\n"
     ]
    },
    {
     "ename": "KeyboardInterrupt",
     "evalue": "",
     "output_type": "error",
     "traceback": [
      "\u001b[0;31m---------------------------------------------------------------------------\u001b[0m",
      "\u001b[0;31mKeyboardInterrupt\u001b[0m                         Traceback (most recent call last)",
      "Cell \u001b[0;32mIn[32], line 5\u001b[0m\n\u001b[1;32m      2\u001b[0m ema_mapper \u001b[38;5;241m=\u001b[39m EMA_Mapper\u001b[38;5;241m.\u001b[39mEMAMapper(df_ema_udi_base, df_pass_act_base, home_clusters_red)\n\u001b[1;32m      4\u001b[0m \u001b[38;5;66;03m# Step 2: Run the mappings\u001b[39;00m\n\u001b[0;32m----> 5\u001b[0m \u001b[43mema_mapper\u001b[49m\u001b[38;5;241;43m.\u001b[39;49m\u001b[43mrun_mappings\u001b[49m\u001b[43m(\u001b[49m\u001b[43m)\u001b[49m\n\u001b[1;32m      7\u001b[0m \u001b[38;5;66;03m# Step 3: Retrieve the enriched EMA DataFrame\u001b[39;00m\n\u001b[1;32m      8\u001b[0m df_ema_enriched \u001b[38;5;241m=\u001b[39m ema_mapper\u001b[38;5;241m.\u001b[39mget_result()\n",
      "File \u001b[0;32m~/tiki_code/src/EMA_Mapper.py:43\u001b[0m, in \u001b[0;36mrun_mappings\u001b[0;34m(self)\u001b[0m\n\u001b[1;32m     41\u001b[0m try:\n\u001b[1;32m     42\u001b[0m     logger.info(\"Mapping steps data to EMA blocks.\")\n\u001b[0;32m---> 43\u001b[0m     self.sensor_mapper.map_steps_to_ema()\n\u001b[1;32m     44\u001b[0m \n\u001b[1;32m     45\u001b[0m     #logger.info(\"Mapping activity data to EMA blocks.\")\n",
      "File \u001b[0;32m~/tiki_code/src/EMA_Mapper.py:311\u001b[0m, in \u001b[0;36mmap_steps_to_ema\u001b[0;34m(self)\u001b[0m\n\u001b[1;32m    309\u001b[0m df_steps['key'] = 0\n\u001b[1;32m    310\u001b[0m self.df_ema['key'] = 0\n\u001b[0;32m--> 311\u001b[0m df_joined = pd.merge(df_steps, self.df_ema, on=['key', 'customer']).drop(columns=['key'])\n\u001b[1;32m    312\u001b[0m \n\u001b[1;32m    313\u001b[0m # Filter based on overlap conditions\n",
      "File \u001b[0;32m~/.conda/envs/tiki/lib/python3.13/site-packages/pandas/core/reshape/merge.py:184\u001b[0m, in \u001b[0;36mmerge\u001b[0;34m(left, right, how, on, left_on, right_on, left_index, right_index, sort, suffixes, copy, indicator, validate)\u001b[0m\n\u001b[1;32m    169\u001b[0m \u001b[38;5;28;01melse\u001b[39;00m:\n\u001b[1;32m    170\u001b[0m     op \u001b[38;5;241m=\u001b[39m _MergeOperation(\n\u001b[1;32m    171\u001b[0m         left_df,\n\u001b[1;32m    172\u001b[0m         right_df,\n\u001b[0;32m   (...)\u001b[0m\n\u001b[1;32m    182\u001b[0m         validate\u001b[38;5;241m=\u001b[39mvalidate,\n\u001b[1;32m    183\u001b[0m     )\n\u001b[0;32m--> 184\u001b[0m     \u001b[38;5;28;01mreturn\u001b[39;00m \u001b[43mop\u001b[49m\u001b[38;5;241;43m.\u001b[39;49m\u001b[43mget_result\u001b[49m\u001b[43m(\u001b[49m\u001b[43mcopy\u001b[49m\u001b[38;5;241;43m=\u001b[39;49m\u001b[43mcopy\u001b[49m\u001b[43m)\u001b[49m\n",
      "File \u001b[0;32m~/.conda/envs/tiki/lib/python3.13/site-packages/pandas/core/reshape/merge.py:888\u001b[0m, in \u001b[0;36m_MergeOperation.get_result\u001b[0;34m(self, copy)\u001b[0m\n\u001b[1;32m    884\u001b[0m     \u001b[38;5;28mself\u001b[39m\u001b[38;5;241m.\u001b[39mleft, \u001b[38;5;28mself\u001b[39m\u001b[38;5;241m.\u001b[39mright \u001b[38;5;241m=\u001b[39m \u001b[38;5;28mself\u001b[39m\u001b[38;5;241m.\u001b[39m_indicator_pre_merge(\u001b[38;5;28mself\u001b[39m\u001b[38;5;241m.\u001b[39mleft, \u001b[38;5;28mself\u001b[39m\u001b[38;5;241m.\u001b[39mright)\n\u001b[1;32m    886\u001b[0m join_index, left_indexer, right_indexer \u001b[38;5;241m=\u001b[39m \u001b[38;5;28mself\u001b[39m\u001b[38;5;241m.\u001b[39m_get_join_info()\n\u001b[0;32m--> 888\u001b[0m result \u001b[38;5;241m=\u001b[39m \u001b[38;5;28;43mself\u001b[39;49m\u001b[38;5;241;43m.\u001b[39;49m\u001b[43m_reindex_and_concat\u001b[49m\u001b[43m(\u001b[49m\n\u001b[1;32m    889\u001b[0m \u001b[43m    \u001b[49m\u001b[43mjoin_index\u001b[49m\u001b[43m,\u001b[49m\u001b[43m \u001b[49m\u001b[43mleft_indexer\u001b[49m\u001b[43m,\u001b[49m\u001b[43m \u001b[49m\u001b[43mright_indexer\u001b[49m\u001b[43m,\u001b[49m\u001b[43m \u001b[49m\u001b[43mcopy\u001b[49m\u001b[38;5;241;43m=\u001b[39;49m\u001b[43mcopy\u001b[49m\n\u001b[1;32m    890\u001b[0m \u001b[43m\u001b[49m\u001b[43m)\u001b[49m\n\u001b[1;32m    891\u001b[0m result \u001b[38;5;241m=\u001b[39m result\u001b[38;5;241m.\u001b[39m__finalize__(\u001b[38;5;28mself\u001b[39m, method\u001b[38;5;241m=\u001b[39m\u001b[38;5;28mself\u001b[39m\u001b[38;5;241m.\u001b[39m_merge_type)\n\u001b[1;32m    893\u001b[0m \u001b[38;5;28;01mif\u001b[39;00m \u001b[38;5;28mself\u001b[39m\u001b[38;5;241m.\u001b[39mindicator:\n",
      "File \u001b[0;32m~/.conda/envs/tiki/lib/python3.13/site-packages/pandas/core/reshape/merge.py:848\u001b[0m, in \u001b[0;36m_MergeOperation._reindex_and_concat\u001b[0;34m(self, join_index, left_indexer, right_indexer, copy)\u001b[0m\n\u001b[1;32m    840\u001b[0m llabels, rlabels \u001b[38;5;241m=\u001b[39m _items_overlap_with_suffix(\n\u001b[1;32m    841\u001b[0m     \u001b[38;5;28mself\u001b[39m\u001b[38;5;241m.\u001b[39mleft\u001b[38;5;241m.\u001b[39m_info_axis, \u001b[38;5;28mself\u001b[39m\u001b[38;5;241m.\u001b[39mright\u001b[38;5;241m.\u001b[39m_info_axis, \u001b[38;5;28mself\u001b[39m\u001b[38;5;241m.\u001b[39msuffixes\n\u001b[1;32m    842\u001b[0m )\n\u001b[1;32m    844\u001b[0m \u001b[38;5;28;01mif\u001b[39;00m left_indexer \u001b[38;5;129;01mis\u001b[39;00m \u001b[38;5;129;01mnot\u001b[39;00m \u001b[38;5;28;01mNone\u001b[39;00m \u001b[38;5;129;01mand\u001b[39;00m \u001b[38;5;129;01mnot\u001b[39;00m is_range_indexer(left_indexer, \u001b[38;5;28mlen\u001b[39m(left)):\n\u001b[1;32m    845\u001b[0m     \u001b[38;5;66;03m# Pinning the index here (and in the right code just below) is not\u001b[39;00m\n\u001b[1;32m    846\u001b[0m     \u001b[38;5;66;03m#  necessary, but makes the `.take` more performant if we have e.g.\u001b[39;00m\n\u001b[1;32m    847\u001b[0m     \u001b[38;5;66;03m#  a MultiIndex for left.index.\u001b[39;00m\n\u001b[0;32m--> 848\u001b[0m     lmgr \u001b[38;5;241m=\u001b[39m \u001b[43mleft\u001b[49m\u001b[38;5;241;43m.\u001b[39;49m\u001b[43m_mgr\u001b[49m\u001b[38;5;241;43m.\u001b[39;49m\u001b[43mreindex_indexer\u001b[49m\u001b[43m(\u001b[49m\n\u001b[1;32m    849\u001b[0m \u001b[43m        \u001b[49m\u001b[43mjoin_index\u001b[49m\u001b[43m,\u001b[49m\n\u001b[1;32m    850\u001b[0m \u001b[43m        \u001b[49m\u001b[43mleft_indexer\u001b[49m\u001b[43m,\u001b[49m\n\u001b[1;32m    851\u001b[0m \u001b[43m        \u001b[49m\u001b[43maxis\u001b[49m\u001b[38;5;241;43m=\u001b[39;49m\u001b[38;5;241;43m1\u001b[39;49m\u001b[43m,\u001b[49m\n\u001b[1;32m    852\u001b[0m \u001b[43m        \u001b[49m\u001b[43mcopy\u001b[49m\u001b[38;5;241;43m=\u001b[39;49m\u001b[38;5;28;43;01mFalse\u001b[39;49;00m\u001b[43m,\u001b[49m\n\u001b[1;32m    853\u001b[0m \u001b[43m        \u001b[49m\u001b[43monly_slice\u001b[49m\u001b[38;5;241;43m=\u001b[39;49m\u001b[38;5;28;43;01mTrue\u001b[39;49;00m\u001b[43m,\u001b[49m\n\u001b[1;32m    854\u001b[0m \u001b[43m        \u001b[49m\u001b[43mallow_dups\u001b[49m\u001b[38;5;241;43m=\u001b[39;49m\u001b[38;5;28;43;01mTrue\u001b[39;49;00m\u001b[43m,\u001b[49m\n\u001b[1;32m    855\u001b[0m \u001b[43m        \u001b[49m\u001b[43muse_na_proxy\u001b[49m\u001b[38;5;241;43m=\u001b[39;49m\u001b[38;5;28;43;01mTrue\u001b[39;49;00m\u001b[43m,\u001b[49m\n\u001b[1;32m    856\u001b[0m \u001b[43m    \u001b[49m\u001b[43m)\u001b[49m\n\u001b[1;32m    857\u001b[0m     left \u001b[38;5;241m=\u001b[39m left\u001b[38;5;241m.\u001b[39m_constructor_from_mgr(lmgr, axes\u001b[38;5;241m=\u001b[39mlmgr\u001b[38;5;241m.\u001b[39maxes)\n\u001b[1;32m    858\u001b[0m left\u001b[38;5;241m.\u001b[39mindex \u001b[38;5;241m=\u001b[39m join_index\n",
      "File \u001b[0;32m~/.conda/envs/tiki/lib/python3.13/site-packages/pandas/core/internals/managers.py:688\u001b[0m, in \u001b[0;36mBaseBlockManager.reindex_indexer\u001b[0;34m(self, new_axis, indexer, axis, fill_value, allow_dups, copy, only_slice, use_na_proxy)\u001b[0m\n\u001b[1;32m    680\u001b[0m     new_blocks \u001b[38;5;241m=\u001b[39m \u001b[38;5;28mself\u001b[39m\u001b[38;5;241m.\u001b[39m_slice_take_blocks_ax0(\n\u001b[1;32m    681\u001b[0m         indexer,\n\u001b[1;32m    682\u001b[0m         fill_value\u001b[38;5;241m=\u001b[39mfill_value,\n\u001b[1;32m    683\u001b[0m         only_slice\u001b[38;5;241m=\u001b[39monly_slice,\n\u001b[1;32m    684\u001b[0m         use_na_proxy\u001b[38;5;241m=\u001b[39muse_na_proxy,\n\u001b[1;32m    685\u001b[0m     )\n\u001b[1;32m    686\u001b[0m \u001b[38;5;28;01melse\u001b[39;00m:\n\u001b[1;32m    687\u001b[0m     new_blocks \u001b[38;5;241m=\u001b[39m [\n\u001b[0;32m--> 688\u001b[0m         \u001b[43mblk\u001b[49m\u001b[38;5;241;43m.\u001b[39;49m\u001b[43mtake_nd\u001b[49m\u001b[43m(\u001b[49m\n\u001b[1;32m    689\u001b[0m \u001b[43m            \u001b[49m\u001b[43mindexer\u001b[49m\u001b[43m,\u001b[49m\n\u001b[1;32m    690\u001b[0m \u001b[43m            \u001b[49m\u001b[43maxis\u001b[49m\u001b[38;5;241;43m=\u001b[39;49m\u001b[38;5;241;43m1\u001b[39;49m\u001b[43m,\u001b[49m\n\u001b[1;32m    691\u001b[0m \u001b[43m            \u001b[49m\u001b[43mfill_value\u001b[49m\u001b[38;5;241;43m=\u001b[39;49m\u001b[43m(\u001b[49m\n\u001b[1;32m    692\u001b[0m \u001b[43m                \u001b[49m\u001b[43mfill_value\u001b[49m\u001b[43m \u001b[49m\u001b[38;5;28;43;01mif\u001b[39;49;00m\u001b[43m \u001b[49m\u001b[43mfill_value\u001b[49m\u001b[43m \u001b[49m\u001b[38;5;129;43;01mis\u001b[39;49;00m\u001b[43m \u001b[49m\u001b[38;5;129;43;01mnot\u001b[39;49;00m\u001b[43m \u001b[49m\u001b[38;5;28;43;01mNone\u001b[39;49;00m\u001b[43m \u001b[49m\u001b[38;5;28;43;01melse\u001b[39;49;00m\u001b[43m \u001b[49m\u001b[43mblk\u001b[49m\u001b[38;5;241;43m.\u001b[39;49m\u001b[43mfill_value\u001b[49m\n\u001b[1;32m    693\u001b[0m \u001b[43m            \u001b[49m\u001b[43m)\u001b[49m\u001b[43m,\u001b[49m\n\u001b[1;32m    694\u001b[0m \u001b[43m        \u001b[49m\u001b[43m)\u001b[49m\n\u001b[1;32m    695\u001b[0m         \u001b[38;5;28;01mfor\u001b[39;00m blk \u001b[38;5;129;01min\u001b[39;00m \u001b[38;5;28mself\u001b[39m\u001b[38;5;241m.\u001b[39mblocks\n\u001b[1;32m    696\u001b[0m     ]\n\u001b[1;32m    698\u001b[0m new_axes \u001b[38;5;241m=\u001b[39m \u001b[38;5;28mlist\u001b[39m(\u001b[38;5;28mself\u001b[39m\u001b[38;5;241m.\u001b[39maxes)\n\u001b[1;32m    699\u001b[0m new_axes[axis] \u001b[38;5;241m=\u001b[39m new_axis\n",
      "File \u001b[0;32m~/.conda/envs/tiki/lib/python3.13/site-packages/pandas/core/internals/blocks.py:1307\u001b[0m, in \u001b[0;36mBlock.take_nd\u001b[0;34m(self, indexer, axis, new_mgr_locs, fill_value)\u001b[0m\n\u001b[1;32m   1304\u001b[0m     allow_fill \u001b[38;5;241m=\u001b[39m \u001b[38;5;28;01mTrue\u001b[39;00m\n\u001b[1;32m   1306\u001b[0m \u001b[38;5;66;03m# Note: algos.take_nd has upcast logic similar to coerce_to_target_dtype\u001b[39;00m\n\u001b[0;32m-> 1307\u001b[0m new_values \u001b[38;5;241m=\u001b[39m \u001b[43malgos\u001b[49m\u001b[38;5;241;43m.\u001b[39;49m\u001b[43mtake_nd\u001b[49m\u001b[43m(\u001b[49m\n\u001b[1;32m   1308\u001b[0m \u001b[43m    \u001b[49m\u001b[43mvalues\u001b[49m\u001b[43m,\u001b[49m\u001b[43m \u001b[49m\u001b[43mindexer\u001b[49m\u001b[43m,\u001b[49m\u001b[43m \u001b[49m\u001b[43maxis\u001b[49m\u001b[38;5;241;43m=\u001b[39;49m\u001b[43maxis\u001b[49m\u001b[43m,\u001b[49m\u001b[43m \u001b[49m\u001b[43mallow_fill\u001b[49m\u001b[38;5;241;43m=\u001b[39;49m\u001b[43mallow_fill\u001b[49m\u001b[43m,\u001b[49m\u001b[43m \u001b[49m\u001b[43mfill_value\u001b[49m\u001b[38;5;241;43m=\u001b[39;49m\u001b[43mfill_value\u001b[49m\n\u001b[1;32m   1309\u001b[0m \u001b[43m\u001b[49m\u001b[43m)\u001b[49m\n\u001b[1;32m   1311\u001b[0m \u001b[38;5;66;03m# Called from three places in managers, all of which satisfy\u001b[39;00m\n\u001b[1;32m   1312\u001b[0m \u001b[38;5;66;03m#  these assertions\u001b[39;00m\n\u001b[1;32m   1313\u001b[0m \u001b[38;5;28;01mif\u001b[39;00m \u001b[38;5;28misinstance\u001b[39m(\u001b[38;5;28mself\u001b[39m, ExtensionBlock):\n\u001b[1;32m   1314\u001b[0m     \u001b[38;5;66;03m# NB: in this case, the 'axis' kwarg will be ignored in the\u001b[39;00m\n\u001b[1;32m   1315\u001b[0m     \u001b[38;5;66;03m#  algos.take_nd call above.\u001b[39;00m\n",
      "File \u001b[0;32m~/.conda/envs/tiki/lib/python3.13/site-packages/pandas/core/array_algos/take.py:114\u001b[0m, in \u001b[0;36mtake_nd\u001b[0;34m(arr, indexer, axis, fill_value, allow_fill)\u001b[0m\n\u001b[1;32m    109\u001b[0m         arr \u001b[38;5;241m=\u001b[39m cast(\u001b[38;5;124m\"\u001b[39m\u001b[38;5;124mNDArrayBackedExtensionArray\u001b[39m\u001b[38;5;124m\"\u001b[39m, arr)\n\u001b[1;32m    110\u001b[0m         \u001b[38;5;28;01mreturn\u001b[39;00m arr\u001b[38;5;241m.\u001b[39mtake(\n\u001b[1;32m    111\u001b[0m             indexer, fill_value\u001b[38;5;241m=\u001b[39mfill_value, allow_fill\u001b[38;5;241m=\u001b[39mallow_fill, axis\u001b[38;5;241m=\u001b[39maxis\n\u001b[1;32m    112\u001b[0m         )\n\u001b[0;32m--> 114\u001b[0m     \u001b[38;5;28;01mreturn\u001b[39;00m \u001b[43marr\u001b[49m\u001b[38;5;241;43m.\u001b[39;49m\u001b[43mtake\u001b[49m\u001b[43m(\u001b[49m\u001b[43mindexer\u001b[49m\u001b[43m,\u001b[49m\u001b[43m \u001b[49m\u001b[43mfill_value\u001b[49m\u001b[38;5;241;43m=\u001b[39;49m\u001b[43mfill_value\u001b[49m\u001b[43m,\u001b[49m\u001b[43m \u001b[49m\u001b[43mallow_fill\u001b[49m\u001b[38;5;241;43m=\u001b[39;49m\u001b[43mallow_fill\u001b[49m\u001b[43m)\u001b[49m\n\u001b[1;32m    116\u001b[0m arr \u001b[38;5;241m=\u001b[39m np\u001b[38;5;241m.\u001b[39masarray(arr)\n\u001b[1;32m    117\u001b[0m \u001b[38;5;28;01mreturn\u001b[39;00m _take_nd_ndarray(arr, indexer, axis, fill_value, allow_fill)\n",
      "File \u001b[0;32m~/.conda/envs/tiki/lib/python3.13/site-packages/pandas/core/arrays/_mixins.py:175\u001b[0m, in \u001b[0;36mNDArrayBackedExtensionArray.take\u001b[0;34m(self, indices, allow_fill, fill_value, axis)\u001b[0m\n\u001b[1;32m    166\u001b[0m     fill_value \u001b[38;5;241m=\u001b[39m \u001b[38;5;28mself\u001b[39m\u001b[38;5;241m.\u001b[39m_validate_scalar(fill_value)\n\u001b[1;32m    168\u001b[0m new_data \u001b[38;5;241m=\u001b[39m take(\n\u001b[1;32m    169\u001b[0m     \u001b[38;5;28mself\u001b[39m\u001b[38;5;241m.\u001b[39m_ndarray,\n\u001b[1;32m    170\u001b[0m     indices,\n\u001b[0;32m   (...)\u001b[0m\n\u001b[1;32m    173\u001b[0m     axis\u001b[38;5;241m=\u001b[39maxis,\n\u001b[1;32m    174\u001b[0m )\n\u001b[0;32m--> 175\u001b[0m \u001b[38;5;28;01mreturn\u001b[39;00m \u001b[38;5;28;43mself\u001b[39;49m\u001b[38;5;241;43m.\u001b[39;49m\u001b[43m_from_backing_data\u001b[49m\u001b[43m(\u001b[49m\u001b[43mnew_data\u001b[49m\u001b[43m)\u001b[49m\n",
      "File \u001b[0;32m~/.conda/envs/tiki/lib/python3.13/site-packages/pandas/core/arrays/numpy_.py:141\u001b[0m, in \u001b[0;36mNumpyExtensionArray._from_backing_data\u001b[0;34m(self, arr)\u001b[0m\n\u001b[1;32m    140\u001b[0m \u001b[38;5;28;01mdef\u001b[39;00m \u001b[38;5;21m_from_backing_data\u001b[39m(\u001b[38;5;28mself\u001b[39m, arr: np\u001b[38;5;241m.\u001b[39mndarray) \u001b[38;5;241m-\u001b[39m\u001b[38;5;241m>\u001b[39m NumpyExtensionArray:\n\u001b[0;32m--> 141\u001b[0m     \u001b[38;5;28;01mreturn\u001b[39;00m \u001b[38;5;28;43mtype\u001b[39;49m\u001b[43m(\u001b[49m\u001b[38;5;28;43mself\u001b[39;49m\u001b[43m)\u001b[49m\u001b[43m(\u001b[49m\u001b[43marr\u001b[49m\u001b[43m)\u001b[49m\n",
      "File \u001b[0;32m~/.conda/envs/tiki/lib/python3.13/site-packages/pandas/core/arrays/string_.py:364\u001b[0m, in \u001b[0;36mStringArray.__init__\u001b[0;34m(self, values, copy)\u001b[0m\n\u001b[1;32m    362\u001b[0m \u001b[38;5;28msuper\u001b[39m()\u001b[38;5;241m.\u001b[39m\u001b[38;5;21m__init__\u001b[39m(values, copy\u001b[38;5;241m=\u001b[39mcopy)\n\u001b[1;32m    363\u001b[0m \u001b[38;5;28;01mif\u001b[39;00m \u001b[38;5;129;01mnot\u001b[39;00m \u001b[38;5;28misinstance\u001b[39m(values, \u001b[38;5;28mtype\u001b[39m(\u001b[38;5;28mself\u001b[39m)):\n\u001b[0;32m--> 364\u001b[0m     \u001b[38;5;28;43mself\u001b[39;49m\u001b[38;5;241;43m.\u001b[39;49m\u001b[43m_validate\u001b[49m\u001b[43m(\u001b[49m\u001b[43m)\u001b[49m\n\u001b[1;32m    365\u001b[0m NDArrayBacked\u001b[38;5;241m.\u001b[39m\u001b[38;5;21m__init__\u001b[39m(\u001b[38;5;28mself\u001b[39m, \u001b[38;5;28mself\u001b[39m\u001b[38;5;241m.\u001b[39m_ndarray, StringDtype(storage\u001b[38;5;241m=\u001b[39m\u001b[38;5;124m\"\u001b[39m\u001b[38;5;124mpython\u001b[39m\u001b[38;5;124m\"\u001b[39m))\n",
      "File \u001b[0;32m~/.conda/envs/tiki/lib/python3.13/site-packages/pandas/core/arrays/string_.py:381\u001b[0m, in \u001b[0;36mStringArray._validate\u001b[0;34m(self)\u001b[0m\n\u001b[1;32m    379\u001b[0m     lib\u001b[38;5;241m.\u001b[39mconvert_nans_to_NA(\u001b[38;5;28mself\u001b[39m\u001b[38;5;241m.\u001b[39m_ndarray\u001b[38;5;241m.\u001b[39mravel(\u001b[38;5;124m\"\u001b[39m\u001b[38;5;124mK\u001b[39m\u001b[38;5;124m\"\u001b[39m))\n\u001b[1;32m    380\u001b[0m \u001b[38;5;28;01melse\u001b[39;00m:\n\u001b[0;32m--> 381\u001b[0m     \u001b[43mlib\u001b[49m\u001b[38;5;241;43m.\u001b[39;49m\u001b[43mconvert_nans_to_NA\u001b[49m\u001b[43m(\u001b[49m\u001b[38;5;28;43mself\u001b[39;49m\u001b[38;5;241;43m.\u001b[39;49m\u001b[43m_ndarray\u001b[49m\u001b[43m)\u001b[49m\n",
      "\u001b[0;31mKeyboardInterrupt\u001b[0m: "
     ]
    }
   ],
   "source": [
    "# Step 1: Initialize the EMAMapper\n",
    "ema_mapper = EMA_Mapper.EMAMapper(df_ema_udi_base, df_pass_act_base, home_clusters_red)\n",
    "\n",
    "# Step 2: Run the mappings\n",
    "ema_mapper.run_mappings()\n",
    "\n",
    "# Step 3: Retrieve the enriched EMA DataFrame\n",
    "df_ema_enriched = ema_mapper.get_result()"
   ]
  },
  {
   "cell_type": "code",
   "execution_count": null,
   "id": "0d7d52f6-512f-4304-bfe7-437d00b68eff",
   "metadata": {},
   "outputs": [],
   "source": [
    "df_ema_enriched.columns"
   ]
  },
  {
   "cell_type": "code",
   "execution_count": null,
   "id": "0ebe768c-5f50-4137-895f-70573ac68024",
   "metadata": {
    "tags": []
   },
   "outputs": [],
   "source": [
    "def summarize_missing_data(df, columns):\n",
    "    \"\"\"\n",
    "    Summarizes the number of -1 values in the specified columns and calculates\n",
    "    the number of blocks with complete data or missing data.\n",
    "\n",
    "    Parameters:\n",
    "        df (pd.DataFrame): The DataFrame to analyze.\n",
    "        columns (list): List of column names to check for -1 values.\n",
    "\n",
    "    Returns:\n",
    "        None: Prints the summary to the console.\n",
    "    \"\"\"\n",
    "    print(\"Summary of Missing Data (-1 values):\\n\")\n",
    "    \n",
    "    # Absolute and percentage of -1 values per column\n",
    "    total_rows = len(df)\n",
    "    missing_summary = {\n",
    "        \"Column\": [],\n",
    "        \"Missing (-1)\": [],\n",
    "        \"Percentage (%)\": []\n",
    "    }\n",
    "    \n",
    "    for col in columns:\n",
    "        if col in df.columns:\n",
    "            missing_count = (df[col] == -1).sum()\n",
    "            missing_summary[\"Column\"].append(col)\n",
    "            missing_summary[\"Missing (-1)\"].append(missing_count)\n",
    "            missing_summary[\"Percentage (%)\"].append(round((missing_count / total_rows) * 100, 2))\n",
    "    \n",
    "    # Print the summary for each column\n",
    "    for i in range(len(missing_summary[\"Column\"])):\n",
    "        print(f\"{missing_summary['Column'][i]}: {missing_summary['Missing (-1)'][i]} \"\n",
    "              f\"({missing_summary['Percentage (%)'][i]}%)\")\n",
    "    \n",
    "    print(\"\\nSummary of Blocks with Missing Data:\\n\")\n",
    "    \n",
    "    # Count the number of -1 values per block\n",
    "    df[\"missing_count\"] = (df[columns] == -1).sum(axis=1)\n",
    "    \n",
    "    # Count the number of blocks with complete data and varying levels of missing data\n",
    "    complete_blocks = (df[\"missing_count\"] == 0).sum()\n",
    "    missing_counts = df[\"missing_count\"].value_counts().sort_index()\n",
    "    \n",
    "    print(f\"Complete blocks (no -1 values): {complete_blocks} \"\n",
    "          f\"({round((complete_blocks / total_rows) * 100, 2)}%)\")\n",
    "    \n",
    "    for num_missing, count in missing_counts.items():\n",
    "        if num_missing > 0:\n",
    "            print(f\"Blocks with {num_missing} variable(s) missing: {count} \"\n",
    "                  f\"({round((count / total_rows) * 100, 2)}%)\")\n",
    "    \n",
    "    # Clean up temporary column\n",
    "    df.drop(columns=[\"missing_count\"], inplace=True)"
   ]
  },
  {
   "cell_type": "code",
   "execution_count": null,
   "id": "a7941b01-f78c-499c-b37a-8c47da6a4834",
   "metadata": {},
   "outputs": [],
   "source": [
    "columns_to_check = ['n_steps', 'hr_mean', 'hr_min', 'hr_max', 'hr_std', 'hr_median',\n",
    "                    'range_heartrate', 'iqr_heartrate', 'skewness_heartrate',\n",
    "                    'kurtosis_heartrate', 'hr_peak_counts', 'hr_slope', 'hr_zone_resting',\n",
    "                    'hr_zone_moderate', 'hr_zone_vigorous', 'n_GPS', 'total_distance_km',\n",
    "                    'at_home_minute', 'time_in_transition_minutes',\n",
    "                    'time_stationary_minutes', 'prop_time_moving', 'prop_time_stationary', 'time_walk_minutes', 'time_active_minutes',\n",
    "       'time_bike_minutes', 'time_run_minutes']\n",
    "\n",
    "summarize_missing_data(df_ema_enriched, columns_to_check)\n"
   ]
  },
  {
   "cell_type": "code",
   "execution_count": null,
   "id": "70bd9bce-1396-4f95-b7d1-87cacb01281c",
   "metadata": {
    "tags": []
   },
   "outputs": [],
   "source": [
    "df_ema_with_at_home.transition_minutes.describe()"
   ]
  },
  {
   "cell_type": "code",
   "execution_count": null,
   "id": "dad818d2-b04d-4cf6-b10e-f7ff7a33e800",
   "metadata": {
    "tags": []
   },
   "outputs": [],
   "source": [
    "with open(preprocessed_path + '/map_ema_passive.pkl', 'wb') as file:\n",
    "    pickle.dump(df_ema_with_at_home, file)"
   ]
  },
  {
   "cell_type": "code",
   "execution_count": null,
   "id": "17a26233-94bb-4e2b-9dd4-f2a6beb422bc",
   "metadata": {},
   "outputs": [],
   "source": []
  },
  {
   "cell_type": "code",
   "execution_count": null,
   "id": "8ec020b1-45b2-4512-a108-5bd8ba9b2254",
   "metadata": {},
   "outputs": [],
   "source": []
  }
 ],
 "metadata": {
  "kernelspec": {
   "display_name": "Python [conda env:.conda-tiki]",
   "language": "python",
   "name": "conda-env-.conda-tiki-py"
  },
  "language_info": {
   "codemirror_mode": {
    "name": "ipython",
    "version": 3
   },
   "file_extension": ".py",
   "mimetype": "text/x-python",
   "name": "python",
   "nbconvert_exporter": "python",
   "pygments_lexer": "ipython3",
   "version": "3.13.0"
  }
 },
 "nbformat": 4,
 "nbformat_minor": 5
}
