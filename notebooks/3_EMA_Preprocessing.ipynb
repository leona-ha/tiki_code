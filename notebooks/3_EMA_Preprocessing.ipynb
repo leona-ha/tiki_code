{
 "cells": [
  {
   "cell_type": "markdown",
   "id": "06cf353a",
   "metadata": {},
   "source": [
    "## Preprocessing of EMA Data"
   ]
  },
  {
   "cell_type": "code",
   "execution_count": 1,
   "id": "00d3e8b0",
   "metadata": {},
   "outputs": [],
   "source": [
    "import os\n",
    "import sys\n",
    "import regex as re\n",
    "\n",
    "import glob\n",
    "import pickle\n",
    "from IPython.display import Markdown\n",
    "from config import datapath\n",
    "\n",
    "# If your current working directory is the notebooks directory, use this:\n",
    "library_path = os.path.abspath(os.path.join(os.getcwd(), '..', 'library'))\n",
    "sys.path.append(library_path)\n",
    "\n",
    "import pandas as pd\n",
    "import numpy as np\n",
    "import datetime as dt\n",
    "\n",
    "from sklearn.cluster import DBSCAN\n",
    "import statistics \n",
    "\n",
    "import matplotlib.pyplot as plt\n",
    "from matplotlib import rcParams\n",
    "import seaborn as sns \n",
    "import matplotlib.patches as mpatches\n",
    "\n",
    "sns.set_context(\"notebook\", rc={\"axes.labelsize\": 14, \"xtick.labelsize\": 14, \"ytick.labelsize\": 14})\n",
    "sns.set_style(\"whitegrid\", {'axes.grid': True})\n",
    "%matplotlib inline"
   ]
  },
  {
   "cell_type": "code",
   "execution_count": 2,
   "id": "9b9abec7",
   "metadata": {},
   "outputs": [],
   "source": [
    "today = dt.date.today().strftime(\"%d%m%Y\")\n",
    "today_day = pd.to_datetime('today').normalize()\n",
    "\n",
    "with open(datapath + f'ema_data.pkl', 'rb') as file:\n",
    "    df_active = pickle.load(file)\n",
    "    \n",
    "with open(datapath + f'ema_content.pkl', 'rb') as file:\n",
    "    df_ema = pickle.load(file)\n",
    "    \n",
    "with open(datapath + f'gps_data.pkl', 'rb') as file:\n",
    "    df_gps = pickle.load(file)\n",
    "    \n",
    "with open(datapath + f'passive_data.pkl', 'rb') as file:\n",
    "    df_passive = pickle.load(file)\n",
    "\n",
    "with open(datapath + f'monitoring_data.pkl', 'rb') as file:\n",
    "    df_monitoring = pickle.load(file)"
   ]
  },
  {
   "cell_type": "code",
   "execution_count": 3,
   "id": "a21c9671",
   "metadata": {},
   "outputs": [],
   "source": [
    "min_num_daily = 1\n",
    "min_days_data = 10"
   ]
  },
  {
   "cell_type": "code",
   "execution_count": 4,
   "id": "d5b143fe",
   "metadata": {},
   "outputs": [],
   "source": [
    "df_ema = df_ema[['customer','study', 'createdAt', 'choice_id', 'choice_text',\n",
    "       'quest_title', 'questionnaire_name', 'ema_start_date', 'status',\n",
    "       'study_version']]"
   ]
  },
  {
   "cell_type": "code",
   "execution_count": 5,
   "id": "25bfd4a9",
   "metadata": {},
   "outputs": [],
   "source": [
    "df_ema = df_ema.copy()\n",
    "df_ema['weekday'] = df_ema['createdAt'].dt.day_name()\n",
    "df_ema['createdAt_day'] = df_ema.createdAt.dt.normalize()\n",
    "\n",
    "df_ema['quest_nr'] = df_ema['questionnaire_name'].apply(lambda x: int(re.search(r'\\d+', x).group()) \\\n",
    "                                               if re.search(r'\\d+', x) else None)\n",
    "\n",
    "df_ema[\"n_quest\"] = df_ema.groupby([\"study\", \"customer\", \"createdAt_day\"])[\"questionnaire_name\"].transform(\"nunique\")\n",
    "\n",
    "# Create unique day ID\n",
    "# Create a unique day identifier directly without creating extra columns\n",
    "df_ema['unique_day_id'] = df_ema['createdAt_day'].dt.strftime('%Y%m%d') + '_' + df_ema['quest_nr'].astype(str)\n",
    "\n",
    "# Now df_ema has the 'unique_day_id' column directly\n",
    "\n",
    "study_mapping = {\n",
    "    24: 0,\n",
    "    25: 0,\n",
    "    33: 1,\n",
    "    34: 1\n",
    "}\n",
    "\n",
    "# Apply the mapping to the 'study' column\n",
    "df_ema['assess'] = df_ema['study'].map(study_mapping)\n",
    "# Replace '_morning' with '' in the 'quest_title' column as we don't need to differenciate\n",
    "df_ema['quest_title'] = df_ema['quest_title'].str.replace('_morning', '', regex=False)"
   ]
  },
  {
   "cell_type": "markdown",
   "id": "24c3bc57",
   "metadata": {},
   "source": [
    "### 1. Include only patients with finished assessments and enough data"
   ]
  },
  {
   "cell_type": "code",
   "execution_count": 6,
   "id": "cffbe503",
   "metadata": {},
   "outputs": [],
   "source": [
    "df_ema = df_ema.loc[df_ema.status.isin([\"Abgeschlossen\", \"Post_Erhebung_1\",\n",
    "                                                             \"Erhebung_2_aktiv\",\"Post_Erhebung_2\"])]"
   ]
  },
  {
   "cell_type": "code",
   "execution_count": 7,
   "id": "58d721f0",
   "metadata": {},
   "outputs": [],
   "source": [
    "df_ema2 = df_ema.loc[df_ema.study.isin([33,34])] # second assessment phase\n",
    "df_ema1 = df_ema.loc[df_ema.study.isin([24,25])] # first assessment phase"
   ]
  },
  {
   "cell_type": "code",
   "execution_count": 8,
   "id": "23e87a30",
   "metadata": {},
   "outputs": [],
   "source": [
    "df_ema2 = df_ema2.loc[df_ema2[\"n_quest\"] >= min_num_daily]\n",
    "df_ema2[\"n_days_4\"] = df_ema2.groupby(\"customer\")[\"createdAt_day\"].transform(\"nunique\")\n",
    "df_ema2 = df_ema2.loc[df_ema2.n_days_4 >= min_days_data]\n",
    "df_ema2_customers = df_ema2.customer.unique().tolist()"
   ]
  },
  {
   "cell_type": "code",
   "execution_count": 9,
   "id": "ce34f84d",
   "metadata": {},
   "outputs": [],
   "source": [
    "df_ema1 = df_ema1.loc[df_ema1[\"n_quest\"] >= min_num_daily]\n",
    "df_ema1[\"n_days_4\"] = df_ema1.groupby(\"customer\")[\"createdAt_day\"].transform(\"nunique\")\n",
    "df_ema1 = df_ema1.loc[df_ema1.n_days_4 >= min_days_data]\n",
    "df_ema1_customers = df_ema1.customer.unique().tolist()"
   ]
  },
  {
   "cell_type": "code",
   "execution_count": 10,
   "id": "6f869cce",
   "metadata": {},
   "outputs": [],
   "source": [
    "#keep only customers with sufficient data \n",
    "df_ema_red = df_ema.loc[df_ema.customer.isin(df_ema2_customers)]\n",
    "df_ema_red = df_ema_red.loc[df_ema_red.customer.isin(df_ema1_customers)]"
   ]
  },
  {
   "cell_type": "markdown",
   "id": "4d7f1eb0",
   "metadata": {},
   "source": [
    "### 2. Calculate situation descriptives"
   ]
  },
  {
   "cell_type": "code",
   "execution_count": 11,
   "id": "16d2377a",
   "metadata": {},
   "outputs": [],
   "source": [
    "# Pivot the table as specified\n",
    "df_piv = df_ema_red.pivot_table(\n",
    "    index=[\"customer\", \"unique_day_id\", \"assess\"],\n",
    "    columns=\"quest_title\",\n",
    "    values=\"choice_text\",\n",
    "    aggfunc='first'  # Using 'first' since each entry should theoretically be unique per group\n",
    ")\n",
    "\n",
    "# The columns are now a single level Index with just the quest_title values since 'values' is not a list anymore\n",
    "df_piv.columns = [col for col in df_piv.columns.values]\n",
    "\n",
    "# Reset the index to turn the MultiIndex into columns\n",
    "df_piv = df_piv.reset_index()\n"
   ]
  },
  {
   "cell_type": "code",
   "execution_count": 12,
   "id": "c6384a74",
   "metadata": {},
   "outputs": [],
   "source": [
    "columns_to_convert = ['ecg_control', 'er_acceptance',\n",
    "       'er_control', 'er_distraction', 'er_intensity', 'er_reappraisal',\n",
    "       'er_relaxation', 'er_rumination', 'er_suppression', 'event_general',\n",
    "       'event_social1', 'event_social2', 'event_social3',\n",
    "       'panas_attentiveness', 'panas_fatigue', 'panas_fear1', 'panas_fear2',\n",
    "       'panas_guilt1', 'panas_guilt2', 'panas_hostility1', 'panas_hostility2',\n",
    "       'panas_joviality1', 'panas_joviality2', 'panas_loneliness',\n",
    "       'panas_sadness1', 'panas_sadness2', 'panas_selfassurance',\n",
    "       'panas_serenity1', 'panas_serenity2', 'panas_shyness',\n",
    "       'physical_health', 'situation2', 'ta_behavioral',\n",
    "       'ta_behavioral_2', 'ta_kognitiv', 'ta_kognitiv_2']"
   ]
  },
  {
   "cell_type": "code",
   "execution_count": 13,
   "id": "99769226",
   "metadata": {},
   "outputs": [],
   "source": [
    "df_piv[columns_to_convert] = df_piv[columns_to_convert].apply(pd.to_numeric, errors='coerce')\n"
   ]
  },
  {
   "cell_type": "markdown",
   "id": "66c9e634",
   "metadata": {},
   "source": [
    "### 3. Calculate average emotion regulation strategy use "
   ]
  },
  {
   "cell_type": "code",
   "execution_count": 14,
   "id": "2de55db7",
   "metadata": {},
   "outputs": [],
   "source": [
    "# Select columns that start with 'er_'\n",
    "er_columns = [col for col in df_piv.columns if col.startswith('er_')]\n",
    "\n",
    "# Group by 'customer' and 'study', then calculate the mean of the er_ columns\n",
    "mean_er = df_piv.groupby(['customer', 'assess'])[er_columns].mean().reset_index()\n"
   ]
  },
  {
   "cell_type": "code",
   "execution_count": 15,
   "id": "d06fa3e1",
   "metadata": {},
   "outputs": [],
   "source": [
    "mean_er = mean_er[['assess', 'er_acceptance', 'er_distraction', 'er_reappraisal', 'er_relaxation', \n",
    "                   'er_rumination','er_suppression']]"
   ]
  },
  {
   "cell_type": "code",
   "execution_count": 16,
   "id": "4a2ab86b",
   "metadata": {},
   "outputs": [
    {
     "data": {
      "image/png": "[encoded data removed]",
      "text/plain": [
       "<Figure size 800x600 with 1 Axes>"
      ]
     },
     "metadata": {},
     "output_type": "display_data"
    }
   ],
   "source": [
    "\n",
    "# Assuming your data is in a DataFrame called \"mean_er\"\n",
    "melted_data = mean_er.melt(id_vars='assess', var_name='ER_Strategy', value_name='Mean_Value')\n",
    "# Filter out non-numeric values in the 'Mean_Value' column\n",
    "melted_data = melted_data[melted_data['Mean_Value'].apply(lambda x: str(x).replace('.', '', 1).isdigit())]\n",
    "melted_data['Mean_Value'] = pd.to_numeric(melted_data['Mean_Value'])\n",
    "\n",
    "# Preprocess the ER strategies column to remove \"er_\" prefix and capitalize the names\n",
    "melted_data['ER_Strategy'] = melted_data['ER_Strategy'].str.replace('er_', '').str.capitalize()\n",
    "\n",
    "plt.figure(figsize=(8, 6))  # Adjust the figure size as needed\n",
    "\n",
    "# Define custom color palette\n",
    "colors = sns.color_palette(\"husl\", 2)\n",
    "\n",
    "# Plotting using seaborn's pointplot with join=False to remove lines\n",
    "sns.pointplot(x='Mean_Value', y='ER_Strategy', hue='assess', data=melted_data, dodge=True, join=False, palette=colors)\n",
    "\n",
    "plt.xlabel('Mean')\n",
    "plt.ylabel('')\n",
    "\n",
    "# Create custom legend with colored patches for each group\n",
    "legend_colors = {'Baseline': colors[0], 'T20': colors[1]}\n",
    "legend_patches = [mpatches.Patch(color=color, label=label) for label, color in legend_colors.items()]\n",
    "plt.legend(handles=legend_patches, title='Assessment', loc='upper right', facecolor='white', edgecolor='black')\n",
    "\n",
    "plt.savefig(\"er_strategy_plot.png\", format=\"png\")\n",
    "plt.show()\n"
   ]
  },
  {
   "cell_type": "markdown",
   "id": "38880dbf",
   "metadata": {},
   "source": [
    "### 4. Calculate average PANAS scores"
   ]
  },
  {
   "cell_type": "code",
   "execution_count": 17,
   "id": "50a3a2d6",
   "metadata": {},
   "outputs": [],
   "source": [
    "panas_columns = [col for col in df_piv.columns if col.startswith('panas_')]"
   ]
  },
  {
   "cell_type": "code",
   "execution_count": 18,
   "id": "efe8270d",
   "metadata": {},
   "outputs": [],
   "source": [
    "# Group by 'customer' and 'study', then calculate the mean of the panas_ columns\n",
    "mean_panas = df_piv.groupby(['customer', 'assess'])[panas_columns].mean().reset_index()"
   ]
  },
  {
   "cell_type": "code",
   "execution_count": 19,
   "id": "5f03721e",
   "metadata": {},
   "outputs": [
    {
     "data": {
      "text/plain": [
       "<matplotlib.legend.Legend at 0x170b31710>"
      ]
     },
     "execution_count": 19,
     "metadata": {},
     "output_type": "execute_result"
    },
    {
     "data": {
      "image/png": "[encoded data removed]",
      "text/plain": [
       "<Figure size 800x600 with 1 Axes>"
      ]
     },
     "metadata": {},
     "output_type": "display_data"
    }
   ],
   "source": [
    "\n",
    "# Assuming your data is in a DataFrame called \"mean_er\"\n",
    "melted_data = mean_panas.melt(id_vars='assess', var_name='PANAS', value_name='Mean_Value')\n",
    "# Filter out non-numeric values in the 'Mean_Value' column\n",
    "melted_data = melted_data[melted_data['Mean_Value'].apply(lambda x: str(x).replace('.', '', 1).isdigit())]\n",
    "melted_data['Mean_Value'] = pd.to_numeric(melted_data['Mean_Value'])\n",
    "\n",
    "melted_data['PANAS'] = melted_data['PANAS'].str.replace('panas_', '').str.capitalize()\n",
    "plt.figure(figsize=(8, 6))  # Adjust the figure size as needed\n",
    "\n",
    "# Define custom color palette\n",
    "colors = sns.color_palette(\"husl\", 2)\n",
    "\n",
    "# Plotting using seaborn's pointplot with join=False to remove lines\n",
    "sns.pointplot(x='Mean_Value', y='PANAS', hue='assess', data=melted_data, dodge=True, join=False, palette=colors)\n",
    "\n",
    "plt.xlabel('Mean')\n",
    "plt.ylabel('')\n",
    "\n",
    "# Create custom legend with colored patches for each group\n",
    "legend_colors = {'Baseline': colors[0], 'T20': colors[1]}\n",
    "legend_patches = [mpatches.Patch(color=color, label=label) for label, color in legend_colors.items()]\n",
    "plt.legend(handles=legend_patches, title='Assessment', loc='upper right', facecolor='white', edgecolor='black')\n"
   ]
  },
  {
   "cell_type": "markdown",
   "id": "bf229c74",
   "metadata": {},
   "source": [
    "### Combine EMA and BSI-GSI"
   ]
  },
  {
   "cell_type": "code",
   "execution_count": 20,
   "id": "9ce1143f",
   "metadata": {},
   "outputs": [],
   "source": [
    "df_outcome = df_active[['customer', 'rci', 'clinically_significant', 'reliable_change',\n",
    "       'clinically_reliable_change']]\n",
    "df_outcome = df_outcome.drop_duplicates(subset=\"customer\")"
   ]
  },
  {
   "cell_type": "code",
   "execution_count": 21,
   "id": "38c81543",
   "metadata": {},
   "outputs": [],
   "source": [
    "df_outcome = df_outcome.merge(mean_panas, on=\"customer\", how=\"inner\")"
   ]
  },
  {
   "cell_type": "markdown",
   "id": "2768c528",
   "metadata": {},
   "source": [
    "### Check out TAI items"
   ]
  },
  {
   "cell_type": "code",
   "execution_count": 22,
   "id": "739f47fb",
   "metadata": {},
   "outputs": [],
   "source": [
    "df_ema2 = df_ema2.loc[df_ema2.quest_title.isin(['ta_behavioral', 'ta_behavioral_2', 'ta_kognitiv', 'ta_kognitiv_2'])]"
   ]
  },
  {
   "cell_type": "code",
   "execution_count": 23,
   "id": "f0ece4ea",
   "metadata": {},
   "outputs": [],
   "source": [
    "# Pivot the table as specified\n",
    "df_ema2_piv = df_ema2.pivot_table(\n",
    "    index=[\"customer\", \"unique_day_id\"],\n",
    "    columns=\"quest_title\",\n",
    "    values=\"choice_text\",\n",
    "    aggfunc='first'  # Using 'first' since each entry should theoretically be unique per group\n",
    ")\n",
    "\n",
    "# The columns are now a single level Index with just the quest_title values since 'values' is not a list anymore\n",
    "df_ema2_piv.columns = [col for col in df_ema2_piv.columns.values]\n",
    "\n",
    "# Reset the index to turn the MultiIndex into columns\n",
    "df_ema2_piv = df_ema2_piv.reset_index()\n"
   ]
  },
  {
   "cell_type": "code",
   "execution_count": 24,
   "id": "27efb6b0",
   "metadata": {},
   "outputs": [],
   "source": [
    "ta_columns = [col for col in df_ema2_piv.columns if col.startswith('ta_')]\n"
   ]
  },
  {
   "cell_type": "code",
   "execution_count": 25,
   "id": "98cdb089",
   "metadata": {},
   "outputs": [
    {
     "data": {
      "text/plain": [
       "42"
      ]
     },
     "execution_count": 25,
     "metadata": {},
     "output_type": "execute_result"
    }
   ],
   "source": [
    "df_ema2_piv.customer.nunique()"
   ]
  },
  {
   "cell_type": "code",
   "execution_count": 26,
   "id": "1cca91f4",
   "metadata": {},
   "outputs": [
    {
     "data": {
      "text/html": [
       "<div>\n",
       "<style scoped>\n",
       "    .dataframe tbody tr th:only-of-type {\n",
       "        vertical-align: middle;\n",
       "    }\n",
       "\n",
       "    .dataframe tbody tr th {\n",
       "        vertical-align: top;\n",
       "    }\n",
       "\n",
       "    .dataframe thead th {\n",
       "        text-align: right;\n",
       "    }\n",
       "</style>\n",
       "<table border=\"1\" class=\"dataframe\">\n",
       "  <thead>\n",
       "    <tr style=\"text-align: right;\">\n",
       "      <th></th>\n",
       "      <th>customer</th>\n",
       "      <th>unique_day_id</th>\n",
       "      <th>ta_behavioral</th>\n",
       "      <th>ta_behavioral_2</th>\n",
       "      <th>ta_kognitiv</th>\n",
       "      <th>ta_kognitiv_2</th>\n",
       "    </tr>\n",
       "  </thead>\n",
       "  <tbody>\n",
       "    <tr>\n",
       "      <th>0</th>\n",
       "      <td>0xWn</td>\n",
       "      <td>20240219_8</td>\n",
       "      <td>4</td>\n",
       "      <td>5</td>\n",
       "      <td>6</td>\n",
       "      <td>4</td>\n",
       "    </tr>\n",
       "    <tr>\n",
       "      <th>1</th>\n",
       "      <td>0xWn</td>\n",
       "      <td>20240220_8</td>\n",
       "      <td>4</td>\n",
       "      <td>4</td>\n",
       "      <td>6</td>\n",
       "      <td>5</td>\n",
       "    </tr>\n",
       "    <tr>\n",
       "      <th>2</th>\n",
       "      <td>0xWn</td>\n",
       "      <td>20240222_8</td>\n",
       "      <td>6</td>\n",
       "      <td>7</td>\n",
       "      <td>7</td>\n",
       "      <td>6</td>\n",
       "    </tr>\n",
       "    <tr>\n",
       "      <th>3</th>\n",
       "      <td>0xWn</td>\n",
       "      <td>20240223_8</td>\n",
       "      <td>6</td>\n",
       "      <td>5</td>\n",
       "      <td>6</td>\n",
       "      <td>6</td>\n",
       "    </tr>\n",
       "    <tr>\n",
       "      <th>4</th>\n",
       "      <td>0xWn</td>\n",
       "      <td>20240224_8</td>\n",
       "      <td>5</td>\n",
       "      <td>4</td>\n",
       "      <td>5</td>\n",
       "      <td>5</td>\n",
       "    </tr>\n",
       "    <tr>\n",
       "      <th>...</th>\n",
       "      <td>...</td>\n",
       "      <td>...</td>\n",
       "      <td>...</td>\n",
       "      <td>...</td>\n",
       "      <td>...</td>\n",
       "      <td>...</td>\n",
       "    </tr>\n",
       "    <tr>\n",
       "      <th>378</th>\n",
       "      <td>xlB8</td>\n",
       "      <td>20240618_8</td>\n",
       "      <td>6</td>\n",
       "      <td>4</td>\n",
       "      <td>6</td>\n",
       "      <td>6</td>\n",
       "    </tr>\n",
       "    <tr>\n",
       "      <th>379</th>\n",
       "      <td>xlB8</td>\n",
       "      <td>20240619_8</td>\n",
       "      <td>5</td>\n",
       "      <td>5</td>\n",
       "      <td>4</td>\n",
       "      <td>5</td>\n",
       "    </tr>\n",
       "    <tr>\n",
       "      <th>380</th>\n",
       "      <td>xlB8</td>\n",
       "      <td>20240621_8</td>\n",
       "      <td>4</td>\n",
       "      <td>4</td>\n",
       "      <td>5</td>\n",
       "      <td>4</td>\n",
       "    </tr>\n",
       "    <tr>\n",
       "      <th>381</th>\n",
       "      <td>xlB8</td>\n",
       "      <td>20240622_8</td>\n",
       "      <td>5</td>\n",
       "      <td>5</td>\n",
       "      <td>5</td>\n",
       "      <td>5</td>\n",
       "    </tr>\n",
       "    <tr>\n",
       "      <th>382</th>\n",
       "      <td>xlB8</td>\n",
       "      <td>20240623_8</td>\n",
       "      <td>7</td>\n",
       "      <td>5</td>\n",
       "      <td>4</td>\n",
       "      <td>4</td>\n",
       "    </tr>\n",
       "  </tbody>\n",
       "</table>\n",
       "<p>383 rows × 6 columns</p>\n",
       "</div>"
      ],
      "text/plain": [
       "    customer unique_day_id ta_behavioral ta_behavioral_2 ta_kognitiv  \\\n",
       "0       0xWn    20240219_8             4               5           6   \n",
       "1       0xWn    20240220_8             4               4           6   \n",
       "2       0xWn    20240222_8             6               7           7   \n",
       "3       0xWn    20240223_8             6               5           6   \n",
       "4       0xWn    20240224_8             5               4           5   \n",
       "..       ...           ...           ...             ...         ...   \n",
       "378     xlB8    20240618_8             6               4           6   \n",
       "379     xlB8    20240619_8             5               5           4   \n",
       "380     xlB8    20240621_8             4               4           5   \n",
       "381     xlB8    20240622_8             5               5           5   \n",
       "382     xlB8    20240623_8             7               5           4   \n",
       "\n",
       "    ta_kognitiv_2  \n",
       "0               4  \n",
       "1               5  \n",
       "2               6  \n",
       "3               6  \n",
       "4               5  \n",
       "..            ...  \n",
       "378             6  \n",
       "379             5  \n",
       "380             4  \n",
       "381             5  \n",
       "382             4  \n",
       "\n",
       "[383 rows x 6 columns]"
      ]
     },
     "execution_count": 26,
     "metadata": {},
     "output_type": "execute_result"
    }
   ],
   "source": [
    "df_ema2_piv"
   ]
  },
  {
   "cell_type": "code",
   "execution_count": 27,
   "id": "6795d38d",
   "metadata": {},
   "outputs": [
    {
     "data": {
      "text/plain": [
       "customer\n",
       "0xWn    12\n",
       "1BAf    11\n",
       "2gei     6\n",
       "4MLe    14\n",
       "5BAw    15\n",
       "5MyR     6\n",
       "6Bri    10\n",
       "94FE     9\n",
       "B54i     5\n",
       "BdSf     9\n",
       "CySo    14\n",
       "D2mZ     6\n",
       "GjiG    14\n",
       "JIhV    15\n",
       "JULY    11\n",
       "K0go     2\n",
       "M72F    11\n",
       "QkCG    13\n",
       "Snml    11\n",
       "WYDb     3\n",
       "YBuR    11\n",
       "cFVk     9\n",
       "dZYU     5\n",
       "f1J2     3\n",
       "fjGD    14\n",
       "g6p5     3\n",
       "gfo4     1\n",
       "h29A    10\n",
       "kVhY    12\n",
       "lLs0     9\n",
       "lWx4    12\n",
       "nc7M    13\n",
       "nhdk    15\n",
       "nrqZ    15\n",
       "o7oH    11\n",
       "p4A1     2\n",
       "pULz     1\n",
       "pnfK    10\n",
       "r7ty     5\n",
       "uGoA     1\n",
       "uP59    11\n",
       "xlB8    13\n",
       "Name: ta_behavioral, dtype: int64"
      ]
     },
     "execution_count": 27,
     "metadata": {},
     "output_type": "execute_result"
    }
   ],
   "source": [
    "df_ema2_piv.groupby(\"customer\")[\"ta_behavioral\"].count()"
   ]
  },
  {
   "cell_type": "code",
   "execution_count": null,
   "id": "2b31c5c1",
   "metadata": {},
   "outputs": [],
   "source": []
  }
 ],
 "metadata": {
  "kernelspec": {
   "display_name": "Python 3 (ipykernel)",
   "language": "python",
   "name": "python3"
  },
  "language_info": {
   "codemirror_mode": {
    "name": "ipython",
    "version": 3
   },
   "file_extension": ".py",
   "mimetype": "text/x-python",
   "name": "python",
   "nbconvert_exporter": "python",
   "pygments_lexer": "ipython3",
   "version": "3.11.5"
  }
 },
 "nbformat": 4,
 "nbformat_minor": 5
}
