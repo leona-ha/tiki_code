{
 "cells": [
  {
   "cell_type": "markdown",
   "id": "06cf353a",
   "metadata": {},
   "source": [
    "## Preprocessing of EMA Data"
   ]
  },
  {
   "cell_type": "code",
   "execution_count": 1,
   "id": "00d3e8b0",
   "metadata": {},
   "outputs": [],
   "source": [
    "import os\n",
    "import sys\n",
    "import regex as re\n",
    "# If your current working directory is the notebooks directory, use this:\n",
    "notebook_dir = os.getcwd()  # current working directory\n",
    "src_path = os.path.abspath(os.path.join(notebook_dir, '..', 'src'))\n",
    "sys.path.append(src_path)\n",
    "\n",
    "# Add the parent directory to sys.path\n",
    "parent_dir = os.path.abspath(os.path.join(notebook_dir, '..'))\n",
    "sys.path.append(parent_dir)\n",
    "import glob\n",
    "import pickle\n",
    "from IPython.display import Markdown\n",
    "from config import datapath, preprocessed_path\n",
    "\n",
    "import pandas as pd\n",
    "import numpy as np\n",
    "import datetime as dt\n",
    "\n",
    "import matplotlib.pyplot as plt\n",
    "from matplotlib import rcParams\n",
    "import seaborn as sns \n",
    "import matplotlib.patches as mpatches\n",
    "\n",
    "sns.set_context(\"notebook\", rc={\"axes.labelsize\": 14, \"xtick.labelsize\": 14, \"ytick.labelsize\": 14})\n",
    "sns.set_style(\"whitegrid\", {'axes.grid': True})\n",
    "%matplotlib inline\n",
    "import plotly.express as px\n"
   ]
  },
  {
   "cell_type": "code",
   "execution_count": 2,
   "id": "9b9abec7",
   "metadata": {},
   "outputs": [],
   "source": [
    "\n",
    "\n",
    "with open(preprocessed_path + '/ema_data.pkl', 'rb') as file:\n",
    "    df_ema_framework = pickle.load(file)\n",
    "\n",
    "with open(preprocessed_path + '/ema_content.pkl', 'rb') as file:\n",
    "    df_ema_cont = pickle.load(file)  \n",
    "\n",
    "with open(preprocessed_path + '/monitoring_data.pkl', 'rb') as file:\n",
    "    df_monitoring = pickle.load(file)"
   ]
  },
  {
   "cell_type": "code",
   "execution_count": 3,
   "id": "a21c9671",
   "metadata": {},
   "outputs": [],
   "source": [
    "min_num_daily = 1\n",
    "min_days_data = 10"
   ]
  },
  {
   "cell_type": "code",
   "execution_count": 4,
   "id": "d5b143fe",
   "metadata": {},
   "outputs": [],
   "source": [
    "#df_ema = df_ema[['customer','study', 'createdAt', 'choice_id', 'choice_text',\n",
    "#       'quest_title', 'questionnaire_name', 'ema_base_start', 'status',#\n",
    " #      'study_version']]"
   ]
  },
  {
   "cell_type": "code",
   "execution_count": 5,
   "id": "37989721",
   "metadata": {},
   "outputs": [],
   "source": [
    "df_ema_content = df_ema_cont.copy()"
   ]
  },
  {
   "cell_type": "code",
   "execution_count": 6,
   "id": "25bfd4a9",
   "metadata": {},
   "outputs": [],
   "source": [
    "\n",
    "df_ema_content['weekday'] = df_ema_content['quest_create'].dt.day_name()\n",
    "df_ema_content['createdAt_day'] = df_ema_content.quest_create.dt.normalize()\n",
    "# Convert columns to datetime\n",
    "df_ema_content['createdAt_day'] = pd.to_datetime(df_ema_content['createdAt_day'])\n",
    "df_ema_content['ema_base_start'] = pd.to_datetime(df_ema_content['ema_base_start'], dayfirst=True)\n",
    "df_ema_content['ema_t20_start'] = pd.to_datetime(df_ema_content['ema_t20_start'], dayfirst=True)\n",
    "df_ema_content['ema_post_start'] = pd.to_datetime(df_ema_content['ema_post_start'], dayfirst=True)\n",
    "\n",
    "\n",
    "study_mapping = {\n",
    "    24: 0,\n",
    "    25: 0,\n",
    "    33: 1,\n",
    "    34: 1,\n",
    "    38: 2,\n",
    "    39: 2\n",
    "}\n",
    "\n",
    "# Apply the mapping to the 'study' column\n",
    "df_ema_content['assess'] = df_ema_content['study'].map(study_mapping)\n",
    "# Replace '_morning' with '' in the 'quest_title' column as we don't need to differenciate\n",
    "df_ema_content['quest_title'] = df_ema_content['quest_title'].str.replace('_morning', '', regex=False)\n",
    "\n",
    "df_ema_content['weekend'] = [1 if day in ['Saturday', 'Sunday'] else 0 for day in df_ema_content['weekday']]\n",
    "\n",
    "df_ema_content['quest_nr'] = df_ema_content['questionnaire_name'].apply(lambda x: int(re.search(r'\\d+', x).group()) \\\n",
    "                                               if re.search(r'\\d+', x) else None)\n",
    "\n",
    "df_ema_content[\"n_quest\"] = df_ema_content.groupby([\"study\", \"customer\", \"createdAt_day\"])[\"questionnaire_name\"].transform(\"nunique\")\n",
    "\n",
    "# Create unique day ID\n",
    "# Create a unique day identifier directly without creating extra columns\n",
    "df_ema_content['unique_day_id'] = df_ema_content['createdAt_day'].dt.strftime('%Y%m%d') + '_' + df_ema_content['quest_nr'].astype(str)\n",
    "\n",
    "# Define the ema_relative_start and ema_relative_end for each phase\n",
    "df_ema_content['ema_relative_start'] = df_ema_content.groupby(['customer', 'assess'])['createdAt_day'].transform('min')\n",
    "df_ema_content['ema_relative_end'] = df_ema_content.groupby(['customer', 'assess'])['createdAt_day'].transform('max')\n",
    "\n",
    "# Calculate the Absolute Day Index based on ema_relative_start\n",
    "df_ema_content['absolute_day_index'] = (df_ema_content['createdAt_day'] - df_ema_content['ema_relative_start']).dt.days + 1\n",
    "\n",
    "# Calculate the Relative Day Index by counting unique days since ema_relative_start\n",
    "df_ema_content['relative_day_index'] = df_ema_content.groupby(['customer', 'assess'])['createdAt_day'].rank(method='dense').astype(int)\n",
    "\n",
    "# Drop duplicate rows based on 'customer', 'assess', and 'createdAt_day' to ensure only one counter per unique day\n",
    "df_unique = df_ema_content.drop_duplicates(subset=['customer', 'assess', 'unique_day_id']).copy()\n",
    "\n",
    "# Use .loc to avoid SettingWithCopyWarning\n",
    "df_unique['questionnaire_counter'] = df_unique.groupby(['customer', 'assess']).cumcount() + 1\n",
    "df_unique['questionnaire_counter'] = df_unique.questionnaire_counter.astype(int)\n",
    "\n",
    "\n",
    "# Merge this back into the original dataframe to retain other data if needed\n",
    "df_ema_content = pd.merge(df_ema_content, df_unique[['customer', 'assess', 'unique_day_id', 'questionnaire_counter']],\n",
    "                              on=['customer', 'assess', 'unique_day_id'], how='left')\n"
   ]
  },
  {
   "cell_type": "markdown",
   "id": "24c3bc57",
   "metadata": {},
   "source": [
    "### 1. Include only patients with finished assessments and enough data"
   ]
  },
  {
   "cell_type": "code",
   "execution_count": 7,
   "id": "cffbe503",
   "metadata": {},
   "outputs": [],
   "source": [
    "df_ema = df_ema_content.loc[df_ema_content.status.isin([\"Abgeschlossen\", \"Post_Erhebung_1\",\n",
    "                                                             \"Erhebung_2_aktiv\",\"Post_Erhebung_2\"])]"
   ]
  },
  {
   "cell_type": "code",
   "execution_count": 8,
   "id": "58d721f0",
   "metadata": {},
   "outputs": [],
   "source": [
    "df_ema1 = df_ema.loc[df_ema.study.isin([24,25])] # first assessment phase\n",
    "df_ema2 = df_ema.loc[df_ema.study.isin([33,34])] # second assessment phase\n",
    "df_ema3 = df_ema.loc[df_ema.study.isin([33,34])] # third assessment phase\n"
   ]
  },
  {
   "cell_type": "code",
   "execution_count": 9,
   "id": "ce34f84d",
   "metadata": {},
   "outputs": [],
   "source": [
    "df_ema1 = df_ema1.loc[df_ema1[\"n_quest\"] >= min_num_daily]\n",
    "df_ema1[\"n_days_min\"] = df_ema1.groupby(\"customer\")[\"createdAt_day\"].transform(\"nunique\")\n",
    "df_ema1 = df_ema1.loc[df_ema1.n_days_min >= min_days_data]\n",
    "df_ema1_customers = df_ema1.customer.unique().tolist()"
   ]
  },
  {
   "cell_type": "code",
   "execution_count": 10,
   "id": "23e87a30",
   "metadata": {},
   "outputs": [],
   "source": [
    "df_ema2 = df_ema2.loc[df_ema2[\"n_quest\"] >= min_num_daily]\n",
    "df_ema2[\"n_days_min\"] = df_ema2.groupby(\"customer\")[\"createdAt_day\"].transform(\"nunique\")\n",
    "df_ema2 = df_ema2.loc[df_ema2.n_days_min >= min_days_data]\n",
    "df_ema2_customers = df_ema2.customer.unique().tolist()"
   ]
  },
  {
   "cell_type": "code",
   "execution_count": 11,
   "id": "6f869cce",
   "metadata": {},
   "outputs": [],
   "source": [
    "#keep only customers with sufficient data \n",
    "#df_ema_red = df_ema.loc[df_ema.customer.isin(df_ema2_customers)]\n",
    "df_ema_red = df_ema.loc[df_ema.customer.isin(df_ema1_customers)]"
   ]
  },
  {
   "cell_type": "markdown",
   "id": "4d7f1eb0",
   "metadata": {},
   "source": [
    "### 2. Pivot table"
   ]
  },
  {
   "cell_type": "code",
   "execution_count": 12,
   "id": "9a8b1208",
   "metadata": {},
   "outputs": [],
   "source": [
    "df_sit = df_ema[df_ema.quest_title ==\"situation1\"]"
   ]
  },
  {
   "cell_type": "code",
   "execution_count": 13,
   "id": "79bb3b19",
   "metadata": {},
   "outputs": [],
   "source": [
    "df_nosit = df_ema[df_ema['quest_title'] != 'situation1']"
   ]
  },
  {
   "cell_type": "code",
   "execution_count": 14,
   "id": "58114d90",
   "metadata": {},
   "outputs": [],
   "source": [
    "# Pivot the table as specified\n",
    "df_sit = df_sit.pivot_table(\n",
    "    index=[\"customer\", \"unique_day_id\", \"choice_id\", \"quest_create\"],\n",
    "    columns=\"quest_title\",\n",
    "    values=\"choice_text\",\n",
    "    aggfunc='first'  # Using 'first' since each entry should theoretically be unique per group\n",
    ")\n",
    "\n",
    "# The columns are now a single level Index with just the quest_title values since 'values' is not a list anymore\n",
    "df_sit.columns = [col for col in df_sit.columns.values]\n",
    "\n",
    "# Reset the index to turn the MultiIndex into columns\n",
    "df_sit = df_sit.reset_index()\n",
    "\n",
    "# Number of selected situations per assessment\n",
    "df_sit['situation_count'] = df_sit.groupby([\"customer\",\"unique_day_id\"])[\"choice_id\"].transform('count')\n"
   ]
  },
  {
   "cell_type": "code",
   "execution_count": 15,
   "id": "a32538e8",
   "metadata": {},
   "outputs": [],
   "source": [
    "# Pivot the table as specified\n",
    "df_piv = df_nosit.pivot_table(\n",
    "    index=[\"customer\", \"unique_day_id\", \"assess\", \"quest_complete_day\"],\n",
    "    columns=\"quest_title\",\n",
    "    values=\"choice_text\",\n",
    "    aggfunc='first'  # Using 'first' since each entry should theoretically be unique per group\n",
    ")\n",
    "\n",
    "# The columns are now a single level Index with just the quest_title values since 'values' is not a list anymore\n",
    "df_piv.columns = [col for col in df_piv.columns.values]\n",
    "\n",
    "# Reset the index to turn the MultiIndex into columns\n",
    "df_piv = df_piv.reset_index()\n",
    "\n",
    "# Keep only customers with complete assessment\n",
    "df_piv_merged = df_piv.merge(df_sit, on=[\"customer\", \"unique_day_id\"], how=\"right\")"
   ]
  },
  {
   "cell_type": "code",
   "execution_count": 16,
   "id": "8537d7d3",
   "metadata": {},
   "outputs": [],
   "source": [
    "columns_to_convert = ['ecg_control', 'er_acceptance',\n",
    "       'er_control', 'er_distraction', 'er_intensity', 'er_reappraisal',\n",
    "       'er_relaxation', 'er_rumination', 'er_suppression', 'event_general',\n",
    "       'event_social1', 'event_social2', 'event_social3',\n",
    "       'panas_attentiveness', 'panas_fatigue', 'panas_fear1', 'panas_fear2',\n",
    "       'panas_guilt1', 'panas_guilt2', 'panas_hostility1', 'panas_hostility2',\n",
    "       'panas_joviality1', 'panas_joviality2', 'panas_loneliness',\n",
    "       'panas_sadness1', 'panas_sadness2', 'panas_selfassurance',\n",
    "       'panas_serenity1', 'panas_serenity2', 'panas_shyness',\n",
    "       'physical_health', 'situation2', 'ta_behavioral',\n",
    "       'ta_behavioral_2', 'ta_kognitiv', 'ta_kognitiv_2']"
   ]
  },
  {
   "cell_type": "code",
   "execution_count": 17,
   "id": "99769226",
   "metadata": {},
   "outputs": [],
   "source": [
    "df_piv[columns_to_convert] = df_piv[columns_to_convert].apply(pd.to_numeric, errors='coerce')\n"
   ]
  },
  {
   "cell_type": "markdown",
   "id": "66c9e634",
   "metadata": {},
   "source": [
    "### 3. Calculate average emotion regulation strategy use "
   ]
  },
  {
   "cell_type": "code",
   "execution_count": 18,
   "id": "2de55db7",
   "metadata": {},
   "outputs": [],
   "source": [
    "# Select columns that start with 'er_'\n",
    "er_columns = [col for col in df_piv.columns if col.startswith('er_')]\n",
    "\n",
    "# Group by 'customer' and 'study', then calculate the mean of the er_ columns\n",
    "mean_er = df_piv.groupby(['customer', 'assess'])[er_columns].mean().reset_index()\n"
   ]
  },
  {
   "cell_type": "code",
   "execution_count": 19,
   "id": "d06fa3e1",
   "metadata": {},
   "outputs": [],
   "source": [
    "mean_er = mean_er[['assess', 'er_acceptance', 'er_distraction', 'er_reappraisal', 'er_relaxation', \n",
    "                   'er_rumination','er_suppression']]"
   ]
  },
  {
   "cell_type": "code",
   "execution_count": 20,
   "id": "4a2ab86b",
   "metadata": {},
   "outputs": [
    {
     "data": {
      "image/png": "[encoded data removed]",
      "text/plain": [
       "<Figure size 800x600 with 1 Axes>"
      ]
     },
     "metadata": {},
     "output_type": "display_data"
    }
   ],
   "source": [
    "\n",
    "# Assuming your data is in a DataFrame called \"mean_er\"\n",
    "melted_data = mean_er.melt(id_vars='assess', var_name='ER_Strategy', value_name='Mean_Value')\n",
    "# Filter out non-numeric values in the 'Mean_Value' column\n",
    "melted_data = melted_data[melted_data['Mean_Value'].apply(lambda x: str(x).replace('.', '', 1).isdigit())]\n",
    "melted_data['Mean_Value'] = pd.to_numeric(melted_data['Mean_Value'])\n",
    "\n",
    "# Preprocess the ER strategies column to remove \"er_\" prefix and capitalize the names\n",
    "melted_data['ER_Strategy'] = melted_data['ER_Strategy'].str.replace('er_', '').str.capitalize()\n",
    "\n",
    "plt.figure(figsize=(8, 6))  # Adjust the figure size as needed\n",
    "\n",
    "# Define custom color palette\n",
    "colors = sns.color_palette(\"husl\", 2)\n",
    "\n",
    "# Plotting using seaborn's pointplot with join=False to remove lines\n",
    "sns.pointplot(x='Mean_Value', y='ER_Strategy', hue='assess', data=melted_data, dodge=True, join=False, palette=colors)\n",
    "\n",
    "plt.xlabel('Mean')\n",
    "plt.ylabel('')\n",
    "\n",
    "# Create custom legend with colored patches for each group\n",
    "legend_colors = {'Baseline': colors[0], 'T20': colors[1]}\n",
    "legend_patches = [mpatches.Patch(color=color, label=label) for label, color in legend_colors.items()]\n",
    "plt.legend(handles=legend_patches, title='Assessment', loc='upper right', facecolor='white', edgecolor='black')\n",
    "\n",
    "plt.savefig(\"er_strategy_plot.png\", format=\"png\")\n",
    "plt.show()\n"
   ]
  },
  {
   "cell_type": "markdown",
   "id": "38880dbf",
   "metadata": {},
   "source": [
    "### 4. Calculate average PANAS scores"
   ]
  },
  {
   "cell_type": "code",
   "execution_count": 21,
   "id": "50a3a2d6",
   "metadata": {},
   "outputs": [],
   "source": [
    "panas_columns = [col for col in df_piv.columns if col.startswith('panas_')]"
   ]
  },
  {
   "cell_type": "code",
   "execution_count": 22,
   "id": "efe8270d",
   "metadata": {},
   "outputs": [],
   "source": [
    "# Group by 'customer' and 'study', then calculate the mean of the panas_ columns\n",
    "mean_panas = df_piv.groupby(['customer', 'assess'])[panas_columns].mean().reset_index()"
   ]
  },
  {
   "cell_type": "code",
   "execution_count": 23,
   "id": "5f03721e",
   "metadata": {},
   "outputs": [
    {
     "data": {
      "text/plain": [
       "<matplotlib.legend.Legend at 0x112508d90>"
      ]
     },
     "execution_count": 23,
     "metadata": {},
     "output_type": "execute_result"
    },
    {
     "data": {
      "image/png": "[encoded data removed]",
      "text/plain": [
       "<Figure size 800x600 with 1 Axes>"
      ]
     },
     "metadata": {},
     "output_type": "display_data"
    }
   ],
   "source": [
    "# Assuming your data is in a DataFrame called \"mean_er\"\n",
    "\n",
    "melted_data = mean_panas.melt(id_vars='assess', var_name='PANAS', value_name='Mean_Value')\n",
    "# Filter out non-numeric values in the 'Mean_Value' column\n",
    "melted_data = melted_data[melted_data['Mean_Value'].apply(lambda x: str(x).replace('.', '', 1).isdigit())]\n",
    "melted_data['Mean_Value'] = pd.to_numeric(melted_data['Mean_Value'])\n",
    "\n",
    "melted_data['PANAS'] = melted_data['PANAS'].str.replace('panas_', '').str.capitalize()\n",
    "plt.figure(figsize=(8, 6))  # Adjust the figure size as needed\n",
    "\n",
    "# Define custom color palette\n",
    "colors = sns.color_palette(\"husl\", 3)\n",
    "\n",
    "# Plotting using seaborn's pointplot with join=False to remove lines\n",
    "sns.pointplot(x='Mean_Value', y='PANAS', hue='assess', data=melted_data, dodge=True, join=False, palette=colors)\n",
    "\n",
    "plt.xlabel('Mean')\n",
    "plt.ylabel('')\n",
    "\n",
    "# Create custom legend with colored patches for each group\n",
    "\n",
    "legend_colors = {'Baseline': colors[0], 'T20': colors[1], 'Post': colors[2]}\n",
    "legend_patches = [mpatches.Patch(color=color, label=label) for label, color in legend_colors.items()]\n",
    "plt.legend(handles=legend_patches, title='Assessment', loc='upper right', facecolor='white', edgecolor='black')\n"
   ]
  },
  {
   "cell_type": "markdown",
   "id": "bf229c74",
   "metadata": {},
   "source": [
    "### Combine EMA and BSI-GSI"
   ]
  },
  {
   "cell_type": "code",
   "execution_count": 24,
   "id": "9ce1143f",
   "metadata": {},
   "outputs": [],
   "source": [
    "#df_outcome = df_active[['customer', 'rci', 'clinically_significant', 'reliable_change',\n",
    "#       'clinically_reliable_change']]\n",
    "#df_outcome = df_outcome.drop_duplicates(subset=\"customer\")"
   ]
  },
  {
   "cell_type": "code",
   "execution_count": 25,
   "id": "38c81543",
   "metadata": {},
   "outputs": [],
   "source": [
    "#df_outcome = df_outcome.merge(mean_panas, on=\"customer\", how=\"inner\")"
   ]
  },
  {
   "cell_type": "markdown",
   "id": "2768c528",
   "metadata": {},
   "source": [
    "### Check out TAI items"
   ]
  },
  {
   "cell_type": "code",
   "execution_count": 26,
   "id": "739f47fb",
   "metadata": {},
   "outputs": [],
   "source": [
    "df_ema2 = df_ema2.loc[df_ema2.quest_title.isin(['ta_behavioral', 'ta_behavioral_2', 'ta_kognitiv', 'ta_kognitiv_2'])]"
   ]
  },
  {
   "cell_type": "code",
   "execution_count": 33,
   "id": "3ec9c899-1797-488b-9d2b-80d16e1122d1",
   "metadata": {
    "tags": []
   },
   "outputs": [
    {
     "data": {
      "text/html": [
       "<div>\n",
       "<style scoped>\n",
       "    .dataframe tbody tr th:only-of-type {\n",
       "        vertical-align: middle;\n",
       "    }\n",
       "\n",
       "    .dataframe tbody tr th {\n",
       "        vertical-align: top;\n",
       "    }\n",
       "\n",
       "    .dataframe thead th {\n",
       "        text-align: right;\n",
       "    }\n",
       "</style>\n",
       "<table border=\"1\" class=\"dataframe\">\n",
       "  <thead>\n",
       "    <tr style=\"text-align: right;\">\n",
       "      <th></th>\n",
       "      <th>quest_title</th>\n",
       "      <th>questionnaire_name</th>\n",
       "      <th>question</th>\n",
       "      <th>questionnaire</th>\n",
       "    </tr>\n",
       "  </thead>\n",
       "  <tbody>\n",
       "    <tr>\n",
       "      <th>4491</th>\n",
       "      <td>ta_behavioral_2</td>\n",
       "      <td>TIKI_8_E2_S2</td>\n",
       "      <td>358</td>\n",
       "      <td>123</td>\n",
       "    </tr>\n",
       "    <tr>\n",
       "      <th>4492</th>\n",
       "      <td>ta_behavioral_2</td>\n",
       "      <td>TIKI_8_E2_S2</td>\n",
       "      <td>358</td>\n",
       "      <td>123</td>\n",
       "    </tr>\n",
       "    <tr>\n",
       "      <th>4493</th>\n",
       "      <td>ta_kognitiv</td>\n",
       "      <td>TIKI_8_E2_S2</td>\n",
       "      <td>359</td>\n",
       "      <td>123</td>\n",
       "    </tr>\n",
       "    <tr>\n",
       "      <th>4494</th>\n",
       "      <td>ta_kognitiv</td>\n",
       "      <td>TIKI_8_E2_S2</td>\n",
       "      <td>359</td>\n",
       "      <td>123</td>\n",
       "    </tr>\n",
       "    <tr>\n",
       "      <th>4495</th>\n",
       "      <td>ta_kognitiv_2</td>\n",
       "      <td>TIKI_8_E2_S2</td>\n",
       "      <td>360</td>\n",
       "      <td>123</td>\n",
       "    </tr>\n",
       "    <tr>\n",
       "      <th>...</th>\n",
       "      <td>...</td>\n",
       "      <td>...</td>\n",
       "      <td>...</td>\n",
       "      <td>...</td>\n",
       "    </tr>\n",
       "    <tr>\n",
       "      <th>693142</th>\n",
       "      <td>ta_behavioral</td>\n",
       "      <td>TIKI_8_E1_S2</td>\n",
       "      <td>357</td>\n",
       "      <td>122</td>\n",
       "    </tr>\n",
       "    <tr>\n",
       "      <th>693181</th>\n",
       "      <td>ta_behavioral_2</td>\n",
       "      <td>TIKI_8E_E1_S2</td>\n",
       "      <td>358</td>\n",
       "      <td>125</td>\n",
       "    </tr>\n",
       "    <tr>\n",
       "      <th>693182</th>\n",
       "      <td>ta_kognitiv</td>\n",
       "      <td>TIKI_8E_E1_S2</td>\n",
       "      <td>359</td>\n",
       "      <td>125</td>\n",
       "    </tr>\n",
       "    <tr>\n",
       "      <th>693183</th>\n",
       "      <td>ta_kognitiv_2</td>\n",
       "      <td>TIKI_8E_E1_S2</td>\n",
       "      <td>360</td>\n",
       "      <td>125</td>\n",
       "    </tr>\n",
       "    <tr>\n",
       "      <th>693184</th>\n",
       "      <td>ta_behavioral</td>\n",
       "      <td>TIKI_8E_E1_S2</td>\n",
       "      <td>357</td>\n",
       "      <td>125</td>\n",
       "    </tr>\n",
       "  </tbody>\n",
       "</table>\n",
       "<p>2048 rows × 4 columns</p>\n",
       "</div>"
      ],
      "text/plain": [
       "            quest_title questionnaire_name  question  questionnaire\n",
       "4491    ta_behavioral_2       TIKI_8_E2_S2       358            123\n",
       "4492    ta_behavioral_2       TIKI_8_E2_S2       358            123\n",
       "4493        ta_kognitiv       TIKI_8_E2_S2       359            123\n",
       "4494        ta_kognitiv       TIKI_8_E2_S2       359            123\n",
       "4495      ta_kognitiv_2       TIKI_8_E2_S2       360            123\n",
       "...                 ...                ...       ...            ...\n",
       "693142    ta_behavioral       TIKI_8_E1_S2       357            122\n",
       "693181  ta_behavioral_2      TIKI_8E_E1_S2       358            125\n",
       "693182      ta_kognitiv      TIKI_8E_E1_S2       359            125\n",
       "693183    ta_kognitiv_2      TIKI_8E_E1_S2       360            125\n",
       "693184    ta_behavioral      TIKI_8E_E1_S2       357            125\n",
       "\n",
       "[2048 rows x 4 columns]"
      ]
     },
     "execution_count": 33,
     "metadata": {},
     "output_type": "execute_result"
    }
   ],
   "source": [
    "df_ema2[['quest_title', 'questionnaire_name', 'question', 'questionnaire']]"
   ]
  },
  {
   "cell_type": "code",
   "execution_count": 32,
   "id": "e4250f1c-b5fe-489e-8ae0-68efe84d0795",
   "metadata": {
    "tags": []
   },
   "outputs": [
    {
     "data": {
      "text/plain": [
       "Index(['customer', 'session_unique', 'questionnaire', 'study', 'question',\n",
       "       'order', 'element', 'quest_create', 'choice_id', 'choice_text',\n",
       "       'quest_title', 'questionnaire_name', 'quest_complete_day', 'for_id',\n",
       "       'ema_id', 'study_version', 'status', 'Besonderes', 't20_post',\n",
       "       'ema_base_start', 'ema_base_end', 'Terminpräferenz', 'first_call_date',\n",
       "       'Wer führt 1. Gespräch?', 'Telefonat stattgefunden?',\n",
       "       'Baseline T20 Update verschickt?', 'ema_t20_start', 'ema_t20_end',\n",
       "       'ema_post_start', 'ema_post_end', 'Post T20 Update verschickt?',\n",
       "       'Studienende/ Dropout Mail verschickt?', 'weekday', 'createdAt_day',\n",
       "       'assess', 'weekend', 'quest_nr', 'n_quest', 'unique_day_id',\n",
       "       'ema_relative_start', 'ema_relative_end', 'ema_relative_start_phase0',\n",
       "       'ema_relative_end_phase0', 'ema_relative_start_phase1',\n",
       "       'ema_relative_end_phase1', 'ema_relative_start_phase2',\n",
       "       'ema_relative_end_phase2', 'absolute_day_index', 'relative_day_index',\n",
       "       'questionnaire_counter_x', 'questionnaire_counter_y', 'n_days_min'],\n",
       "      dtype='object')"
      ]
     },
     "execution_count": 32,
     "metadata": {},
     "output_type": "execute_result"
    }
   ],
   "source": [
    "df_ema2.columns"
   ]
  },
  {
   "cell_type": "code",
   "execution_count": 27,
   "id": "f0ece4ea",
   "metadata": {},
   "outputs": [],
   "source": [
    "# Pivot the table as specified\n",
    "df_ema2_piv = df_ema2.pivot_table(\n",
    "    index=[\"customer\", \"unique_day_id\"],\n",
    "    columns=\"quest_title\",\n",
    "    values=\"choice_text\",\n",
    "    aggfunc='first'  # Using 'first' since each entry should theoretically be unique per group\n",
    ")\n",
    "\n",
    "# The columns are now a single level Index with just the quest_title values since 'values' is not a list anymore\n",
    "df_ema2_piv.columns = [col for col in df_ema2_piv.columns.values]\n",
    "\n",
    "# Reset the index to turn the MultiIndex into columns\n",
    "df_ema2_piv = df_ema2_piv.reset_index()\n"
   ]
  },
  {
   "cell_type": "code",
   "execution_count": 28,
   "id": "27efb6b0",
   "metadata": {},
   "outputs": [],
   "source": [
    "ta_columns = [col for col in df_ema2_piv.columns if col.startswith('ta_')]\n"
   ]
  },
  {
   "cell_type": "code",
   "execution_count": 29,
   "id": "6795d38d",
   "metadata": {},
   "outputs": [],
   "source": [
    "ta_count = df_ema2_piv.groupby(\"customer\")[\"ta_behavioral\"].count()"
   ]
  },
  {
   "cell_type": "code",
   "execution_count": 30,
   "id": "51c4ffcf-9a8d-4dec-855c-77a602560ebd",
   "metadata": {
    "tags": []
   },
   "outputs": [
    {
     "data": {
      "text/plain": [
       "41"
      ]
     },
     "execution_count": 30,
     "metadata": {},
     "output_type": "execute_result"
    }
   ],
   "source": [
    "(ta_count > 5).sum()"
   ]
  },
  {
   "cell_type": "code",
   "execution_count": null,
   "id": "3954bb8e-5e02-41e4-b2dc-447b44f7a27a",
   "metadata": {},
   "outputs": [],
   "source": []
  }
 ],
 "metadata": {
  "kernelspec": {
   "display_name": "Python 3 (ipykernel)",
   "language": "python",
   "name": "python3"
  },
  "language_info": {
   "codemirror_mode": {
    "name": "ipython",
    "version": 3
   },
   "file_extension": ".py",
   "mimetype": "text/x-python",
   "name": "python",
   "nbconvert_exporter": "python",
   "pygments_lexer": "ipython3",
   "version": "3.11.5"
  }
 },
 "nbformat": 4,
 "nbformat_minor": 5
}
