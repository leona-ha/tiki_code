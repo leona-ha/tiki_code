{
 "cells": [
  {
   "cell_type": "markdown",
   "id": "811efe45",
   "metadata": {},
   "source": [
    "# Check Data Compliance "
   ]
  },
  {
   "cell_type": "code",
   "execution_count": 2,
   "id": "668841a3",
   "metadata": {},
   "outputs": [],
   "source": [
    "import pandas as pd\n",
    "import datetime as dt\n",
    "from datetime import date\n",
    "\n",
    "import matplotlib.pyplot as plt\n",
    "import seaborn as sns\n",
    "#from matplotlib import rcParams\n",
    "#sns.set_context(\"notebook\", rc={\"axes.labelsize\": 14, \"xtick.labelsize\": 14, \"ytick.labelsize\": 14})\n",
    "#sns.set_style(\"whitegrid\", {'axes.grid': True})\n",
    "\n",
    "today = date.today() \n",
    "week_ago = today - dt.timedelta(days=7)\n",
    "today = today.strftime(\"%d%m%Y\")\n",
    "today = \"08012024\"\n",
    "\n",
    "week_ago = week_ago.strftime(\"%Y-%m-%d\")\n",
    "week_ago = \"01012024\"\n",
    "\n",
    "datapath = \"/Users/leonahammelrath/FU_Psychoinformatik/Github/tiki_code/data/\"\n",
    "filepath = datapath + f\"export_{today}.csv\"\n"
   ]
  },
  {
   "cell_type": "markdown",
   "id": "cd4f2f58",
   "metadata": {},
   "source": [
    "## Import Daily Scanwatch data"
   ]
  },
  {
   "cell_type": "code",
   "execution_count": 3,
   "id": "4c870e1a",
   "metadata": {},
   "outputs": [],
   "source": [
    "df = pd.read_csv(filepath, encoding= \"latin-1\")"
   ]
  },
  {
   "cell_type": "code",
   "execution_count": 4,
   "id": "b97e8ed0",
   "metadata": {},
   "outputs": [],
   "source": [
    "df.drop([\"Quelle\", \"Created At\"], axis=1, inplace=True)"
   ]
  },
  {
   "cell_type": "code",
   "execution_count": 5,
   "id": "b2bfceea",
   "metadata": {},
   "outputs": [],
   "source": [
    "df[\"Endkunde\"] = df.Endkunde.str.split(\"@\").str.get(0)\n",
    "df[\"Endkunde\"] = df[\"Endkunde\"].str[:4]\n",
    "df.rename(columns={\"Endkunde\":\"customer\",\"Tag\":\"day\", \"Typ\":\"type\",\"Wert(Fließkommazahl)\": \"float\", \"Wert(Ganzzahl)\": \"int\"}, inplace=True)"
   ]
  },
  {
   "cell_type": "code",
   "execution_count": 6,
   "id": "455a9300",
   "metadata": {},
   "outputs": [],
   "source": [
    "df[\"day\"] = pd.to_datetime(df[\"day\"], format=\"%d.%m.%Y\")"
   ]
  },
  {
   "cell_type": "code",
   "execution_count": 7,
   "id": "8532aee4",
   "metadata": {},
   "outputs": [],
   "source": [
    "df[\"int\"].fillna(df[\"float\"], inplace=True)"
   ]
  },
  {
   "cell_type": "code",
   "execution_count": 8,
   "id": "50d4838f",
   "metadata": {},
   "outputs": [],
   "source": [
    "df_int= df[[\"customer\", \"day\", \"type\", \"int\"]]"
   ]
  },
  {
   "cell_type": "code",
   "execution_count": 9,
   "id": "e119934c",
   "metadata": {},
   "outputs": [],
   "source": [
    "df_int = df_int.pivot(\n",
    "    index=[\"customer\", \"day\"],\n",
    "    columns=\"type\",\n",
    "    values=\"int\")"
   ]
  },
  {
   "cell_type": "code",
   "execution_count": 10,
   "id": "bb14969c",
   "metadata": {},
   "outputs": [],
   "source": [
    "df_int.reset_index(level=\"day\", inplace=True)"
   ]
  },
  {
   "cell_type": "code",
   "execution_count": 13,
   "id": "77989e85",
   "metadata": {},
   "outputs": [
    {
     "data": {
      "text/plain": [
       "Index(['day', 'ActiveDuration', 'ActivityDuration', 'ActivityHighDuration',\n",
       "       'ActivityLowDuration', 'ActivityMidDuration',\n",
       "       'BreathingDisturbancesIntensity', 'BurnedCalories', 'CoveredDistance',\n",
       "       'ElevationGain', 'FloorsClimbed', 'HeartRate', 'HeartRateResting',\n",
       "       'HeartRateZoneIntenseDuration', 'HeartRateZoneLightDuration',\n",
       "       'HeartRateZoneMaximalDuration', 'HeartRateZoneModerateDuration',\n",
       "       'SleepAwakeAfterWakeup', 'SleepAwakeDuration', 'SleepDeepDuration',\n",
       "       'SleepDuration', 'SleepEfficiency', 'SleepEndTime',\n",
       "       'SleepInBedDuration', 'SleepIntensity', 'SleepInterruptions',\n",
       "       'SleepLatency', 'SleepLightDuration', 'SleepStartTime', 'Steps'],\n",
       "      dtype='object', name='type')"
      ]
     },
     "execution_count": 13,
     "metadata": {},
     "output_type": "execute_result"
    }
   ],
   "source": [
    "df_int.columns"
   ]
  },
  {
   "cell_type": "markdown",
   "id": "c270ea69",
   "metadata": {},
   "source": [
    "## Import monitoring data"
   ]
  },
  {
   "cell_type": "code",
   "execution_count": 10,
   "id": "cd32f80f",
   "metadata": {},
   "outputs": [],
   "source": [
    "df_active = pd.read_csv(\"/Users/leonahammelrath/FU_Psychoinformatik/Github/tiki_code/data/active_participants.csv\")"
   ]
  },
  {
   "cell_type": "code",
   "execution_count": 11,
   "id": "76904ec1",
   "metadata": {},
   "outputs": [],
   "source": [
    "df_active.rename(columns = {\"Pseudonym \": \"customer\", \"EMA ID\": \"ema_id\", \"Ende EMA Baseline\": \"end_ema\", \"Status\": \"status\",\n",
    "                            \"Start EMA Baseline\": \"start_ema\", \"Studienversion\":\"study_version\", \"FOR_ID\":\"for_id\"}, inplace=True)"
   ]
  },
  {
   "cell_type": "code",
   "execution_count": 12,
   "id": "3d53dd7f",
   "metadata": {},
   "outputs": [],
   "source": [
    "df_active[\"customer\"] = df_active[\"customer\"].str[:4]"
   ]
  },
  {
   "cell_type": "code",
   "execution_count": 13,
   "id": "41e9b7fc",
   "metadata": {},
   "outputs": [],
   "source": [
    "df_active = df_active[[\"customer\", \"ema_id\", \"end_ema\", \"start_ema\", \"study_version\", \"for_id\", \"status\"]]"
   ]
  },
  {
   "cell_type": "code",
   "execution_count": 14,
   "id": "baaf5042",
   "metadata": {},
   "outputs": [],
   "source": [
    "df_active[\"for_id\"] = df_active.for_id.str.strip()"
   ]
  },
  {
   "cell_type": "markdown",
   "id": "2f6f46a6",
   "metadata": {},
   "source": [
    "## Import connection data"
   ]
  },
  {
   "cell_type": "code",
   "execution_count": 15,
   "id": "9d6f2cde",
   "metadata": {},
   "outputs": [],
   "source": [
    "filepath_connection = f\"/Users/leonahammelrath/FU_Psychoinformatik/Github/tiki_code/data/export_connection_{today}.csv\"\n",
    "df_con = pd.read_csv(filepath_connection, encoding= \"latin-1\")\n",
    "df_con[\"Customer\"] = df_con.Customer.str.split(\"@\").str.get(0)\n",
    "df_con[\"Customer\"] = df_con[\"Customer\"].str[:4]\n",
    "df_con.drop([\"Data Source\", \"Timestamp\"], axis=1, inplace=True)\n",
    "df_con.rename(columns = {\"Customer\": \"customer\"}, inplace=True)"
   ]
  },
  {
   "cell_type": "markdown",
   "id": "90380dd8",
   "metadata": {},
   "source": [
    "## Merge dataframes "
   ]
  },
  {
   "cell_type": "code",
   "execution_count": 16,
   "id": "a1fc3bc0",
   "metadata": {},
   "outputs": [],
   "source": [
    "df_complete = pd.merge(df_int, df_active, on=\"customer\")"
   ]
  },
  {
   "cell_type": "code",
   "execution_count": 17,
   "id": "cf8a7d22",
   "metadata": {},
   "outputs": [],
   "source": [
    "df_complete = pd.merge(df_complete, df_con, on=\"customer\")"
   ]
  },
  {
   "cell_type": "code",
   "execution_count": 18,
   "id": "23620330",
   "metadata": {},
   "outputs": [
    {
     "name": "stderr",
     "output_type": "stream",
     "text": [
      "/Users/leonahammelrath/opt/anaconda3/lib/python3.7/site-packages/ipykernel_launcher.py:1: FutureWarning: Indexing with multiple keys (implicitly converted to a tuple of keys) will be deprecated, use a list instead.\n",
      "  \"\"\"Entry point for launching an IPython kernel.\n"
     ]
    }
   ],
   "source": [
    "grouped = df_complete.groupby([\"customer\"])[\"ema_id\",\"for_id\",\"start_ema\",\"end_ema\",\"study_version\",\n",
    "                                            \"status\",\"Is Connected\",\"day\"].max()"
   ]
  },
  {
   "cell_type": "markdown",
   "id": "a40271a7",
   "metadata": {},
   "source": [
    "## Plot retention"
   ]
  },
  {
   "cell_type": "code",
   "execution_count": 19,
   "id": "eca5d93a",
   "metadata": {},
   "outputs": [
    {
     "data": {
      "text/plain": [
       "([<matplotlib.patches.Wedge at 0x7f8da64ca350>,\n",
       "  <matplotlib.patches.Wedge at 0x7f8da64ca8d0>,\n",
       "  <matplotlib.patches.Wedge at 0x7f8dad152850>,\n",
       "  <matplotlib.patches.Wedge at 0x7f8dad152550>],\n",
       " [Text(-1.0996581003842978, 0.027423753557779273, 'Kurz'),\n",
       "  Text(-0.7969672130014576, -0.7581841869893421, 'Kurz (Wechsel/Abbruch)'),\n",
       "  Text(1.065985013944364, -0.2714331410237782, 'Lang'),\n",
       "  Text(-0.561832995210972, 0.9456974598106247, 'Lang (Wechsel)')],\n",
       " [Text(-0.599813509300526, 0.014958411031515965, '21.4%'),\n",
       "  Text(-0.4347093889098859, -0.4135550110850956, '3.6%'),\n",
       "  Text(0.5814463712423803, -0.14805444055842445, '64.3%'),\n",
       "  Text(-0.30645436102416646, 0.5158349780785225, '10.7%')])"
      ]
     },
     "execution_count": 19,
     "metadata": {},
     "output_type": "execute_result"
    },
    {
     "data": {
      "image/png": "[encoded data removed]",
      "text/plain": [
       "<Figure size 576x576 with 1 Axes>"
      ]
     },
     "metadata": {},
     "output_type": "display_data"
    }
   ],
   "source": [
    "grouped_data = grouped.groupby(\"study_version\")[\"ema_id\"].count()\n",
    "\n",
    "# Create a pie plot\n",
    "plt.figure(figsize=(8, 8))  # Adjust the figure size as needed\n",
    "sns.set_palette(\"Set3\")  # You can choose a different color palette if needed\n",
    "plt.pie(grouped_data, labels=grouped_data.index, autopct='%1.1f%%', startangle=140, textprops={'fontsize': 14})\n",
    "\n",
    "\n",
    "# Show the plot\n",
    "#plt.axis('equal')  # Equal aspect ratio ensures that pie is drawn as a circle\n",
    "#plt.savefig(\"status_pie.png\", dpi=300, format='png', bbox_inches='tight')"
   ]
  },
  {
   "cell_type": "code",
   "execution_count": 20,
   "id": "b4c20ec8",
   "metadata": {},
   "outputs": [
    {
     "data": {
      "text/plain": [
       "Text(0.5, 0, '')"
      ]
     },
     "execution_count": 20,
     "metadata": {},
     "output_type": "execute_result"
    },
    {
     "data": {
      "image/png": "[encoded data removed]",
      "text/plain": [
       "<Figure size 864x432 with 1 Axes>"
      ]
     },
     "metadata": {
      "needs_background": "light"
     },
     "output_type": "display_data"
    }
   ],
   "source": [
    "grouped_data = grouped.groupby(\"status\")[\"ema_id\"].count()\n",
    "\n",
    "# Reset the index to make \"study_version\" a column\n",
    "grouped_data = grouped_data.reset_index()\n",
    "\n",
    "# Create a barplot or pointplot\n",
    "plt.figure(figsize=(12, 6))  # Adjust the figure size as needed\n",
    "sns.barplot(data=grouped_data, x=\"status\", y=\"ema_id\", palette=\"Paired\")\n",
    "\n",
    "for index, row in grouped_data.iterrows():\n",
    "    plt.text(index, row[\"ema_id\"], f\"{row['ema_id']:}\", ha=\"center\", va=\"bottom\", fontsize=14)\n",
    "\n",
    "# Show the plot\n",
    "plt.xticks(fontsize=14)  # Increase the fontsize of x-axis tick labels\n",
    "plt.yticks(fontsize=14)  # Increase the fontsize of y-axis tick labels\n",
    "\n",
    "plt.ylabel('')\n",
    "plt.xlabel('')\n",
    "\n",
    "# Show the plot\n",
    "#plt.savefig(\"status_grouped.png\", dpi=300, format='png', bbox_inches='tight')"
   ]
  },
  {
   "cell_type": "code",
   "execution_count": 21,
   "id": "a8dd282a",
   "metadata": {},
   "outputs": [],
   "source": [
    "grouped_count = df_complete.groupby([\"customer\"])[[\"day\"]].count()\n",
    "grouped_count.rename(columns={\"day\": \"nr_days\"}, inplace= True)\n",
    "\n",
    "grouped_sensstart = df_complete.groupby([\"customer\"])[[\"day\"]].min()\n",
    "grouped_sensstart.rename(columns={\"day\": \"start_sensing\"}, inplace= True)\n",
    "\n",
    "grouped = pd.merge(grouped, grouped_count, how= \"left\", on=\"customer\")\n",
    "grouped = pd.merge(grouped, grouped_sensstart, how= \"left\", on=\"customer\")\n",
    "\n",
    "date_today = pd.Timestamp('now')\n",
    "grouped[\"start_sensing\"] = pd.to_datetime(grouped[\"start_sensing\"])\n",
    "\n",
    "# Calculate 'max_days'\n",
    "grouped[\"max_days\"] = (date_today - grouped[\"start_sensing\"]).dt.days\n"
   ]
  },
  {
   "cell_type": "code",
   "execution_count": 22,
   "id": "e8c66ae8",
   "metadata": {},
   "outputs": [],
   "source": [
    "grouped.loc[grouped['status'] == 'Abgeschlossen', 'max_days'] = 15\n"
   ]
  },
  {
   "cell_type": "code",
   "execution_count": 23,
   "id": "01ca23e2",
   "metadata": {},
   "outputs": [],
   "source": [
    "grouped[\"sensing_retention\"] = (grouped[\"nr_days\"]/grouped[\"max_days\"])*100"
   ]
  },
  {
   "cell_type": "code",
   "execution_count": 24,
   "id": "28ed9445",
   "metadata": {},
   "outputs": [
    {
     "data": {
      "text/plain": [
       "Text(0.5, 0, '')"
      ]
     },
     "execution_count": 24,
     "metadata": {},
     "output_type": "execute_result"
    },
    {
     "data": {
      "image/png": "[encoded data removed]",
      "text/plain": [
       "<Figure size 864x432 with 1 Axes>"
      ]
     },
     "metadata": {},
     "output_type": "display_data"
    }
   ],
   "source": [
    "# If the above outputs look correct, plot again\n",
    "sns.set(style=\"whitegrid\")\n",
    "fig, ax = plt.subplots(figsize=(12,6))\n",
    "\n",
    "bar_plot = sns.barplot(\n",
    "    x=\"sensing_retention\", \n",
    "    y=\"study_version\", \n",
    "    data=grouped, \n",
    "    palette=\"Paired\",\n",
    "    ax=ax\n",
    ")\n",
    "\n",
    "for p in bar_plot.patches:\n",
    "    width = p.get_width()  # Get the width of each bar\n",
    "    ax.text(p.get_x() + width + 0.5,  # X position for text\n",
    "            p.get_y() + p.get_height() / 2,  # Y position for text\n",
    "            '{:1.0f}%'.format(width),  # Value to annotate\n",
    "            va='center')  # Vertically center the text\n",
    "\n",
    "# Show the plot\n",
    "plt.xticks(fontsize=14)  # Increase the fontsize of x-axis tick labels\n",
    "plt.yticks(fontsize=14)  # Increase the fontsize of y-axis tick labels\n",
    "\n",
    "plt.ylabel('')\n",
    "plt.xlabel('')\n",
    "#plt.savefig(\"retention_grouped.png\", dpi=300, format='png', bbox_inches='tight')\n",
    "# Rest of your plotting code"
   ]
  },
  {
   "cell_type": "markdown",
   "id": "b52fee61",
   "metadata": {},
   "source": [
    "## Data compliance"
   ]
  },
  {
   "cell_type": "code",
   "execution_count": 25,
   "id": "0e57750c",
   "metadata": {},
   "outputs": [],
   "source": [
    "grouped_active = grouped[~(grouped['status'] == \"Abgeschlossen\")]\n",
    "grouped_active = grouped_active[~(grouped_active['status'].isin([\"Dropout\", \"Pin_missing\"]))]"
   ]
  },
  {
   "cell_type": "code",
   "execution_count": 26,
   "id": "790997b4",
   "metadata": {},
   "outputs": [],
   "source": [
    "grouped_active = grouped_active.rename_axis(None, axis=1).reset_index()"
   ]
  },
  {
   "cell_type": "code",
   "execution_count": 27,
   "id": "d92adfcd",
   "metadata": {},
   "outputs": [],
   "source": [
    "datapath1 = datapath + f\"export_tiki_{today}/\"\n",
    "filepath_1 = datapath1 + \"epoch_part0001.csv\"\n",
    "filepath_2 = datapath1 + \"epoch_part0002.csv\"\n",
    "filepath_3 = datapath1 + \"epoch_part0003.csv\"\n",
    "filepath_4 = datapath1 + \"epoch_part0004.csv\"\n",
    "filepath_5 = datapath1 + \"epoch_part0005.csv\"\n",
    "filepath_6 = datapath1 + \"epoch_part0006.csv\"\n",
    "filepath_7= datapath1 + \"epoch_part0007.csv\"\n",
    "filepath_8= datapath1 + \"epoch_part0008.csv\"\n",
    "filepath_9= datapath1 + \"epoch_part0009.csv\""
   ]
  },
  {
   "cell_type": "code",
   "execution_count": 28,
   "id": "f45c29aa",
   "metadata": {},
   "outputs": [
    {
     "name": "stderr",
     "output_type": "stream",
     "text": [
      "/Users/leonahammelrath/opt/anaconda3/lib/python3.7/site-packages/IPython/core/interactiveshell.py:3326: DtypeWarning: Columns (10) have mixed types.Specify dtype option on import or set low_memory=False.\n",
      "  exec(code_obj, self.user_global_ns, self.user_ns)\n"
     ]
    }
   ],
   "source": [
    "df_1 = pd.read_csv(filepath_1, encoding= \"latin-1\")\n",
    "df_2 = pd.read_csv(filepath_2, encoding= \"latin-1\")\n",
    "df_3 = pd.read_csv(filepath_3, encoding= \"latin-1\")\n",
    "df_4 = pd.read_csv(filepath_4, encoding= \"latin-1\")\n",
    "df_5 = pd.read_csv(filepath_5, encoding= \"latin-1\")\n",
    "df_6 = pd.read_csv(filepath_6, encoding= \"latin-1\")\n",
    "df_7 = pd.read_csv(filepath_7, encoding= \"latin-1\")\n",
    "df_8 = pd.read_csv(filepath_8, encoding= \"latin-1\")\n",
    "df_9 = pd.read_csv(filepath_9, encoding= \"latin-1\")"
   ]
  },
  {
   "cell_type": "code",
   "execution_count": 29,
   "id": "120dd945",
   "metadata": {},
   "outputs": [],
   "source": [
    "df_complete = pd.concat([df_1, df_2, df_3, df_4, df_5, df_6, df_7, df_8, df_9])\n",
    "df_complete[\"customer\"] = df_complete.customer.str.split(\"@\").str.get(0)\n",
    "df_complete[\"customer\"] = df_complete.customer.str[:4]"
   ]
  },
  {
   "cell_type": "code",
   "execution_count": 30,
   "id": "c7d923c4",
   "metadata": {},
   "outputs": [],
   "source": [
    "df_complete[\"startTimestamp\"] = pd.to_datetime(df_complete[\"startTimestamp\"],unit='ms')\n",
    "df_complete[\"createdAt\"] = pd.to_datetime(df_complete[\"createdAt\"],unit='ms')\n",
    "\n",
    "df_complete[\"startTimestamp_day\"] = df_complete.startTimestamp.dt.strftime('%Y/%m/%d')\n",
    "df_complete[\"createdAt_day\"] = df_complete.startTimestamp.dt.strftime('%Y/%m/%d')\n",
    "\n",
    "df_complete[\"startTimestamp_hour\"] = df_complete.startTimestamp.dt.hour\n",
    "df_complete[\"createdAt_hour\"] = df_complete.startTimestamp.dt.hour"
   ]
  },
  {
   "cell_type": "markdown",
   "id": "2839e6bb",
   "metadata": {},
   "source": [
    "## Import GPS Data"
   ]
  },
  {
   "cell_type": "code",
   "execution_count": 31,
   "id": "59e1d56b",
   "metadata": {},
   "outputs": [],
   "source": [
    "df_loc_complete = df_complete[df_complete.type.isin([\"Latitude\", \"Longitude\"])]\n",
    "df_loc_complete = df_loc_complete[[\"customer\", \"startTimestamp\", \"type\", \"doubleValue\", \n",
    "                           \"timezoneOffset\"]]"
   ]
  },
  {
   "cell_type": "code",
   "execution_count": 32,
   "id": "ff97acd4",
   "metadata": {},
   "outputs": [],
   "source": [
    "df_loc_merged = pd.merge(df_loc_complete, df_active, on=\"customer\")\n",
    "df_loc_merged[\"startTimestamp\"] = (pd.to_datetime(df_loc_merged[\"startTimestamp\"],unit='ms'))"
   ]
  },
  {
   "cell_type": "code",
   "execution_count": 33,
   "id": "15688776",
   "metadata": {},
   "outputs": [],
   "source": [
    "df_loc_merged = df_loc_merged[~(df_loc_merged['status'].isin([\"Abgeschlossen\",\"Dropout\"]))]"
   ]
  },
  {
   "cell_type": "code",
   "execution_count": 34,
   "id": "f4ad4316",
   "metadata": {},
   "outputs": [],
   "source": [
    "df_loc_merged = df_loc_merged.groupby(\"customer\")[[\"startTimestamp\"]].max().rename_axis(None, axis=1).reset_index()"
   ]
  },
  {
   "cell_type": "markdown",
   "id": "eb7745fb",
   "metadata": {},
   "source": [
    "## Analyse heart rate data"
   ]
  },
  {
   "cell_type": "code",
   "execution_count": 35,
   "id": "7afa08ba",
   "metadata": {},
   "outputs": [],
   "source": [
    "df_ecg = df_complete[df_complete.type.isin([\"HeartRate\", \"AtrialFibrillationDetection\", \"RawECGVoltage\"])]"
   ]
  },
  {
   "cell_type": "code",
   "execution_count": 36,
   "id": "70cdec85",
   "metadata": {},
   "outputs": [],
   "source": [
    "df_ecg = df_ecg[[\"customer\", \"source\", \"startTimestamp\", \"endTimestamp\", \"type\", \"valueType\", \"longValue\",\n",
    "                \"booleanValue\", \"stringValue\", \"generation\", \"trustworthiness\", \"medicalGrade\", \"timezoneOffset\",\n",
    "                \"createdAt\", \"createdAt_day\", \"createdAt_hour\", \"startTimestamp_hour\", \"startTimestamp_day\"]]"
   ]
  },
  {
   "cell_type": "code",
   "execution_count": 37,
   "id": "7729977e",
   "metadata": {},
   "outputs": [],
   "source": [
    "df_ecg_rate = df_ecg[df_ecg.type == \"HeartRate\"]\n",
    "df_ecg_rate = df_ecg_rate[[\"customer\", \"source\", \"startTimestamp\", \"endTimestamp\", \"type\", \"valueType\", \"longValue\",\n",
    "                          \"generation\", \"trustworthiness\"]]"
   ]
  },
  {
   "cell_type": "code",
   "execution_count": 38,
   "id": "fb64ebb6",
   "metadata": {},
   "outputs": [],
   "source": [
    "df_ecg_art = df_ecg[df_ecg.type == \"AtrialFibrillationDetection\"]\n",
    "df_ecg_art = df_ecg_art[[\"customer\", \"source\", \"startTimestamp\",\"type\", \"valueType\",\"booleanValue\", \"createdAt\"]]"
   ]
  },
  {
   "cell_type": "code",
   "execution_count": 39,
   "id": "2681ee54",
   "metadata": {},
   "outputs": [],
   "source": [
    "df_ecg_volt = df_ecg[df_ecg.type == \"RawECGVoltage\"]\n",
    "df_ecg_volt = df_ecg_volt[[\"customer\", \"source\", \"startTimestamp\",\"type\", \"valueType\", \n",
    "                         \"stringValue\", \"timezoneOffset\",\"createdAt\", \"createdAt_day\", \"createdAt_hour\", \n",
    "                          \"startTimestamp_hour\", \"startTimestamp_day\"]]"
   ]
  },
  {
   "cell_type": "code",
   "execution_count": 40,
   "id": "10b11e93",
   "metadata": {},
   "outputs": [],
   "source": [
    "df_ecg_volt[\"day_hour\"] = df_ecg_volt[\"createdAt\"].dt.strftime(\"%Y/%m/%d %H\")\n",
    "#df_ecg_volt.groupby(\"customer\")[\"createdAt_day\"].nunique()"
   ]
  },
  {
   "cell_type": "code",
   "execution_count": 41,
   "id": "b94cb163",
   "metadata": {},
   "outputs": [],
   "source": [
    "df_ecg_volt_merged = pd.merge(df_ecg_volt, df_active, on=\"customer\")\n",
    "df_ecg_volt_merged = df_ecg_volt_merged[df_ecg_volt_merged.status.isin([\"Post_Erhebung_1\", \"Erhebung_2_aktiv\", \"Abgeschlossen\"])]"
   ]
  },
  {
   "cell_type": "code",
   "execution_count": 42,
   "id": "a83d3d2d",
   "metadata": {},
   "outputs": [],
   "source": [
    "df_ecg_volt_merged[\"n_days_ecg\"] = df_ecg_volt_merged.groupby(\"customer\")[\"createdAt_day\"].transform(\"nunique\")"
   ]
  },
  {
   "cell_type": "code",
   "execution_count": 43,
   "id": "7415cef9",
   "metadata": {},
   "outputs": [
    {
     "data": {
      "text/plain": [
       "study_version\n",
       "Kurz                      12.395161\n",
       "Kurz (Wechsel/Abbruch)     9.283333\n",
       "Lang                      17.546179\n",
       "Lang (Wechsel)            40.848060\n",
       "Name: n_days_ecg, dtype: float64"
      ]
     },
     "execution_count": 43,
     "metadata": {},
     "output_type": "execute_result"
    }
   ],
   "source": [
    "df_ecg_volt_merged.groupby(\"study_version\")[\"n_days_ecg\"].mean()"
   ]
  },
  {
   "cell_type": "code",
   "execution_count": 44,
   "id": "d9888ce3",
   "metadata": {},
   "outputs": [
    {
     "data": {
      "text/plain": [
       "Text(0.5, 0, '')"
      ]
     },
     "execution_count": 44,
     "metadata": {},
     "output_type": "execute_result"
    },
    {
     "data": {
      "image/png": "[encoded data removed]",
      "text/plain": [
       "<Figure size 432x288 with 1 Axes>"
      ]
     },
     "metadata": {},
     "output_type": "display_data"
    }
   ],
   "source": [
    "sns.set(style=\"whitegrid\")\n",
    "fig, ax = plt.subplots()\n",
    "\n",
    "# Plotting\n",
    "bar_plot = sns.barplot(\n",
    "    x=\"n_days_ecg\", \n",
    "    y=\"study_version\", \n",
    "    data=df_ecg_volt_merged.groupby(\"study_version\")[\"n_days_ecg\"].mean().reset_index(), \n",
    "    palette=\"Paired\",\n",
    "    ax=ax\n",
    ")\n",
    "\n",
    "# Annotating bars with their values and adjusting font size\n",
    "max_width = max([p.get_width() for p in bar_plot.patches])  # Find the maximum width\n",
    "for p in bar_plot.patches:\n",
    "    width = p.get_width()\n",
    "    ax.text(width + max_width * 0.05,  # Adding a relative offset from the bar's end\n",
    "            p.get_y() + p.get_height() / 2, \n",
    "            '{:1.0f}'.format(width), \n",
    "            va='center',\n",
    "            fontsize=14)  # Increase fontsize here\n",
    "\n",
    "# Adjusting the x-axis limits to make room for annotations\n",
    "ax.set_xlim(0, max_width * 1.15)  # Increase x-axis limit\n",
    "ax.tick_params(axis='y', labelsize=14) \n",
    "\n",
    "plt.ylabel('')\n",
    "plt.xlabel('')\n",
    "\n",
    "#plt.savefig(\"ecg _grouped.png\", dpi=300, format='png', bbox_inches='tight')"
   ]
  },
  {
   "cell_type": "markdown",
   "id": "779fb82d",
   "metadata": {},
   "source": [
    "## Analyze acitivity data"
   ]
  },
  {
   "cell_type": "code",
   "execution_count": 45,
   "id": "96f92e38",
   "metadata": {},
   "outputs": [],
   "source": [
    "df_activity = df_complete[df_complete.type.isin([\"ActiveBurnedCalories\", \"Steps\", \"ActivityType\", \"ActivityTypeDetail1\",\n",
    "                                                \"ActivityTypeDetail2\", \"WalkBinary\", \"ElevationGain\",\"FloorsClimbed\", \n",
    "                                                 \"BikeBinary\", \"ActiveBinary\", \"RunBinary\",\"Weight\", \"Height\"])]"
   ]
  },
  {
   "cell_type": "code",
   "execution_count": 46,
   "id": "49108bb4",
   "metadata": {},
   "outputs": [],
   "source": [
    "df_activity = df_activity.drop([\"medicalGrade\", \"userReliability\", \"chronologicalExactness\", \"dateValue\",\n",
    "                                \"stringValue\"], axis=1)"
   ]
  },
  {
   "cell_type": "markdown",
   "id": "ca7df7b1",
   "metadata": {},
   "source": [
    "## Analyze sleep data"
   ]
  },
  {
   "cell_type": "code",
   "execution_count": 47,
   "id": "213ea42d",
   "metadata": {},
   "outputs": [],
   "source": [
    "df_sleep = df_complete[df_complete.type.isin(['SleepAwakeBinary','SleepBinary', 'SleepLightBinary', \n",
    "                                              'SleepStateBinary','SleepDeepBinary', 'SleepInBedBinary', \n",
    "                                              'SleepREMBinary'])]"
   ]
  },
  {
   "cell_type": "code",
   "execution_count": 48,
   "id": "614ca998",
   "metadata": {},
   "outputs": [],
   "source": [
    "df_sleep = df_sleep[[\"customer\", \"source\", \"startTimestamp\", \"endTimestamp\", \"type\", \"valueType\", \"booleanValue\", \n",
    "                    \"generation\", \"timezoneOffset\", \"createdAt\"]]"
   ]
  },
  {
   "cell_type": "markdown",
   "id": "0d13b2fc",
   "metadata": {},
   "source": [
    "## Merge passive and GPS data to final df"
   ]
  },
  {
   "cell_type": "code",
   "execution_count": 49,
   "id": "4035f8a4",
   "metadata": {},
   "outputs": [],
   "source": [
    "df_merged_active = pd.merge(df_loc_merged, grouped_active, on=\"customer\", how=\"outer\")"
   ]
  },
  {
   "cell_type": "code",
   "execution_count": 50,
   "id": "10f60f29",
   "metadata": {},
   "outputs": [
    {
     "data": {
      "text/html": [
       "<div>\n",
       "<style scoped>\n",
       "    .dataframe tbody tr th:only-of-type {\n",
       "        vertical-align: middle;\n",
       "    }\n",
       "\n",
       "    .dataframe tbody tr th {\n",
       "        vertical-align: top;\n",
       "    }\n",
       "\n",
       "    .dataframe thead th {\n",
       "        text-align: right;\n",
       "    }\n",
       "</style>\n",
       "<table border=\"1\" class=\"dataframe\">\n",
       "  <thead>\n",
       "    <tr style=\"text-align: right;\">\n",
       "      <th></th>\n",
       "      <th>customer</th>\n",
       "      <th>startTimestamp</th>\n",
       "      <th>ema_id</th>\n",
       "      <th>for_id</th>\n",
       "      <th>start_ema</th>\n",
       "      <th>end_ema</th>\n",
       "      <th>study_version</th>\n",
       "      <th>status</th>\n",
       "      <th>Is Connected</th>\n",
       "      <th>day</th>\n",
       "      <th>nr_days</th>\n",
       "      <th>start_sensing</th>\n",
       "      <th>max_days</th>\n",
       "      <th>sensing_retention</th>\n",
       "    </tr>\n",
       "  </thead>\n",
       "  <tbody>\n",
       "    <tr>\n",
       "      <th>35</th>\n",
       "      <td>MYAi</td>\n",
       "      <td>2024-01-07 16:09:14</td>\n",
       "      <td>EMA4028</td>\n",
       "      <td>FOR14023</td>\n",
       "      <td>18.09.2023</td>\n",
       "      <td>02.10.2023</td>\n",
       "      <td>Lang</td>\n",
       "      <td>Post_Erhebung_1</td>\n",
       "      <td>nein</td>\n",
       "      <td>2023-12-15</td>\n",
       "      <td>172.0</td>\n",
       "      <td>2023-09-19</td>\n",
       "      <td>113.0</td>\n",
       "      <td>152.212389</td>\n",
       "    </tr>\n",
       "    <tr>\n",
       "      <th>40</th>\n",
       "      <td>Owip</td>\n",
       "      <td>2023-12-29 18:42:02</td>\n",
       "      <td>EMA3036</td>\n",
       "      <td>FOR13027</td>\n",
       "      <td>05.12.2023</td>\n",
       "      <td>19.12.2023</td>\n",
       "      <td>Lang</td>\n",
       "      <td>Post_Erhebung_1</td>\n",
       "      <td>nein</td>\n",
       "      <td>2023-12-30</td>\n",
       "      <td>69.0</td>\n",
       "      <td>2023-12-06</td>\n",
       "      <td>35.0</td>\n",
       "      <td>197.142857</td>\n",
       "    </tr>\n",
       "    <tr>\n",
       "      <th>56</th>\n",
       "      <td>eChq</td>\n",
       "      <td>2024-01-07 14:13:26</td>\n",
       "      <td>EMA3030</td>\n",
       "      <td>FOR13020</td>\n",
       "      <td>07.11.2023</td>\n",
       "      <td>21.11.2023</td>\n",
       "      <td>Lang (Wechsel)</td>\n",
       "      <td>Post_Erhebung_1</td>\n",
       "      <td>nein</td>\n",
       "      <td>2023-12-30</td>\n",
       "      <td>106.0</td>\n",
       "      <td>2023-11-08</td>\n",
       "      <td>63.0</td>\n",
       "      <td>168.253968</td>\n",
       "    </tr>\n",
       "    <tr>\n",
       "      <th>81</th>\n",
       "      <td>p4A1</td>\n",
       "      <td>2024-01-07 20:12:14</td>\n",
       "      <td>EMA2013</td>\n",
       "      <td>FOR12010</td>\n",
       "      <td>15.09.2023</td>\n",
       "      <td>29.09.2023</td>\n",
       "      <td>Lang</td>\n",
       "      <td>Post_Erhebung_1</td>\n",
       "      <td>nein</td>\n",
       "      <td>2023-12-15</td>\n",
       "      <td>273.0</td>\n",
       "      <td>2023-09-16</td>\n",
       "      <td>116.0</td>\n",
       "      <td>235.344828</td>\n",
       "    </tr>\n",
       "    <tr>\n",
       "      <th>84</th>\n",
       "      <td>r7ty</td>\n",
       "      <td>2024-01-07 11:30:25</td>\n",
       "      <td>EMA3001</td>\n",
       "      <td>FOR13902</td>\n",
       "      <td>26.06.2023</td>\n",
       "      <td>10.07.2023</td>\n",
       "      <td>Lang</td>\n",
       "      <td>Post_Erhebung_1</td>\n",
       "      <td>nein</td>\n",
       "      <td>2024-01-08</td>\n",
       "      <td>579.0</td>\n",
       "      <td>2023-06-27</td>\n",
       "      <td>197.0</td>\n",
       "      <td>293.908629</td>\n",
       "    </tr>\n",
       "    <tr>\n",
       "      <th>90</th>\n",
       "      <td>vPEr</td>\n",
       "      <td>2023-12-12 15:21:57</td>\n",
       "      <td>EMA4010</td>\n",
       "      <td>FOR14013</td>\n",
       "      <td>10.08.2023</td>\n",
       "      <td>24.08.2023</td>\n",
       "      <td>Lang (Wechsel)</td>\n",
       "      <td>Post_Erhebung_1</td>\n",
       "      <td>nein</td>\n",
       "      <td>2023-12-22</td>\n",
       "      <td>333.0</td>\n",
       "      <td>2023-08-11</td>\n",
       "      <td>152.0</td>\n",
       "      <td>219.078947</td>\n",
       "    </tr>\n",
       "  </tbody>\n",
       "</table>\n",
       "</div>"
      ],
      "text/plain": [
       "   customer      startTimestamp   ema_id    for_id   start_ema     end_ema  \\\n",
       "35     MYAi 2024-01-07 16:09:14  EMA4028  FOR14023  18.09.2023  02.10.2023   \n",
       "40     Owip 2023-12-29 18:42:02  EMA3036  FOR13027  05.12.2023  19.12.2023   \n",
       "56     eChq 2024-01-07 14:13:26  EMA3030  FOR13020  07.11.2023  21.11.2023   \n",
       "81     p4A1 2024-01-07 20:12:14  EMA2013  FOR12010  15.09.2023  29.09.2023   \n",
       "84     r7ty 2024-01-07 11:30:25  EMA3001  FOR13902  26.06.2023  10.07.2023   \n",
       "90     vPEr 2023-12-12 15:21:57  EMA4010  FOR14013  10.08.2023  24.08.2023   \n",
       "\n",
       "     study_version           status Is Connected        day  nr_days  \\\n",
       "35            Lang  Post_Erhebung_1         nein 2023-12-15    172.0   \n",
       "40            Lang  Post_Erhebung_1         nein 2023-12-30     69.0   \n",
       "56  Lang (Wechsel)  Post_Erhebung_1         nein 2023-12-30    106.0   \n",
       "81            Lang  Post_Erhebung_1         nein 2023-12-15    273.0   \n",
       "84            Lang  Post_Erhebung_1         nein 2024-01-08    579.0   \n",
       "90  Lang (Wechsel)  Post_Erhebung_1         nein 2023-12-22    333.0   \n",
       "\n",
       "   start_sensing  max_days  sensing_retention  \n",
       "35    2023-09-19     113.0         152.212389  \n",
       "40    2023-12-06      35.0         197.142857  \n",
       "56    2023-11-08      63.0         168.253968  \n",
       "81    2023-09-16     116.0         235.344828  \n",
       "84    2023-06-27     197.0         293.908629  \n",
       "90    2023-08-11     152.0         219.078947  "
      ]
     },
     "execution_count": 50,
     "metadata": {},
     "output_type": "execute_result"
    }
   ],
   "source": [
    "df_merged_active.loc[df_merged_active[\"Is Connected\"] == \"nein\"]"
   ]
  },
  {
   "cell_type": "markdown",
   "id": "5579b173",
   "metadata": {},
   "source": [
    "## Missing data"
   ]
  },
  {
   "cell_type": "code",
   "execution_count": 51,
   "id": "6391de5e",
   "metadata": {},
   "outputs": [
    {
     "data": {
      "text/plain": [
       "['FOR14077', 'FOR13010', 'FOR13019', 'FOR11015', 'FOR13013']"
      ]
     },
     "execution_count": 51,
     "metadata": {},
     "output_type": "execute_result"
    }
   ],
   "source": [
    "# no gps at all \n",
    "\n",
    "df_merged_active.loc[df_merged_active.startTimestamp.isna()].for_id.tolist()"
   ]
  },
  {
   "cell_type": "code",
   "execution_count": 52,
   "id": "9a7fe179",
   "metadata": {},
   "outputs": [
    {
     "ename": "TypeError",
     "evalue": "Invalid comparison between dtype=datetime64[ns] and str",
     "output_type": "error",
     "traceback": [
      "\u001b[0;31m---------------------------------------------------------------------------\u001b[0m",
      "\u001b[0;31mValueError\u001b[0m                                Traceback (most recent call last)",
      "\u001b[0;32m~/opt/anaconda3/lib/python3.7/site-packages/dateutil/parser/_parser.py\u001b[0m in \u001b[0;36mparse\u001b[0;34m(self, timestr, default, ignoretz, tzinfos, **kwargs)\u001b[0m\n\u001b[1;32m    648\u001b[0m         \u001b[0;32mtry\u001b[0m\u001b[0;34m:\u001b[0m\u001b[0;34m\u001b[0m\u001b[0;34m\u001b[0m\u001b[0m\n\u001b[0;32m--> 649\u001b[0;31m             \u001b[0mret\u001b[0m \u001b[0;34m=\u001b[0m \u001b[0mself\u001b[0m\u001b[0;34m.\u001b[0m\u001b[0m_build_naive\u001b[0m\u001b[0;34m(\u001b[0m\u001b[0mres\u001b[0m\u001b[0;34m,\u001b[0m \u001b[0mdefault\u001b[0m\u001b[0;34m)\u001b[0m\u001b[0;34m\u001b[0m\u001b[0;34m\u001b[0m\u001b[0m\n\u001b[0m\u001b[1;32m    650\u001b[0m         \u001b[0;32mexcept\u001b[0m \u001b[0mValueError\u001b[0m \u001b[0;32mas\u001b[0m \u001b[0me\u001b[0m\u001b[0;34m:\u001b[0m\u001b[0;34m\u001b[0m\u001b[0;34m\u001b[0m\u001b[0m\n",
      "\u001b[0;32m~/opt/anaconda3/lib/python3.7/site-packages/dateutil/parser/_parser.py\u001b[0m in \u001b[0;36m_build_naive\u001b[0;34m(self, res, default)\u001b[0m\n\u001b[1;32m   1234\u001b[0m \u001b[0;34m\u001b[0m\u001b[0m\n\u001b[0;32m-> 1235\u001b[0;31m         \u001b[0mnaive\u001b[0m \u001b[0;34m=\u001b[0m \u001b[0mdefault\u001b[0m\u001b[0;34m.\u001b[0m\u001b[0mreplace\u001b[0m\u001b[0;34m(\u001b[0m\u001b[0;34m**\u001b[0m\u001b[0mrepl\u001b[0m\u001b[0;34m)\u001b[0m\u001b[0;34m\u001b[0m\u001b[0;34m\u001b[0m\u001b[0m\n\u001b[0m\u001b[1;32m   1236\u001b[0m \u001b[0;34m\u001b[0m\u001b[0m\n",
      "\u001b[0;31mValueError\u001b[0m: month must be in 1..12",
      "\nThe above exception was the direct cause of the following exception:\n",
      "\u001b[0;31mParserError\u001b[0m                               Traceback (most recent call last)",
      "\u001b[0;32m~/opt/anaconda3/lib/python3.7/site-packages/pandas/_libs/tslibs/conversion.pyx\u001b[0m in \u001b[0;36mpandas._libs.tslibs.conversion._convert_str_to_tsobject\u001b[0;34m()\u001b[0m\n",
      "\u001b[0;32m~/opt/anaconda3/lib/python3.7/site-packages/pandas/_libs/tslibs/parsing.pyx\u001b[0m in \u001b[0;36mpandas._libs.tslibs.parsing.parse_datetime_string\u001b[0;34m()\u001b[0m\n",
      "\u001b[0;32m~/opt/anaconda3/lib/python3.7/site-packages/dateutil/parser/_parser.py\u001b[0m in \u001b[0;36mparse\u001b[0;34m(timestr, parserinfo, **kwargs)\u001b[0m\n\u001b[1;32m   1367\u001b[0m     \u001b[0;32melse\u001b[0m\u001b[0;34m:\u001b[0m\u001b[0;34m\u001b[0m\u001b[0;34m\u001b[0m\u001b[0m\n\u001b[0;32m-> 1368\u001b[0;31m         \u001b[0;32mreturn\u001b[0m \u001b[0mDEFAULTPARSER\u001b[0m\u001b[0;34m.\u001b[0m\u001b[0mparse\u001b[0m\u001b[0;34m(\u001b[0m\u001b[0mtimestr\u001b[0m\u001b[0;34m,\u001b[0m \u001b[0;34m**\u001b[0m\u001b[0mkwargs\u001b[0m\u001b[0;34m)\u001b[0m\u001b[0;34m\u001b[0m\u001b[0;34m\u001b[0m\u001b[0m\n\u001b[0m\u001b[1;32m   1369\u001b[0m \u001b[0;34m\u001b[0m\u001b[0m\n",
      "\u001b[0;32m~/opt/anaconda3/lib/python3.7/site-packages/dateutil/parser/_parser.py\u001b[0m in \u001b[0;36mparse\u001b[0;34m(self, timestr, default, ignoretz, tzinfos, **kwargs)\u001b[0m\n\u001b[1;32m    650\u001b[0m         \u001b[0;32mexcept\u001b[0m \u001b[0mValueError\u001b[0m \u001b[0;32mas\u001b[0m \u001b[0me\u001b[0m\u001b[0;34m:\u001b[0m\u001b[0;34m\u001b[0m\u001b[0;34m\u001b[0m\u001b[0m\n\u001b[0;32m--> 651\u001b[0;31m             \u001b[0msix\u001b[0m\u001b[0;34m.\u001b[0m\u001b[0mraise_from\u001b[0m\u001b[0;34m(\u001b[0m\u001b[0mParserError\u001b[0m\u001b[0;34m(\u001b[0m\u001b[0mstr\u001b[0m\u001b[0;34m(\u001b[0m\u001b[0me\u001b[0m\u001b[0;34m)\u001b[0m \u001b[0;34m+\u001b[0m \u001b[0;34m\": %s\"\u001b[0m\u001b[0;34m,\u001b[0m \u001b[0mtimestr\u001b[0m\u001b[0;34m)\u001b[0m\u001b[0;34m,\u001b[0m \u001b[0me\u001b[0m\u001b[0;34m)\u001b[0m\u001b[0;34m\u001b[0m\u001b[0;34m\u001b[0m\u001b[0m\n\u001b[0m\u001b[1;32m    652\u001b[0m \u001b[0;34m\u001b[0m\u001b[0m\n",
      "\u001b[0;32m~/opt/anaconda3/lib/python3.7/site-packages/six.py\u001b[0m in \u001b[0;36mraise_from\u001b[0;34m(value, from_value)\u001b[0m\n",
      "\u001b[0;31mParserError\u001b[0m: month must be in 1..12: 01012024",
      "\nDuring handling of the above exception, another exception occurred:\n",
      "\u001b[0;31mValueError\u001b[0m                                Traceback (most recent call last)",
      "\u001b[0;32m~/opt/anaconda3/lib/python3.7/site-packages/pandas/core/arrays/datetimelike.py\u001b[0m in \u001b[0;36m_validate_comparison_value\u001b[0;34m(self, other)\u001b[0m\n\u001b[1;32m    531\u001b[0m                 \u001b[0;31m# GH#18435 strings get a pass from tzawareness compat\u001b[0m\u001b[0;34m\u001b[0m\u001b[0;34m\u001b[0m\u001b[0;34m\u001b[0m\u001b[0m\n\u001b[0;32m--> 532\u001b[0;31m                 \u001b[0mother\u001b[0m \u001b[0;34m=\u001b[0m \u001b[0mself\u001b[0m\u001b[0;34m.\u001b[0m\u001b[0m_scalar_from_string\u001b[0m\u001b[0;34m(\u001b[0m\u001b[0mother\u001b[0m\u001b[0;34m)\u001b[0m\u001b[0;34m\u001b[0m\u001b[0;34m\u001b[0m\u001b[0m\n\u001b[0m\u001b[1;32m    533\u001b[0m             \u001b[0;32mexcept\u001b[0m \u001b[0;34m(\u001b[0m\u001b[0mValueError\u001b[0m\u001b[0;34m,\u001b[0m \u001b[0mIncompatibleFrequency\u001b[0m\u001b[0;34m)\u001b[0m\u001b[0;34m:\u001b[0m\u001b[0;34m\u001b[0m\u001b[0;34m\u001b[0m\u001b[0m\n",
      "\u001b[0;32m~/opt/anaconda3/lib/python3.7/site-packages/pandas/core/arrays/datetimes.py\u001b[0m in \u001b[0;36m_scalar_from_string\u001b[0;34m(self, value)\u001b[0m\n\u001b[1;32m    496\u001b[0m     \u001b[0;32mdef\u001b[0m \u001b[0m_scalar_from_string\u001b[0m\u001b[0;34m(\u001b[0m\u001b[0mself\u001b[0m\u001b[0;34m,\u001b[0m \u001b[0mvalue\u001b[0m\u001b[0;34m)\u001b[0m \u001b[0;34m->\u001b[0m \u001b[0mTimestamp\u001b[0m \u001b[0;34m|\u001b[0m \u001b[0mNaTType\u001b[0m\u001b[0;34m:\u001b[0m\u001b[0;34m\u001b[0m\u001b[0;34m\u001b[0m\u001b[0m\n\u001b[0;32m--> 497\u001b[0;31m         \u001b[0;32mreturn\u001b[0m \u001b[0mTimestamp\u001b[0m\u001b[0;34m(\u001b[0m\u001b[0mvalue\u001b[0m\u001b[0;34m,\u001b[0m \u001b[0mtz\u001b[0m\u001b[0;34m=\u001b[0m\u001b[0mself\u001b[0m\u001b[0;34m.\u001b[0m\u001b[0mtz\u001b[0m\u001b[0;34m)\u001b[0m\u001b[0;34m\u001b[0m\u001b[0;34m\u001b[0m\u001b[0m\n\u001b[0m\u001b[1;32m    498\u001b[0m \u001b[0;34m\u001b[0m\u001b[0m\n",
      "\u001b[0;32m~/opt/anaconda3/lib/python3.7/site-packages/pandas/_libs/tslibs/timestamps.pyx\u001b[0m in \u001b[0;36mpandas._libs.tslibs.timestamps.Timestamp.__new__\u001b[0;34m()\u001b[0m\n",
      "\u001b[0;32m~/opt/anaconda3/lib/python3.7/site-packages/pandas/_libs/tslibs/conversion.pyx\u001b[0m in \u001b[0;36mpandas._libs.tslibs.conversion.convert_to_tsobject\u001b[0;34m()\u001b[0m\n",
      "\u001b[0;32m~/opt/anaconda3/lib/python3.7/site-packages/pandas/_libs/tslibs/conversion.pyx\u001b[0m in \u001b[0;36mpandas._libs.tslibs.conversion._convert_str_to_tsobject\u001b[0;34m()\u001b[0m\n",
      "\u001b[0;31mValueError\u001b[0m: could not convert string to Timestamp",
      "\nDuring handling of the above exception, another exception occurred:\n",
      "\u001b[0;31mInvalidComparison\u001b[0m                         Traceback (most recent call last)",
      "\u001b[0;32m~/opt/anaconda3/lib/python3.7/site-packages/pandas/core/arrays/datetimelike.py\u001b[0m in \u001b[0;36m_cmp_method\u001b[0;34m(self, other, op)\u001b[0m\n\u001b[1;32m   1007\u001b[0m         \u001b[0;32mtry\u001b[0m\u001b[0;34m:\u001b[0m\u001b[0;34m\u001b[0m\u001b[0;34m\u001b[0m\u001b[0m\n\u001b[0;32m-> 1008\u001b[0;31m             \u001b[0mother\u001b[0m \u001b[0;34m=\u001b[0m \u001b[0mself\u001b[0m\u001b[0;34m.\u001b[0m\u001b[0m_validate_comparison_value\u001b[0m\u001b[0;34m(\u001b[0m\u001b[0mother\u001b[0m\u001b[0;34m)\u001b[0m\u001b[0;34m\u001b[0m\u001b[0;34m\u001b[0m\u001b[0m\n\u001b[0m\u001b[1;32m   1009\u001b[0m         \u001b[0;32mexcept\u001b[0m \u001b[0mInvalidComparison\u001b[0m\u001b[0;34m:\u001b[0m\u001b[0;34m\u001b[0m\u001b[0;34m\u001b[0m\u001b[0m\n",
      "\u001b[0;32m~/opt/anaconda3/lib/python3.7/site-packages/pandas/core/arrays/datetimelike.py\u001b[0m in \u001b[0;36m_validate_comparison_value\u001b[0;34m(self, other)\u001b[0m\n\u001b[1;32m    534\u001b[0m                 \u001b[0;31m# failed to parse as Timestamp/Timedelta/Period\u001b[0m\u001b[0;34m\u001b[0m\u001b[0;34m\u001b[0m\u001b[0;34m\u001b[0m\u001b[0m\n\u001b[0;32m--> 535\u001b[0;31m                 \u001b[0;32mraise\u001b[0m \u001b[0mInvalidComparison\u001b[0m\u001b[0;34m(\u001b[0m\u001b[0mother\u001b[0m\u001b[0;34m)\u001b[0m\u001b[0;34m\u001b[0m\u001b[0;34m\u001b[0m\u001b[0m\n\u001b[0m\u001b[1;32m    536\u001b[0m \u001b[0;34m\u001b[0m\u001b[0m\n",
      "\u001b[0;31mInvalidComparison\u001b[0m: 01012024",
      "\nDuring handling of the above exception, another exception occurred:\n",
      "\u001b[0;31mTypeError\u001b[0m                                 Traceback (most recent call last)",
      "\u001b[0;32m<ipython-input-52-df78a8e7a55c>\u001b[0m in \u001b[0;36m<module>\u001b[0;34m\u001b[0m\n\u001b[1;32m      1\u001b[0m \u001b[0;31m# no gps since 7 days\u001b[0m\u001b[0;34m\u001b[0m\u001b[0;34m\u001b[0m\u001b[0;34m\u001b[0m\u001b[0m\n\u001b[1;32m      2\u001b[0m \u001b[0;34m\u001b[0m\u001b[0m\n\u001b[0;32m----> 3\u001b[0;31m \u001b[0mdf_merged_active\u001b[0m\u001b[0;34m.\u001b[0m\u001b[0mloc\u001b[0m\u001b[0;34m[\u001b[0m\u001b[0;34m(\u001b[0m\u001b[0mdf_merged_active\u001b[0m\u001b[0;34m.\u001b[0m\u001b[0mstartTimestamp\u001b[0m \u001b[0;34m<\u001b[0m \u001b[0mweek_ago\u001b[0m\u001b[0;34m)\u001b[0m \u001b[0;34m&\u001b[0m \u001b[0;34m(\u001b[0m\u001b[0mdf_merged_active\u001b[0m\u001b[0;34m.\u001b[0m\u001b[0mday\u001b[0m \u001b[0;34m>\u001b[0m \u001b[0mweek_ago\u001b[0m\u001b[0;34m)\u001b[0m\u001b[0;34m]\u001b[0m\u001b[0;34m[\u001b[0m\u001b[0;34m\"for_id\"\u001b[0m\u001b[0;34m]\u001b[0m\u001b[0;34m.\u001b[0m\u001b[0mtolist\u001b[0m\u001b[0;34m(\u001b[0m\u001b[0;34m)\u001b[0m\u001b[0;34m\u001b[0m\u001b[0;34m\u001b[0m\u001b[0m\n\u001b[0m",
      "\u001b[0;32m~/opt/anaconda3/lib/python3.7/site-packages/pandas/core/ops/common.py\u001b[0m in \u001b[0;36mnew_method\u001b[0;34m(self, other)\u001b[0m\n\u001b[1;32m     67\u001b[0m         \u001b[0mother\u001b[0m \u001b[0;34m=\u001b[0m \u001b[0mitem_from_zerodim\u001b[0m\u001b[0;34m(\u001b[0m\u001b[0mother\u001b[0m\u001b[0;34m)\u001b[0m\u001b[0;34m\u001b[0m\u001b[0;34m\u001b[0m\u001b[0m\n\u001b[1;32m     68\u001b[0m \u001b[0;34m\u001b[0m\u001b[0m\n\u001b[0;32m---> 69\u001b[0;31m         \u001b[0;32mreturn\u001b[0m \u001b[0mmethod\u001b[0m\u001b[0;34m(\u001b[0m\u001b[0mself\u001b[0m\u001b[0;34m,\u001b[0m \u001b[0mother\u001b[0m\u001b[0;34m)\u001b[0m\u001b[0;34m\u001b[0m\u001b[0;34m\u001b[0m\u001b[0m\n\u001b[0m\u001b[1;32m     70\u001b[0m \u001b[0;34m\u001b[0m\u001b[0m\n\u001b[1;32m     71\u001b[0m     \u001b[0;32mreturn\u001b[0m \u001b[0mnew_method\u001b[0m\u001b[0;34m\u001b[0m\u001b[0;34m\u001b[0m\u001b[0m\n",
      "\u001b[0;32m~/opt/anaconda3/lib/python3.7/site-packages/pandas/core/arraylike.py\u001b[0m in \u001b[0;36m__lt__\u001b[0;34m(self, other)\u001b[0m\n\u001b[1;32m     38\u001b[0m     \u001b[0;34m@\u001b[0m\u001b[0munpack_zerodim_and_defer\u001b[0m\u001b[0;34m(\u001b[0m\u001b[0;34m\"__lt__\"\u001b[0m\u001b[0;34m)\u001b[0m\u001b[0;34m\u001b[0m\u001b[0;34m\u001b[0m\u001b[0m\n\u001b[1;32m     39\u001b[0m     \u001b[0;32mdef\u001b[0m \u001b[0m__lt__\u001b[0m\u001b[0;34m(\u001b[0m\u001b[0mself\u001b[0m\u001b[0;34m,\u001b[0m \u001b[0mother\u001b[0m\u001b[0;34m)\u001b[0m\u001b[0;34m:\u001b[0m\u001b[0;34m\u001b[0m\u001b[0;34m\u001b[0m\u001b[0m\n\u001b[0;32m---> 40\u001b[0;31m         \u001b[0;32mreturn\u001b[0m \u001b[0mself\u001b[0m\u001b[0;34m.\u001b[0m\u001b[0m_cmp_method\u001b[0m\u001b[0;34m(\u001b[0m\u001b[0mother\u001b[0m\u001b[0;34m,\u001b[0m \u001b[0moperator\u001b[0m\u001b[0;34m.\u001b[0m\u001b[0mlt\u001b[0m\u001b[0;34m)\u001b[0m\u001b[0;34m\u001b[0m\u001b[0;34m\u001b[0m\u001b[0m\n\u001b[0m\u001b[1;32m     41\u001b[0m \u001b[0;34m\u001b[0m\u001b[0m\n\u001b[1;32m     42\u001b[0m     \u001b[0;34m@\u001b[0m\u001b[0munpack_zerodim_and_defer\u001b[0m\u001b[0;34m(\u001b[0m\u001b[0;34m\"__le__\"\u001b[0m\u001b[0;34m)\u001b[0m\u001b[0;34m\u001b[0m\u001b[0;34m\u001b[0m\u001b[0m\n",
      "\u001b[0;32m~/opt/anaconda3/lib/python3.7/site-packages/pandas/core/series.py\u001b[0m in \u001b[0;36m_cmp_method\u001b[0;34m(self, other, op)\u001b[0m\n\u001b[1;32m   5500\u001b[0m \u001b[0;34m\u001b[0m\u001b[0m\n\u001b[1;32m   5501\u001b[0m         \u001b[0;32mwith\u001b[0m \u001b[0mnp\u001b[0m\u001b[0;34m.\u001b[0m\u001b[0merrstate\u001b[0m\u001b[0;34m(\u001b[0m\u001b[0mall\u001b[0m\u001b[0;34m=\u001b[0m\u001b[0;34m\"ignore\"\u001b[0m\u001b[0;34m)\u001b[0m\u001b[0;34m:\u001b[0m\u001b[0;34m\u001b[0m\u001b[0;34m\u001b[0m\u001b[0m\n\u001b[0;32m-> 5502\u001b[0;31m             \u001b[0mres_values\u001b[0m \u001b[0;34m=\u001b[0m \u001b[0mops\u001b[0m\u001b[0;34m.\u001b[0m\u001b[0mcomparison_op\u001b[0m\u001b[0;34m(\u001b[0m\u001b[0mlvalues\u001b[0m\u001b[0;34m,\u001b[0m \u001b[0mrvalues\u001b[0m\u001b[0;34m,\u001b[0m \u001b[0mop\u001b[0m\u001b[0;34m)\u001b[0m\u001b[0;34m\u001b[0m\u001b[0;34m\u001b[0m\u001b[0m\n\u001b[0m\u001b[1;32m   5503\u001b[0m \u001b[0;34m\u001b[0m\u001b[0m\n\u001b[1;32m   5504\u001b[0m         \u001b[0;32mreturn\u001b[0m \u001b[0mself\u001b[0m\u001b[0;34m.\u001b[0m\u001b[0m_construct_result\u001b[0m\u001b[0;34m(\u001b[0m\u001b[0mres_values\u001b[0m\u001b[0;34m,\u001b[0m \u001b[0mname\u001b[0m\u001b[0;34m=\u001b[0m\u001b[0mres_name\u001b[0m\u001b[0;34m)\u001b[0m\u001b[0;34m\u001b[0m\u001b[0;34m\u001b[0m\u001b[0m\n",
      "\u001b[0;32m~/opt/anaconda3/lib/python3.7/site-packages/pandas/core/ops/array_ops.py\u001b[0m in \u001b[0;36mcomparison_op\u001b[0;34m(left, right, op)\u001b[0m\n\u001b[1;32m    268\u001b[0m     ):\n\u001b[1;32m    269\u001b[0m         \u001b[0;31m# Call the method on lvalues\u001b[0m\u001b[0;34m\u001b[0m\u001b[0;34m\u001b[0m\u001b[0;34m\u001b[0m\u001b[0m\n\u001b[0;32m--> 270\u001b[0;31m         \u001b[0mres_values\u001b[0m \u001b[0;34m=\u001b[0m \u001b[0mop\u001b[0m\u001b[0;34m(\u001b[0m\u001b[0mlvalues\u001b[0m\u001b[0;34m,\u001b[0m \u001b[0mrvalues\u001b[0m\u001b[0;34m)\u001b[0m\u001b[0;34m\u001b[0m\u001b[0;34m\u001b[0m\u001b[0m\n\u001b[0m\u001b[1;32m    271\u001b[0m \u001b[0;34m\u001b[0m\u001b[0m\n\u001b[1;32m    272\u001b[0m     \u001b[0;32melif\u001b[0m \u001b[0mis_scalar\u001b[0m\u001b[0;34m(\u001b[0m\u001b[0mrvalues\u001b[0m\u001b[0;34m)\u001b[0m \u001b[0;32mand\u001b[0m \u001b[0misna\u001b[0m\u001b[0;34m(\u001b[0m\u001b[0mrvalues\u001b[0m\u001b[0;34m)\u001b[0m\u001b[0;34m:\u001b[0m\u001b[0;34m\u001b[0m\u001b[0;34m\u001b[0m\u001b[0m\n",
      "\u001b[0;32m~/opt/anaconda3/lib/python3.7/site-packages/pandas/core/ops/common.py\u001b[0m in \u001b[0;36mnew_method\u001b[0;34m(self, other)\u001b[0m\n\u001b[1;32m     67\u001b[0m         \u001b[0mother\u001b[0m \u001b[0;34m=\u001b[0m \u001b[0mitem_from_zerodim\u001b[0m\u001b[0;34m(\u001b[0m\u001b[0mother\u001b[0m\u001b[0;34m)\u001b[0m\u001b[0;34m\u001b[0m\u001b[0;34m\u001b[0m\u001b[0m\n\u001b[1;32m     68\u001b[0m \u001b[0;34m\u001b[0m\u001b[0m\n\u001b[0;32m---> 69\u001b[0;31m         \u001b[0;32mreturn\u001b[0m \u001b[0mmethod\u001b[0m\u001b[0;34m(\u001b[0m\u001b[0mself\u001b[0m\u001b[0;34m,\u001b[0m \u001b[0mother\u001b[0m\u001b[0;34m)\u001b[0m\u001b[0;34m\u001b[0m\u001b[0;34m\u001b[0m\u001b[0m\n\u001b[0m\u001b[1;32m     70\u001b[0m \u001b[0;34m\u001b[0m\u001b[0m\n\u001b[1;32m     71\u001b[0m     \u001b[0;32mreturn\u001b[0m \u001b[0mnew_method\u001b[0m\u001b[0;34m\u001b[0m\u001b[0;34m\u001b[0m\u001b[0m\n",
      "\u001b[0;32m~/opt/anaconda3/lib/python3.7/site-packages/pandas/core/arraylike.py\u001b[0m in \u001b[0;36m__lt__\u001b[0;34m(self, other)\u001b[0m\n\u001b[1;32m     38\u001b[0m     \u001b[0;34m@\u001b[0m\u001b[0munpack_zerodim_and_defer\u001b[0m\u001b[0;34m(\u001b[0m\u001b[0;34m\"__lt__\"\u001b[0m\u001b[0;34m)\u001b[0m\u001b[0;34m\u001b[0m\u001b[0;34m\u001b[0m\u001b[0m\n\u001b[1;32m     39\u001b[0m     \u001b[0;32mdef\u001b[0m \u001b[0m__lt__\u001b[0m\u001b[0;34m(\u001b[0m\u001b[0mself\u001b[0m\u001b[0;34m,\u001b[0m \u001b[0mother\u001b[0m\u001b[0;34m)\u001b[0m\u001b[0;34m:\u001b[0m\u001b[0;34m\u001b[0m\u001b[0;34m\u001b[0m\u001b[0m\n\u001b[0;32m---> 40\u001b[0;31m         \u001b[0;32mreturn\u001b[0m \u001b[0mself\u001b[0m\u001b[0;34m.\u001b[0m\u001b[0m_cmp_method\u001b[0m\u001b[0;34m(\u001b[0m\u001b[0mother\u001b[0m\u001b[0;34m,\u001b[0m \u001b[0moperator\u001b[0m\u001b[0;34m.\u001b[0m\u001b[0mlt\u001b[0m\u001b[0;34m)\u001b[0m\u001b[0;34m\u001b[0m\u001b[0;34m\u001b[0m\u001b[0m\n\u001b[0m\u001b[1;32m     41\u001b[0m \u001b[0;34m\u001b[0m\u001b[0m\n\u001b[1;32m     42\u001b[0m     \u001b[0;34m@\u001b[0m\u001b[0munpack_zerodim_and_defer\u001b[0m\u001b[0;34m(\u001b[0m\u001b[0;34m\"__le__\"\u001b[0m\u001b[0;34m)\u001b[0m\u001b[0;34m\u001b[0m\u001b[0;34m\u001b[0m\u001b[0m\n",
      "\u001b[0;32m~/opt/anaconda3/lib/python3.7/site-packages/pandas/core/arrays/datetimelike.py\u001b[0m in \u001b[0;36m_cmp_method\u001b[0;34m(self, other, op)\u001b[0m\n\u001b[1;32m   1008\u001b[0m             \u001b[0mother\u001b[0m \u001b[0;34m=\u001b[0m \u001b[0mself\u001b[0m\u001b[0;34m.\u001b[0m\u001b[0m_validate_comparison_value\u001b[0m\u001b[0;34m(\u001b[0m\u001b[0mother\u001b[0m\u001b[0;34m)\u001b[0m\u001b[0;34m\u001b[0m\u001b[0;34m\u001b[0m\u001b[0m\n\u001b[1;32m   1009\u001b[0m         \u001b[0;32mexcept\u001b[0m \u001b[0mInvalidComparison\u001b[0m\u001b[0;34m:\u001b[0m\u001b[0;34m\u001b[0m\u001b[0;34m\u001b[0m\u001b[0m\n\u001b[0;32m-> 1010\u001b[0;31m             \u001b[0;32mreturn\u001b[0m \u001b[0minvalid_comparison\u001b[0m\u001b[0;34m(\u001b[0m\u001b[0mself\u001b[0m\u001b[0;34m,\u001b[0m \u001b[0mother\u001b[0m\u001b[0;34m,\u001b[0m \u001b[0mop\u001b[0m\u001b[0;34m)\u001b[0m\u001b[0;34m\u001b[0m\u001b[0;34m\u001b[0m\u001b[0m\n\u001b[0m\u001b[1;32m   1011\u001b[0m \u001b[0;34m\u001b[0m\u001b[0m\n\u001b[1;32m   1012\u001b[0m         \u001b[0mdtype\u001b[0m \u001b[0;34m=\u001b[0m \u001b[0mgetattr\u001b[0m\u001b[0;34m(\u001b[0m\u001b[0mother\u001b[0m\u001b[0;34m,\u001b[0m \u001b[0;34m\"dtype\"\u001b[0m\u001b[0;34m,\u001b[0m \u001b[0;32mNone\u001b[0m\u001b[0;34m)\u001b[0m\u001b[0;34m\u001b[0m\u001b[0;34m\u001b[0m\u001b[0m\n",
      "\u001b[0;32m~/opt/anaconda3/lib/python3.7/site-packages/pandas/core/ops/invalid.py\u001b[0m in \u001b[0;36minvalid_comparison\u001b[0;34m(left, right, op)\u001b[0m\n\u001b[1;32m     32\u001b[0m     \u001b[0;32melse\u001b[0m\u001b[0;34m:\u001b[0m\u001b[0;34m\u001b[0m\u001b[0;34m\u001b[0m\u001b[0m\n\u001b[1;32m     33\u001b[0m         \u001b[0mtyp\u001b[0m \u001b[0;34m=\u001b[0m \u001b[0mtype\u001b[0m\u001b[0;34m(\u001b[0m\u001b[0mright\u001b[0m\u001b[0;34m)\u001b[0m\u001b[0;34m.\u001b[0m\u001b[0m__name__\u001b[0m\u001b[0;34m\u001b[0m\u001b[0;34m\u001b[0m\u001b[0m\n\u001b[0;32m---> 34\u001b[0;31m         \u001b[0;32mraise\u001b[0m \u001b[0mTypeError\u001b[0m\u001b[0;34m(\u001b[0m\u001b[0;34mf\"Invalid comparison between dtype={left.dtype} and {typ}\"\u001b[0m\u001b[0;34m)\u001b[0m\u001b[0;34m\u001b[0m\u001b[0;34m\u001b[0m\u001b[0m\n\u001b[0m\u001b[1;32m     35\u001b[0m     \u001b[0;32mreturn\u001b[0m \u001b[0mres_values\u001b[0m\u001b[0;34m\u001b[0m\u001b[0;34m\u001b[0m\u001b[0m\n\u001b[1;32m     36\u001b[0m \u001b[0;34m\u001b[0m\u001b[0m\n",
      "\u001b[0;31mTypeError\u001b[0m: Invalid comparison between dtype=datetime64[ns] and str"
     ]
    }
   ],
   "source": [
    "# no gps since 7 days \n",
    "\n",
    "df_merged_active.loc[(df_merged_active.startTimestamp < week_ago) & (df_merged_active.day > week_ago)][\"for_id\"].tolist()"
   ]
  },
  {
   "cell_type": "code",
   "execution_count": null,
   "id": "b452c29f",
   "metadata": {},
   "outputs": [],
   "source": [
    "# no gpspd since 7 days\n",
    "df_merged_active.loc[(df_merged_active.startTimestamp < week_ago) & (df_merged_active.day < week_ago)][\"for_id\"].tolist()"
   ]
  },
  {
   "cell_type": "code",
   "execution_count": null,
   "id": "5ecae0e8",
   "metadata": {},
   "outputs": [],
   "source": [
    "# no pd since 7 days \n",
    "df_merged_active.loc[(df_merged_active.startTimestamp > week_ago) & \\\n",
    "                     (df_merged_active.day < week_ago)][\"for_id\"].tolist()"
   ]
  },
  {
   "cell_type": "markdown",
   "id": "e7adba16",
   "metadata": {},
   "source": [
    "## Deleted data"
   ]
  },
  {
   "cell_type": "code",
   "execution_count": null,
   "id": "1a8f7a0f",
   "metadata": {},
   "outputs": [],
   "source": [
    "list_1 = df_active.customer.tolist()\n",
    "list_2 = df_complete.customer.unique().tolist()\n",
    "set(list_1) - set(list_2)"
   ]
  },
  {
   "cell_type": "markdown",
   "id": "7ffed9a3",
   "metadata": {},
   "source": []
  }
 ],
 "metadata": {
  "kernelspec": {
   "display_name": "Python 3",
   "language": "python",
   "name": "python3"
  },
  "language_info": {
   "codemirror_mode": {
    "name": "ipython",
    "version": 3
   },
   "file_extension": ".py",
   "mimetype": "text/x-python",
   "name": "python",
   "nbconvert_exporter": "python",
   "pygments_lexer": "ipython3",
   "version": "3.7.4"
  }
 },
 "nbformat": 4,
 "nbformat_minor": 5
}
