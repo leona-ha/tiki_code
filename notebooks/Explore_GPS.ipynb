{
 "cells": [
  {
   "cell_type": "markdown",
   "id": "9feff86a",
   "metadata": {},
   "source": [
    "# Explore PS Data"
   ]
  },
  {
   "cell_type": "code",
   "execution_count": 1,
   "id": "fff619e9",
   "metadata": {},
   "outputs": [],
   "source": [
    "import pandas as pd\n",
    "import datetime as dt\n",
    "from datetime import date\n",
    "\n",
    "today = date.today()\n",
    "week_ago = today - dt.timedelta(days=7)\n",
    "today = today.strftime(\"%d%m%Y\")\n",
    "week_ago = week_ago.strftime(\"%Y-%m-%d\")\n",
    "today = \"26092023\"\n",
    "\n",
    "datapath = \"/Users/leonahammelrath/FU_Psychoinformatik/Github/tiki_code/data/\"\n",
    "filepath = datapath + f\"export_{today}.csv\"\n",
    "\n",
    "datapath1 = datapath + f\"export_tiki_{today}/\"\n",
    "filepath_1 = datapath1 + \"epoch_part0001.csv\"\n",
    "filepath_2 = datapath1 + \"epoch_part0002.csv\"\n",
    "filepath_3 = datapath1 + \"epoch_part0003.csv\""
   ]
  },
  {
   "cell_type": "code",
   "execution_count": 2,
   "id": "3089bb6d",
   "metadata": {},
   "outputs": [
    {
     "name": "stderr",
     "output_type": "stream",
     "text": [
      "/Users/leonahammelrath/opt/anaconda3/lib/python3.7/site-packages/IPython/core/interactiveshell.py:3326: DtypeWarning: Columns (10) have mixed types.Specify dtype option on import or set low_memory=False.\n",
      "  exec(code_obj, self.user_global_ns, self.user_ns)\n"
     ]
    }
   ],
   "source": [
    "df_1 = pd.read_csv(filepath_1, encoding= \"latin-1\")\n",
    "df_2 = pd.read_csv(filepath_2, encoding= \"latin-1\")\n",
    "df_3 = pd.read_csv(filepath_3, encoding= \"latin-1\")\n"
   ]
  },
  {
   "cell_type": "code",
   "execution_count": 3,
   "id": "8c2f38cf",
   "metadata": {},
   "outputs": [
    {
     "data": {
      "text/plain": [
       "array(['Latitude', 'Longitude', 'HeartRate', 'ActiveBurnedCalories',\n",
       "       'CoveredDistance', 'Steps', 'AtrialFibrillationDetection',\n",
       "       'RawECGVoltage', 'ActivityType', 'ActivityTypeDetail1',\n",
       "       'ActivityTypeDetail2', 'WalkBinary', 'SleepAwakeBinary',\n",
       "       'SleepBinary', 'SleepLightBinary', 'SleepStateBinary',\n",
       "       'SleepDeepBinary', 'BikeBinary', 'ActiveBinary', 'RunBinary',\n",
       "       'SPO2', 'ElevationGain', 'FloorsClimbed', 'Height', 'Weight',\n",
       "       'SleepREMBinary'], dtype=object)"
      ]
     },
     "execution_count": 3,
     "metadata": {},
     "output_type": "execute_result"
    }
   ],
   "source": [
    "df_1.type.unique()"
   ]
  },
  {
   "cell_type": "code",
   "execution_count": 4,
   "id": "24fa19f6",
   "metadata": {},
   "outputs": [],
   "source": [
    "df_location_1 = df_1[df_1.type.isin([\"Latitude\", \"Longitude\"])]\n",
    "df_location_2 = df_2[df_2.type.isin([\"Latitude\", \"Longitude\"])]\n",
    "df_location_3 = df_3[df_3.type.isin([\"Latitude\", \"Longitude\"])]"
   ]
  },
  {
   "cell_type": "code",
   "execution_count": 5,
   "id": "54ff80e8",
   "metadata": {},
   "outputs": [],
   "source": [
    "df_complete = pd.concat([df_location_1, df_location_2, df_location_3])"
   ]
  },
  {
   "cell_type": "code",
   "execution_count": 10,
   "id": "5eb2d4f6",
   "metadata": {},
   "outputs": [
    {
     "data": {
      "text/html": [
       "<div>\n",
       "<style scoped>\n",
       "    .dataframe tbody tr th:only-of-type {\n",
       "        vertical-align: middle;\n",
       "    }\n",
       "\n",
       "    .dataframe tbody tr th {\n",
       "        vertical-align: top;\n",
       "    }\n",
       "\n",
       "    .dataframe thead th {\n",
       "        text-align: right;\n",
       "    }\n",
       "</style>\n",
       "<table border=\"1\" class=\"dataframe\">\n",
       "  <thead>\n",
       "    <tr style=\"text-align: right;\">\n",
       "      <th></th>\n",
       "      <th>customer</th>\n",
       "      <th>source</th>\n",
       "      <th>startTimestamp</th>\n",
       "      <th>endTimestamp</th>\n",
       "      <th>type</th>\n",
       "      <th>valueType</th>\n",
       "      <th>doubleValue</th>\n",
       "      <th>longValue</th>\n",
       "      <th>booleanValue</th>\n",
       "      <th>dateValue</th>\n",
       "      <th>stringValue</th>\n",
       "      <th>generation</th>\n",
       "      <th>trustworthiness</th>\n",
       "      <th>medicalGrade</th>\n",
       "      <th>userReliability</th>\n",
       "      <th>chronologicalExactness</th>\n",
       "      <th>timezoneOffset</th>\n",
       "      <th>createdAt</th>\n",
       "    </tr>\n",
       "  </thead>\n",
       "  <tbody>\n",
       "    <tr>\n",
       "      <th>0</th>\n",
       "      <td>0ePWrIxtQgm9abdP</td>\n",
       "      <td>CustomerApp</td>\n",
       "      <td>1688384647000</td>\n",
       "      <td>NaN</td>\n",
       "      <td>Latitude</td>\n",
       "      <td>10</td>\n",
       "      <td>4.065911</td>\n",
       "      <td>NaN</td>\n",
       "      <td>NaN</td>\n",
       "      <td>NaN</td>\n",
       "      <td>NaN</td>\n",
       "      <td>NaN</td>\n",
       "      <td>NaN</td>\n",
       "      <td>NaN</td>\n",
       "      <td>NaN</td>\n",
       "      <td>NaN</td>\n",
       "      <td>120.0</td>\n",
       "      <td>1688388803226</td>\n",
       "    </tr>\n",
       "    <tr>\n",
       "      <th>1</th>\n",
       "      <td>0ePWrIxtQgm9abdP</td>\n",
       "      <td>CustomerApp</td>\n",
       "      <td>1688384647000</td>\n",
       "      <td>NaN</td>\n",
       "      <td>Longitude</td>\n",
       "      <td>10</td>\n",
       "      <td>7.979800</td>\n",
       "      <td>NaN</td>\n",
       "      <td>NaN</td>\n",
       "      <td>NaN</td>\n",
       "      <td>NaN</td>\n",
       "      <td>NaN</td>\n",
       "      <td>NaN</td>\n",
       "      <td>NaN</td>\n",
       "      <td>NaN</td>\n",
       "      <td>NaN</td>\n",
       "      <td>120.0</td>\n",
       "      <td>1688388803227</td>\n",
       "    </tr>\n",
       "    <tr>\n",
       "      <th>2</th>\n",
       "      <td>0ePWrIxtQgm9abdP</td>\n",
       "      <td>CustomerApp</td>\n",
       "      <td>1688384649000</td>\n",
       "      <td>NaN</td>\n",
       "      <td>Latitude</td>\n",
       "      <td>10</td>\n",
       "      <td>4.065911</td>\n",
       "      <td>NaN</td>\n",
       "      <td>NaN</td>\n",
       "      <td>NaN</td>\n",
       "      <td>NaN</td>\n",
       "      <td>NaN</td>\n",
       "      <td>NaN</td>\n",
       "      <td>NaN</td>\n",
       "      <td>NaN</td>\n",
       "      <td>NaN</td>\n",
       "      <td>120.0</td>\n",
       "      <td>1688388803227</td>\n",
       "    </tr>\n",
       "    <tr>\n",
       "      <th>3</th>\n",
       "      <td>0ePWrIxtQgm9abdP</td>\n",
       "      <td>CustomerApp</td>\n",
       "      <td>1688384649000</td>\n",
       "      <td>NaN</td>\n",
       "      <td>Longitude</td>\n",
       "      <td>10</td>\n",
       "      <td>7.979800</td>\n",
       "      <td>NaN</td>\n",
       "      <td>NaN</td>\n",
       "      <td>NaN</td>\n",
       "      <td>NaN</td>\n",
       "      <td>NaN</td>\n",
       "      <td>NaN</td>\n",
       "      <td>NaN</td>\n",
       "      <td>NaN</td>\n",
       "      <td>NaN</td>\n",
       "      <td>120.0</td>\n",
       "      <td>1688388803228</td>\n",
       "    </tr>\n",
       "    <tr>\n",
       "      <th>4</th>\n",
       "      <td>0ePWrIxtQgm9abdP</td>\n",
       "      <td>CustomerApp</td>\n",
       "      <td>1688387251000</td>\n",
       "      <td>NaN</td>\n",
       "      <td>Latitude</td>\n",
       "      <td>10</td>\n",
       "      <td>4.068711</td>\n",
       "      <td>NaN</td>\n",
       "      <td>NaN</td>\n",
       "      <td>NaN</td>\n",
       "      <td>NaN</td>\n",
       "      <td>NaN</td>\n",
       "      <td>NaN</td>\n",
       "      <td>NaN</td>\n",
       "      <td>NaN</td>\n",
       "      <td>NaN</td>\n",
       "      <td>120.0</td>\n",
       "      <td>1688388803228</td>\n",
       "    </tr>\n",
       "  </tbody>\n",
       "</table>\n",
       "</div>"
      ],
      "text/plain": [
       "           customer       source  startTimestamp  endTimestamp       type  \\\n",
       "0  0ePWrIxtQgm9abdP  CustomerApp   1688384647000           NaN   Latitude   \n",
       "1  0ePWrIxtQgm9abdP  CustomerApp   1688384647000           NaN  Longitude   \n",
       "2  0ePWrIxtQgm9abdP  CustomerApp   1688384649000           NaN   Latitude   \n",
       "3  0ePWrIxtQgm9abdP  CustomerApp   1688384649000           NaN  Longitude   \n",
       "4  0ePWrIxtQgm9abdP  CustomerApp   1688387251000           NaN   Latitude   \n",
       "\n",
       "   valueType  doubleValue  longValue  booleanValue  dateValue stringValue  \\\n",
       "0         10     4.065911        NaN           NaN        NaN         NaN   \n",
       "1         10     7.979800        NaN           NaN        NaN         NaN   \n",
       "2         10     4.065911        NaN           NaN        NaN         NaN   \n",
       "3         10     7.979800        NaN           NaN        NaN         NaN   \n",
       "4         10     4.068711        NaN           NaN        NaN         NaN   \n",
       "\n",
       "   generation  trustworthiness  medicalGrade  userReliability  \\\n",
       "0         NaN              NaN           NaN              NaN   \n",
       "1         NaN              NaN           NaN              NaN   \n",
       "2         NaN              NaN           NaN              NaN   \n",
       "3         NaN              NaN           NaN              NaN   \n",
       "4         NaN              NaN           NaN              NaN   \n",
       "\n",
       "   chronologicalExactness  timezoneOffset      createdAt  \n",
       "0                     NaN           120.0  1688388803226  \n",
       "1                     NaN           120.0  1688388803227  \n",
       "2                     NaN           120.0  1688388803227  \n",
       "3                     NaN           120.0  1688388803228  \n",
       "4                     NaN           120.0  1688388803228  "
      ]
     },
     "execution_count": 10,
     "metadata": {},
     "output_type": "execute_result"
    }
   ],
   "source": [
    "df_complete.head()"
   ]
  },
  {
   "cell_type": "code",
   "execution_count": 16,
   "id": "e69df321",
   "metadata": {},
   "outputs": [],
   "source": [
    "df_complete = df_complete[[\"customer\", \"startTimestamp\", \"type\", \"doubleValue\", \n",
    "                           \"timezoneOffset\"]]"
   ]
  },
  {
   "cell_type": "code",
   "execution_count": null,
   "id": "3b95d4e8",
   "metadata": {},
   "outputs": [],
   "source": [
    "df_complete[\"startTimestamp\"] = (pd.to_datetime(df_complete[\"startTimestamp\"],unit='ms'))"
   ]
  },
  {
   "cell_type": "markdown",
   "id": "aed8cf4d",
   "metadata": {},
   "source": [
    "## Analyze GPS Data"
   ]
  },
  {
   "cell_type": "code",
   "execution_count": null,
   "id": "85b5366d",
   "metadata": {},
   "outputs": [],
   "source": [
    "#df_merged_grouped = df_merged.groupby([\"customer\", \"startTimestamp\"])[\"doubleValue\"].apply(set)\n",
    "df_grouped = df_complete.groupby([\"customer\", \"startTimestamp\"])[\"doubleValue\"]"
   ]
  },
  {
   "cell_type": "code",
   "execution_count": null,
   "id": "881ff979",
   "metadata": {},
   "outputs": [],
   "source": [
    "# drop dateValue, stringValue, userReliability, chronologicalExactness"
   ]
  },
  {
   "cell_type": "code",
   "execution_count": null,
   "id": "342f20b1",
   "metadata": {},
   "outputs": [],
   "source": [
    "df_grouped"
   ]
  },
  {
   "cell_type": "code",
   "execution_count": null,
   "id": "11226401",
   "metadata": {},
   "outputs": [],
   "source": [
    "df_int = df_int.pivot(\n",
    "    index=[\"customer\", \"day\"],\n",
    "    columns=\"type\",\n",
    "    values=\"int\")"
   ]
  },
  {
   "cell_type": "code",
   "execution_count": null,
   "id": "80438a89",
   "metadata": {},
   "outputs": [],
   "source": [
    "#df_int.reset_index(level=\"day\", inplace=True)"
   ]
  },
  {
   "cell_type": "code",
   "execution_count": null,
   "id": "155841d8",
   "metadata": {},
   "outputs": [],
   "source": []
  },
  {
   "cell_type": "markdown",
   "id": "dec5da32",
   "metadata": {},
   "source": []
  }
 ],
 "metadata": {
  "kernelspec": {
   "display_name": "Python 3",
   "language": "python",
   "name": "python3"
  },
  "language_info": {
   "codemirror_mode": {
    "name": "ipython",
    "version": 3
   },
   "file_extension": ".py",
   "mimetype": "text/x-python",
   "name": "python",
   "nbconvert_exporter": "python",
   "pygments_lexer": "ipython3",
   "version": "3.7.4"
  }
 },
 "nbformat": 4,
 "nbformat_minor": 5
}
