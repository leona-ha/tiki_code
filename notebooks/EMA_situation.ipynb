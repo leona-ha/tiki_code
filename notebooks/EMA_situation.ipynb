{
 "cells": [
  {
   "cell_type": "code",
   "execution_count": 1,
   "id": "00d3e8b0",
   "metadata": {},
   "outputs": [],
   "source": [
    "import pandas as pd\n",
    "import datetime as dt\n",
    "from datetime import date\n",
    "import numpy as np\n",
    "import re\n",
    "\n",
    "today = date.today() \n",
    "week_ago = today - dt.timedelta(days=7)\n",
    "today = today.strftime(\"%d%m%Y\")\n",
    "\n",
    "datapath = f\"/Users/leonahammelrath/FU_Psychoinformatik/Github/tiki_code/data/export_tiki_{today}\"\n",
    "filepath = \"/Users/leonahammelrath/FU_Psychoinformatik/Github/tiki_code/data/\""
   ]
  },
  {
   "cell_type": "code",
   "execution_count": 2,
   "id": "18d18b79",
   "metadata": {},
   "outputs": [],
   "source": [
    "df_active = pd.read_csv(filepath +\"/active_participants.csv\")\n",
    "df_active.rename(columns = {\"Pseudonym \": \"customer\", \"EMA ID\": \"ema_id\", \"Ende EMA Baseline\": \"end_ema\", \"Status\": \"status\",\n",
    "                            \"Start EMA Baseline\": \"start_ema\", \"Studienversion\":\"study_version\", \"FOR_ID\":\"for_id\"}, inplace=True)\n",
    "\n",
    "#df_active = df_active[[\"customer\", \"ema_id\", \"end_ema\", \"start_ema\", \"study_version\", \"for_id\", \"status\"]]\n",
    "df_active = df_active[[\"customer\",\"for_id\",\"start_ema\", \"end_ema\", \"status\"]]\n",
    "df_active[\"customer\"] = df_active.customer.str[:4]"
   ]
  },
  {
   "cell_type": "code",
   "execution_count": 3,
   "id": "a9571c0e",
   "metadata": {},
   "outputs": [
    {
     "name": "stderr",
     "output_type": "stream",
     "text": [
      "/Users/leonahammelrath/opt/anaconda3/lib/python3.7/site-packages/IPython/core/interactiveshell.py:3326: DtypeWarning: Columns (9) have mixed types.Specify dtype option on import or set low_memory=False.\n",
      "  exec(code_obj, self.user_global_ns, self.user_ns)\n"
     ]
    }
   ],
   "source": [
    "answers = pd.read_csv(datapath + \"/answers.csv\")\n",
    "answers[\"user\"] = answers[\"user\"].str[:4]\n",
    "answers = answers[[\"user\", \"questionnaireSession\", \"questionnaire\", \"study\", \n",
    "                   \"question\", \"order\",\"element\", \"createdAt\"]]\n",
    "answers[\"createdAt\"] = (pd.to_datetime(answers[\"createdAt\"],unit='ms'))\n",
    "answers.rename(columns={\"user\":\"customer\",\"questionnaireSession\":\"session_unique\"}, inplace=True)"
   ]
  },
  {
   "cell_type": "code",
   "execution_count": 4,
   "id": "b1eda5ea",
   "metadata": {},
   "outputs": [],
   "source": [
    "choice = pd.read_csv(datapath + \"/choice.csv\")\n",
    "choice = choice[[\"element\", \"choice_id\", \"text\", \"question\"]]\n",
    "choice.rename(columns={\"text\":\"choice_text\"}, inplace=True)"
   ]
  },
  {
   "cell_type": "code",
   "execution_count": 5,
   "id": "8f41398d",
   "metadata": {},
   "outputs": [],
   "source": [
    "questions = pd.read_csv(datapath + \"/questions.csv\")\n",
    "questions = questions[[\"id\", \"title\"]]\n",
    "questions.rename(columns={\"id\":\"question\",\"title\":\"quest_title\"}, inplace=True)"
   ]
  },
  {
   "cell_type": "code",
   "execution_count": 6,
   "id": "7ba71d3d",
   "metadata": {},
   "outputs": [],
   "source": [
    "questionnaire = pd.read_csv(datapath + \"/questionnaires.csv\")\n",
    "questionnaire = questionnaire[[\"id\", \"name\"]]\n",
    "questionnaire.rename(columns={\"id\":\"questionnaire\",\"name\":\"questionnaire_name\"}, inplace=True)"
   ]
  },
  {
   "cell_type": "code",
   "execution_count": 7,
   "id": "666ff97f",
   "metadata": {},
   "outputs": [],
   "source": [
    "answer_merged = pd.merge(answers, choice, on= [\"question\",\"element\"])\n",
    "answer_merged = pd.merge(answer_merged, questions, on= \"question\")\n",
    "answer_merged = pd.merge(answer_merged, questionnaire, on= \"questionnaire\")"
   ]
  },
  {
   "cell_type": "code",
   "execution_count": 8,
   "id": "1903b004",
   "metadata": {},
   "outputs": [],
   "source": [
    "answer_merged = pd.merge(df_active, answer_merged, on=\"customer\")"
   ]
  },
  {
   "cell_type": "code",
   "execution_count": 9,
   "id": "d08be316",
   "metadata": {},
   "outputs": [],
   "source": [
    "answer_merged['weekday'] = answer_merged['createdAt'].dt.day_name()"
   ]
  },
  {
   "cell_type": "code",
   "execution_count": 10,
   "id": "e8a1214a",
   "metadata": {},
   "outputs": [],
   "source": [
    "answer_merged['quest_nr'] = answer_merged['questionnaire_name'].apply(lambda x: int(re.search(r'\\d+', x).group()) \\\n",
    "                                               if re.search(r'\\d+', x) else None)"
   ]
  },
  {
   "cell_type": "code",
   "execution_count": 11,
   "id": "de046314",
   "metadata": {},
   "outputs": [],
   "source": [
    "answer_merged = answer_merged.loc[answer_merged.study.isin([24,25])]"
   ]
  },
  {
   "cell_type": "code",
   "execution_count": 12,
   "id": "b14c7e79",
   "metadata": {},
   "outputs": [],
   "source": [
    "answer_merged = answer_merged.loc[answer_merged.question.isin([340, 352])]"
   ]
  },
  {
   "cell_type": "code",
   "execution_count": 13,
   "id": "d5b846df",
   "metadata": {},
   "outputs": [],
   "source": [
    "# Sort by UserID and Date\n",
    "answer_merged = answer_merged.sort_values(by=['customer', 'createdAt'])\n",
    "\n",
    "# Calculate the day of assessment\n",
    "answer_merged['assessment_day'] = answer_merged.groupby('customer')['createdAt'].transform(lambda x: (x - x.min()).dt.days + 1)\n"
   ]
  },
  {
   "cell_type": "code",
   "execution_count": 14,
   "id": "9ce1143f",
   "metadata": {},
   "outputs": [],
   "source": [
    "answer_merged['assessment_id'] = answer_merged.\\\n",
    "apply(lambda row: f\"{row['assessment_day']}_{row['quest_nr']}\", axis=1)\n"
   ]
  },
  {
   "cell_type": "code",
   "execution_count": null,
   "id": "38c81543",
   "metadata": {},
   "outputs": [],
   "source": []
  }
 ],
 "metadata": {
  "kernelspec": {
   "display_name": "Python 3",
   "language": "python",
   "name": "python3"
  },
  "language_info": {
   "codemirror_mode": {
    "name": "ipython",
    "version": 3
   },
   "file_extension": ".py",
   "mimetype": "text/x-python",
   "name": "python",
   "nbconvert_exporter": "python",
   "pygments_lexer": "ipython3",
   "version": "3.7.4"
  }
 },
 "nbformat": 4,
 "nbformat_minor": 5
}
