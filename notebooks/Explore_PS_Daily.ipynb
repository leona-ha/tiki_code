{
 "cells": [
  {
   "cell_type": "markdown",
   "id": "be8a459d",
   "metadata": {},
   "source": [
    "# Explore PS Data"
   ]
  },
  {
   "cell_type": "code",
   "execution_count": 1,
   "id": "0cf752e3",
   "metadata": {},
   "outputs": [],
   "source": [
    "import pandas as pd\n",
    "import datetime as dt\n",
    "from datetime import date\n",
    "\n",
    "today = date.today()\n",
    "week_ago = today - dt.timedelta(days=7)\n",
    "\n",
    "\n",
    "filepath = \"/Users/leonahammelrath/FU_Psychoinformatik/Github/tiki_code/data/export_120923.csv\""
   ]
  },
  {
   "cell_type": "code",
   "execution_count": 2,
   "id": "d8ef8100",
   "metadata": {},
   "outputs": [],
   "source": [
    "df = pd.read_csv(filepath, encoding= \"latin-1\")"
   ]
  },
  {
   "cell_type": "code",
   "execution_count": 3,
   "id": "f98400fa",
   "metadata": {},
   "outputs": [
    {
     "data": {
      "text/html": [
       "<div>\n",
       "<style scoped>\n",
       "    .dataframe tbody tr th:only-of-type {\n",
       "        vertical-align: middle;\n",
       "    }\n",
       "\n",
       "    .dataframe tbody tr th {\n",
       "        vertical-align: top;\n",
       "    }\n",
       "\n",
       "    .dataframe thead th {\n",
       "        text-align: right;\n",
       "    }\n",
       "</style>\n",
       "<table border=\"1\" class=\"dataframe\">\n",
       "  <thead>\n",
       "    <tr style=\"text-align: right;\">\n",
       "      <th></th>\n",
       "      <th>Endkunde</th>\n",
       "      <th>Quelle</th>\n",
       "      <th>Tag</th>\n",
       "      <th>Created At</th>\n",
       "      <th>Typ</th>\n",
       "      <th>Wert(Fließkommazahl)</th>\n",
       "      <th>Wert(Ganzzahl)</th>\n",
       "    </tr>\n",
       "  </thead>\n",
       "  <tbody>\n",
       "    <tr>\n",
       "      <th>0</th>\n",
       "      <td>0ePWrIxtQgm9abdP@tiki.com</td>\n",
       "      <td>Nokia</td>\n",
       "      <td>04.07.2023</td>\n",
       "      <td>05.07.2023 21:00:55</td>\n",
       "      <td>Steps</td>\n",
       "      <td>NaN</td>\n",
       "      <td>15691.0</td>\n",
       "    </tr>\n",
       "    <tr>\n",
       "      <th>1</th>\n",
       "      <td>0ePWrIxtQgm9abdP@tiki.com</td>\n",
       "      <td>Nokia</td>\n",
       "      <td>04.07.2023</td>\n",
       "      <td>05.07.2023 21:00:55</td>\n",
       "      <td>CoveredDistance</td>\n",
       "      <td>11.180,239</td>\n",
       "      <td>NaN</td>\n",
       "    </tr>\n",
       "    <tr>\n",
       "      <th>2</th>\n",
       "      <td>0ePWrIxtQgm9abdP@tiki.com</td>\n",
       "      <td>Nokia</td>\n",
       "      <td>04.07.2023</td>\n",
       "      <td>05.07.2023 21:00:55</td>\n",
       "      <td>ElevationGain</td>\n",
       "      <td>73,36</td>\n",
       "      <td>NaN</td>\n",
       "    </tr>\n",
       "    <tr>\n",
       "      <th>3</th>\n",
       "      <td>0ePWrIxtQgm9abdP@tiki.com</td>\n",
       "      <td>Nokia</td>\n",
       "      <td>04.07.2023</td>\n",
       "      <td>05.07.2023 21:00:55</td>\n",
       "      <td>ActivityLowDuration</td>\n",
       "      <td>NaN</td>\n",
       "      <td>193.0</td>\n",
       "    </tr>\n",
       "    <tr>\n",
       "      <th>4</th>\n",
       "      <td>0ePWrIxtQgm9abdP@tiki.com</td>\n",
       "      <td>Nokia</td>\n",
       "      <td>04.07.2023</td>\n",
       "      <td>05.07.2023 21:00:55</td>\n",
       "      <td>BurnedCalories</td>\n",
       "      <td>NaN</td>\n",
       "      <td>1901.0</td>\n",
       "    </tr>\n",
       "  </tbody>\n",
       "</table>\n",
       "</div>"
      ],
      "text/plain": [
       "                    Endkunde Quelle         Tag           Created At  \\\n",
       "0  0ePWrIxtQgm9abdP@tiki.com  Nokia  04.07.2023  05.07.2023 21:00:55   \n",
       "1  0ePWrIxtQgm9abdP@tiki.com  Nokia  04.07.2023  05.07.2023 21:00:55   \n",
       "2  0ePWrIxtQgm9abdP@tiki.com  Nokia  04.07.2023  05.07.2023 21:00:55   \n",
       "3  0ePWrIxtQgm9abdP@tiki.com  Nokia  04.07.2023  05.07.2023 21:00:55   \n",
       "4  0ePWrIxtQgm9abdP@tiki.com  Nokia  04.07.2023  05.07.2023 21:00:55   \n",
       "\n",
       "                   Typ Wert(Fließkommazahl)  Wert(Ganzzahl)  \n",
       "0                Steps                  NaN         15691.0  \n",
       "1      CoveredDistance           11.180,239             NaN  \n",
       "2        ElevationGain                73,36             NaN  \n",
       "3  ActivityLowDuration                  NaN           193.0  \n",
       "4       BurnedCalories                  NaN          1901.0  "
      ]
     },
     "execution_count": 3,
     "metadata": {},
     "output_type": "execute_result"
    }
   ],
   "source": [
    "df.head()"
   ]
  },
  {
   "cell_type": "code",
   "execution_count": 4,
   "id": "6b32efb9",
   "metadata": {},
   "outputs": [],
   "source": [
    "df.drop([\"Quelle\", \"Created At\"], axis=1, inplace=True)"
   ]
  },
  {
   "cell_type": "code",
   "execution_count": 5,
   "id": "b7449b75",
   "metadata": {},
   "outputs": [],
   "source": [
    "df[\"Endkunde\"] = df.Endkunde.str.split(\"@\").str.get(0)\n",
    "df[\"Endkunde\"] = df[\"Endkunde\"].str[:4]\n",
    "df.rename(columns={\"Endkunde\":\"customer\",\"Tag\":\"day\", \"Typ\":\"type\",\"Wert(Fließkommazahl)\": \"float\", \"Wert(Ganzzahl)\": \"int\"}, inplace=True)"
   ]
  },
  {
   "cell_type": "code",
   "execution_count": 6,
   "id": "0ac75d45",
   "metadata": {},
   "outputs": [],
   "source": [
    "df[\"day\"] = pd.to_datetime(df[\"day\"], format=\"%d.%m.%Y\")"
   ]
  },
  {
   "cell_type": "code",
   "execution_count": 7,
   "id": "e4fde134",
   "metadata": {},
   "outputs": [],
   "source": [
    "df[\"int\"].fillna(df[\"float\"], inplace=True)"
   ]
  },
  {
   "cell_type": "code",
   "execution_count": 8,
   "id": "520cc0b1",
   "metadata": {},
   "outputs": [],
   "source": [
    "df_int= df[[\"customer\", \"day\", \"type\", \"int\"]]"
   ]
  },
  {
   "cell_type": "code",
   "execution_count": 9,
   "id": "da2862b6",
   "metadata": {},
   "outputs": [
    {
     "data": {
      "text/html": [
       "<div>\n",
       "<style scoped>\n",
       "    .dataframe tbody tr th:only-of-type {\n",
       "        vertical-align: middle;\n",
       "    }\n",
       "\n",
       "    .dataframe tbody tr th {\n",
       "        vertical-align: top;\n",
       "    }\n",
       "\n",
       "    .dataframe thead th {\n",
       "        text-align: right;\n",
       "    }\n",
       "</style>\n",
       "<table border=\"1\" class=\"dataframe\">\n",
       "  <thead>\n",
       "    <tr style=\"text-align: right;\">\n",
       "      <th></th>\n",
       "      <th>customer</th>\n",
       "      <th>day</th>\n",
       "      <th>type</th>\n",
       "      <th>int</th>\n",
       "    </tr>\n",
       "  </thead>\n",
       "  <tbody>\n",
       "    <tr>\n",
       "      <th>0</th>\n",
       "      <td>0ePW</td>\n",
       "      <td>2023-07-04</td>\n",
       "      <td>Steps</td>\n",
       "      <td>15691.0</td>\n",
       "    </tr>\n",
       "    <tr>\n",
       "      <th>1</th>\n",
       "      <td>0ePW</td>\n",
       "      <td>2023-07-04</td>\n",
       "      <td>CoveredDistance</td>\n",
       "      <td>11.180,239</td>\n",
       "    </tr>\n",
       "    <tr>\n",
       "      <th>2</th>\n",
       "      <td>0ePW</td>\n",
       "      <td>2023-07-04</td>\n",
       "      <td>ElevationGain</td>\n",
       "      <td>73,36</td>\n",
       "    </tr>\n",
       "    <tr>\n",
       "      <th>3</th>\n",
       "      <td>0ePW</td>\n",
       "      <td>2023-07-04</td>\n",
       "      <td>ActivityLowDuration</td>\n",
       "      <td>193.0</td>\n",
       "    </tr>\n",
       "    <tr>\n",
       "      <th>4</th>\n",
       "      <td>0ePW</td>\n",
       "      <td>2023-07-04</td>\n",
       "      <td>BurnedCalories</td>\n",
       "      <td>1901.0</td>\n",
       "    </tr>\n",
       "    <tr>\n",
       "      <th>...</th>\n",
       "      <td>...</td>\n",
       "      <td>...</td>\n",
       "      <td>...</td>\n",
       "      <td>...</td>\n",
       "    </tr>\n",
       "    <tr>\n",
       "      <th>54746</th>\n",
       "      <td>xYHr</td>\n",
       "      <td>2023-08-14</td>\n",
       "      <td>HeartRateZoneIntenseDuration</td>\n",
       "      <td>90.0</td>\n",
       "    </tr>\n",
       "    <tr>\n",
       "      <th>54747</th>\n",
       "      <td>xYHr</td>\n",
       "      <td>2023-08-14</td>\n",
       "      <td>HeartRateZoneMaximalDuration</td>\n",
       "      <td>19.0</td>\n",
       "    </tr>\n",
       "    <tr>\n",
       "      <th>54748</th>\n",
       "      <td>xYHr</td>\n",
       "      <td>2023-08-14</td>\n",
       "      <td>ActivityDuration</td>\n",
       "      <td>160.0</td>\n",
       "    </tr>\n",
       "    <tr>\n",
       "      <th>54749</th>\n",
       "      <td>xYHr</td>\n",
       "      <td>2023-08-14</td>\n",
       "      <td>ActiveDuration</td>\n",
       "      <td>91.0</td>\n",
       "    </tr>\n",
       "    <tr>\n",
       "      <th>54750</th>\n",
       "      <td>xYHr</td>\n",
       "      <td>2023-08-14</td>\n",
       "      <td>FloorsClimbed</td>\n",
       "      <td>7.0</td>\n",
       "    </tr>\n",
       "  </tbody>\n",
       "</table>\n",
       "<p>54751 rows × 4 columns</p>\n",
       "</div>"
      ],
      "text/plain": [
       "      customer        day                          type         int\n",
       "0         0ePW 2023-07-04                         Steps     15691.0\n",
       "1         0ePW 2023-07-04               CoveredDistance  11.180,239\n",
       "2         0ePW 2023-07-04                 ElevationGain       73,36\n",
       "3         0ePW 2023-07-04           ActivityLowDuration       193.0\n",
       "4         0ePW 2023-07-04                BurnedCalories      1901.0\n",
       "...        ...        ...                           ...         ...\n",
       "54746     xYHr 2023-08-14  HeartRateZoneIntenseDuration        90.0\n",
       "54747     xYHr 2023-08-14  HeartRateZoneMaximalDuration        19.0\n",
       "54748     xYHr 2023-08-14              ActivityDuration       160.0\n",
       "54749     xYHr 2023-08-14                ActiveDuration        91.0\n",
       "54750     xYHr 2023-08-14                 FloorsClimbed         7.0\n",
       "\n",
       "[54751 rows x 4 columns]"
      ]
     },
     "execution_count": 9,
     "metadata": {},
     "output_type": "execute_result"
    }
   ],
   "source": [
    "df_int"
   ]
  },
  {
   "cell_type": "code",
   "execution_count": 10,
   "id": "a76ef4e0",
   "metadata": {},
   "outputs": [],
   "source": [
    "df_int = df_int.pivot(\n",
    "    index=[\"customer\", \"day\"],\n",
    "    columns=\"type\",\n",
    "    values=\"int\")"
   ]
  },
  {
   "cell_type": "markdown",
   "id": "714948c1",
   "metadata": {},
   "source": []
  }
 ],
 "metadata": {
  "kernelspec": {
   "display_name": "Python 3",
   "language": "python",
   "name": "python3"
  },
  "language_info": {
   "codemirror_mode": {
    "name": "ipython",
    "version": 3
   },
   "file_extension": ".py",
   "mimetype": "text/x-python",
   "name": "python",
   "nbconvert_exporter": "python",
   "pygments_lexer": "ipython3",
   "version": "3.7.4"
  }
 },
 "nbformat": 4,
 "nbformat_minor": 5
}
