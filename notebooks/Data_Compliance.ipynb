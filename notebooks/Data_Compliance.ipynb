{
 "cells": [
  {
   "cell_type": "code",
   "execution_count": 1,
   "id": "0160447a",
   "metadata": {},
   "outputs": [
    {
     "name": "stderr",
     "output_type": "stream",
     "text": [
      "\n",
      "Bad key text.latex.preview in file /Users/leonahammelrath/opt/anaconda3/lib/python3.7/site-packages/matplotlib/mpl-data/stylelib/_classic_test.mplstyle, line 123 ('text.latex.preview : False')\n",
      "You probably need to get an updated matplotlibrc file from\n",
      "https://github.com/matplotlib/matplotlib/blob/v3.5.3/matplotlibrc.template\n",
      "or from the matplotlib source distribution\n",
      "\n",
      "Bad key mathtext.fallback_to_cm in file /Users/leonahammelrath/opt/anaconda3/lib/python3.7/site-packages/matplotlib/mpl-data/stylelib/_classic_test.mplstyle, line 155 ('mathtext.fallback_to_cm : True  # When True, use symbols from the Computer Modern')\n",
      "You probably need to get an updated matplotlibrc file from\n",
      "https://github.com/matplotlib/matplotlib/blob/v3.5.3/matplotlibrc.template\n",
      "or from the matplotlib source distribution\n",
      "\n",
      "Bad key savefig.jpeg_quality in file /Users/leonahammelrath/opt/anaconda3/lib/python3.7/site-packages/matplotlib/mpl-data/stylelib/_classic_test.mplstyle, line 418 ('savefig.jpeg_quality: 95       # when a jpeg is saved, the default quality parameter.')\n",
      "You probably need to get an updated matplotlibrc file from\n",
      "https://github.com/matplotlib/matplotlib/blob/v3.5.3/matplotlibrc.template\n",
      "or from the matplotlib source distribution\n",
      "\n",
      "Bad key keymap.all_axes in file /Users/leonahammelrath/opt/anaconda3/lib/python3.7/site-packages/matplotlib/mpl-data/stylelib/_classic_test.mplstyle, line 466 ('keymap.all_axes : a                 # enable all axes')\n",
      "You probably need to get an updated matplotlibrc file from\n",
      "https://github.com/matplotlib/matplotlib/blob/v3.5.3/matplotlibrc.template\n",
      "or from the matplotlib source distribution\n",
      "\n",
      "Bad key animation.avconv_path in file /Users/leonahammelrath/opt/anaconda3/lib/python3.7/site-packages/matplotlib/mpl-data/stylelib/_classic_test.mplstyle, line 477 ('animation.avconv_path: avconv     # Path to avconv binary. Without full path')\n",
      "You probably need to get an updated matplotlibrc file from\n",
      "https://github.com/matplotlib/matplotlib/blob/v3.5.3/matplotlibrc.template\n",
      "or from the matplotlib source distribution\n",
      "\n",
      "Bad key animation.avconv_args in file /Users/leonahammelrath/opt/anaconda3/lib/python3.7/site-packages/matplotlib/mpl-data/stylelib/_classic_test.mplstyle, line 479 ('animation.avconv_args:            # Additional arguments to pass to avconv')\n",
      "You probably need to get an updated matplotlibrc file from\n",
      "https://github.com/matplotlib/matplotlib/blob/v3.5.3/matplotlibrc.template\n",
      "or from the matplotlib source distribution\n"
     ]
    }
   ],
   "source": [
    "import pandas as pd\n",
    "import datetime as dt\n",
    "from datetime import date\n",
    "\n",
    "import matplotlib.pyplot as plt\n",
    "import seaborn as sns\n",
    "\n",
    "today = date.today() \n",
    "week_ago = today - dt.timedelta(days=7)\n",
    "today = today.strftime(\"%d%m%Y\")\n",
    "\n",
    "week_ago = week_ago.strftime(\"%Y-%m-%d\")\n",
    "\n",
    "datapath = \"/Users/leonahammelrath/FU_Psychoinformatik/Github/tiki_code/data/\"\n",
    "filepath = datapath + f\"export_{today}.csv\""
   ]
  },
  {
   "cell_type": "markdown",
   "id": "4f78e1fb",
   "metadata": {},
   "source": [
    "### Import epoch level passive + GPS data"
   ]
  },
  {
   "cell_type": "code",
   "execution_count": 2,
   "id": "fac9f692",
   "metadata": {},
   "outputs": [],
   "source": [
    "datapath1 = datapath + f\"export_tiki_{today}/\"\n",
    "filepath_1 = datapath1 + \"epoch_part0001.csv\"\n",
    "filepath_2 = datapath1 + \"epoch_part0002.csv\"\n",
    "filepath_3 = datapath1 + \"epoch_part0003.csv\"\n",
    "filepath_4 = datapath1 + \"epoch_part0004.csv\"\n",
    "filepath_5 = datapath1 + \"epoch_part0005.csv\"\n",
    "filepath_6 = datapath1 + \"epoch_part0006.csv\"\n",
    "filepath_7= datapath1 + \"epoch_part0007.csv\"\n",
    "filepath_8= datapath1 + \"epoch_part0008.csv\"\n",
    "filepath_9= datapath1 + \"epoch_part0009.csv\"\n",
    "filepath_10= datapath1 + \"epoch_part0010.csv\""
   ]
  },
  {
   "cell_type": "code",
   "execution_count": 3,
   "id": "7a7e439f",
   "metadata": {},
   "outputs": [
    {
     "name": "stderr",
     "output_type": "stream",
     "text": [
      "/Users/leonahammelrath/opt/anaconda3/lib/python3.7/site-packages/IPython/core/interactiveshell.py:3326: DtypeWarning: Columns (10) have mixed types.Specify dtype option on import or set low_memory=False.\n",
      "  exec(code_obj, self.user_global_ns, self.user_ns)\n"
     ]
    }
   ],
   "source": [
    "df_1 = pd.read_csv(filepath_1, encoding= \"latin-1\")\n",
    "df_2 = pd.read_csv(filepath_2, encoding= \"latin-1\")\n",
    "df_3 = pd.read_csv(filepath_3, encoding= \"latin-1\")\n",
    "df_4 = pd.read_csv(filepath_4, encoding= \"latin-1\")\n",
    "df_5 = pd.read_csv(filepath_5, encoding= \"latin-1\")\n",
    "df_6 = pd.read_csv(filepath_6, encoding= \"latin-1\")\n",
    "df_7 = pd.read_csv(filepath_7, encoding= \"latin-1\")\n",
    "df_8 = pd.read_csv(filepath_8, encoding= \"latin-1\")\n",
    "df_9 = pd.read_csv(filepath_9, encoding= \"latin-1\")\n",
    "df_10 = pd.read_csv(filepath_10, encoding= \"latin-1\")"
   ]
  },
  {
   "cell_type": "code",
   "execution_count": 4,
   "id": "18e3a8f4",
   "metadata": {},
   "outputs": [],
   "source": [
    "df_complete = pd.concat([df_1, df_2, df_3, df_4, df_5, df_6, df_7, df_8, df_9, df_10])\n",
    "df_complete[\"customer\"] = df_complete.customer.str.split(\"@\").str.get(0)\n",
    "df_complete[\"customer\"] = df_complete.customer.str[:4]"
   ]
  },
  {
   "cell_type": "code",
   "execution_count": 5,
   "id": "78d9aa45",
   "metadata": {},
   "outputs": [],
   "source": [
    "df_complete[\"startTimestamp\"] = pd.to_datetime(df_complete[\"startTimestamp\"],unit='ms')\n",
    "df_complete[\"createdAt\"] = pd.to_datetime(df_complete[\"createdAt\"],unit='ms')\n",
    "\n",
    "df_complete[\"startTimestamp_day\"] = df_complete.startTimestamp.dt.strftime('%Y/%m/%d')\n",
    "df_complete[\"createdAt_day\"] = df_complete.startTimestamp.dt.strftime('%Y/%m/%d')\n",
    "\n",
    "df_complete[\"startTimestamp_hour\"] = df_complete.startTimestamp.dt.hour\n",
    "df_complete[\"createdAt_hour\"] = df_complete.startTimestamp.dt.hour"
   ]
  },
  {
   "cell_type": "markdown",
   "id": "71daf89a",
   "metadata": {},
   "source": [
    "### Import daily aggregated passive data"
   ]
  },
  {
   "cell_type": "code",
   "execution_count": 6,
   "id": "3a344a2c",
   "metadata": {},
   "outputs": [],
   "source": [
    "df = pd.read_csv(filepath, encoding= \"latin-1\")\n",
    "df.drop([\"Quelle\", \"Created At\"], axis=1, inplace=True)\n",
    "\n",
    "df[\"Endkunde\"] = df.Endkunde.str.split(\"@\").str.get(0)\n",
    "df[\"Endkunde\"] = df[\"Endkunde\"].str[:4]\n",
    "df.rename(columns={\"Endkunde\":\"customer\",\"Tag\":\"day\", \"Typ\":\"type\",\"Wert(Fließkommazahl)\": \"float\", \"Wert(Ganzzahl)\": \"int\"}, inplace=True)\n",
    "\n",
    "df[\"day\"] = pd.to_datetime(df[\"day\"], format=\"%d.%m.%Y\")\n",
    "df[\"int\"].fillna(df[\"float\"], inplace=True)"
   ]
  },
  {
   "cell_type": "code",
   "execution_count": 7,
   "id": "ea70daf3",
   "metadata": {},
   "outputs": [],
   "source": [
    "df_int= df[[\"customer\", \"day\", \"type\", \"int\"]]\n",
    "df_int = df_int.pivot(\n",
    "    index=[\"customer\", \"day\"],\n",
    "    columns=\"type\",\n",
    "    values=\"int\")\n",
    "df_int.reset_index(level=\"day\", inplace=True)"
   ]
  },
  {
   "cell_type": "markdown",
   "id": "506f3982",
   "metadata": {},
   "source": [
    "### Check location data"
   ]
  },
  {
   "cell_type": "code",
   "execution_count": 8,
   "id": "de25c455",
   "metadata": {},
   "outputs": [],
   "source": [
    "df_loc_complete = df_complete[df_complete.type.isin([\"Latitude\", \"Longitude\"])]\n",
    "df_loc_complete = df_loc_complete[[\"customer\", \"startTimestamp\", \"type\", \"doubleValue\", \n",
    "                           \"timezoneOffset\"]]\n",
    "df_loc_complete[\"startTimestamp\"] = (pd.to_datetime(df_loc_complete[\"startTimestamp\"],unit='ms'))"
   ]
  },
  {
   "cell_type": "code",
   "execution_count": 9,
   "id": "c9dd1154",
   "metadata": {},
   "outputs": [],
   "source": [
    "df_loc_complete = df_loc_complete.groupby(\"customer\")[[\"startTimestamp\"]].max().rename_axis(None, axis=1).reset_index()"
   ]
  },
  {
   "cell_type": "code",
   "execution_count": 10,
   "id": "c4a74754",
   "metadata": {},
   "outputs": [],
   "source": [
    "df_loc_complete.rename(columns={\"startTimestamp\":\"last_day_GPS\"}, inplace=True)\n"
   ]
  },
  {
   "cell_type": "markdown",
   "id": "0cfa48bc",
   "metadata": {},
   "source": [
    "### Import montoring data"
   ]
  },
  {
   "cell_type": "code",
   "execution_count": 11,
   "id": "e75135ef",
   "metadata": {},
   "outputs": [],
   "source": [
    "df_active = pd.read_csv(datapath + \"active_participants.csv\")"
   ]
  },
  {
   "cell_type": "code",
   "execution_count": 12,
   "id": "013ae99d",
   "metadata": {},
   "outputs": [],
   "source": [
    "df_active.rename(columns = {\"Pseudonym \": \"customer\", \"EMA ID\": \"ema_id\", \"Ende EMA Baseline\": \"end_ema\", \"Status\": \"status\",\n",
    "                            \"Start EMA Baseline\": \"start_ema\", \"Studienversion\":\"study_version\", \"FOR_ID\":\"for_id\"}, inplace=True)"
   ]
  },
  {
   "cell_type": "code",
   "execution_count": 13,
   "id": "bf5748de",
   "metadata": {},
   "outputs": [],
   "source": [
    "df_active[\"customer\"] = df_active[\"customer\"].str[:4]\n",
    "df_active = df_active[[\"customer\", \"ema_id\", \"end_ema\", \"start_ema\", \"study_version\", \"for_id\", \"status\"]]\n",
    "df_active[\"for_id\"] = df_active.for_id.str.strip()"
   ]
  },
  {
   "cell_type": "markdown",
   "id": "79c8df45",
   "metadata": {},
   "source": [
    "### Import connection data"
   ]
  },
  {
   "cell_type": "code",
   "execution_count": 14,
   "id": "145ef2fa",
   "metadata": {},
   "outputs": [],
   "source": [
    "df_con = pd.read_csv(datapath + f\"export_connection_{today}.csv\", encoding= \"latin-1\")"
   ]
  },
  {
   "cell_type": "code",
   "execution_count": 15,
   "id": "564748cd",
   "metadata": {},
   "outputs": [],
   "source": [
    "df_con[\"Customer\"] = df_con.Customer.str.split(\"@\").str.get(0)\n",
    "df_con[\"Customer\"] = df_con[\"Customer\"].str[:4]\n",
    "df_con.drop([\"Data Source\", \"Timestamp\"], axis=1, inplace=True)\n",
    "df_con.rename(columns = {\"Customer\": \"customer\"}, inplace=True)"
   ]
  },
  {
   "cell_type": "markdown",
   "id": "8779fc65",
   "metadata": {},
   "source": [
    "## Merge dataframes"
   ]
  },
  {
   "cell_type": "code",
   "execution_count": 16,
   "id": "7435064e",
   "metadata": {},
   "outputs": [],
   "source": [
    "df_merged = pd.merge(df_int, df_active, on=\"customer\")"
   ]
  },
  {
   "cell_type": "code",
   "execution_count": 17,
   "id": "f6feef33",
   "metadata": {},
   "outputs": [],
   "source": [
    "df_merged = pd.merge(df_merged, df_con, on=\"customer\")"
   ]
  },
  {
   "cell_type": "code",
   "execution_count": 18,
   "id": "33bdd556",
   "metadata": {},
   "outputs": [
    {
     "name": "stderr",
     "output_type": "stream",
     "text": [
      "/Users/leonahammelrath/opt/anaconda3/lib/python3.7/site-packages/ipykernel_launcher.py:1: FutureWarning: Indexing with multiple keys (implicitly converted to a tuple of keys) will be deprecated, use a list instead.\n",
      "  \"\"\"Entry point for launching an IPython kernel.\n"
     ]
    }
   ],
   "source": [
    "grouped = df_merged.groupby([\"customer\"])[\"ema_id\",\"for_id\",\"start_ema\",\"end_ema\",\"study_version\",\n",
    "                                            \"status\",\"Is Connected\",\"day\"].max() # last day with passive data\n",
    "\n",
    "grouped_active = grouped[~(grouped['status'] == \"Abgeschlossen\")]\n",
    "grouped_active = grouped_active[~(grouped_active['status'].isin([\"Dropout\", \"Pin_missing\"]))]\n",
    "\n",
    "grouped_active = grouped_active.rename_axis(None, axis=1).reset_index()\n",
    "grouped_active.rename(columns = {\"day\": \"last_day_passive\"}, inplace=True)"
   ]
  },
  {
   "cell_type": "code",
   "execution_count": 19,
   "id": "16842bf4",
   "metadata": {},
   "outputs": [],
   "source": [
    "df_merged = pd.merge(grouped_active, df_loc_complete, on=\"customer\", how=\"outer\")"
   ]
  },
  {
   "cell_type": "code",
   "execution_count": 25,
   "id": "843e8a88",
   "metadata": {},
   "outputs": [
    {
     "data": {
      "text/plain": [
       "status\n",
       "Erhebung_1_aktiv     7\n",
       "Erhebung_2_aktiv     3\n",
       "Post_Erhebung_1     89\n",
       "Post_Erhebung_2      3\n",
       "Name: customer, dtype: int64"
      ]
     },
     "execution_count": 25,
     "metadata": {},
     "output_type": "execute_result"
    }
   ],
   "source": [
    "df_merged.groupby(\"status\")[\"customer\"].nunique()"
   ]
  },
  {
   "cell_type": "markdown",
   "id": "a9954dae",
   "metadata": {},
   "source": [
    "## Check missing data"
   ]
  },
  {
   "cell_type": "code",
   "execution_count": 21,
   "id": "61139354",
   "metadata": {},
   "outputs": [
    {
     "data": {
      "text/plain": [
       "['FOR12022', 'FOR13010', 'FOR13019', 'FOR13013']"
      ]
     },
     "execution_count": 21,
     "metadata": {},
     "output_type": "execute_result"
    }
   ],
   "source": [
    "# no gps at all \n",
    "\n",
    "df_merged.loc[df_merged.last_day_GPS.isna()].for_id.tolist()"
   ]
  },
  {
   "cell_type": "code",
   "execution_count": 22,
   "id": "47c40f53",
   "metadata": {},
   "outputs": [
    {
     "data": {
      "text/plain": [
       "['FOR14038',\n",
       " 'FOR14036',\n",
       " 'FOR14014',\n",
       " 'FOR12017',\n",
       " 'FOR14065',\n",
       " 'FOR11016',\n",
       " 'FOR14016',\n",
       " 'FOR11003',\n",
       " 'FOR14031',\n",
       " 'FOR12008',\n",
       " 'FOR11040',\n",
       " 'FOR12010',\n",
       " 'FOR11034',\n",
       " 'FOR13018']"
      ]
     },
     "execution_count": 22,
     "metadata": {},
     "output_type": "execute_result"
    }
   ],
   "source": [
    "# no gps for > 7 days \n",
    "\n",
    "df_merged.loc[(df_merged.last_day_GPS < week_ago)& (df_merged.last_day_passive > week_ago)][\"for_id\"].tolist()"
   ]
  },
  {
   "cell_type": "code",
   "execution_count": 23,
   "id": "61e984d4",
   "metadata": {},
   "outputs": [
    {
     "data": {
      "text/plain": [
       "['FOR13002',\n",
       " 'FOR13016',\n",
       " 'FOR11022',\n",
       " 'FOR12012',\n",
       " 'FOR14064',\n",
       " 'FOR14062',\n",
       " 'FOR13023',\n",
       " 'FOR14029',\n",
       " 'FOR14013',\n",
       " 'FOR11012']"
      ]
     },
     "execution_count": 23,
     "metadata": {},
     "output_type": "execute_result"
    }
   ],
   "source": [
    "# no gps and no pd for > 7 days\n",
    "\n",
    "df_merged.loc[(df_merged.last_day_GPS < week_ago) & (df_merged.last_day_passive < week_ago)][\"for_id\"].tolist()"
   ]
  },
  {
   "cell_type": "code",
   "execution_count": 24,
   "id": "9eb6443d",
   "metadata": {},
   "outputs": [
    {
     "data": {
      "text/plain": [
       "['FOR14055',\n",
       " 'FOR14075',\n",
       " 'FOR14009',\n",
       " 'FOR14010',\n",
       " 'FOR14049',\n",
       " 'FOR14003',\n",
       " 'FOR11001']"
      ]
     },
     "execution_count": 24,
     "metadata": {},
     "output_type": "execute_result"
    }
   ],
   "source": [
    "# no pd since 7 days \n",
    "df_merged.loc[(df_merged.last_day_GPS > week_ago) & (df_merged.last_day_passive < week_ago)][\"for_id\"].tolist()"
   ]
  }
 ],
 "metadata": {
  "kernelspec": {
   "display_name": "Python 3",
   "language": "python",
   "name": "python3"
  },
  "language_info": {
   "codemirror_mode": {
    "name": "ipython",
    "version": 3
   },
   "file_extension": ".py",
   "mimetype": "text/x-python",
   "name": "python",
   "nbconvert_exporter": "python",
   "pygments_lexer": "ipython3",
   "version": "3.7.4"
  }
 },
 "nbformat": 4,
 "nbformat_minor": 5
}
