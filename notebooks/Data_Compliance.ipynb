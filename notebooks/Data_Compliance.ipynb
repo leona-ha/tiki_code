{
 "cells": [
  {
   "cell_type": "code",
   "execution_count": 1,
   "id": "c8cf89be",
   "metadata": {},
   "outputs": [
    {
     "name": "stderr",
     "output_type": "stream",
     "text": [
      "\n",
      "Bad key text.latex.preview in file /Users/leonahammelrath/opt/anaconda3/lib/python3.7/site-packages/matplotlib/mpl-data/stylelib/_classic_test.mplstyle, line 123 ('text.latex.preview : False')\n",
      "You probably need to get an updated matplotlibrc file from\n",
      "https://github.com/matplotlib/matplotlib/blob/v3.5.3/matplotlibrc.template\n",
      "or from the matplotlib source distribution\n",
      "\n",
      "Bad key mathtext.fallback_to_cm in file /Users/leonahammelrath/opt/anaconda3/lib/python3.7/site-packages/matplotlib/mpl-data/stylelib/_classic_test.mplstyle, line 155 ('mathtext.fallback_to_cm : True  # When True, use symbols from the Computer Modern')\n",
      "You probably need to get an updated matplotlibrc file from\n",
      "https://github.com/matplotlib/matplotlib/blob/v3.5.3/matplotlibrc.template\n",
      "or from the matplotlib source distribution\n",
      "\n",
      "Bad key savefig.jpeg_quality in file /Users/leonahammelrath/opt/anaconda3/lib/python3.7/site-packages/matplotlib/mpl-data/stylelib/_classic_test.mplstyle, line 418 ('savefig.jpeg_quality: 95       # when a jpeg is saved, the default quality parameter.')\n",
      "You probably need to get an updated matplotlibrc file from\n",
      "https://github.com/matplotlib/matplotlib/blob/v3.5.3/matplotlibrc.template\n",
      "or from the matplotlib source distribution\n",
      "\n",
      "Bad key keymap.all_axes in file /Users/leonahammelrath/opt/anaconda3/lib/python3.7/site-packages/matplotlib/mpl-data/stylelib/_classic_test.mplstyle, line 466 ('keymap.all_axes : a                 # enable all axes')\n",
      "You probably need to get an updated matplotlibrc file from\n",
      "https://github.com/matplotlib/matplotlib/blob/v3.5.3/matplotlibrc.template\n",
      "or from the matplotlib source distribution\n",
      "\n",
      "Bad key animation.avconv_path in file /Users/leonahammelrath/opt/anaconda3/lib/python3.7/site-packages/matplotlib/mpl-data/stylelib/_classic_test.mplstyle, line 477 ('animation.avconv_path: avconv     # Path to avconv binary. Without full path')\n",
      "You probably need to get an updated matplotlibrc file from\n",
      "https://github.com/matplotlib/matplotlib/blob/v3.5.3/matplotlibrc.template\n",
      "or from the matplotlib source distribution\n",
      "\n",
      "Bad key animation.avconv_args in file /Users/leonahammelrath/opt/anaconda3/lib/python3.7/site-packages/matplotlib/mpl-data/stylelib/_classic_test.mplstyle, line 479 ('animation.avconv_args:            # Additional arguments to pass to avconv')\n",
      "You probably need to get an updated matplotlibrc file from\n",
      "https://github.com/matplotlib/matplotlib/blob/v3.5.3/matplotlibrc.template\n",
      "or from the matplotlib source distribution\n"
     ]
    }
   ],
   "source": [
    "import pandas as pd\n",
    "import datetime as dt\n",
    "from datetime import date\n",
    "\n",
    "import matplotlib.pyplot as plt\n",
    "import seaborn as sns\n",
    "\n",
    "today = date.today() \n",
    "week_ago = today - dt.timedelta(days=7)\n",
    "today = today.strftime(\"%d%m%Y\")\n",
    "\n",
    "week_ago = week_ago.strftime(\"%Y-%m-%d\")\n",
    "\n",
    "datapath = \"/Users/leonahammelrath/FU_Psychoinformatik/Github/tiki_code/data/\"\n",
    "filepath = datapath + f\"export_{today}.csv\""
   ]
  },
  {
   "cell_type": "markdown",
   "id": "ea34eb07",
   "metadata": {},
   "source": [
    "### Import epoch level passive + GPS data"
   ]
  },
  {
   "cell_type": "code",
   "execution_count": 2,
   "id": "e7bb5586",
   "metadata": {},
   "outputs": [],
   "source": [
    "datapath1 = datapath + f\"export_tiki_{today}/\"\n",
    "filepath_1 = datapath1 + \"epoch_part0001.csv\"\n",
    "filepath_2 = datapath1 + \"epoch_part0002.csv\"\n",
    "filepath_3 = datapath1 + \"epoch_part0003.csv\"\n",
    "filepath_4 = datapath1 + \"epoch_part0004.csv\"\n",
    "filepath_5 = datapath1 + \"epoch_part0005.csv\"\n",
    "filepath_6 = datapath1 + \"epoch_part0006.csv\"\n",
    "filepath_7= datapath1 + \"epoch_part0007.csv\"\n",
    "filepath_8= datapath1 + \"epoch_part0008.csv\"\n",
    "filepath_9= datapath1 + \"epoch_part0009.csv\""
   ]
  },
  {
   "cell_type": "code",
   "execution_count": 3,
   "id": "17326871",
   "metadata": {},
   "outputs": [
    {
     "name": "stderr",
     "output_type": "stream",
     "text": [
      "/Users/leonahammelrath/opt/anaconda3/lib/python3.7/site-packages/IPython/core/interactiveshell.py:3326: DtypeWarning: Columns (10) have mixed types.Specify dtype option on import or set low_memory=False.\n",
      "  exec(code_obj, self.user_global_ns, self.user_ns)\n"
     ]
    }
   ],
   "source": [
    "df_1 = pd.read_csv(filepath_1, encoding= \"latin-1\")\n",
    "df_2 = pd.read_csv(filepath_2, encoding= \"latin-1\")\n",
    "df_3 = pd.read_csv(filepath_3, encoding= \"latin-1\")\n",
    "df_4 = pd.read_csv(filepath_4, encoding= \"latin-1\")\n",
    "df_5 = pd.read_csv(filepath_5, encoding= \"latin-1\")\n",
    "df_6 = pd.read_csv(filepath_6, encoding= \"latin-1\")\n",
    "df_7 = pd.read_csv(filepath_7, encoding= \"latin-1\")\n",
    "df_8 = pd.read_csv(filepath_8, encoding= \"latin-1\")\n",
    "df_9 = pd.read_csv(filepath_9, encoding= \"latin-1\")"
   ]
  },
  {
   "cell_type": "code",
   "execution_count": 4,
   "id": "8c51764c",
   "metadata": {},
   "outputs": [],
   "source": [
    "df_complete = pd.concat([df_1, df_2, df_3, df_4, df_5, df_6, df_7, df_8, df_9])\n",
    "df_complete[\"customer\"] = df_complete.customer.str.split(\"@\").str.get(0)\n",
    "df_complete[\"customer\"] = df_complete.customer.str[:4]"
   ]
  },
  {
   "cell_type": "code",
   "execution_count": 5,
   "id": "198728bb",
   "metadata": {},
   "outputs": [],
   "source": [
    "df_complete[\"startTimestamp\"] = pd.to_datetime(df_complete[\"startTimestamp\"],unit='ms')\n",
    "df_complete[\"createdAt\"] = pd.to_datetime(df_complete[\"createdAt\"],unit='ms')\n",
    "\n",
    "df_complete[\"startTimestamp_day\"] = df_complete.startTimestamp.dt.strftime('%Y/%m/%d')\n",
    "df_complete[\"createdAt_day\"] = df_complete.startTimestamp.dt.strftime('%Y/%m/%d')\n",
    "\n",
    "df_complete[\"startTimestamp_hour\"] = df_complete.startTimestamp.dt.hour\n",
    "df_complete[\"createdAt_hour\"] = df_complete.startTimestamp.dt.hour"
   ]
  },
  {
   "cell_type": "markdown",
   "id": "1bf46ce6",
   "metadata": {},
   "source": [
    "### Import daily aggregated passive data"
   ]
  },
  {
   "cell_type": "code",
   "execution_count": 6,
   "id": "12b9d84f",
   "metadata": {},
   "outputs": [],
   "source": [
    "df = pd.read_csv(filepath, encoding= \"latin-1\")\n",
    "df.drop([\"Quelle\", \"Created At\"], axis=1, inplace=True)\n",
    "\n",
    "df[\"Endkunde\"] = df.Endkunde.str.split(\"@\").str.get(0)\n",
    "df[\"Endkunde\"] = df[\"Endkunde\"].str[:4]\n",
    "df.rename(columns={\"Endkunde\":\"customer\",\"Tag\":\"day\", \"Typ\":\"type\",\"Wert(Fließkommazahl)\": \"float\", \"Wert(Ganzzahl)\": \"int\"}, inplace=True)\n",
    "\n",
    "df[\"day\"] = pd.to_datetime(df[\"day\"], format=\"%d.%m.%Y\")\n",
    "df[\"int\"].fillna(df[\"float\"], inplace=True)"
   ]
  },
  {
   "cell_type": "code",
   "execution_count": 7,
   "id": "e362b924",
   "metadata": {},
   "outputs": [],
   "source": [
    "df_int= df[[\"customer\", \"day\", \"type\", \"int\"]]\n",
    "df_int = df_int.pivot(\n",
    "    index=[\"customer\", \"day\"],\n",
    "    columns=\"type\",\n",
    "    values=\"int\")\n",
    "df_int.reset_index(level=\"day\", inplace=True)"
   ]
  },
  {
   "cell_type": "markdown",
   "id": "1a73e2cb",
   "metadata": {},
   "source": [
    "### Check location data"
   ]
  },
  {
   "cell_type": "code",
   "execution_count": 8,
   "id": "00e11655",
   "metadata": {},
   "outputs": [],
   "source": [
    "df_loc_complete = df_complete[df_complete.type.isin([\"Latitude\", \"Longitude\"])]\n",
    "df_loc_complete = df_loc_complete[[\"customer\", \"startTimestamp\", \"type\", \"doubleValue\", \n",
    "                           \"timezoneOffset\"]]\n",
    "df_loc_complete[\"startTimestamp\"] = (pd.to_datetime(df_loc_complete[\"startTimestamp\"],unit='ms'))"
   ]
  },
  {
   "cell_type": "code",
   "execution_count": 9,
   "id": "92eaf9dd",
   "metadata": {},
   "outputs": [],
   "source": [
    "df_loc_complete = df_loc_complete.groupby(\"customer\")[[\"startTimestamp\"]].max().rename_axis(None, axis=1).reset_index()"
   ]
  },
  {
   "cell_type": "code",
   "execution_count": 10,
   "id": "0b19cb21",
   "metadata": {},
   "outputs": [],
   "source": [
    "df_loc_complete.rename(columns={\"startTimestamp\":\"last_day_GPS\"}, inplace=True)\n"
   ]
  },
  {
   "cell_type": "markdown",
   "id": "2342a8df",
   "metadata": {},
   "source": [
    "### Import montoring data"
   ]
  },
  {
   "cell_type": "code",
   "execution_count": 11,
   "id": "0b3704f3",
   "metadata": {},
   "outputs": [],
   "source": [
    "df_active = pd.read_csv(datapath + \"active_participants.csv\")"
   ]
  },
  {
   "cell_type": "code",
   "execution_count": 12,
   "id": "a70567ca",
   "metadata": {},
   "outputs": [],
   "source": [
    "df_active.rename(columns = {\"Pseudonym \": \"customer\", \"EMA ID\": \"ema_id\", \"Ende EMA Baseline\": \"end_ema\", \"Status\": \"status\",\n",
    "                            \"Start EMA Baseline\": \"start_ema\", \"Studienversion\":\"study_version\", \"FOR_ID\":\"for_id\"}, inplace=True)"
   ]
  },
  {
   "cell_type": "code",
   "execution_count": 13,
   "id": "88a2bd40",
   "metadata": {},
   "outputs": [],
   "source": [
    "df_active[\"customer\"] = df_active[\"customer\"].str[:4]\n",
    "df_active = df_active[[\"customer\", \"ema_id\", \"end_ema\", \"start_ema\", \"study_version\", \"for_id\", \"status\"]]\n",
    "df_active[\"for_id\"] = df_active.for_id.str.strip()"
   ]
  },
  {
   "cell_type": "markdown",
   "id": "f372e4f3",
   "metadata": {},
   "source": [
    "### Import connection data"
   ]
  },
  {
   "cell_type": "code",
   "execution_count": 14,
   "id": "7e94a58d",
   "metadata": {},
   "outputs": [],
   "source": [
    "df_con = pd.read_csv(datapath + f\"export_connection_{today}.csv\", encoding= \"latin-1\")"
   ]
  },
  {
   "cell_type": "code",
   "execution_count": 15,
   "id": "8ee1d860",
   "metadata": {},
   "outputs": [],
   "source": [
    "df_con[\"Customer\"] = df_con.Customer.str.split(\"@\").str.get(0)\n",
    "df_con[\"Customer\"] = df_con[\"Customer\"].str[:4]\n",
    "df_con.drop([\"Data Source\", \"Timestamp\"], axis=1, inplace=True)\n",
    "df_con.rename(columns = {\"Customer\": \"customer\"}, inplace=True)"
   ]
  },
  {
   "cell_type": "markdown",
   "id": "2506db1a",
   "metadata": {},
   "source": [
    "## Merge dataframes"
   ]
  },
  {
   "cell_type": "code",
   "execution_count": 16,
   "id": "107d5c86",
   "metadata": {},
   "outputs": [],
   "source": [
    "df_merged = pd.merge(df_int, df_active, on=\"customer\")"
   ]
  },
  {
   "cell_type": "code",
   "execution_count": 17,
   "id": "ca2bdeb2",
   "metadata": {},
   "outputs": [],
   "source": [
    "df_merged = pd.merge(df_merged, df_con, on=\"customer\")"
   ]
  },
  {
   "cell_type": "code",
   "execution_count": 18,
   "id": "a9c2f2c7",
   "metadata": {},
   "outputs": [
    {
     "name": "stderr",
     "output_type": "stream",
     "text": [
      "/Users/leonahammelrath/opt/anaconda3/lib/python3.7/site-packages/ipykernel_launcher.py:1: FutureWarning: Indexing with multiple keys (implicitly converted to a tuple of keys) will be deprecated, use a list instead.\n",
      "  \"\"\"Entry point for launching an IPython kernel.\n"
     ]
    }
   ],
   "source": [
    "grouped = df_merged.groupby([\"customer\"])[\"ema_id\",\"for_id\",\"start_ema\",\"end_ema\",\"study_version\",\n",
    "                                            \"status\",\"Is Connected\",\"day\"].max() # last day with passive data\n",
    "\n",
    "grouped_active = grouped[~(grouped['status'] == \"Abgeschlossen\")]\n",
    "grouped_active = grouped_active[~(grouped_active['status'].isin([\"Dropout\", \"Pin_missing\"]))]\n",
    "\n",
    "grouped_active = grouped_active.rename_axis(None, axis=1).reset_index()\n",
    "grouped_active.rename(columns = {\"day\": \"last_day_passive\"}, inplace=True)"
   ]
  },
  {
   "cell_type": "code",
   "execution_count": 19,
   "id": "4a1812e7",
   "metadata": {},
   "outputs": [],
   "source": [
    "df_merged = pd.merge(grouped_active, df_loc_complete, on=\"customer\", how=\"outer\")"
   ]
  },
  {
   "cell_type": "code",
   "execution_count": 20,
   "id": "553f3e66",
   "metadata": {},
   "outputs": [
    {
     "data": {
      "text/html": [
       "<div>\n",
       "<style scoped>\n",
       "    .dataframe tbody tr th:only-of-type {\n",
       "        vertical-align: middle;\n",
       "    }\n",
       "\n",
       "    .dataframe tbody tr th {\n",
       "        vertical-align: top;\n",
       "    }\n",
       "\n",
       "    .dataframe thead th {\n",
       "        text-align: right;\n",
       "    }\n",
       "</style>\n",
       "<table border=\"1\" class=\"dataframe\">\n",
       "  <thead>\n",
       "    <tr style=\"text-align: right;\">\n",
       "      <th></th>\n",
       "      <th>customer</th>\n",
       "      <th>ema_id</th>\n",
       "      <th>for_id</th>\n",
       "      <th>start_ema</th>\n",
       "      <th>end_ema</th>\n",
       "      <th>study_version</th>\n",
       "      <th>status</th>\n",
       "      <th>Is Connected</th>\n",
       "      <th>last_day_passive</th>\n",
       "      <th>last_day_GPS</th>\n",
       "    </tr>\n",
       "  </thead>\n",
       "  <tbody>\n",
       "    <tr>\n",
       "      <th>0</th>\n",
       "      <td>0ePW</td>\n",
       "      <td>EMA4006</td>\n",
       "      <td>FOR14007</td>\n",
       "      <td>03.07.2023</td>\n",
       "      <td>17.07.2023</td>\n",
       "      <td>Lang</td>\n",
       "      <td>Post_Erhebung_1</td>\n",
       "      <td>ja</td>\n",
       "      <td>2023-12-28</td>\n",
       "      <td>2024-01-14 21:50:45</td>\n",
       "    </tr>\n",
       "    <tr>\n",
       "      <th>1</th>\n",
       "      <td>0enX</td>\n",
       "      <td>EMA1026</td>\n",
       "      <td>FOR11047</td>\n",
       "      <td>29.11.2023</td>\n",
       "      <td>13.12.2023</td>\n",
       "      <td>Lang</td>\n",
       "      <td>Post_Erhebung_1</td>\n",
       "      <td>ja</td>\n",
       "      <td>2024-01-15</td>\n",
       "      <td>2024-01-08 08:19:33</td>\n",
       "    </tr>\n",
       "    <tr>\n",
       "      <th>2</th>\n",
       "      <td>0xWn</td>\n",
       "      <td>EMA2004</td>\n",
       "      <td>FOR12003</td>\n",
       "      <td>27.07.2023</td>\n",
       "      <td>10.08.2023</td>\n",
       "      <td>Lang</td>\n",
       "      <td>Post_Erhebung_1</td>\n",
       "      <td>ja</td>\n",
       "      <td>2024-01-15</td>\n",
       "      <td>2024-01-14 21:01:48</td>\n",
       "    </tr>\n",
       "    <tr>\n",
       "      <th>3</th>\n",
       "      <td>1BAf</td>\n",
       "      <td>EMA4019</td>\n",
       "      <td>FOR14038</td>\n",
       "      <td>20.10.2023</td>\n",
       "      <td>03.11.2023</td>\n",
       "      <td>Lang</td>\n",
       "      <td>Post_Erhebung_1</td>\n",
       "      <td>ja</td>\n",
       "      <td>2024-01-14</td>\n",
       "      <td>2024-01-15 01:54:41</td>\n",
       "    </tr>\n",
       "    <tr>\n",
       "      <th>4</th>\n",
       "      <td>1rfO</td>\n",
       "      <td>EMA3006</td>\n",
       "      <td>FOR13002</td>\n",
       "      <td>27.06.2023</td>\n",
       "      <td>11.07.2023</td>\n",
       "      <td>Lang (Wechsel)</td>\n",
       "      <td>Post_Erhebung_1</td>\n",
       "      <td>ja</td>\n",
       "      <td>2023-07-05</td>\n",
       "      <td>2023-12-19 06:02:07</td>\n",
       "    </tr>\n",
       "  </tbody>\n",
       "</table>\n",
       "</div>"
      ],
      "text/plain": [
       "  customer   ema_id    for_id   start_ema     end_ema   study_version  \\\n",
       "0     0ePW  EMA4006  FOR14007  03.07.2023  17.07.2023            Lang   \n",
       "1     0enX  EMA1026  FOR11047  29.11.2023  13.12.2023            Lang   \n",
       "2     0xWn  EMA2004  FOR12003  27.07.2023  10.08.2023            Lang   \n",
       "3     1BAf  EMA4019  FOR14038  20.10.2023  03.11.2023            Lang   \n",
       "4     1rfO  EMA3006  FOR13002  27.06.2023  11.07.2023  Lang (Wechsel)   \n",
       "\n",
       "            status Is Connected last_day_passive        last_day_GPS  \n",
       "0  Post_Erhebung_1           ja       2023-12-28 2024-01-14 21:50:45  \n",
       "1  Post_Erhebung_1           ja       2024-01-15 2024-01-08 08:19:33  \n",
       "2  Post_Erhebung_1           ja       2024-01-15 2024-01-14 21:01:48  \n",
       "3  Post_Erhebung_1           ja       2024-01-14 2024-01-15 01:54:41  \n",
       "4  Post_Erhebung_1           ja       2023-07-05 2023-12-19 06:02:07  "
      ]
     },
     "execution_count": 20,
     "metadata": {},
     "output_type": "execute_result"
    }
   ],
   "source": [
    "df_merged.head()"
   ]
  },
  {
   "cell_type": "markdown",
   "id": "c199be63",
   "metadata": {},
   "source": [
    "## Check missing data"
   ]
  },
  {
   "cell_type": "code",
   "execution_count": 21,
   "id": "3fc1a922",
   "metadata": {},
   "outputs": [
    {
     "data": {
      "text/plain": [
       "['FOR14077', 'FOR13010', 'FOR13019', 'FOR11015', 'FOR13013']"
      ]
     },
     "execution_count": 21,
     "metadata": {},
     "output_type": "execute_result"
    }
   ],
   "source": [
    "# no gps at all \n",
    "\n",
    "df_merged.loc[df_merged.last_day_GPS.isna()].for_id.tolist()"
   ]
  },
  {
   "cell_type": "code",
   "execution_count": 22,
   "id": "d73919c5",
   "metadata": {},
   "outputs": [
    {
     "data": {
      "text/plain": [
       "['FOR14022', 'FOR11034']"
      ]
     },
     "execution_count": 22,
     "metadata": {},
     "output_type": "execute_result"
    }
   ],
   "source": [
    "# no gps for > 7 days \n",
    "\n",
    "df_merged.loc[(df_merged.last_day_GPS < week_ago)& (df_merged.last_day_passive > week_ago)][\"for_id\"].tolist()"
   ]
  },
  {
   "cell_type": "code",
   "execution_count": 23,
   "id": "ee8d35ce",
   "metadata": {},
   "outputs": [
    {
     "data": {
      "text/plain": [
       "['FOR13002',\n",
       " 'FOR13016',\n",
       " 'FOR12012',\n",
       " 'FOR14064',\n",
       " 'FOR13023',\n",
       " 'FOR14029',\n",
       " 'FOR14013',\n",
       " 'FOR11012']"
      ]
     },
     "execution_count": 23,
     "metadata": {},
     "output_type": "execute_result"
    }
   ],
   "source": [
    "# no gps and no pd for > 7 days\n",
    "\n",
    "df_merged.loc[(df_merged.last_day_GPS < week_ago) & (df_merged.last_day_passive < week_ago)][\"for_id\"].tolist()"
   ]
  },
  {
   "cell_type": "code",
   "execution_count": 24,
   "id": "b621110a",
   "metadata": {},
   "outputs": [
    {
     "data": {
      "text/plain": [
       "['FOR14007',\n",
       " 'FOR14055',\n",
       " 'FOR11022',\n",
       " 'FOR14023',\n",
       " 'FOR14045',\n",
       " 'FOR11001',\n",
       " 'FOR14020']"
      ]
     },
     "execution_count": 24,
     "metadata": {},
     "output_type": "execute_result"
    }
   ],
   "source": [
    "# no pd since 7 days \n",
    "df_merged.loc[(df_merged.last_day_GPS > week_ago) & (df_merged.last_day_passive < week_ago)][\"for_id\"].tolist()"
   ]
  }
 ],
 "metadata": {
  "kernelspec": {
   "display_name": "Python 3",
   "language": "python",
   "name": "python3"
  },
  "language_info": {
   "codemirror_mode": {
    "name": "ipython",
    "version": 3
   },
   "file_extension": ".py",
   "mimetype": "text/x-python",
   "name": "python",
   "nbconvert_exporter": "python",
   "pygments_lexer": "ipython3",
   "version": "3.7.4"
  }
 },
 "nbformat": 4,
 "nbformat_minor": 5
}
